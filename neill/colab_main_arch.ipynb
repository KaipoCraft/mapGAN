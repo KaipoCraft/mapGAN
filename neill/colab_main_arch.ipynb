{
  "cells": [
    {
      "cell_type": "markdown",
      "source": [
        "# **Project: MapGAN**\n",
        "## Authors: Neill Shikada and Melanie Sharif\n",
        "## Professor: Robin Burke\n",
        "## Course: INFO5604"
      ],
      "metadata": {
        "id": "w542x3MZwRdf"
      },
      "id": "w542x3MZwRdf"
    },
    {
      "cell_type": "markdown",
      "source": [
        "If you want to run this code locally using Anaconda, follow the instructions [here](https://research.google.com/colaboratory/local-runtimes.html):\n",
        "1. Open Anaconda command prompt\n",
        "\n",
        "2. Ensure that Jupyter has the proper extensions enabled\n",
        "  `jupyter-serverextension enable jupyter_http_over_ws`\n",
        "\n",
        "3. Run Jupyter Notebook and allow access to Google Colab with this code\n",
        "  `jupyter notebook --NotebookApp.allow_origin='https://colab.research.google.com'`\n",
        "  \n",
        "4. Click the dropdown in the top left of Google Colab Notebook, select `Connect to a local runtime`\n",
        "\n",
        "5. Copy the `http://localhost:8888/?token=###`  link from the Anaconda command prompt\n",
        "\n",
        "6. Paste into the Google Colab url space\n",
        "\n",
        "7. It should connect! Then keep the Jupyter Notebook open the whole time you code as this is where your code is running locally"
      ],
      "metadata": {
        "id": "7S5rrTJkD0w5"
      },
      "id": "7S5rrTJkD0w5"
    },
    {
      "cell_type": "markdown",
      "source": [
        "# Import Dependencies"
      ],
      "metadata": {
        "id": "__3WS_MJuiAJ"
      },
      "id": "__3WS_MJuiAJ"
    },
    {
      "cell_type": "markdown",
      "source": [
        "1. Install any package that needs to be installed"
      ],
      "metadata": {
        "id": "bkeTuynkGKjm"
      },
      "id": "bkeTuynkGKjm"
    },
    {
      "cell_type": "code",
      "source": [
        "!pip install earthengine-api --upgrade"
      ],
      "metadata": {
        "colab": {
          "base_uri": "https://localhost:8080/"
        },
        "collapsed": true,
        "id": "IgZf3ITlukcv",
        "outputId": "5de99b31-eb28-4101-c2d7-a05356dcd5cd"
      },
      "id": "IgZf3ITlukcv",
      "execution_count": null,
      "outputs": [
        {
          "output_type": "stream",
          "name": "stdout",
          "text": [
            "Collecting earthengine-api\n",
            "  Using cached earthengine-api-0.1.334.tar.gz (244 kB)\n",
            "  Preparing metadata (setup.py): started\n",
            "  Preparing metadata (setup.py): finished with status 'done'\n",
            "Collecting future\n",
            "  Downloading future-0.18.2.tar.gz (829 kB)\n",
            "     -------------------------------------- 829.2/829.2 kB 8.7 MB/s eta 0:00:00\n",
            "  Preparing metadata (setup.py): started\n",
            "  Preparing metadata (setup.py): finished with status 'done'\n",
            "Collecting google-cloud-storage\n",
            "  Using cached google_cloud_storage-2.6.0-py2.py3-none-any.whl (105 kB)\n",
            "Collecting google-api-python-client>=1.12.1\n",
            "  Using cached google_api_python_client-2.68.0-py2.py3-none-any.whl (10.6 MB)\n",
            "Requirement already satisfied: google-auth>=1.4.1 in c:\\users\\shika\\miniconda3\\envs\\tensorflow\\lib\\site-packages (from earthengine-api) (2.15.0)\n",
            "Collecting google-auth-httplib2>=0.0.3\n",
            "  Using cached google_auth_httplib2-0.1.0-py2.py3-none-any.whl (9.3 kB)\n",
            "Collecting httplib2<1dev,>=0.9.2\n",
            "  Using cached httplib2-0.21.0-py3-none-any.whl (96 kB)\n",
            "Requirement already satisfied: requests in c:\\users\\shika\\miniconda3\\envs\\tensorflow\\lib\\site-packages (from earthengine-api) (2.28.1)\n",
            "Requirement already satisfied: six in c:\\users\\shika\\miniconda3\\envs\\tensorflow\\lib\\site-packages (from earthengine-api) (1.16.0)\n",
            "Collecting google-api-core!=2.0.*,!=2.1.*,!=2.2.*,!=2.3.0,<3.0.0dev,>=1.31.5\n",
            "  Using cached google_api_core-2.11.0-py3-none-any.whl (120 kB)\n",
            "Collecting uritemplate<5,>=3.0.1\n",
            "  Using cached uritemplate-4.1.1-py2.py3-none-any.whl (10 kB)\n",
            "Requirement already satisfied: pyasn1-modules>=0.2.1 in c:\\users\\shika\\miniconda3\\envs\\tensorflow\\lib\\site-packages (from google-auth>=1.4.1->earthengine-api) (0.2.8)\n",
            "Requirement already satisfied: rsa<5,>=3.1.4 in c:\\users\\shika\\miniconda3\\envs\\tensorflow\\lib\\site-packages (from google-auth>=1.4.1->earthengine-api) (4.9)\n",
            "Requirement already satisfied: cachetools<6.0,>=2.0.0 in c:\\users\\shika\\miniconda3\\envs\\tensorflow\\lib\\site-packages (from google-auth>=1.4.1->earthengine-api) (5.2.0)\n",
            "Requirement already satisfied: pyparsing!=3.0.0,!=3.0.1,!=3.0.2,!=3.0.3,<4,>=2.4.2 in c:\\users\\shika\\miniconda3\\envs\\tensorflow\\lib\\site-packages (from httplib2<1dev,>=0.9.2->earthengine-api) (3.0.9)\n",
            "Collecting google-resumable-media>=2.3.2\n",
            "  Using cached google_resumable_media-2.4.0-py2.py3-none-any.whl (77 kB)\n",
            "Collecting google-cloud-core<3.0dev,>=2.3.0\n",
            "  Using cached google_cloud_core-2.3.2-py2.py3-none-any.whl (29 kB)\n",
            "Requirement already satisfied: urllib3<1.27,>=1.21.1 in c:\\users\\shika\\miniconda3\\envs\\tensorflow\\lib\\site-packages (from requests->earthengine-api) (1.26.13)\n",
            "Requirement already satisfied: idna<4,>=2.5 in c:\\users\\shika\\miniconda3\\envs\\tensorflow\\lib\\site-packages (from requests->earthengine-api) (3.4)\n",
            "Requirement already satisfied: certifi>=2017.4.17 in c:\\users\\shika\\miniconda3\\envs\\tensorflow\\lib\\site-packages (from requests->earthengine-api) (2022.9.24)\n",
            "Requirement already satisfied: charset-normalizer<3,>=2 in c:\\users\\shika\\miniconda3\\envs\\tensorflow\\lib\\site-packages (from requests->earthengine-api) (2.1.1)\n",
            "Collecting googleapis-common-protos<2.0dev,>=1.56.2\n",
            "  Using cached googleapis_common_protos-1.57.0-py2.py3-none-any.whl (217 kB)\n",
            "Requirement already satisfied: protobuf!=3.20.0,!=3.20.1,!=4.21.0,!=4.21.1,!=4.21.2,!=4.21.3,!=4.21.4,!=4.21.5,<5.0.0dev,>=3.19.5 in c:\\users\\shika\\miniconda3\\envs\\tensorflow\\lib\\site-packages (from google-api-core!=2.0.*,!=2.1.*,!=2.2.*,!=2.3.0,<3.0.0dev,>=1.31.5->google-api-python-client>=1.12.1->earthengine-api) (3.19.6)\n",
            "Collecting google-crc32c<2.0dev,>=1.0\n",
            "  Using cached google_crc32c-1.5.0-cp39-cp39-win_amd64.whl (27 kB)\n",
            "Requirement already satisfied: pyasn1<0.5.0,>=0.4.6 in c:\\users\\shika\\miniconda3\\envs\\tensorflow\\lib\\site-packages (from pyasn1-modules>=0.2.1->google-auth>=1.4.1->earthengine-api) (0.4.8)\n",
            "Building wheels for collected packages: earthengine-api, future\n",
            "  Building wheel for earthengine-api (setup.py): started\n",
            "  Building wheel for earthengine-api (setup.py): finished with status 'done'\n",
            "  Created wheel for earthengine-api: filename=earthengine_api-0.1.334-py3-none-any.whl size=274117 sha256=a543e4bfe830c5ff05d5e38e447a9e4b3d32e059f0a9192ee86d3f0be5c111e9\n",
            "  Stored in directory: c:\\users\\shika\\appdata\\local\\pip\\cache\\wheels\\f8\\cf\\af\\1f110c81c87ba4ea4aed9acc302a9d609492352574a726a53f\n",
            "  Building wheel for future (setup.py): started\n",
            "  Building wheel for future (setup.py): finished with status 'done'\n",
            "  Created wheel for future: filename=future-0.18.2-py3-none-any.whl size=491058 sha256=fc402af27bf904d601f6832eacae143139a23550422ee6795e1b484c31d3e919\n",
            "  Stored in directory: c:\\users\\shika\\appdata\\local\\pip\\cache\\wheels\\96\\66\\19\\2de75120f5d0bc185e9d16cf0fd223d8471ed025de08e45867\n",
            "Successfully built earthengine-api future\n",
            "Installing collected packages: uritemplate, httplib2, googleapis-common-protos, google-crc32c, future, google-resumable-media, google-auth-httplib2, google-api-core, google-cloud-core, google-api-python-client, google-cloud-storage, earthengine-api\n",
            "Successfully installed earthengine-api-0.1.334 future-0.18.2 google-api-core-2.11.0 google-api-python-client-2.68.0 google-auth-httplib2-0.1.0 google-cloud-core-2.3.2 google-cloud-storage-2.6.0 google-crc32c-1.5.0 google-resumable-media-2.4.0 googleapis-common-protos-1.57.0 httplib2-0.21.0 uritemplate-4.1.1\n"
          ]
        }
      ]
    },
    {
      "cell_type": "code",
      "source": [
        "!pip install geemap"
      ],
      "metadata": {
        "colab": {
          "base_uri": "https://localhost:8080/"
        },
        "id": "xkYRHXD0dhmB",
        "outputId": "e18968d2-4e96-4496-ca89-5f4a86549d94"
      },
      "id": "xkYRHXD0dhmB",
      "execution_count": 7,
      "outputs": [
        {
          "output_type": "stream",
          "name": "stdout",
          "text": [
            "Looking in indexes: https://pypi.org/simple, https://us-python.pkg.dev/colab-wheels/public/simple/\n",
            "Collecting geemap\n",
            "  Downloading geemap-0.19.0-py2.py3-none-any.whl (2.1 MB)\n",
            "\u001b[K     |████████████████████████████████| 2.1 MB 7.2 MB/s \n",
            "\u001b[?25hCollecting colour\n",
            "  Downloading colour-0.1.5-py2.py3-none-any.whl (23 kB)\n",
            "Requirement already satisfied: gdown in /usr/local/lib/python3.8/dist-packages (from geemap) (4.4.0)\n",
            "Collecting geeadd>=0.5.1\n",
            "  Downloading geeadd-0.5.6-py3-none-any.whl (30 kB)\n",
            "Collecting sankee>=0.1.0\n",
            "  Downloading sankee-0.2.0.tar.gz (29 kB)\n",
            "Collecting ipyfilechooser>=0.6.0\n",
            "  Downloading ipyfilechooser-0.6.0-py3-none-any.whl (11 kB)\n",
            "Collecting ffmpeg-python\n",
            "  Downloading ffmpeg_python-0.2.0-py3-none-any.whl (25 kB)\n",
            "Requirement already satisfied: pandas in /usr/local/lib/python3.8/dist-packages (from geemap) (1.3.5)\n",
            "Collecting python-box\n",
            "  Downloading python_box-6.1.0-cp38-cp38-manylinux_2_17_x86_64.manylinux2014_x86_64.whl (3.5 MB)\n",
            "\u001b[K     |████████████████████████████████| 3.5 MB 46.9 MB/s \n",
            "\u001b[?25hCollecting pycrs\n",
            "  Downloading PyCRS-1.0.2.tar.gz (36 kB)\n",
            "Requirement already satisfied: pillow in /usr/local/lib/python3.8/dist-packages (from geemap) (7.1.2)\n",
            "Collecting geocoder\n",
            "  Downloading geocoder-1.38.1-py2.py3-none-any.whl (98 kB)\n",
            "\u001b[K     |████████████████████████████████| 98 kB 4.4 MB/s \n",
            "\u001b[?25hCollecting scooby\n",
            "  Downloading scooby-0.7.0-py3-none-any.whl (16 kB)\n",
            "Requirement already satisfied: numpy in /usr/local/lib/python3.8/dist-packages (from geemap) (1.21.6)\n",
            "Requirement already satisfied: folium>=0.11.0 in /usr/local/lib/python3.8/dist-packages (from geemap) (0.12.1.post1)\n",
            "Collecting pyshp>=2.1.3\n",
            "  Downloading pyshp-2.3.1-py2.py3-none-any.whl (46 kB)\n",
            "\u001b[K     |████████████████████████████████| 46 kB 2.3 MB/s \n",
            "\u001b[?25hRequirement already satisfied: matplotlib in /usr/local/lib/python3.8/dist-packages (from geemap) (3.2.2)\n",
            "Collecting ipyevents\n",
            "  Downloading ipyevents-2.0.1-py2.py3-none-any.whl (130 kB)\n",
            "\u001b[K     |████████████████████████████████| 130 kB 61.7 MB/s \n",
            "\u001b[?25hRequirement already satisfied: earthengine-api>=0.1.304 in /usr/local/lib/python3.8/dist-packages (from geemap) (0.1.332)\n",
            "Collecting ipyleaflet>=0.17.0\n",
            "  Downloading ipyleaflet-0.17.2-py3-none-any.whl (3.7 MB)\n",
            "\u001b[K     |████████████████████████████████| 3.7 MB 52.6 MB/s \n",
            "\u001b[?25hCollecting xyzservices\n",
            "  Downloading xyzservices-2022.9.0-py3-none-any.whl (55 kB)\n",
            "\u001b[K     |████████████████████████████████| 55 kB 2.2 MB/s \n",
            "\u001b[?25hCollecting ipytree\n",
            "  Downloading ipytree-0.2.2-py2.py3-none-any.whl (1.3 MB)\n",
            "\u001b[K     |████████████████████████████████| 1.3 MB 52.5 MB/s \n",
            "\u001b[?25hCollecting ee-extra>=0.0.10\n",
            "  Downloading ee_extra-0.0.14.tar.gz (198 kB)\n",
            "\u001b[K     |████████████████████████████████| 198 kB 65.8 MB/s \n",
            "\u001b[?25hCollecting whiteboxgui>=0.6.0\n",
            "  Downloading whiteboxgui-2.2.0-py2.py3-none-any.whl (99 kB)\n",
            "\u001b[K     |████████████████████████████████| 99 kB 5.1 MB/s \n",
            "\u001b[?25hCollecting geojson\n",
            "  Downloading geojson-2.5.0-py2.py3-none-any.whl (14 kB)\n",
            "Collecting bqplot\n",
            "  Downloading bqplot-0.12.36-py2.py3-none-any.whl (1.2 MB)\n",
            "\u001b[K     |████████████████████████████████| 1.2 MB 68.2 MB/s \n",
            "\u001b[?25hCollecting eerepr>=0.0.4\n",
            "  Downloading eerepr-0.0.4-py3-none-any.whl (9.7 kB)\n",
            "Requirement already satisfied: six in /usr/local/lib/python3.8/dist-packages (from earthengine-api>=0.1.304->geemap) (1.15.0)\n",
            "Requirement already satisfied: httplib2<1dev,>=0.9.2 in /usr/local/lib/python3.8/dist-packages (from earthengine-api>=0.1.304->geemap) (0.17.4)\n",
            "Requirement already satisfied: future in /usr/local/lib/python3.8/dist-packages (from earthengine-api>=0.1.304->geemap) (0.16.0)\n",
            "Requirement already satisfied: google-auth-httplib2>=0.0.3 in /usr/local/lib/python3.8/dist-packages (from earthengine-api>=0.1.304->geemap) (0.0.4)\n",
            "Requirement already satisfied: google-cloud-storage in /usr/local/lib/python3.8/dist-packages (from earthengine-api>=0.1.304->geemap) (2.5.0)\n",
            "Requirement already satisfied: requests in /usr/local/lib/python3.8/dist-packages (from earthengine-api>=0.1.304->geemap) (2.23.0)\n",
            "Requirement already satisfied: google-api-python-client>=1.12.1 in /usr/local/lib/python3.8/dist-packages (from earthengine-api>=0.1.304->geemap) (1.12.11)\n",
            "Requirement already satisfied: google-auth>=1.4.1 in /usr/local/lib/python3.8/dist-packages (from earthengine-api>=0.1.304->geemap) (2.14.1)\n",
            "Requirement already satisfied: jinja2>=2.9 in /usr/local/lib/python3.8/dist-packages (from folium>=0.11.0->geemap) (2.11.3)\n",
            "Requirement already satisfied: branca>=0.3.0 in /usr/local/lib/python3.8/dist-packages (from folium>=0.11.0->geemap) (0.6.0)\n",
            "Collecting beautifulsoup4>=4.9.0\n",
            "  Downloading beautifulsoup4-4.11.1-py3-none-any.whl (128 kB)\n",
            "\u001b[K     |████████████████████████████████| 128 kB 46.5 MB/s \n",
            "\u001b[?25hCollecting logzero>=1.5.0\n",
            "  Downloading logzero-1.7.0-py2.py3-none-any.whl (16 kB)\n",
            "Collecting soupsieve>1.2\n",
            "  Downloading soupsieve-2.3.2.post1-py3-none-any.whl (37 kB)\n",
            "Requirement already satisfied: uritemplate<4dev,>=3.0.0 in /usr/local/lib/python3.8/dist-packages (from google-api-python-client>=1.12.1->earthengine-api>=0.1.304->geemap) (3.0.1)\n",
            "Requirement already satisfied: google-api-core<3dev,>=1.21.0 in /usr/local/lib/python3.8/dist-packages (from google-api-python-client>=1.12.1->earthengine-api>=0.1.304->geemap) (2.8.2)\n",
            "Requirement already satisfied: protobuf<5.0.0dev,>=3.15.0 in /usr/local/lib/python3.8/dist-packages (from google-api-core<3dev,>=1.21.0->google-api-python-client>=1.12.1->earthengine-api>=0.1.304->geemap) (3.19.6)\n",
            "Requirement already satisfied: googleapis-common-protos<2.0dev,>=1.56.2 in /usr/local/lib/python3.8/dist-packages (from google-api-core<3dev,>=1.21.0->google-api-python-client>=1.12.1->earthengine-api>=0.1.304->geemap) (1.57.0)\n",
            "Requirement already satisfied: pyasn1-modules>=0.2.1 in /usr/local/lib/python3.8/dist-packages (from google-auth>=1.4.1->earthengine-api>=0.1.304->geemap) (0.2.8)\n",
            "Requirement already satisfied: cachetools<6.0,>=2.0.0 in /usr/local/lib/python3.8/dist-packages (from google-auth>=1.4.1->earthengine-api>=0.1.304->geemap) (5.2.0)\n",
            "Requirement already satisfied: rsa<5,>=3.1.4 in /usr/local/lib/python3.8/dist-packages (from google-auth>=1.4.1->earthengine-api>=0.1.304->geemap) (4.9)\n",
            "Requirement already satisfied: ipywidgets in /usr/local/lib/python3.8/dist-packages (from ipyfilechooser>=0.6.0->geemap) (7.7.1)\n",
            "Collecting traittypes<3,>=0.2.1\n",
            "  Downloading traittypes-0.2.1-py2.py3-none-any.whl (8.6 kB)\n",
            "Requirement already satisfied: jupyterlab-widgets>=1.0.0 in /usr/local/lib/python3.8/dist-packages (from ipywidgets->ipyfilechooser>=0.6.0->geemap) (3.0.3)\n",
            "Requirement already satisfied: widgetsnbextension~=3.6.0 in /usr/local/lib/python3.8/dist-packages (from ipywidgets->ipyfilechooser>=0.6.0->geemap) (3.6.1)\n",
            "Requirement already satisfied: ipython>=4.0.0 in /usr/local/lib/python3.8/dist-packages (from ipywidgets->ipyfilechooser>=0.6.0->geemap) (7.9.0)\n",
            "Requirement already satisfied: traitlets>=4.3.1 in /usr/local/lib/python3.8/dist-packages (from ipywidgets->ipyfilechooser>=0.6.0->geemap) (5.1.1)\n",
            "Requirement already satisfied: ipykernel>=4.5.1 in /usr/local/lib/python3.8/dist-packages (from ipywidgets->ipyfilechooser>=0.6.0->geemap) (5.3.4)\n",
            "Requirement already satisfied: ipython-genutils~=0.2.0 in /usr/local/lib/python3.8/dist-packages (from ipywidgets->ipyfilechooser>=0.6.0->geemap) (0.2.0)\n",
            "Requirement already satisfied: tornado>=4.2 in /usr/local/lib/python3.8/dist-packages (from ipykernel>=4.5.1->ipywidgets->ipyfilechooser>=0.6.0->geemap) (6.0.4)\n",
            "Requirement already satisfied: jupyter-client in /usr/local/lib/python3.8/dist-packages (from ipykernel>=4.5.1->ipywidgets->ipyfilechooser>=0.6.0->geemap) (6.1.12)\n",
            "Requirement already satisfied: setuptools>=18.5 in /usr/local/lib/python3.8/dist-packages (from ipython>=4.0.0->ipywidgets->ipyfilechooser>=0.6.0->geemap) (57.4.0)\n",
            "Requirement already satisfied: pickleshare in /usr/local/lib/python3.8/dist-packages (from ipython>=4.0.0->ipywidgets->ipyfilechooser>=0.6.0->geemap) (0.7.5)\n",
            "Requirement already satisfied: pygments in /usr/local/lib/python3.8/dist-packages (from ipython>=4.0.0->ipywidgets->ipyfilechooser>=0.6.0->geemap) (2.6.1)\n",
            "Requirement already satisfied: decorator in /usr/local/lib/python3.8/dist-packages (from ipython>=4.0.0->ipywidgets->ipyfilechooser>=0.6.0->geemap) (4.4.2)\n",
            "Requirement already satisfied: backcall in /usr/local/lib/python3.8/dist-packages (from ipython>=4.0.0->ipywidgets->ipyfilechooser>=0.6.0->geemap) (0.2.0)\n",
            "Requirement already satisfied: prompt-toolkit<2.1.0,>=2.0.0 in /usr/local/lib/python3.8/dist-packages (from ipython>=4.0.0->ipywidgets->ipyfilechooser>=0.6.0->geemap) (2.0.10)\n",
            "Collecting jedi>=0.10\n",
            "  Downloading jedi-0.18.2-py2.py3-none-any.whl (1.6 MB)\n",
            "\u001b[K     |████████████████████████████████| 1.6 MB 57.1 MB/s \n",
            "\u001b[?25hRequirement already satisfied: pexpect in /usr/local/lib/python3.8/dist-packages (from ipython>=4.0.0->ipywidgets->ipyfilechooser>=0.6.0->geemap) (4.8.0)\n",
            "Requirement already satisfied: parso<0.9.0,>=0.8.0 in /usr/local/lib/python3.8/dist-packages (from jedi>=0.10->ipython>=4.0.0->ipywidgets->ipyfilechooser>=0.6.0->geemap) (0.8.3)\n",
            "Requirement already satisfied: MarkupSafe>=0.23 in /usr/local/lib/python3.8/dist-packages (from jinja2>=2.9->folium>=0.11.0->geemap) (2.0.1)\n",
            "Requirement already satisfied: wcwidth in /usr/local/lib/python3.8/dist-packages (from prompt-toolkit<2.1.0,>=2.0.0->ipython>=4.0.0->ipywidgets->ipyfilechooser>=0.6.0->geemap) (0.2.5)\n",
            "Requirement already satisfied: pyasn1<0.5.0,>=0.4.6 in /usr/local/lib/python3.8/dist-packages (from pyasn1-modules>=0.2.1->google-auth>=1.4.1->earthengine-api>=0.1.304->geemap) (0.4.8)\n",
            "Requirement already satisfied: urllib3!=1.25.0,!=1.25.1,<1.26,>=1.21.1 in /usr/local/lib/python3.8/dist-packages (from requests->earthengine-api>=0.1.304->geemap) (1.24.3)\n",
            "Requirement already satisfied: chardet<4,>=3.0.2 in /usr/local/lib/python3.8/dist-packages (from requests->earthengine-api>=0.1.304->geemap) (3.0.4)\n",
            "Requirement already satisfied: idna<3,>=2.5 in /usr/local/lib/python3.8/dist-packages (from requests->earthengine-api>=0.1.304->geemap) (2.10)\n",
            "Requirement already satisfied: certifi>=2017.4.17 in /usr/local/lib/python3.8/dist-packages (from requests->earthengine-api>=0.1.304->geemap) (2022.9.24)\n",
            "Requirement already satisfied: plotly>=5.2.2 in /usr/local/lib/python3.8/dist-packages (from sankee>=0.1.0->geemap) (5.5.0)\n",
            "Requirement already satisfied: tenacity>=6.2.0 in /usr/local/lib/python3.8/dist-packages (from plotly>=5.2.2->sankee>=0.1.0->geemap) (8.1.0)\n",
            "Collecting whitebox\n",
            "  Downloading whitebox-2.2.0-py2.py3-none-any.whl (79 kB)\n",
            "\u001b[K     |████████████████████████████████| 79 kB 8.1 MB/s \n",
            "\u001b[?25hRequirement already satisfied: notebook>=4.4.1 in /usr/local/lib/python3.8/dist-packages (from widgetsnbextension~=3.6.0->ipywidgets->ipyfilechooser>=0.6.0->geemap) (5.7.16)\n",
            "Requirement already satisfied: jupyter-core>=4.4.0 in /usr/local/lib/python3.8/dist-packages (from notebook>=4.4.1->widgetsnbextension~=3.6.0->ipywidgets->ipyfilechooser>=0.6.0->geemap) (4.11.2)\n",
            "Requirement already satisfied: Send2Trash in /usr/local/lib/python3.8/dist-packages (from notebook>=4.4.1->widgetsnbextension~=3.6.0->ipywidgets->ipyfilechooser>=0.6.0->geemap) (1.8.0)\n",
            "Requirement already satisfied: nbformat in /usr/local/lib/python3.8/dist-packages (from notebook>=4.4.1->widgetsnbextension~=3.6.0->ipywidgets->ipyfilechooser>=0.6.0->geemap) (5.7.0)\n",
            "Requirement already satisfied: nbconvert<6.0 in /usr/local/lib/python3.8/dist-packages (from notebook>=4.4.1->widgetsnbextension~=3.6.0->ipywidgets->ipyfilechooser>=0.6.0->geemap) (5.6.1)\n",
            "Requirement already satisfied: prometheus-client in /usr/local/lib/python3.8/dist-packages (from notebook>=4.4.1->widgetsnbextension~=3.6.0->ipywidgets->ipyfilechooser>=0.6.0->geemap) (0.15.0)\n",
            "Requirement already satisfied: terminado>=0.8.1 in /usr/local/lib/python3.8/dist-packages (from notebook>=4.4.1->widgetsnbextension~=3.6.0->ipywidgets->ipyfilechooser>=0.6.0->geemap) (0.13.3)\n",
            "Requirement already satisfied: pyzmq>=17 in /usr/local/lib/python3.8/dist-packages (from notebook>=4.4.1->widgetsnbextension~=3.6.0->ipywidgets->ipyfilechooser>=0.6.0->geemap) (23.2.1)\n",
            "Requirement already satisfied: python-dateutil>=2.1 in /usr/local/lib/python3.8/dist-packages (from jupyter-client->ipykernel>=4.5.1->ipywidgets->ipyfilechooser>=0.6.0->geemap) (2.8.2)\n",
            "Requirement already satisfied: bleach in /usr/local/lib/python3.8/dist-packages (from nbconvert<6.0->notebook>=4.4.1->widgetsnbextension~=3.6.0->ipywidgets->ipyfilechooser>=0.6.0->geemap) (5.0.1)\n",
            "Requirement already satisfied: mistune<2,>=0.8.1 in /usr/local/lib/python3.8/dist-packages (from nbconvert<6.0->notebook>=4.4.1->widgetsnbextension~=3.6.0->ipywidgets->ipyfilechooser>=0.6.0->geemap) (0.8.4)\n",
            "Requirement already satisfied: entrypoints>=0.2.2 in /usr/local/lib/python3.8/dist-packages (from nbconvert<6.0->notebook>=4.4.1->widgetsnbextension~=3.6.0->ipywidgets->ipyfilechooser>=0.6.0->geemap) (0.4)\n",
            "Requirement already satisfied: pandocfilters>=1.4.1 in /usr/local/lib/python3.8/dist-packages (from nbconvert<6.0->notebook>=4.4.1->widgetsnbextension~=3.6.0->ipywidgets->ipyfilechooser>=0.6.0->geemap) (1.5.0)\n",
            "Requirement already satisfied: testpath in /usr/local/lib/python3.8/dist-packages (from nbconvert<6.0->notebook>=4.4.1->widgetsnbextension~=3.6.0->ipywidgets->ipyfilechooser>=0.6.0->geemap) (0.6.0)\n",
            "Requirement already satisfied: defusedxml in /usr/local/lib/python3.8/dist-packages (from nbconvert<6.0->notebook>=4.4.1->widgetsnbextension~=3.6.0->ipywidgets->ipyfilechooser>=0.6.0->geemap) (0.7.1)\n",
            "Requirement already satisfied: jsonschema>=2.6 in /usr/local/lib/python3.8/dist-packages (from nbformat->notebook>=4.4.1->widgetsnbextension~=3.6.0->ipywidgets->ipyfilechooser>=0.6.0->geemap) (4.3.3)\n",
            "Requirement already satisfied: fastjsonschema in /usr/local/lib/python3.8/dist-packages (from nbformat->notebook>=4.4.1->widgetsnbextension~=3.6.0->ipywidgets->ipyfilechooser>=0.6.0->geemap) (2.16.2)\n",
            "Requirement already satisfied: importlib-resources>=1.4.0 in /usr/local/lib/python3.8/dist-packages (from jsonschema>=2.6->nbformat->notebook>=4.4.1->widgetsnbextension~=3.6.0->ipywidgets->ipyfilechooser>=0.6.0->geemap) (5.10.0)\n",
            "Requirement already satisfied: pyrsistent!=0.17.0,!=0.17.1,!=0.17.2,>=0.14.0 in /usr/local/lib/python3.8/dist-packages (from jsonschema>=2.6->nbformat->notebook>=4.4.1->widgetsnbextension~=3.6.0->ipywidgets->ipyfilechooser>=0.6.0->geemap) (0.19.2)\n",
            "Requirement already satisfied: attrs>=17.4.0 in /usr/local/lib/python3.8/dist-packages (from jsonschema>=2.6->nbformat->notebook>=4.4.1->widgetsnbextension~=3.6.0->ipywidgets->ipyfilechooser>=0.6.0->geemap) (22.1.0)\n",
            "Requirement already satisfied: zipp>=3.1.0 in /usr/local/lib/python3.8/dist-packages (from importlib-resources>=1.4.0->jsonschema>=2.6->nbformat->notebook>=4.4.1->widgetsnbextension~=3.6.0->ipywidgets->ipyfilechooser>=0.6.0->geemap) (3.10.0)\n",
            "Requirement already satisfied: ptyprocess in /usr/local/lib/python3.8/dist-packages (from terminado>=0.8.1->notebook>=4.4.1->widgetsnbextension~=3.6.0->ipywidgets->ipyfilechooser>=0.6.0->geemap) (0.7.0)\n",
            "Requirement already satisfied: webencodings in /usr/local/lib/python3.8/dist-packages (from bleach->nbconvert<6.0->notebook>=4.4.1->widgetsnbextension~=3.6.0->ipywidgets->ipyfilechooser>=0.6.0->geemap) (0.5.1)\n",
            "Requirement already satisfied: pytz>=2017.3 in /usr/local/lib/python3.8/dist-packages (from pandas->geemap) (2022.6)\n",
            "Requirement already satisfied: tqdm in /usr/local/lib/python3.8/dist-packages (from gdown->geemap) (4.64.1)\n",
            "Requirement already satisfied: filelock in /usr/local/lib/python3.8/dist-packages (from gdown->geemap) (3.8.0)\n",
            "Collecting ratelim\n",
            "  Downloading ratelim-0.1.6-py2.py3-none-any.whl (4.0 kB)\n",
            "Requirement already satisfied: click in /usr/local/lib/python3.8/dist-packages (from geocoder->geemap) (7.1.2)\n",
            "Requirement already satisfied: google-cloud-core<3.0dev,>=2.3.0 in /usr/local/lib/python3.8/dist-packages (from google-cloud-storage->earthengine-api>=0.1.304->geemap) (2.3.2)\n",
            "Requirement already satisfied: google-resumable-media>=2.3.2 in /usr/local/lib/python3.8/dist-packages (from google-cloud-storage->earthengine-api>=0.1.304->geemap) (2.4.0)\n",
            "Requirement already satisfied: google-crc32c<2.0dev,>=1.0 in /usr/local/lib/python3.8/dist-packages (from google-resumable-media>=2.3.2->google-cloud-storage->earthengine-api>=0.1.304->geemap) (1.5.0)\n",
            "Requirement already satisfied: pyparsing!=2.0.4,!=2.1.2,!=2.1.6,>=2.0.1 in /usr/local/lib/python3.8/dist-packages (from matplotlib->geemap) (3.0.9)\n",
            "Requirement already satisfied: kiwisolver>=1.0.1 in /usr/local/lib/python3.8/dist-packages (from matplotlib->geemap) (1.4.4)\n",
            "Requirement already satisfied: cycler>=0.10 in /usr/local/lib/python3.8/dist-packages (from matplotlib->geemap) (0.11.0)\n",
            "Requirement already satisfied: PySocks!=1.5.7,>=1.5.6 in /usr/local/lib/python3.8/dist-packages (from requests->earthengine-api>=0.1.304->geemap) (1.7.1)\n",
            "Building wheels for collected packages: ee-extra, sankee, pycrs\n",
            "  Building wheel for ee-extra (setup.py) ... \u001b[?25l\u001b[?25hdone\n",
            "  Created wheel for ee-extra: filename=ee_extra-0.0.14-py3-none-any.whl size=209116 sha256=d9e55e7c7d319619d1cc0be2e1f3d50707eb8c884b6384ae850a2ea2e0d1e83a\n",
            "  Stored in directory: /root/.cache/pip/wheels/0f/38/3a/2e67f6d7202f45758a40499d6d4426fd8047813d168b042645\n",
            "  Building wheel for sankee (setup.py) ... \u001b[?25l\u001b[?25hdone\n",
            "  Created wheel for sankee: filename=sankee-0.2.0-py3-none-any.whl size=28746 sha256=9bd8788ba5e48017129d9261e31d7b3f89bf1b94368db772ec59534db38df979\n",
            "  Stored in directory: /root/.cache/pip/wheels/ea/27/fa/1381c4b685dee631e75b900b8e0eb0df9c233a4cbdf55f7d3d\n",
            "  Building wheel for pycrs (setup.py) ... \u001b[?25l\u001b[?25hdone\n",
            "  Created wheel for pycrs: filename=PyCRS-1.0.2-py3-none-any.whl size=32703 sha256=d7cec5f5724cb8ebc884ad2a552642a952b5569406a6fb715c29d6f326a9615a\n",
            "  Stored in directory: /root/.cache/pip/wheels/c1/e9/f3/19ecf82bebc5cdaba5c2a83f673f7b9b09c26fbc9b57534a2e\n",
            "Successfully built ee-extra sankee pycrs\n",
            "Installing collected packages: jedi, soupsieve, xyzservices, whitebox, traittypes, ratelim, logzero, ipytree, ipyfilechooser, beautifulsoup4, whiteboxgui, scooby, sankee, python-box, pyshp, pycrs, ipyleaflet, ipyevents, geojson, geocoder, geeadd, ffmpeg-python, eerepr, ee-extra, colour, bqplot, geemap\n",
            "  Attempting uninstall: beautifulsoup4\n",
            "    Found existing installation: beautifulsoup4 4.6.3\n",
            "    Uninstalling beautifulsoup4-4.6.3:\n",
            "      Successfully uninstalled beautifulsoup4-4.6.3\n",
            "Successfully installed beautifulsoup4-4.11.1 bqplot-0.12.36 colour-0.1.5 ee-extra-0.0.14 eerepr-0.0.4 ffmpeg-python-0.2.0 geeadd-0.5.6 geemap-0.19.0 geocoder-1.38.1 geojson-2.5.0 ipyevents-2.0.1 ipyfilechooser-0.6.0 ipyleaflet-0.17.2 ipytree-0.2.2 jedi-0.18.2 logzero-1.7.0 pycrs-1.0.2 pyshp-2.3.1 python-box-6.1.0 ratelim-0.1.6 sankee-0.2.0 scooby-0.7.0 soupsieve-2.3.2.post1 traittypes-0.2.1 whitebox-2.2.0 whiteboxgui-2.2.0 xyzservices-2022.9.0\n"
          ]
        }
      ]
    },
    {
      "cell_type": "code",
      "source": [
        "!pip install folium"
      ],
      "metadata": {
        "colab": {
          "base_uri": "https://localhost:8080/"
        },
        "collapsed": true,
        "id": "oJogWP-nwV7P",
        "outputId": "401fd1bd-4bd5-4b9b-d5e5-6a2b7d571f00"
      },
      "id": "oJogWP-nwV7P",
      "execution_count": null,
      "outputs": [
        {
          "output_type": "stream",
          "name": "stdout",
          "text": [
            "Collecting folium\n",
            "  Using cached folium-0.13.0-py2.py3-none-any.whl (96 kB)\n",
            "Requirement already satisfied: numpy in c:\\users\\shika\\miniconda3\\envs\\tensorflow\\lib\\site-packages (from folium) (1.23.5)\n",
            "Collecting branca>=0.3.0\n",
            "  Using cached branca-0.6.0-py3-none-any.whl (24 kB)\n",
            "Requirement already satisfied: requests in c:\\users\\shika\\miniconda3\\envs\\tensorflow\\lib\\site-packages (from folium) (2.28.1)\n",
            "Requirement already satisfied: jinja2>=2.9 in c:\\users\\shika\\miniconda3\\envs\\tensorflow\\lib\\site-packages (from folium) (3.1.2)\n",
            "Requirement already satisfied: MarkupSafe>=2.0 in c:\\users\\shika\\miniconda3\\envs\\tensorflow\\lib\\site-packages (from jinja2>=2.9->folium) (2.1.1)\n",
            "Requirement already satisfied: urllib3<1.27,>=1.21.1 in c:\\users\\shika\\miniconda3\\envs\\tensorflow\\lib\\site-packages (from requests->folium) (1.26.13)\n",
            "Requirement already satisfied: certifi>=2017.4.17 in c:\\users\\shika\\miniconda3\\envs\\tensorflow\\lib\\site-packages (from requests->folium) (2022.9.24)\n",
            "Requirement already satisfied: charset-normalizer<3,>=2 in c:\\users\\shika\\miniconda3\\envs\\tensorflow\\lib\\site-packages (from requests->folium) (2.1.1)\n",
            "Requirement already satisfied: idna<4,>=2.5 in c:\\users\\shika\\miniconda3\\envs\\tensorflow\\lib\\site-packages (from requests->folium) (3.4)\n",
            "Installing collected packages: branca, folium\n",
            "Successfully installed branca-0.6.0 folium-0.13.0\n"
          ]
        }
      ]
    },
    {
      "cell_type": "markdown",
      "source": [
        "2. Import all the necessary packages"
      ],
      "metadata": {
        "id": "ox-AFIjgGPOx"
      },
      "id": "ox-AFIjgGPOx"
    },
    {
      "cell_type": "code",
      "source": [
        "import tensorflow as tf\n",
        "print(tf.__version__)"
      ],
      "metadata": {
        "id": "CpErIfpvwpmo",
        "outputId": "b98a7013-1886-4c9a-95c8-5bd4cd4765b1",
        "colab": {
          "base_uri": "https://localhost:8080/"
        }
      },
      "id": "CpErIfpvwpmo",
      "execution_count": 1,
      "outputs": [
        {
          "output_type": "stream",
          "name": "stdout",
          "text": [
            "2.9.2\n"
          ]
        }
      ]
    },
    {
      "cell_type": "code",
      "source": [
        "from tensorflow.keras.models import Sequential\n",
        "from tensorflow.keras.layers import Conv2D, Dense, Flatten, Reshape, LeakyReLU, Dropout, UpSampling2D\n",
        "from tensorflow.keras.optimizers import Adam\n",
        "from tensorflow.keras.losses import BinaryCrossentropy\n",
        "from tensorflow.keras.models import Model\n",
        "from tensorflow.keras.preprocessing.image import array_to_img\n",
        "from tensorflow.keras.callbacks import Callback"
      ],
      "metadata": {
        "id": "28SU3drvw9hB"
      },
      "id": "28SU3drvw9hB",
      "execution_count": 2,
      "outputs": []
    },
    {
      "cell_type": "code",
      "source": [
        "import os"
      ],
      "metadata": {
        "id": "-1UJ7sKAxCwl"
      },
      "id": "-1UJ7sKAxCwl",
      "execution_count": 3,
      "outputs": []
    },
    {
      "cell_type": "code",
      "source": [
        "import numpy as np"
      ],
      "metadata": {
        "id": "hAeqeCCSxHn4"
      },
      "id": "hAeqeCCSxHn4",
      "execution_count": 4,
      "outputs": []
    },
    {
      "cell_type": "code",
      "source": [
        "# Folium will be used for visualization purposes. It is a package that enables Google-Maps-like interactive maps\n",
        "import folium\n",
        "print(folium.__version__)"
      ],
      "metadata": {
        "id": "nhsuH-dQxRPm",
        "outputId": "8af2b5a8-99e8-41a4-8d6d-5289ec6750cf",
        "colab": {
          "base_uri": "https://localhost:8080/"
        }
      },
      "id": "nhsuH-dQxRPm",
      "execution_count": 5,
      "outputs": [
        {
          "output_type": "stream",
          "name": "stdout",
          "text": [
            "0.12.1.post1\n"
          ]
        }
      ]
    },
    {
      "cell_type": "code",
      "source": [
        "import geemap"
      ],
      "metadata": {
        "id": "WZb5tcLQdenT"
      },
      "id": "WZb5tcLQdenT",
      "execution_count": 8,
      "outputs": []
    },
    {
      "cell_type": "code",
      "source": [
        "# Enable access to Google Earth Engine. If you are running this locally, you have to right click and open the link in a new tab (otherwise it'll come up with an error)\n",
        "import ee\n",
        "ee.Authenticate()\n",
        "ee.Initialize()"
      ],
      "metadata": {
        "id": "d-0ZpX5FxLLB",
        "outputId": "20ba4f94-20ae-42ca-f305-a00446cd0abb",
        "colab": {
          "base_uri": "https://localhost:8080/"
        }
      },
      "id": "d-0ZpX5FxLLB",
      "execution_count": 9,
      "outputs": [
        {
          "output_type": "stream",
          "name": "stdout",
          "text": [
            "To authorize access needed by Earth Engine, open the following URL in a web browser and follow the instructions. If the web browser does not start automatically, please manually browse the URL below.\n",
            "\n",
            "    https://code.earthengine.google.com/client-auth?scopes=https%3A//www.googleapis.com/auth/earthengine%20https%3A//www.googleapis.com/auth/devstorage.full_control&request_id=QR6W05YpVynTLesVRCToTyWBUORPDjwbF0EuIdrQoNM&tc=rxUXIP-FVvmcFjrym_L46FxS-kFloJpXgH1EhpIUIUA&cc=T5Txp3gJc5fmIzWSZx_WFeOh60qCSb64g7PoNhGxt2g\n",
            "\n",
            "The authorization workflow will generate a code, which you should paste in the box below.\n",
            "Enter verification code: 4/1AfgeXvtdXKsSZ5rdKF66PudBszC17Vo4tVDdjrsnHQgpYY9o3SmlZhGU9SE\n",
            "\n",
            "Successfully saved authorization token.\n"
          ]
        }
      ]
    },
    {
      "cell_type": "code",
      "source": [
        "gpus = tf.config.experimental.list_physical_devices('GPU')\n",
        "for gpu in gpus: \n",
        "    tf.config.experimental.set_memory_growth(gpu, True)\n",
        "gpus"
      ],
      "metadata": {
        "id": "VhE0V-dNbLLp",
        "outputId": "e24f8798-8592-4ca2-b585-9eac3c8c0e4e",
        "colab": {
          "base_uri": "https://localhost:8080/"
        }
      },
      "id": "VhE0V-dNbLLp",
      "execution_count": null,
      "outputs": [
        {
          "output_type": "execute_result",
          "data": {
            "text/plain": [
              "[PhysicalDevice(name='/physical_device:GPU:0', device_type='GPU')]"
            ]
          },
          "metadata": {},
          "execution_count": 10
        }
      ]
    },
    {
      "cell_type": "markdown",
      "source": [
        "# Define Variables"
      ],
      "metadata": {
        "id": "Li2LZslrTYk5"
      },
      "id": "Li2LZslrTYk5"
    },
    {
      "cell_type": "markdown",
      "source": [
        "## Specify Cloud Storage Bucket\n",
        "Google Colab uses Google Storage Buckets to run any code, so you have to have one and specify it!"
      ],
      "metadata": {
        "id": "9zidoREnTfxV"
      },
      "id": "9zidoREnTfxV"
    },
    {
      "cell_type": "code",
      "source": [
        "OUTPUT_BUCKET = 'mapgan'"
      ],
      "metadata": {
        "id": "F6PLnlFgTy7e"
      },
      "id": "F6PLnlFgTy7e",
      "execution_count": null,
      "outputs": []
    },
    {
      "cell_type": "markdown",
      "source": [
        "Define database variables. Here, we're using a database of [global settlement patterns](https://developers.google.com/earth-engine/datasets/catalog/DLR_WSF_WSF2015_v1) and [Landsat 9 imagery](https://developers.google.com/earth-engine/datasets/catalog/LANDSAT_LC09_C02_T1?hl=en)"
      ],
      "metadata": {
        "id": "T35-bcEYT2Pw"
      },
      "id": "T35-bcEYT2Pw"
    },
    {
      "cell_type": "code",
      "source": [
        "STL = ee.Image(\"DLR/WSF/WSF2015/v1\")\n",
        "L9SR = ee.ImageCollection(\"LANDSAT/LC09/C02/T1_L2\")\n",
        "STL_BANDS = ['settlements']\n",
        "RGB_BANDS = ['B4', 'B3', 'B2']"
      ],
      "metadata": {
        "id": "z-Q0BIrCT6iK"
      },
      "id": "z-Q0BIrCT6iK",
      "execution_count": null,
      "outputs": []
    },
    {
      "cell_type": "code",
      "source": [
        "TOKYO = [35.6762, 139.6503]\n",
        "BOULDER = [40.0150, -105.2705]"
      ],
      "metadata": {
        "id": "kNrNC8HJhaY5"
      },
      "id": "kNrNC8HJhaY5",
      "execution_count": null,
      "outputs": []
    },
    {
      "cell_type": "markdown",
      "source": [
        "Define the file paths for data"
      ],
      "metadata": {
        "id": "pwk8N_TbVdgw"
      },
      "id": "pwk8N_TbVdgw"
    },
    {
      "cell_type": "code",
      "source": [
        "TRAIN_FILE_PREFIX = 'Training_demo'\n",
        "TEST_FILE_PREFIX = 'Testing_demo'\n",
        "file_extension = '.tfrecord.gz'\n",
        "TRAIN_FILE_PATH = 'gs://' + OUTPUT_BUCKET + '/' + TRAIN_FILE_PREFIX + file_extension\n",
        "TEST_FILE_PATH = 'gs://' + OUTPUT_BUCKET + '/' + TEST_FILE_PREFIX + file_extension\n"
      ],
      "metadata": {
        "id": "Z1aMAAPjVTih"
      },
      "id": "Z1aMAAPjVTih",
      "execution_count": null,
      "outputs": []
    },
    {
      "cell_type": "code",
      "source": [
        "# Your Earth Engine username.  This is used to import a classified image\n",
        "# into your Earth Engine assets folder.\n",
        "USER_NAME = 'nesh5910@colorado.edu'\n",
        "\n",
        "# Cloud Storage bucket into which training, testing and prediction \n",
        "# datasets will be written.  You must be able to write into this bucket.\n",
        "OUTPUT_BUCKET = 'mapgan'\n",
        "\n",
        "# Use Landsat 8 surface reflectance data for predictors.\n",
        "L9SR = ee.ImageCollection(\"LANDSAT/LC09/C02/T1_L2\")\n",
        "SWISS = ee.ImageCollection(\"ORTHO/Switzerland/SWISSIMAGE/10cm\")\n",
        "# Use these bands for prediction.\n",
        "# The bands are different for each dataset in Earth Engine, but we are looking for the raw RGB values of the images\n",
        "SWISS_BANDS = ['R', 'G', 'B']\n",
        "BANDS = ['B4', 'B3', 'B2']\n",
        "\n",
        "BOULDER = [40.0150, -105.2705]\n",
        "BERN = [46.9480, 7.4474]\n",
        "\n",
        "# This is a trianing/testing dataset of points with known land cover labels.\n",
        "LABEL_DATA = ee.FeatureCollection('projects/google/demo_landcover_labels')\n",
        "# The labels, consecutive integer indices starting from zero, are stored in\n",
        "# this property, set on each point.\n",
        "LABEL = 'landcover'\n",
        "# Number of label values, i.e. number of classes in the classification.\n",
        "N_CLASSES = 3\n",
        "\n",
        "# These names are used to specify properties in the export of\n",
        "# training/testing data and to define the mapping between names and data\n",
        "# when reading into TensorFlow datasets.\n",
        "FEATURE_NAMES = list(BANDS)\n",
        "FEATURE_NAMES.append(LABEL)\n",
        "\n",
        "# File names for the training and testing datasets.  These TFRecord files\n",
        "# will be exported from Earth Engine into the Cloud Storage bucket.\n",
        "TRAIN_FILE_PREFIX = 'Training_demo'\n",
        "TEST_FILE_PREFIX = 'Testing_demo'\n",
        "file_extension = '.tfrecord.gz'\n",
        "TRAIN_FILE_PATH = 'gs://' + OUTPUT_BUCKET + '/' + TRAIN_FILE_PREFIX + file_extension\n",
        "TEST_FILE_PATH = 'gs://' + OUTPUT_BUCKET + '/' + TEST_FILE_PREFIX + file_extension\n",
        "\n",
        "# File name for the prediction (image) dataset.  The trained model will read\n",
        "# this dataset and make predictions in each pixel.\n",
        "IMAGE_FILE_PREFIX = 'Image_pixel_demo_'\n",
        "\n",
        "# The output path for the classified image (i.e. predictions) TFRecord file.\n",
        "OUTPUT_IMAGE_FILE = 'gs://' + OUTPUT_BUCKET + '/Classified_pixel_demo.TFRecord'\n",
        "# Export imagery in this region.\n",
        "EXPORT_REGION = ee.Geometry.Rectangle([-122.7, 37.3, -121.8, 38.00])\n",
        "# The name of the Earth Engine asset to be created by importing\n",
        "# the classified image from the TFRecord file in Cloud Storage.\n",
        "OUTPUT_ASSET_ID = 'users/' + USER_NAME + '/Classified_pixel_demo'"
      ],
      "metadata": {
        "id": "uZRT7skbxbWO"
      },
      "id": "uZRT7skbxbWO",
      "execution_count": null,
      "outputs": []
    },
    {
      "cell_type": "code",
      "source": [
        "# This function is from the sample Google Colab CNN code to import earth engine data into folium\n",
        "# https://colab.research.google.com/github/giswqs/qgis-earthengine-examples/blob/master/Folium/ee-api-folium-setup.ipynb#scrollTo=7uSjLbh1LBeX\n",
        "\n",
        "# Define a method for displaying Earth Engine image tiles on a folium map.\n",
        "def add_ee_layer(self, ee_object, vis_params, name):\n",
        "    \n",
        "    try:    \n",
        "        # display ee.Image()\n",
        "        if isinstance(ee_object, ee.image.Image):    \n",
        "            map_id_dict = ee.Image(ee_object).getMapId(vis_params)\n",
        "            folium.raster_layers.TileLayer(\n",
        "            tiles = map_id_dict['tile_fetcher'].url_format,\n",
        "            attr = 'Google Earth Engine',\n",
        "            name = name,\n",
        "            overlay = True,\n",
        "            control = True\n",
        "            ).add_to(self)\n",
        "        # display ee.ImageCollection()\n",
        "        elif isinstance(ee_object, ee.imagecollection.ImageCollection):    \n",
        "            ee_object_new = ee_object.mosaic()\n",
        "            map_id_dict = ee.Image(ee_object_new).getMapId(vis_params)\n",
        "            folium.raster_layers.TileLayer(\n",
        "            tiles = map_id_dict['tile_fetcher'].url_format,\n",
        "            attr = 'Google Earth Engine',\n",
        "            name = name,\n",
        "            overlay = True,\n",
        "            control = True\n",
        "            ).add_to(self)\n",
        "        # display ee.Geometry()\n",
        "        elif isinstance(ee_object, ee.geometry.Geometry):    \n",
        "            folium.GeoJson(\n",
        "            data = ee_object.getInfo(),\n",
        "            name = name,\n",
        "            overlay = True,\n",
        "            control = True\n",
        "        ).add_to(self)\n",
        "        # display ee.FeatureCollection()\n",
        "        elif isinstance(ee_object, ee.featurecollection.FeatureCollection):  \n",
        "            ee_object_new = ee.Image().paint(ee_object, 0, 2)\n",
        "            map_id_dict = ee.Image(ee_object_new).getMapId(vis_params)\n",
        "            folium.raster_layers.TileLayer(\n",
        "            tiles = map_id_dict['tile_fetcher'].url_format,\n",
        "            attr = 'Google Earth Engine',\n",
        "            name = name,\n",
        "            overlay = True,\n",
        "            control = True\n",
        "        ).add_to(self)\n",
        "    \n",
        "    except:\n",
        "        print(\"Could not display {}\".format(name))\n",
        "    \n",
        "# Add EE drawing method to folium.\n",
        "folium.Map.add_ee_layer = add_ee_layer"
      ],
      "metadata": {
        "id": "QuIUKKR9ozwh"
      },
      "id": "QuIUKKR9ozwh",
      "execution_count": null,
      "outputs": []
    },
    {
      "cell_type": "code",
      "source": [
        "opticalBands = ['B1', 'B2', 'B3', 'B4', 'B5', 'B6', 'B7']\n",
        "\n",
        "# Use Landsat 8 surface reflectance data.\n",
        "l8sr = ee.ImageCollection('LANDSAT/LC08/C01/T1_SR')\n",
        "\n",
        "# Cloud masking function.\n",
        "def maskL8sr(image):\n",
        "  cloudShadowBitMask = ee.Number(2).pow(3).int()\n",
        "  cloudsBitMask = ee.Number(2).pow(5).int()\n",
        "  qa = image.select('pixel_qa')\n",
        "  mask1 = qa.bitwiseAnd(cloudShadowBitMask).eq(0).And(\n",
        "    qa.bitwiseAnd(cloudsBitMask).eq(0))\n",
        "  mask2 = image.mask().reduce('min')\n",
        "  mask3 = image.select(opticalBands).gt(0).And(\n",
        "          image.select(opticalBands).lt(10000)).reduce('min')\n",
        "  mask = mask1.And(mask2).And(mask3)\n",
        "  return image.select(opticalBands).divide(10000)\n",
        "\n",
        "# The image input data is a cloud-masked median composite.\n",
        "image = l8sr.filterDate('2015-01-01', '2017-12-31').map(maskL8sr).median()\n",
        "\n",
        "# Use folium to visualize the imagery.\n",
        "mapid = image.getMapId({'bands': ['B4', 'B3', 'B2'], 'min': 0, 'max': 0.3})\n",
        "map = folium.Map(location=TOKYO, zoom_start=5)\n",
        "folium.TileLayer(\n",
        "    tiles=mapid['tile_fetcher'].url_format,\n",
        "    attr='Map Data &copy; <a href=\"https://earthengine.google.com/\">Google Earth Engine</a>',\n",
        "    overlay=True,\n",
        "    name='median composite',\n",
        "  ).add_to(map)\n",
        "\n",
        "map.add_child(folium.LayerControl())\n",
        "map"
      ],
      "metadata": {
        "id": "v10qAYMO1vK4",
        "outputId": "e7eb9908-7686-4a28-9b1f-e67b2179aa78",
        "colab": {
          "base_uri": "https://localhost:8080/",
          "height": 235
        }
      },
      "id": "v10qAYMO1vK4",
      "execution_count": 50,
      "outputs": [
        {
          "output_type": "error",
          "ename": "NameError",
          "evalue": "ignored",
          "traceback": [
            "\u001b[0;31m---------------------------------------------------------------------------\u001b[0m",
            "\u001b[0;31mNameError\u001b[0m                                 Traceback (most recent call last)",
            "\u001b[0;32m<ipython-input-50-5e80b889b144>\u001b[0m in \u001b[0;36m<module>\u001b[0;34m\u001b[0m\n\u001b[1;32m     22\u001b[0m \u001b[0;31m# Use folium to visualize the imagery.\u001b[0m\u001b[0;34m\u001b[0m\u001b[0;34m\u001b[0m\u001b[0;34m\u001b[0m\u001b[0m\n\u001b[1;32m     23\u001b[0m \u001b[0mmapid\u001b[0m \u001b[0;34m=\u001b[0m \u001b[0mimage\u001b[0m\u001b[0;34m.\u001b[0m\u001b[0mgetMapId\u001b[0m\u001b[0;34m(\u001b[0m\u001b[0;34m{\u001b[0m\u001b[0;34m'bands'\u001b[0m\u001b[0;34m:\u001b[0m \u001b[0;34m[\u001b[0m\u001b[0;34m'B4'\u001b[0m\u001b[0;34m,\u001b[0m \u001b[0;34m'B3'\u001b[0m\u001b[0;34m,\u001b[0m \u001b[0;34m'B2'\u001b[0m\u001b[0;34m]\u001b[0m\u001b[0;34m,\u001b[0m \u001b[0;34m'min'\u001b[0m\u001b[0;34m:\u001b[0m \u001b[0;36m0\u001b[0m\u001b[0;34m,\u001b[0m \u001b[0;34m'max'\u001b[0m\u001b[0;34m:\u001b[0m \u001b[0;36m0.3\u001b[0m\u001b[0;34m}\u001b[0m\u001b[0;34m)\u001b[0m\u001b[0;34m\u001b[0m\u001b[0;34m\u001b[0m\u001b[0m\n\u001b[0;32m---> 24\u001b[0;31m \u001b[0mmap\u001b[0m \u001b[0;34m=\u001b[0m \u001b[0mfolium\u001b[0m\u001b[0;34m.\u001b[0m\u001b[0mMap\u001b[0m\u001b[0;34m(\u001b[0m\u001b[0mlocation\u001b[0m\u001b[0;34m=\u001b[0m\u001b[0mTOKYO\u001b[0m\u001b[0;34m,\u001b[0m \u001b[0mzoom_start\u001b[0m\u001b[0;34m=\u001b[0m\u001b[0;36m5\u001b[0m\u001b[0;34m)\u001b[0m\u001b[0;34m\u001b[0m\u001b[0;34m\u001b[0m\u001b[0m\n\u001b[0m\u001b[1;32m     25\u001b[0m folium.TileLayer(\n\u001b[1;32m     26\u001b[0m     \u001b[0mtiles\u001b[0m\u001b[0;34m=\u001b[0m\u001b[0mmapid\u001b[0m\u001b[0;34m[\u001b[0m\u001b[0;34m'tile_fetcher'\u001b[0m\u001b[0;34m]\u001b[0m\u001b[0;34m.\u001b[0m\u001b[0murl_format\u001b[0m\u001b[0;34m,\u001b[0m\u001b[0;34m\u001b[0m\u001b[0;34m\u001b[0m\u001b[0m\n",
            "\u001b[0;31mNameError\u001b[0m: name 'TOKYO' is not defined"
          ]
        }
      ]
    },
    {
      "cell_type": "code",
      "source": [
        "l8sr_f = l8sr.filter(ee.Filter.bounds(listOfFeaturesFc))\n",
        "l8sr_f"
      ],
      "metadata": {
        "id": "--rrU1cUVoKq",
        "outputId": "301b3ebc-c982-416a-d45b-defab71c5e65",
        "colab": {
          "base_uri": "https://localhost:8080/"
        }
      },
      "id": "--rrU1cUVoKq",
      "execution_count": null,
      "outputs": [
        {
          "output_type": "execute_result",
          "data": {
            "text/plain": [
              "<ee.imagecollection.ImageCollection at 0x7fb37456ed00>"
            ]
          },
          "metadata": {},
          "execution_count": 88
        }
      ]
    },
    {
      "cell_type": "code",
      "source": [
        "# A list of the megacities of the world and their geographic coordinates\n",
        "# Taken from https://en.wikipedia.org/wiki/Megacity\n",
        "# https://mbonnema.github.io/GoogleEarthEngine/05-time-series/\n",
        "# https://developers.google.com/earth-engine/apidocs/ee-featurecollection\n",
        "# https://developers.google.com/earth-engine/apidocs/ee-geometry-point-coordinates\n",
        "\n",
        "listOfFeatures = [\n",
        "  ee.Feature(ee.Geometry.Point(77.3530, 12.5844), {'city': 'Bangalore'}),\n",
        "  ee.Feature(ee.Geometry.Point(100.2939, 13.4509), {'city': 'Bangkok'}),\n",
        "  ee.Feature(ee.Geometry.Point(116.2351, 39.5424 ), {'city': 'Beijing'}),\n",
        "  ee.Feature(ee.Geometry.Point(-74.420, 4.4240), {'city': 'Bogota'}),\n",
        "  ee.Feature(ee.Geometry.Point(-58.2254, -34.3612), {'city': 'Buenos Aires'}),\n",
        "  ee.Feature(ee.Geometry.Point(31.14, 30.02), {'city': 'Cairo'}),\n",
        "  ee.Feature(ee.Geometry.Point(104.0348, 30.3936), {'city': 'Chengdu'}),\n",
        "  ee.Feature(ee.Geometry.Point(80.16145, 13.04577), {'city': 'Chennai'}),\n",
        "  ee.Feature(ee.Geometry.Point(106.3301, 29.3349), {'city': 'Chongqing'}),\n",
        "  ee.Feature(ee.Geometry.Point(77.1348, 28.3636), {'city': 'Delhi'}),\n",
        "  ee.Feature(ee.Geometry.Point(90.2320, 23.4550), {'city': 'Dhaka'}),\n",
        "  ee.Feature(ee.Geometry.Point(113.1536, 23.0748), {'city': 'Guangzhou'}),\n",
        "  ee.Feature(ee.Geometry.Point(120.0911, 30.1601), {'city': 'Huangzhou'}),\n",
        "  ee.Feature(ee.Geometry.Point(106.4207, 10.4632), {'city': 'Ho Chi Minh City'}),\n",
        "  ee.Feature(ee.Geometry.Point(78.29121, 17.23060), {'city': 'Hyderabad'}),\n",
        "  ee.Feature(ee.Geometry.Point(28.5718, 41.0049), {'city': 'Istanbul'}),\n",
        "  ee.Feature(ee.Geometry.Point(106.4939, -6.1030), {'city': 'Jakarta'}),\n",
        "  ee.Feature(ee.Geometry.Point(28.244, -26.1216), {'city': 'Johannesburg'}),\n",
        "  ee.Feature(ee.Geometry.Point(67.036, 24.5136), {'city': 'Karachi'}),\n",
        "  ee.Feature(ee.Geometry.Point(15.1920, -4.1930), {'city': 'Kinshasa'}),\n",
        "  ee.Feature(ee.Geometry.Point(88.2212, 22.3403), {'city': 'Kolkata'}),\n",
        "  ee.Feature(ee.Geometry.Point(3.384082, 6.455027), {'city': 'Lagos'}),\n",
        "  ee.Feature(ee.Geometry.Point(74.2037, 31.3259), {'city': 'Lahore'}),\n",
        "  ee.Feature(ee.Geometry.Point(-77.0215, -12.0336), {'city': 'Lima'}),\n",
        "  ee.Feature(ee.Geometry.Point(-0.739, 51.3026), {'city': 'London'}),\n",
        "  ee.Feature(ee.Geometry.Point(-118.15, 34.03), {'city': 'Los Angeles'}),\n",
        "  ee.Feature(ee.Geometry.Point(121, 14.58), {'city': 'Metro Manila'}),\n",
        "  ee.Feature(ee.Geometry.Point(-99.8, 19.26), {'city': 'Mexico City'}),\n",
        "  ee.Feature(ee.Geometry.Point(37.372, 55.4521), {'city': 'Moscow'}),\n",
        "  ee.Feature(ee.Geometry.Point(72.5239, 19.0434), {'city': 'Mumbai'}),\n",
        "  ee.Feature(ee.Geometry.Point(136.54, 35.11), {'city': 'Nagoya'}),\n",
        "  ee.Feature(ee.Geometry.Point(-74.0022, 40.4246), {'city': 'New York City'}),\n",
        "  ee.Feature(ee.Geometry.Point(135.308, 34.4138), {'city': 'Osaka'}),\n",
        "  ee.Feature(ee.Geometry.Point(2.2108, 48.5124), {'city': 'Paris'}),\n",
        "  ee.Feature(ee.Geometry.Point(-43.1221, -22.5441), {'city': 'Rio de Janeiro'}),\n",
        "  ee.Feature(ee.Geometry.Point(-46.38, -23.33), {'city': 'São Paulo'}),\n",
        "  ee.Feature(ee.Geometry.Point(126.5924, 37.3336), {'city': 'Seoul'}),\n",
        "  ee.Feature(ee.Geometry.Point(121.2829, 31.1343), {'city': 'Shanghai'}),\n",
        "  ee.Feature(ee.Geometry.Point(114.0335, 22.3229), {'city': 'Shenzhen'}),\n",
        "  ee.Feature(ee.Geometry.Point(51.2320, 35.4121), {'city': 'Tehran'}),\n",
        "  ee.Feature(ee.Geometry.Point(117.1219, 39.0801), {'city': 'Tianjin'}),\n",
        "  ee.Feature(ee.Geometry.Point(139.4132, 35.4123), {'city': 'Tokyo'}),\n",
        "  ee.Feature(ee.Geometry.Point(114.1817, 30.3536), {'city': 'Wuhan'}),\n",
        "  ee.Feature(ee.Geometry.Point(118.0520, 24.2847), {'city': 'Xiamen'}),\n",
        "  ee.Feature(ee.Geometry.Point(108.5714, 34.1554), {'city': 'Xi\\'an'})\n",
        "]\n",
        "\n",
        "listOfFeaturesFc = ee.FeatureCollection(listOfFeatures)"
      ],
      "metadata": {
        "id": "yHGMDmRkihJ4"
      },
      "id": "yHGMDmRkihJ4",
      "execution_count": 53,
      "outputs": []
    },
    {
      "cell_type": "code",
      "source": [
        "opticalBands = ['B1', 'B2', 'B3', 'B4', 'B5', 'B6', 'B7']\n",
        "\n",
        "# Use Landsat 8 surface reflectance data.\n",
        "l8sr = ee.ImageCollection('LANDSAT/LC08/C01/T1_SR')\n",
        "\n",
        "Map = geemap.Map(zoom = 10)\n",
        "\n",
        "# Cloud masking function.\n",
        "def maskL8sr(image):\n",
        "  cloudShadowBitMask = ee.Number(2).pow(3).int()\n",
        "  cloudsBitMask = ee.Number(2).pow(5).int()\n",
        "  qa = image.select('pixel_qa')\n",
        "  mask1 = qa.bitwiseAnd(cloudShadowBitMask).eq(0).And(\n",
        "    qa.bitwiseAnd(cloudsBitMask).eq(0))\n",
        "  mask2 = image.mask().reduce('min')\n",
        "  mask3 = image.select(opticalBands).gt(0).And(\n",
        "          image.select(opticalBands).lt(10000)).reduce('min')\n",
        "  mask = mask1.And(mask2).And(mask3)\n",
        "  return image.select(opticalBands).divide(10000)\n",
        "\n",
        "# The image input data is a cloud-masked median composite.\n",
        "# image = l8sr.filterDate('2015-01-01', '2017-12-31').filterBounds(ee.Geometry.Point(TOKYO[1], TOKYO[0]))\n",
        "image = l8sr.filterDate('2015-01-01', '2017-12-31').filterBounds(listOfFeaturesFc).map(maskL8sr).median()\n",
        "\n",
        "# sets image variables\n",
        "rgbVis = {\n",
        "  'bands': ['B4', 'B3', 'B2'],\n",
        "  'min': 0,\n",
        "  'max': 0.3\n",
        "};\n",
        "\n",
        "Map.setCenter(139.6503, 35.6762)\n",
        "# adds image layers to map\n",
        "Map.addLayer(image, rgbVis, 'Cities')\n",
        "\n",
        "Map"
      ],
      "metadata": {
        "colab": {
          "base_uri": "https://localhost:8080/",
          "height": 621,
          "referenced_widgets": [
            "b02aa7ee0094466e9f8b2dff2faeb481",
            "4f5b630943c645eda03c0074caeae346",
            "4ee3767b638d40ceaab21aca5ffae9ec",
            "36833b9fdef24553b49b3cb61a6570c3",
            "12e303b151234e2ca90f84d471207b8b",
            "1f39ef521f5d47549c5b90746d840516",
            "b22b2d5a32864559a70400bc5820e5cb",
            "9df03f3a978a438c995424cfc518710b",
            "16f2cf62894b4b0c8721e7b55b55a729",
            "ef52ab84f8d240a689fcf93b1a206921",
            "da0e5c17d9804e49a2cdd320ea9536fa",
            "b0fe9d166f3141d195ba8e5a2366542b",
            "5b3ea12b8f13420c91c008159a4b878b",
            "98e45063092945f8b9ef8e8283622329",
            "87231556109846438c2943d5e3edbb87",
            "779b75a8570344d8b25b0dbf52ad6943",
            "c801adbac18b4f1c85fd99bfc7fe0a31",
            "85dada49067e46fda15893c28b7d0b70",
            "5b963ed3673d4cfc992d3bfc337cab0e",
            "32b3b2760bf04ed681c38f4d5b917651",
            "0a06edab65f34312aa41584082f8d0e8",
            "699db6fecd1f45a8ab72ec4b4dfce484",
            "937d1b4cec5049d7a2c347a20b48c2d2",
            "586eeddf8fed401091081a2c74bfedde",
            "b779ecad469d46c58181a2c50bdc2534",
            "5eca3669930f421cad7a53ff7de17bc5"
          ]
        },
        "id": "OfYW0e4fdNzd",
        "outputId": "769bab2e-bc5f-4e12-9c06-0fba98e21973"
      },
      "id": "OfYW0e4fdNzd",
      "execution_count": 54,
      "outputs": [
        {
          "output_type": "display_data",
          "data": {
            "text/plain": [
              "Map(center=[35.6762, 139.6503], controls=(WidgetControl(options=['position', 'transparent_bg'], widget=HBox(ch…"
            ],
            "application/vnd.jupyter.widget-view+json": {
              "version_major": 2,
              "version_minor": 0,
              "model_id": "b02aa7ee0094466e9f8b2dff2faeb481"
            }
          },
          "metadata": {
            "application/vnd.jupyter.widget-view+json": {
              "colab": {
                "custom_widget_manager": {
                  "url": "https://ssl.gstatic.com/colaboratory-static/widgets/colab-cdn-widget-manager/d2e234f7cc04bf79/manager.min.js"
                }
              }
            }
          }
        }
      ]
    },
    {
      "cell_type": "code",
      "source": [
        "ee.Algorithms.Describe(image.first())"
      ],
      "metadata": {
        "id": "5Yi7US-dePTX",
        "outputId": "547af35c-df94-49eb-db6e-0bd8de4846a9",
        "colab": {
          "base_uri": "https://localhost:8080/",
          "height": 278
        }
      },
      "id": "5Yi7US-dePTX",
      "execution_count": 65,
      "outputs": [
        {
          "output_type": "execute_result",
          "data": {
            "text/plain": [
              "<ee.computedobject.ComputedObject at 0x7f44b13f51c0>"
            ],
            "text/html": [
              "<div><style>:root {\n",
              "  --font-color-primary: var(--jp-content-font-color0, rgba(0, 0, 0, 1));\n",
              "  --font-color-secondary: var(--jp-content-font-color2, rgba(0, 0, 0, 0.6));\n",
              "  --font-color-accent: rgba(123, 31, 162, 1);\n",
              "  --border-color: var(--jp-border-color2, #e0e0e0);\n",
              "  --background-color: var(--jp-layout-color0, white);\n",
              "  --background-color-row-even: var(--jp-layout-color1, white);\n",
              "  --background-color-row-odd: var(--jp-layout-color2, #eeeeee);\n",
              "}\n",
              "\n",
              "html[theme=\"dark\"],\n",
              "body[data-theme=\"dark\"],\n",
              "body.vscode-dark {\n",
              "  --font-color-primary: rgba(255, 255, 255, 1);\n",
              "  --font-color-secondary: rgba(255, 255, 255, 0.6);\n",
              "  --font-color-accent: rgb(173, 132, 190);\n",
              "  --border-color: #2e2e2e;\n",
              "  --background-color: #111111;\n",
              "  --background-color-row-even: #111111;\n",
              "  --background-color-row-odd: #313131;\n",
              "}\n",
              "\n",
              ".ee {\n",
              "  padding: 1em;\n",
              "  line-height: 1.5em;\n",
              "  min-width: 300px;\n",
              "  max-width: 1200px;\n",
              "  overflow-y: scroll;\n",
              "  max-height: 600px;\n",
              "  border: 1px solid var(--border-color);\n",
              "  font-family: monospace;\n",
              "}\n",
              "\n",
              ".ee li {\n",
              "  list-style-type: none;\n",
              "}\n",
              "\n",
              ".ee ul {\n",
              "  padding-left: 1.5em !important;\n",
              "  margin: 0;\n",
              "}\n",
              "\n",
              ".ee > ul {\n",
              "  padding-left: 0 !important;\n",
              "}\n",
              "\n",
              ".ee-open,\n",
              ".ee-shut {\n",
              "  color: var(--font-color-secondary);\n",
              "  cursor: pointer;\n",
              "  margin: 0;\n",
              "}\n",
              "\n",
              ".ee-open:hover,\n",
              ".ee-shut:hover {\n",
              "  color: var(--font-color-primary);\n",
              "}\n",
              "\n",
              ".ee-k {\n",
              "  color: var(--font-color-accent);\n",
              "  margin-right: 6px;\n",
              "}\n",
              "\n",
              ".ee-v {\n",
              "  color: var(--font-color-primary);\n",
              "}\n",
              "\n",
              ".ee-toggle {\n",
              "  display: none;\n",
              "}\n",
              "\n",
              ".ee-shut + ul {\n",
              "  display: none;\n",
              "}\n",
              "\n",
              ".ee-open + ul {\n",
              "  display: block;\n",
              "}\n",
              "\n",
              ".ee-shut::before {\n",
              "  display: inline-block;\n",
              "  content: \"▼\";\n",
              "  margin-right: 6px;\n",
              "  transform: rotate(-90deg);\n",
              "  transition: transform 0.2s;\n",
              "}\n",
              "\n",
              ".ee-open::before {\n",
              "  transform: rotate(0deg);\n",
              "  display: inline-block;\n",
              "  content: \"▼\";\n",
              "  margin-right: 6px;\n",
              "  transition: transform 0.2s;\n",
              "}\n",
              "</style><div class='ee'><ul><li><label class='ee-shut'>Image (7 bands)<input type='checkbox' class='ee-toggle'></label><ul><li><span class='ee-k'>type:</span><span class='ee-v'>Image</span></li><li><label class='ee-shut'>bands: List (7 elements)<input type='checkbox' class='ee-toggle'></label><ul><li><label class='ee-shut'>0: \"B1\", float, EPSG:32618, 7591x7721 px<input type='checkbox' class='ee-toggle'></label><ul><li><span class='ee-k'>id:</span><span class='ee-v'>B1</span></li><li><span class='ee-k'>crs:</span><span class='ee-v'>EPSG:32618</span></li><li><label class='ee-shut'>crs_transform: [30, 0, 241785, 0, -30, -1163685]<input type='checkbox' class='ee-toggle'></label><ul><li><span class='ee-k'>0:</span><span class='ee-v'>30</span></li><li><span class='ee-k'>1:</span><span class='ee-v'>0</span></li><li><span class='ee-k'>2:</span><span class='ee-v'>241785</span></li><li><span class='ee-k'>3:</span><span class='ee-v'>0</span></li><li><span class='ee-k'>4:</span><span class='ee-v'>-30</span></li><li><span class='ee-k'>5:</span><span class='ee-v'>-1163685</span></li></ul></li><li><label class='ee-shut'>data_type: float<input type='checkbox' class='ee-toggle'></label><ul><li><span class='ee-k'>type:</span><span class='ee-v'>PixelType</span></li><li><span class='ee-k'>max:</span><span class='ee-v'>3.276700019836426</span></li><li><span class='ee-k'>min:</span><span class='ee-v'>-3.2768001556396484</span></li><li><span class='ee-k'>precision:</span><span class='ee-v'>float</span></li></ul></li><li><label class='ee-shut'>dimensions: [7591, 7721]<input type='checkbox' class='ee-toggle'></label><ul><li><span class='ee-k'>0:</span><span class='ee-v'>7591</span></li><li><span class='ee-k'>1:</span><span class='ee-v'>7721</span></li></ul></li></ul></li><li><label class='ee-shut'>1: \"B2\", float, EPSG:32618, 7591x7721 px<input type='checkbox' class='ee-toggle'></label><ul><li><span class='ee-k'>id:</span><span class='ee-v'>B2</span></li><li><span class='ee-k'>crs:</span><span class='ee-v'>EPSG:32618</span></li><li><label class='ee-shut'>crs_transform: [30, 0, 241785, 0, -30, -1163685]<input type='checkbox' class='ee-toggle'></label><ul><li><span class='ee-k'>0:</span><span class='ee-v'>30</span></li><li><span class='ee-k'>1:</span><span class='ee-v'>0</span></li><li><span class='ee-k'>2:</span><span class='ee-v'>241785</span></li><li><span class='ee-k'>3:</span><span class='ee-v'>0</span></li><li><span class='ee-k'>4:</span><span class='ee-v'>-30</span></li><li><span class='ee-k'>5:</span><span class='ee-v'>-1163685</span></li></ul></li><li><label class='ee-shut'>data_type: float<input type='checkbox' class='ee-toggle'></label><ul><li><span class='ee-k'>type:</span><span class='ee-v'>PixelType</span></li><li><span class='ee-k'>max:</span><span class='ee-v'>3.276700019836426</span></li><li><span class='ee-k'>min:</span><span class='ee-v'>-3.2768001556396484</span></li><li><span class='ee-k'>precision:</span><span class='ee-v'>float</span></li></ul></li><li><label class='ee-shut'>dimensions: [7591, 7721]<input type='checkbox' class='ee-toggle'></label><ul><li><span class='ee-k'>0:</span><span class='ee-v'>7591</span></li><li><span class='ee-k'>1:</span><span class='ee-v'>7721</span></li></ul></li></ul></li><li><label class='ee-shut'>2: \"B3\", float, EPSG:32618, 7591x7721 px<input type='checkbox' class='ee-toggle'></label><ul><li><span class='ee-k'>id:</span><span class='ee-v'>B3</span></li><li><span class='ee-k'>crs:</span><span class='ee-v'>EPSG:32618</span></li><li><label class='ee-shut'>crs_transform: [30, 0, 241785, 0, -30, -1163685]<input type='checkbox' class='ee-toggle'></label><ul><li><span class='ee-k'>0:</span><span class='ee-v'>30</span></li><li><span class='ee-k'>1:</span><span class='ee-v'>0</span></li><li><span class='ee-k'>2:</span><span class='ee-v'>241785</span></li><li><span class='ee-k'>3:</span><span class='ee-v'>0</span></li><li><span class='ee-k'>4:</span><span class='ee-v'>-30</span></li><li><span class='ee-k'>5:</span><span class='ee-v'>-1163685</span></li></ul></li><li><label class='ee-shut'>data_type: float<input type='checkbox' class='ee-toggle'></label><ul><li><span class='ee-k'>type:</span><span class='ee-v'>PixelType</span></li><li><span class='ee-k'>max:</span><span class='ee-v'>3.276700019836426</span></li><li><span class='ee-k'>min:</span><span class='ee-v'>-3.2768001556396484</span></li><li><span class='ee-k'>precision:</span><span class='ee-v'>float</span></li></ul></li><li><label class='ee-shut'>dimensions: [7591, 7721]<input type='checkbox' class='ee-toggle'></label><ul><li><span class='ee-k'>0:</span><span class='ee-v'>7591</span></li><li><span class='ee-k'>1:</span><span class='ee-v'>7721</span></li></ul></li></ul></li><li><label class='ee-shut'>3: \"B4\", float, EPSG:32618, 7591x7721 px<input type='checkbox' class='ee-toggle'></label><ul><li><span class='ee-k'>id:</span><span class='ee-v'>B4</span></li><li><span class='ee-k'>crs:</span><span class='ee-v'>EPSG:32618</span></li><li><label class='ee-shut'>crs_transform: [30, 0, 241785, 0, -30, -1163685]<input type='checkbox' class='ee-toggle'></label><ul><li><span class='ee-k'>0:</span><span class='ee-v'>30</span></li><li><span class='ee-k'>1:</span><span class='ee-v'>0</span></li><li><span class='ee-k'>2:</span><span class='ee-v'>241785</span></li><li><span class='ee-k'>3:</span><span class='ee-v'>0</span></li><li><span class='ee-k'>4:</span><span class='ee-v'>-30</span></li><li><span class='ee-k'>5:</span><span class='ee-v'>-1163685</span></li></ul></li><li><label class='ee-shut'>data_type: float<input type='checkbox' class='ee-toggle'></label><ul><li><span class='ee-k'>type:</span><span class='ee-v'>PixelType</span></li><li><span class='ee-k'>max:</span><span class='ee-v'>3.276700019836426</span></li><li><span class='ee-k'>min:</span><span class='ee-v'>-3.2768001556396484</span></li><li><span class='ee-k'>precision:</span><span class='ee-v'>float</span></li></ul></li><li><label class='ee-shut'>dimensions: [7591, 7721]<input type='checkbox' class='ee-toggle'></label><ul><li><span class='ee-k'>0:</span><span class='ee-v'>7591</span></li><li><span class='ee-k'>1:</span><span class='ee-v'>7721</span></li></ul></li></ul></li><li><label class='ee-shut'>4: \"B5\", float, EPSG:32618, 7591x7721 px<input type='checkbox' class='ee-toggle'></label><ul><li><span class='ee-k'>id:</span><span class='ee-v'>B5</span></li><li><span class='ee-k'>crs:</span><span class='ee-v'>EPSG:32618</span></li><li><label class='ee-shut'>crs_transform: [30, 0, 241785, 0, -30, -1163685]<input type='checkbox' class='ee-toggle'></label><ul><li><span class='ee-k'>0:</span><span class='ee-v'>30</span></li><li><span class='ee-k'>1:</span><span class='ee-v'>0</span></li><li><span class='ee-k'>2:</span><span class='ee-v'>241785</span></li><li><span class='ee-k'>3:</span><span class='ee-v'>0</span></li><li><span class='ee-k'>4:</span><span class='ee-v'>-30</span></li><li><span class='ee-k'>5:</span><span class='ee-v'>-1163685</span></li></ul></li><li><label class='ee-shut'>data_type: float<input type='checkbox' class='ee-toggle'></label><ul><li><span class='ee-k'>type:</span><span class='ee-v'>PixelType</span></li><li><span class='ee-k'>max:</span><span class='ee-v'>3.276700019836426</span></li><li><span class='ee-k'>min:</span><span class='ee-v'>-3.2768001556396484</span></li><li><span class='ee-k'>precision:</span><span class='ee-v'>float</span></li></ul></li><li><label class='ee-shut'>dimensions: [7591, 7721]<input type='checkbox' class='ee-toggle'></label><ul><li><span class='ee-k'>0:</span><span class='ee-v'>7591</span></li><li><span class='ee-k'>1:</span><span class='ee-v'>7721</span></li></ul></li></ul></li><li><label class='ee-shut'>5: \"B6\", float, EPSG:32618, 7591x7721 px<input type='checkbox' class='ee-toggle'></label><ul><li><span class='ee-k'>id:</span><span class='ee-v'>B6</span></li><li><span class='ee-k'>crs:</span><span class='ee-v'>EPSG:32618</span></li><li><label class='ee-shut'>crs_transform: [30, 0, 241785, 0, -30, -1163685]<input type='checkbox' class='ee-toggle'></label><ul><li><span class='ee-k'>0:</span><span class='ee-v'>30</span></li><li><span class='ee-k'>1:</span><span class='ee-v'>0</span></li><li><span class='ee-k'>2:</span><span class='ee-v'>241785</span></li><li><span class='ee-k'>3:</span><span class='ee-v'>0</span></li><li><span class='ee-k'>4:</span><span class='ee-v'>-30</span></li><li><span class='ee-k'>5:</span><span class='ee-v'>-1163685</span></li></ul></li><li><label class='ee-shut'>data_type: float<input type='checkbox' class='ee-toggle'></label><ul><li><span class='ee-k'>type:</span><span class='ee-v'>PixelType</span></li><li><span class='ee-k'>max:</span><span class='ee-v'>3.276700019836426</span></li><li><span class='ee-k'>min:</span><span class='ee-v'>-3.2768001556396484</span></li><li><span class='ee-k'>precision:</span><span class='ee-v'>float</span></li></ul></li><li><label class='ee-shut'>dimensions: [7591, 7721]<input type='checkbox' class='ee-toggle'></label><ul><li><span class='ee-k'>0:</span><span class='ee-v'>7591</span></li><li><span class='ee-k'>1:</span><span class='ee-v'>7721</span></li></ul></li></ul></li><li><label class='ee-shut'>6: \"B7\", float, EPSG:32618, 7591x7721 px<input type='checkbox' class='ee-toggle'></label><ul><li><span class='ee-k'>id:</span><span class='ee-v'>B7</span></li><li><span class='ee-k'>crs:</span><span class='ee-v'>EPSG:32618</span></li><li><label class='ee-shut'>crs_transform: [30, 0, 241785, 0, -30, -1163685]<input type='checkbox' class='ee-toggle'></label><ul><li><span class='ee-k'>0:</span><span class='ee-v'>30</span></li><li><span class='ee-k'>1:</span><span class='ee-v'>0</span></li><li><span class='ee-k'>2:</span><span class='ee-v'>241785</span></li><li><span class='ee-k'>3:</span><span class='ee-v'>0</span></li><li><span class='ee-k'>4:</span><span class='ee-v'>-30</span></li><li><span class='ee-k'>5:</span><span class='ee-v'>-1163685</span></li></ul></li><li><label class='ee-shut'>data_type: float<input type='checkbox' class='ee-toggle'></label><ul><li><span class='ee-k'>type:</span><span class='ee-v'>PixelType</span></li><li><span class='ee-k'>max:</span><span class='ee-v'>3.276700019836426</span></li><li><span class='ee-k'>min:</span><span class='ee-v'>-3.2768001556396484</span></li><li><span class='ee-k'>precision:</span><span class='ee-v'>float</span></li></ul></li><li><label class='ee-shut'>dimensions: [7591, 7721]<input type='checkbox' class='ee-toggle'></label><ul><li><span class='ee-k'>0:</span><span class='ee-v'>7591</span></li><li><span class='ee-k'>1:</span><span class='ee-v'>7721</span></li></ul></li></ul></li></ul></li><li><label class='ee-shut'>properties: Object (1 property)<input type='checkbox' class='ee-toggle'></label><ul><li><span class='ee-k'>system:index:</span><span class='ee-v'>LC08_007068_20150113</span></li></ul></li></ul></li></ul></div><script>function toggleHeader() {\n",
              "    const parent = this.parentElement;\n",
              "    parent.className = parent.className === \"ee-open\" ? \"ee-shut\" : \"ee-open\";\n",
              "}\n",
              "\n",
              "for (let c of document.getElementsByClassName(\"ee-toggle\")) {\n",
              "    c.onclick = toggleHeader;\n",
              "}</script></div>"
            ]
          },
          "metadata": {},
          "execution_count": 65
        }
      ]
    },
    {
      "cell_type": "code",
      "source": [
        "# Defined the dataset and filter the Landsat 8 data by date, cloud coverage, and megacity coordinates\n",
        "citiesDataset = l8sr.filterDate('2015-01-01', '2017-12-31').filterBounds(listOfFeaturesFc).map(maskL8sr)\n",
        "citiesDataset.size()"
      ],
      "metadata": {
        "id": "oPFxDcOfa-UI",
        "outputId": "d16fa5f8-1bd7-4e09-ef25-12b1fad83393",
        "colab": {
          "base_uri": "https://localhost:8080/",
          "height": 68
        }
      },
      "id": "oPFxDcOfa-UI",
      "execution_count": 80,
      "outputs": [
        {
          "output_type": "execute_result",
          "data": {
            "text/plain": [
              "<ee.ee_number.Number at 0x7f44b13f2f10>"
            ],
            "text/html": [
              "<div><style>:root {\n",
              "  --font-color-primary: var(--jp-content-font-color0, rgba(0, 0, 0, 1));\n",
              "  --font-color-secondary: var(--jp-content-font-color2, rgba(0, 0, 0, 0.6));\n",
              "  --font-color-accent: rgba(123, 31, 162, 1);\n",
              "  --border-color: var(--jp-border-color2, #e0e0e0);\n",
              "  --background-color: var(--jp-layout-color0, white);\n",
              "  --background-color-row-even: var(--jp-layout-color1, white);\n",
              "  --background-color-row-odd: var(--jp-layout-color2, #eeeeee);\n",
              "}\n",
              "\n",
              "html[theme=\"dark\"],\n",
              "body[data-theme=\"dark\"],\n",
              "body.vscode-dark {\n",
              "  --font-color-primary: rgba(255, 255, 255, 1);\n",
              "  --font-color-secondary: rgba(255, 255, 255, 0.6);\n",
              "  --font-color-accent: rgb(173, 132, 190);\n",
              "  --border-color: #2e2e2e;\n",
              "  --background-color: #111111;\n",
              "  --background-color-row-even: #111111;\n",
              "  --background-color-row-odd: #313131;\n",
              "}\n",
              "\n",
              ".ee {\n",
              "  padding: 1em;\n",
              "  line-height: 1.5em;\n",
              "  min-width: 300px;\n",
              "  max-width: 1200px;\n",
              "  overflow-y: scroll;\n",
              "  max-height: 600px;\n",
              "  border: 1px solid var(--border-color);\n",
              "  font-family: monospace;\n",
              "}\n",
              "\n",
              ".ee li {\n",
              "  list-style-type: none;\n",
              "}\n",
              "\n",
              ".ee ul {\n",
              "  padding-left: 1.5em !important;\n",
              "  margin: 0;\n",
              "}\n",
              "\n",
              ".ee > ul {\n",
              "  padding-left: 0 !important;\n",
              "}\n",
              "\n",
              ".ee-open,\n",
              ".ee-shut {\n",
              "  color: var(--font-color-secondary);\n",
              "  cursor: pointer;\n",
              "  margin: 0;\n",
              "}\n",
              "\n",
              ".ee-open:hover,\n",
              ".ee-shut:hover {\n",
              "  color: var(--font-color-primary);\n",
              "}\n",
              "\n",
              ".ee-k {\n",
              "  color: var(--font-color-accent);\n",
              "  margin-right: 6px;\n",
              "}\n",
              "\n",
              ".ee-v {\n",
              "  color: var(--font-color-primary);\n",
              "}\n",
              "\n",
              ".ee-toggle {\n",
              "  display: none;\n",
              "}\n",
              "\n",
              ".ee-shut + ul {\n",
              "  display: none;\n",
              "}\n",
              "\n",
              ".ee-open + ul {\n",
              "  display: block;\n",
              "}\n",
              "\n",
              ".ee-shut::before {\n",
              "  display: inline-block;\n",
              "  content: \"▼\";\n",
              "  margin-right: 6px;\n",
              "  transform: rotate(-90deg);\n",
              "  transition: transform 0.2s;\n",
              "}\n",
              "\n",
              ".ee-open::before {\n",
              "  transform: rotate(0deg);\n",
              "  display: inline-block;\n",
              "  content: \"▼\";\n",
              "  margin-right: 6px;\n",
              "  transition: transform 0.2s;\n",
              "}\n",
              "</style><div class='ee'><ul><li><span class='ee-v'>3561</span></li></ul></div><script>function toggleHeader() {\n",
              "    const parent = this.parentElement;\n",
              "    parent.className = parent.className === \"ee-open\" ? \"ee-shut\" : \"ee-open\";\n",
              "}\n",
              "\n",
              "for (let c of document.getElementsByClassName(\"ee-toggle\")) {\n",
              "    c.onclick = toggleHeader;\n",
              "}</script></div>"
            ]
          },
          "metadata": {},
          "execution_count": 80
        }
      ]
    },
    {
      "cell_type": "markdown",
      "source": [
        "# Setup the Neural Network"
      ],
      "metadata": {
        "id": "8kgO_By1c5cs"
      },
      "id": "8kgO_By1c5cs"
    },
    {
      "cell_type": "code",
      "source": [
        "import scipy as sp    # import scipy for \n",
        "import pandas as pd   # import pandas for data formatting\n",
        "import numpy as np    # import numpy for data formatting"
      ],
      "metadata": {
        "id": "FJUK4Fs8c88h"
      },
      "id": "FJUK4Fs8c88h",
      "execution_count": 58,
      "outputs": []
    },
    {
      "cell_type": "code",
      "source": [
        "import matplotlib.pyplot as plt\n",
        "import seaborn as sb"
      ],
      "metadata": {
        "id": "n1R45WD4dA4-"
      },
      "id": "n1R45WD4dA4-",
      "execution_count": 59,
      "outputs": []
    },
    {
      "cell_type": "code",
      "source": [
        "import tensorflow as tf"
      ],
      "metadata": {
        "id": "jMxsrV_-dB19"
      },
      "id": "jMxsrV_-dB19",
      "execution_count": 60,
      "outputs": []
    },
    {
      "cell_type": "code",
      "source": [
        "from tensorflow.keras.layers import Input, Reshape, Dropout, Dense \n",
        "from tensorflow.keras.layers import Flatten, BatchNormalization\n",
        "from tensorflow.keras.layers import Activation, ZeroPadding2D\n",
        "from tensorflow.keras.layers import LeakyReLU\n",
        "from tensorflow.keras.layers import UpSampling2D, Conv2D\n",
        "from tensorflow.keras.models import Sequential, Model, load_model\n",
        "from tensorflow.keras.optimizers import Adam, SGD"
      ],
      "metadata": {
        "id": "6_GfV0gddCxc"
      },
      "id": "6_GfV0gddCxc",
      "execution_count": 66,
      "outputs": []
    },
    {
      "cell_type": "code",
      "source": [
        "from PIL import Image\n",
        "from tqdm import tqdm\n",
        "import os \n",
        "import time"
      ],
      "metadata": {
        "id": "tGC1favvdE9Q"
      },
      "id": "tGC1favvdE9Q",
      "execution_count": 62,
      "outputs": []
    },
    {
      "cell_type": "code",
      "execution_count": 77,
      "metadata": {
        "colab": {
          "base_uri": "https://localhost:8080/"
        },
        "id": "0hYDC41ymmag",
        "outputId": "0e959d4d-46c9-46ec-f34e-86488311a02f"
      },
      "outputs": [
        {
          "output_type": "stream",
          "name": "stdout",
          "text": [
            "Drive already mounted at /content/drive; to attempt to forcibly remount, call drive.mount(\"/content/drive\", force_remount=True).\n",
            "Will generate 64px square images.\n"
          ]
        }
      ],
      "source": [
        "from google.colab import drive\n",
        "drive.mount('/content/drive')\n",
        "\n",
        "FOLDER = 'fcnn-demo'\n",
        "TRAINING_BASE = 'training_patches'\n",
        "\n",
        "GENERATE_RES = 2 # Generation resolution factor \n",
        "# (1=32, 2=64, 3=96, 4=128, etc.)\n",
        "GENERATE_SQUARE = 32 * GENERATE_RES # rows/cols (should be square)\n",
        "IMAGE_CHANNELS = 3\n",
        "\n",
        "RESPONSE = 'impervious'\n",
        "\n",
        "# Preview image\n",
        "PREVIEW_ROWS = 2\n",
        "PREVIEW_COLS = 2\n",
        "PREVIEW_MARGIN = 16\n",
        "\n",
        "# Size vector to generate images from\n",
        "SEED_SIZE = 100\n",
        "\n",
        "# Configuration\n",
        "DATASET = l8sr.filterDate('2015-01-01', '2017-12-31').filterBounds(listOfFeaturesFc).map(maskL8sr)\n",
        "BUCKET = \"/content/drive/MyDrive/mapGAN/data\"\n",
        "EPOCHS = 100\n",
        "BATCH_SIZE = 16\n",
        "BUFFER_SIZE = 60000\n",
        "\n",
        "print(f\"Will generate {GENERATE_SQUARE}px square images.\")"
      ],
      "id": "0hYDC41ymmag"
    },
    {
      "cell_type": "code",
      "source": [
        "type(DATASET)"
      ],
      "metadata": {
        "id": "z5ehxgcqjDwO",
        "outputId": "242f46cc-d9a6-407f-a7b4-9384269a70a2",
        "colab": {
          "base_uri": "https://localhost:8080/"
        }
      },
      "id": "z5ehxgcqjDwO",
      "execution_count": 78,
      "outputs": [
        {
          "output_type": "execute_result",
          "data": {
            "text/plain": [
              "ee.imagecollection.ImageCollection"
            ]
          },
          "metadata": {},
          "execution_count": 78
        }
      ]
    },
    {
      "cell_type": "code",
      "source": [
        "# Convert the feature collections to lists for iteration.\n",
        "TRAINING_DATA = citiesDataset.toList(citiesDataset.size())\n",
        "\n",
        "training_binary_path = os.path.join(BUCKET,\n",
        "        f'training_data_{GENERATE_SQUARE}_{GENERATE_SQUARE}.npy')\n",
        "\n",
        "start = time.time()\n",
        "print(\"Loading training images...\")\n",
        "\n",
        "training_data = []\n",
        "\n",
        "# TODO This for loop keeps giving the error \"user memory exceeded\" even with Google Compute Units\n",
        "for filename in range(TRAINING_DATA.size().getInfo()):\n",
        "    path = os.path.join(BUCKET,filename)\n",
        "    image = Image.open(path).resize((GENERATE_SQUARE,\n",
        "          GENERATE_SQUARE),Image.ANTIALIAS)\n",
        "    training_data.append(np.asarray(image))\n",
        "training_data = np.reshape(training_data,(-1,GENERATE_SQUARE,\n",
        "          GENERATE_SQUARE,IMAGE_CHANNELS))\n",
        "training_data = training_data.astype(np.float32)\n",
        "training_data = training_data / 127.5 - 1.\n",
        "\n",
        "\n",
        "print(\"Saving training image binary...\")\n",
        "np.save(training_binary_path,training_data)\n",
        "elapsed = time.time()-start"
      ],
      "metadata": {
        "id": "dRXbrUNLiRhZ",
        "outputId": "830867a1-7ee1-4d44-862a-4af99ab2cd5a",
        "colab": {
          "base_uri": "https://localhost:8080/",
          "height": 450
        }
      },
      "id": "dRXbrUNLiRhZ",
      "execution_count": 84,
      "outputs": [
        {
          "output_type": "stream",
          "name": "stdout",
          "text": [
            "Loading training images...\n"
          ]
        },
        {
          "output_type": "error",
          "ename": "EEException",
          "evalue": "ignored",
          "traceback": [
            "\u001b[0;31m---------------------------------------------------------------------------\u001b[0m",
            "\u001b[0;31mHttpError\u001b[0m                                 Traceback (most recent call last)",
            "\u001b[0;32m/usr/local/lib/python3.8/dist-packages/ee/data.py\u001b[0m in \u001b[0;36m_execute_cloud_call\u001b[0;34m(call, num_retries)\u001b[0m\n\u001b[1;32m    327\u001b[0m   \u001b[0;32mtry\u001b[0m\u001b[0;34m:\u001b[0m\u001b[0;34m\u001b[0m\u001b[0;34m\u001b[0m\u001b[0m\n\u001b[0;32m--> 328\u001b[0;31m     \u001b[0;32mreturn\u001b[0m \u001b[0mcall\u001b[0m\u001b[0;34m.\u001b[0m\u001b[0mexecute\u001b[0m\u001b[0;34m(\u001b[0m\u001b[0mnum_retries\u001b[0m\u001b[0;34m=\u001b[0m\u001b[0mnum_retries\u001b[0m\u001b[0;34m)\u001b[0m\u001b[0;34m\u001b[0m\u001b[0;34m\u001b[0m\u001b[0m\n\u001b[0m\u001b[1;32m    329\u001b[0m   \u001b[0;32mexcept\u001b[0m \u001b[0mgoogleapiclient\u001b[0m\u001b[0;34m.\u001b[0m\u001b[0merrors\u001b[0m\u001b[0;34m.\u001b[0m\u001b[0mHttpError\u001b[0m \u001b[0;32mas\u001b[0m \u001b[0me\u001b[0m\u001b[0;34m:\u001b[0m\u001b[0;34m\u001b[0m\u001b[0;34m\u001b[0m\u001b[0m\n",
            "\u001b[0;32m/usr/local/lib/python3.8/dist-packages/googleapiclient/_helpers.py\u001b[0m in \u001b[0;36mpositional_wrapper\u001b[0;34m(*args, **kwargs)\u001b[0m\n\u001b[1;32m    133\u001b[0m                     \u001b[0mlogger\u001b[0m\u001b[0;34m.\u001b[0m\u001b[0mwarning\u001b[0m\u001b[0;34m(\u001b[0m\u001b[0mmessage\u001b[0m\u001b[0;34m)\u001b[0m\u001b[0;34m\u001b[0m\u001b[0;34m\u001b[0m\u001b[0m\n\u001b[0;32m--> 134\u001b[0;31m             \u001b[0;32mreturn\u001b[0m \u001b[0mwrapped\u001b[0m\u001b[0;34m(\u001b[0m\u001b[0;34m*\u001b[0m\u001b[0margs\u001b[0m\u001b[0;34m,\u001b[0m \u001b[0;34m**\u001b[0m\u001b[0mkwargs\u001b[0m\u001b[0;34m)\u001b[0m\u001b[0;34m\u001b[0m\u001b[0;34m\u001b[0m\u001b[0m\n\u001b[0m\u001b[1;32m    135\u001b[0m \u001b[0;34m\u001b[0m\u001b[0m\n",
            "\u001b[0;32m/usr/local/lib/python3.8/dist-packages/googleapiclient/http.py\u001b[0m in \u001b[0;36mexecute\u001b[0;34m(self, http, num_retries)\u001b[0m\n\u001b[1;32m    914\u001b[0m         \u001b[0;32mif\u001b[0m \u001b[0mresp\u001b[0m\u001b[0;34m.\u001b[0m\u001b[0mstatus\u001b[0m \u001b[0;34m>=\u001b[0m \u001b[0;36m300\u001b[0m\u001b[0;34m:\u001b[0m\u001b[0;34m\u001b[0m\u001b[0;34m\u001b[0m\u001b[0m\n\u001b[0;32m--> 915\u001b[0;31m             \u001b[0;32mraise\u001b[0m \u001b[0mHttpError\u001b[0m\u001b[0;34m(\u001b[0m\u001b[0mresp\u001b[0m\u001b[0;34m,\u001b[0m \u001b[0mcontent\u001b[0m\u001b[0;34m,\u001b[0m \u001b[0muri\u001b[0m\u001b[0;34m=\u001b[0m\u001b[0mself\u001b[0m\u001b[0;34m.\u001b[0m\u001b[0muri\u001b[0m\u001b[0;34m)\u001b[0m\u001b[0;34m\u001b[0m\u001b[0;34m\u001b[0m\u001b[0m\n\u001b[0m\u001b[1;32m    916\u001b[0m         \u001b[0;32mreturn\u001b[0m \u001b[0mself\u001b[0m\u001b[0;34m.\u001b[0m\u001b[0mpostproc\u001b[0m\u001b[0;34m(\u001b[0m\u001b[0mresp\u001b[0m\u001b[0;34m,\u001b[0m \u001b[0mcontent\u001b[0m\u001b[0;34m)\u001b[0m\u001b[0;34m\u001b[0m\u001b[0;34m\u001b[0m\u001b[0m\n",
            "\u001b[0;31mHttpError\u001b[0m: <HttpError 400 when requesting https://earthengine.googleapis.com/v1alpha/projects/earthengine-legacy/value:compute?prettyPrint=false&alt=json returned \"User memory limit exceeded.\". Details: \"User memory limit exceeded.\">",
            "\nDuring handling of the above exception, another exception occurred:\n",
            "\u001b[0;31mEEException\u001b[0m                               Traceback (most recent call last)",
            "\u001b[0;32m<ipython-input-84-2efce1ef3990>\u001b[0m in \u001b[0;36m<module>\u001b[0;34m\u001b[0m\n\u001b[1;32m     10\u001b[0m \u001b[0mtraining_data\u001b[0m \u001b[0;34m=\u001b[0m \u001b[0;34m[\u001b[0m\u001b[0;34m]\u001b[0m\u001b[0;34m\u001b[0m\u001b[0;34m\u001b[0m\u001b[0m\n\u001b[1;32m     11\u001b[0m \u001b[0;34m\u001b[0m\u001b[0m\n\u001b[0;32m---> 12\u001b[0;31m \u001b[0;32mfor\u001b[0m \u001b[0mfilename\u001b[0m \u001b[0;32min\u001b[0m \u001b[0mrange\u001b[0m\u001b[0;34m(\u001b[0m\u001b[0mTRAINING_DATA\u001b[0m\u001b[0;34m.\u001b[0m\u001b[0msize\u001b[0m\u001b[0;34m(\u001b[0m\u001b[0;34m)\u001b[0m\u001b[0;34m.\u001b[0m\u001b[0mgetInfo\u001b[0m\u001b[0;34m(\u001b[0m\u001b[0;34m)\u001b[0m\u001b[0;34m)\u001b[0m\u001b[0;34m:\u001b[0m\u001b[0;34m\u001b[0m\u001b[0;34m\u001b[0m\u001b[0m\n\u001b[0m\u001b[1;32m     13\u001b[0m     \u001b[0mpath\u001b[0m \u001b[0;34m=\u001b[0m \u001b[0mos\u001b[0m\u001b[0;34m.\u001b[0m\u001b[0mpath\u001b[0m\u001b[0;34m.\u001b[0m\u001b[0mjoin\u001b[0m\u001b[0;34m(\u001b[0m\u001b[0mBUCKET\u001b[0m\u001b[0;34m,\u001b[0m\u001b[0mfilename\u001b[0m\u001b[0;34m)\u001b[0m\u001b[0;34m\u001b[0m\u001b[0;34m\u001b[0m\u001b[0m\n\u001b[1;32m     14\u001b[0m     image = Image.open(path).resize((GENERATE_SQUARE,\n",
            "\u001b[0;32m/usr/local/lib/python3.8/dist-packages/ee/computedobject.py\u001b[0m in \u001b[0;36mgetInfo\u001b[0;34m(self)\u001b[0m\n\u001b[1;32m     96\u001b[0m       \u001b[0mThe\u001b[0m \u001b[0mobject\u001b[0m \u001b[0mcan\u001b[0m \u001b[0mevaluate\u001b[0m \u001b[0mto\u001b[0m \u001b[0manything\u001b[0m\u001b[0;34m.\u001b[0m\u001b[0;34m\u001b[0m\u001b[0;34m\u001b[0m\u001b[0m\n\u001b[1;32m     97\u001b[0m     \"\"\"\n\u001b[0;32m---> 98\u001b[0;31m     \u001b[0;32mreturn\u001b[0m \u001b[0mdata\u001b[0m\u001b[0;34m.\u001b[0m\u001b[0mcomputeValue\u001b[0m\u001b[0;34m(\u001b[0m\u001b[0mself\u001b[0m\u001b[0;34m)\u001b[0m\u001b[0;34m\u001b[0m\u001b[0;34m\u001b[0m\u001b[0m\n\u001b[0m\u001b[1;32m     99\u001b[0m \u001b[0;34m\u001b[0m\u001b[0m\n\u001b[1;32m    100\u001b[0m   \u001b[0;32mdef\u001b[0m \u001b[0mencode\u001b[0m\u001b[0;34m(\u001b[0m\u001b[0mself\u001b[0m\u001b[0;34m,\u001b[0m \u001b[0mencoder\u001b[0m\u001b[0;34m)\u001b[0m\u001b[0;34m:\u001b[0m\u001b[0;34m\u001b[0m\u001b[0;34m\u001b[0m\u001b[0m\n",
            "\u001b[0;32m/usr/local/lib/python3.8/dist-packages/ee/data.py\u001b[0m in \u001b[0;36mcomputeValue\u001b[0;34m(obj)\u001b[0m\n\u001b[1;32m    755\u001b[0m     \u001b[0mbody\u001b[0m\u001b[0;34m[\u001b[0m\u001b[0;34m'workloadTag'\u001b[0m\u001b[0;34m]\u001b[0m \u001b[0;34m=\u001b[0m \u001b[0mworkload_tag\u001b[0m\u001b[0;34m\u001b[0m\u001b[0;34m\u001b[0m\u001b[0m\n\u001b[1;32m    756\u001b[0m \u001b[0;34m\u001b[0m\u001b[0m\n\u001b[0;32m--> 757\u001b[0;31m   return _execute_cloud_call(\n\u001b[0m\u001b[1;32m    758\u001b[0m       _get_cloud_api_resource().projects().value().compute(\n\u001b[1;32m    759\u001b[0m           \u001b[0mbody\u001b[0m\u001b[0;34m=\u001b[0m\u001b[0mbody\u001b[0m\u001b[0;34m,\u001b[0m\u001b[0;34m\u001b[0m\u001b[0;34m\u001b[0m\u001b[0m\n",
            "\u001b[0;32m/usr/local/lib/python3.8/dist-packages/ee/data.py\u001b[0m in \u001b[0;36m_execute_cloud_call\u001b[0;34m(call, num_retries)\u001b[0m\n\u001b[1;32m    328\u001b[0m     \u001b[0;32mreturn\u001b[0m \u001b[0mcall\u001b[0m\u001b[0;34m.\u001b[0m\u001b[0mexecute\u001b[0m\u001b[0;34m(\u001b[0m\u001b[0mnum_retries\u001b[0m\u001b[0;34m=\u001b[0m\u001b[0mnum_retries\u001b[0m\u001b[0;34m)\u001b[0m\u001b[0;34m\u001b[0m\u001b[0;34m\u001b[0m\u001b[0m\n\u001b[1;32m    329\u001b[0m   \u001b[0;32mexcept\u001b[0m \u001b[0mgoogleapiclient\u001b[0m\u001b[0;34m.\u001b[0m\u001b[0merrors\u001b[0m\u001b[0;34m.\u001b[0m\u001b[0mHttpError\u001b[0m \u001b[0;32mas\u001b[0m \u001b[0me\u001b[0m\u001b[0;34m:\u001b[0m\u001b[0;34m\u001b[0m\u001b[0;34m\u001b[0m\u001b[0m\n\u001b[0;32m--> 330\u001b[0;31m     \u001b[0;32mraise\u001b[0m \u001b[0m_translate_cloud_exception\u001b[0m\u001b[0;34m(\u001b[0m\u001b[0me\u001b[0m\u001b[0;34m)\u001b[0m\u001b[0;34m\u001b[0m\u001b[0;34m\u001b[0m\u001b[0m\n\u001b[0m\u001b[1;32m    331\u001b[0m \u001b[0;34m\u001b[0m\u001b[0m\n\u001b[1;32m    332\u001b[0m \u001b[0;34m\u001b[0m\u001b[0m\n",
            "\u001b[0;31mEEException\u001b[0m: User memory limit exceeded."
          ]
        }
      ]
    },
    {
      "cell_type": "code",
      "execution_count": null,
      "metadata": {
        "id": "guz-TjGHCC82"
      },
      "outputs": [],
      "source": [
        "def save_images(cnt,noise):\n",
        "  image_array = np.full(( \n",
        "      PREVIEW_MARGIN + (PREVIEW_ROWS * (GENERATE_SQUARE+PREVIEW_MARGIN)), \n",
        "      PREVIEW_MARGIN + (PREVIEW_COLS * (GENERATE_SQUARE+PREVIEW_MARGIN)), 3), \n",
        "      255, dtype=np.uint8)\n",
        "  \n",
        "  generated_images = generator.predict(noise)\n",
        "\n",
        "  generated_images = 0.5 * generated_images + 0.5\n",
        "\n",
        "  image_count = 0\n",
        "  for row in range(PREVIEW_ROWS):\n",
        "      for col in range(PREVIEW_COLS):\n",
        "        r = row * (GENERATE_SQUARE+16) + PREVIEW_MARGIN\n",
        "        c = col * (GENERATE_SQUARE+16) + PREVIEW_MARGIN\n",
        "        image_array[r:r+GENERATE_SQUARE,c:c+GENERATE_SQUARE] \\\n",
        "            = generated_images[image_count] * 255\n",
        "        image_count += 1\n",
        "\n",
        "          \n",
        "  output_path = os.path.join(BUCKET,'output')\n",
        "  if not os.path.exists(output_path):\n",
        "    os.makedirs(output_path)\n",
        "  \n",
        "  filename = os.path.join(output_path,f\"train-{cnt}.png\")\n",
        "  im = Image.fromarray(image_array)\n",
        "  im.save(filename)"
      ],
      "id": "guz-TjGHCC82"
    },
    {
      "cell_type": "code",
      "execution_count": null,
      "metadata": {
        "id": "9d1b4cb7-c9b8-4b3a-afb7-2953aa4e7524"
      },
      "outputs": [],
      "source": [
        "#building the generator\n",
        "def build_generator(seed_size, channels):\n",
        "    model = Sequential()\n",
        "\n",
        "    model.add(Dense(4*4*256,activation=\"relu\",input_dim=seed_size))\n",
        "    model.add(Reshape((4,4,256)))\n",
        "\n",
        "    model.add(UpSampling2D())\n",
        "    model.add(Conv2D(256,kernel_size=3,padding=\"same\"))\n",
        "    model.add(BatchNormalization(momentum=0.8))\n",
        "    model.add(Activation(\"relu\"))\n",
        "\n",
        "    model.add(UpSampling2D())\n",
        "    model.add(Conv2D(256,kernel_size=3,padding=\"same\"))\n",
        "    model.add(BatchNormalization(momentum=0.8))\n",
        "    model.add(Activation(\"relu\"))\n",
        "   \n",
        "    # Output resolution, additional upsampling\n",
        "    model.add(UpSampling2D())\n",
        "    model.add(Conv2D(128,kernel_size=3,padding=\"same\"))\n",
        "    model.add(BatchNormalization(momentum=0.8))\n",
        "    model.add(Activation(\"relu\"))\n",
        "\n",
        "    if GENERATE_RES>1:\n",
        "      model.add(UpSampling2D(size=(GENERATE_RES,GENERATE_RES)))\n",
        "      model.add(Conv2D(128,kernel_size=3,padding=\"same\"))\n",
        "      model.add(BatchNormalization(momentum=0.8))\n",
        "      model.add(Activation(\"relu\"))\n",
        "\n",
        "    # Final CNN layer\n",
        "    model.add(Conv2D(channels,kernel_size=3,padding=\"same\"))\n",
        "    model.add(Activation(\"tanh\"))\n",
        "\n",
        "    return model"
      ],
      "id": "9d1b4cb7-c9b8-4b3a-afb7-2953aa4e7524"
    },
    {
      "cell_type": "code",
      "execution_count": null,
      "metadata": {
        "id": "78e3a40e-9662-4e62-b2eb-26a178c9f956"
      },
      "outputs": [],
      "source": [
        "# \n",
        "def build_discriminator(image_shape):\n",
        "    model = Sequential()\n",
        "\n",
        "    model.add(Conv2D(32, kernel_size=3, strides=2, input_shape=image_shape, \n",
        "                     padding=\"same\"))\n",
        "    model.add(LeakyReLU(alpha=0.2))\n",
        "\n",
        "    model.add(Dropout(0.25))\n",
        "    model.add(Conv2D(64, kernel_size=3, strides=2, padding=\"same\"))\n",
        "    model.add(ZeroPadding2D(padding=((0,1),(0,1))))\n",
        "    model.add(BatchNormalization(momentum=0.8))\n",
        "    model.add(LeakyReLU(alpha=0.2))\n",
        "\n",
        "    model.add(Dropout(0.25))\n",
        "    model.add(Conv2D(128, kernel_size=3, strides=2, padding=\"same\"))\n",
        "    model.add(BatchNormalization(momentum=0.8))\n",
        "    model.add(LeakyReLU(alpha=0.2))\n",
        "\n",
        "    model.add(Dropout(0.25))\n",
        "    model.add(Conv2D(256, kernel_size=3, strides=1, padding=\"same\"))\n",
        "    model.add(BatchNormalization(momentum=0.8))\n",
        "    model.add(LeakyReLU(alpha=0.2))\n",
        "\n",
        "    model.add(Dropout(0.25))\n",
        "    model.add(Conv2D(512, kernel_size=3, strides=1, padding=\"same\"))\n",
        "    model.add(BatchNormalization(momentum=0.8))\n",
        "    model.add(LeakyReLU(alpha=0.2))\n",
        "\n",
        "    model.add(Dropout(0.25))\n",
        "    model.add(Flatten())\n",
        "    model.add(Dense(1, activation='sigmoid'))\n",
        "\n",
        "    return model"
      ],
      "id": "78e3a40e-9662-4e62-b2eb-26a178c9f956"
    },
    {
      "cell_type": "code",
      "execution_count": null,
      "metadata": {
        "colab": {
          "base_uri": "https://localhost:8080/",
          "height": 285
        },
        "id": "aQJwWrrVCq95",
        "outputId": "305c9770-6e26-4b17-9c1e-1fb83556fd9e"
      },
      "outputs": [
        {
          "name": "stdout",
          "output_type": "stream",
          "text": [
            "tf.Tensor([[0.5007379]], shape=(1, 1), dtype=float32)\n"
          ]
        },
        {
          "data": {
            "image/png": "[encoded data removed]",
            "text/plain": [
              "<Figure size 432x288 with 1 Axes>"
            ]
          },
          "metadata": {
            "needs_background": "light"
          },
          "output_type": "display_data"
        }
      ],
      "source": [
        "generator = build_generator(SEED_SIZE, IMAGE_CHANNELS)\n",
        "\n",
        "noise = tf.random.normal([1, SEED_SIZE])\n",
        "generated_image = generator(noise, training=False)\n",
        "\n",
        "plt.imshow(generated_image[0, :, :, 0])\n",
        "\n",
        "image_shape = (GENERATE_SQUARE,GENERATE_SQUARE,IMAGE_CHANNELS)\n",
        "\n",
        "discriminator = build_discriminator(image_shape)\n",
        "decision = discriminator(generated_image)\n",
        "print(decision)\n",
        "\n",
        "cross_entropy = tf.keras.losses.BinaryCrossentropy()\n",
        "\n",
        "#discriminator loss\n",
        "def discriminator_loss(real_output, fake_output):\n",
        "    real_loss = cross_entropy(tf.ones_like(real_output), real_output)\n",
        "    fake_loss = cross_entropy(tf.zeros_like(fake_output), fake_output)\n",
        "    total_loss = real_loss + fake_loss\n",
        "    return total_loss\n",
        "\n",
        "#generator loss\n",
        "def generator_loss(fake_output):\n",
        "    return cross_entropy(tf.ones_like(fake_output), fake_output)\n",
        "\n",
        "generator_optimizer = tf.keras.optimizers.Adam(1.5e-4,0.5)\n",
        "#generator_optimizer = tf.keras.optimizers.SGD(learning_rate=0.01)\n",
        "discriminator_optimizer = tf.keras.optimizers.Adam(1.5e-4,0.5)\n",
        "#discriminator_optimizer = tf.keras.optimizers.SGD(learning_rate=0.01)"
      ],
      "id": "aQJwWrrVCq95"
    },
    {
      "cell_type": "code",
      "execution_count": null,
      "metadata": {
        "colab": {
          "base_uri": "https://localhost:8080/"
        },
        "id": "21a36f25-f9ba-44b9-975f-c0e5a046445d",
        "outputId": "ba33e6da-72db-4b9a-ef22-17413347531e"
      },
      "outputs": [
        {
          "name": "stdout",
          "output_type": "stream",
          "text": [
            "Epoch 1, gen loss=0.9690646529197693,disc loss=1.5506353378295898, {hms_string(epoch_elapsed)}\n",
            "1/1 [==============================] - 0s 125ms/step\n",
            "Epoch 2, gen loss=1.2313545942306519,disc loss=1.3242579698562622, {hms_string(epoch_elapsed)}\n",
            "1/1 [==============================] - 0s 17ms/step\n",
            "Epoch 3, gen loss=0.9897303581237793,disc loss=1.3891716003417969, {hms_string(epoch_elapsed)}\n",
            "1/1 [==============================] - 0s 17ms/step\n",
            "Epoch 4, gen loss=1.120313286781311,disc loss=1.1489533185958862, {hms_string(epoch_elapsed)}\n",
            "1/1 [==============================] - 0s 18ms/step\n",
            "Epoch 5, gen loss=1.3530868291854858,disc loss=1.042638897895813, {hms_string(epoch_elapsed)}\n",
            "1/1 [==============================] - 0s 17ms/step\n",
            "Epoch 6, gen loss=1.598588466644287,disc loss=0.9105803370475769, {hms_string(epoch_elapsed)}\n",
            "1/1 [==============================] - 0s 18ms/step\n",
            "Epoch 7, gen loss=1.4682759046554565,disc loss=0.8695600032806396, {hms_string(epoch_elapsed)}\n",
            "1/1 [==============================] - 0s 18ms/step\n",
            "Epoch 8, gen loss=1.4976228475570679,disc loss=0.8597947955131531, {hms_string(epoch_elapsed)}\n",
            "1/1 [==============================] - 0s 17ms/step\n",
            "Epoch 9, gen loss=1.4500378370285034,disc loss=1.1135460138320923, {hms_string(epoch_elapsed)}\n",
            "1/1 [==============================] - 0s 18ms/step\n",
            "Epoch 10, gen loss=1.4466911554336548,disc loss=0.9903598427772522, {hms_string(epoch_elapsed)}\n",
            "1/1 [==============================] - 0s 17ms/step\n",
            "Epoch 11, gen loss=1.873997688293457,disc loss=0.893195390701294, {hms_string(epoch_elapsed)}\n",
            "1/1 [==============================] - 0s 17ms/step\n",
            "Epoch 12, gen loss=2.108203649520874,disc loss=0.7308006882667542, {hms_string(epoch_elapsed)}\n",
            "1/1 [==============================] - 0s 18ms/step\n",
            "Epoch 13, gen loss=1.6845957040786743,disc loss=0.9872525334358215, {hms_string(epoch_elapsed)}\n",
            "1/1 [==============================] - 0s 19ms/step\n",
            "Epoch 14, gen loss=1.356745719909668,disc loss=1.039070725440979, {hms_string(epoch_elapsed)}\n",
            "1/1 [==============================] - 0s 17ms/step\n",
            "Epoch 15, gen loss=1.6273612976074219,disc loss=1.320895791053772, {hms_string(epoch_elapsed)}\n",
            "1/1 [==============================] - 0s 17ms/step\n",
            "Epoch 16, gen loss=2.2725725173950195,disc loss=0.6347626447677612, {hms_string(epoch_elapsed)}\n",
            "1/1 [==============================] - 0s 18ms/step\n",
            "Epoch 17, gen loss=2.40303635597229,disc loss=0.3923647403717041, {hms_string(epoch_elapsed)}\n",
            "1/1 [==============================] - 0s 18ms/step\n",
            "Epoch 18, gen loss=1.7788114547729492,disc loss=0.9850500226020813, {hms_string(epoch_elapsed)}\n",
            "1/1 [==============================] - 0s 17ms/step\n",
            "Epoch 19, gen loss=1.9655085802078247,disc loss=0.7757981419563293, {hms_string(epoch_elapsed)}\n",
            "1/1 [==============================] - 0s 17ms/step\n",
            "Epoch 20, gen loss=2.478353261947632,disc loss=0.5118444561958313, {hms_string(epoch_elapsed)}\n",
            "1/1 [==============================] - 0s 17ms/step\n",
            "Epoch 21, gen loss=2.4546079635620117,disc loss=0.4735827147960663, {hms_string(epoch_elapsed)}\n",
            "1/1 [==============================] - 0s 18ms/step\n",
            "Epoch 22, gen loss=1.9586998224258423,disc loss=0.496337890625, {hms_string(epoch_elapsed)}\n",
            "1/1 [==============================] - 0s 18ms/step\n",
            "Epoch 23, gen loss=2.2694053649902344,disc loss=0.6240302920341492, {hms_string(epoch_elapsed)}\n",
            "1/1 [==============================] - 0s 18ms/step\n",
            "Epoch 24, gen loss=2.4953391551971436,disc loss=0.4738253653049469, {hms_string(epoch_elapsed)}\n",
            "1/1 [==============================] - 0s 18ms/step\n",
            "Epoch 25, gen loss=2.3505399227142334,disc loss=0.5305848717689514, {hms_string(epoch_elapsed)}\n",
            "1/1 [==============================] - 0s 18ms/step\n",
            "Epoch 26, gen loss=2.8447606563568115,disc loss=0.3991447985172272, {hms_string(epoch_elapsed)}\n",
            "1/1 [==============================] - 0s 18ms/step\n",
            "Epoch 27, gen loss=2.854862928390503,disc loss=0.40306511521339417, {hms_string(epoch_elapsed)}\n",
            "1/1 [==============================] - 0s 19ms/step\n",
            "Epoch 28, gen loss=2.183180093765259,disc loss=0.4947153329849243, {hms_string(epoch_elapsed)}\n",
            "1/1 [==============================] - 0s 17ms/step\n",
            "Epoch 29, gen loss=2.2094333171844482,disc loss=0.6927172541618347, {hms_string(epoch_elapsed)}\n",
            "1/1 [==============================] - 0s 18ms/step\n",
            "Epoch 30, gen loss=2.8431107997894287,disc loss=0.5383955836296082, {hms_string(epoch_elapsed)}\n",
            "1/1 [==============================] - 0s 17ms/step\n",
            "Epoch 31, gen loss=3.449281692504883,disc loss=0.3243270218372345, {hms_string(epoch_elapsed)}\n",
            "1/1 [==============================] - 0s 18ms/step\n",
            "Epoch 32, gen loss=2.490574359893799,disc loss=0.353128582239151, {hms_string(epoch_elapsed)}\n",
            "1/1 [==============================] - 0s 18ms/step\n",
            "Epoch 33, gen loss=3.261054039001465,disc loss=0.516706645488739, {hms_string(epoch_elapsed)}\n",
            "1/1 [==============================] - 0s 17ms/step\n",
            "Epoch 34, gen loss=2.688596487045288,disc loss=0.31389907002449036, {hms_string(epoch_elapsed)}\n",
            "1/1 [==============================] - 0s 17ms/step\n",
            "Epoch 35, gen loss=2.8129169940948486,disc loss=0.36701104044914246, {hms_string(epoch_elapsed)}\n",
            "1/1 [==============================] - 0s 18ms/step\n",
            "Epoch 36, gen loss=3.357654571533203,disc loss=0.3557400405406952, {hms_string(epoch_elapsed)}\n",
            "1/1 [==============================] - 0s 17ms/step\n",
            "Epoch 37, gen loss=2.253446340560913,disc loss=0.4756418466567993, {hms_string(epoch_elapsed)}\n",
            "1/1 [==============================] - 0s 18ms/step\n",
            "Epoch 38, gen loss=3.7776801586151123,disc loss=0.3639504909515381, {hms_string(epoch_elapsed)}\n",
            "1/1 [==============================] - 0s 18ms/step\n",
            "Epoch 39, gen loss=2.6002321243286133,disc loss=0.34019216895103455, {hms_string(epoch_elapsed)}\n",
            "1/1 [==============================] - 0s 19ms/step\n",
            "Epoch 40, gen loss=3.2696940898895264,disc loss=0.4217710494995117, {hms_string(epoch_elapsed)}\n",
            "1/1 [==============================] - 0s 17ms/step\n",
            "Epoch 41, gen loss=3.2409114837646484,disc loss=0.34899473190307617, {hms_string(epoch_elapsed)}\n",
            "1/1 [==============================] - 0s 17ms/step\n",
            "Epoch 42, gen loss=4.322072505950928,disc loss=0.18919877707958221, {hms_string(epoch_elapsed)}\n",
            "1/1 [==============================] - 0s 18ms/step\n",
            "Epoch 43, gen loss=2.745295524597168,disc loss=0.32007646560668945, {hms_string(epoch_elapsed)}\n",
            "1/1 [==============================] - 0s 18ms/step\n",
            "Epoch 44, gen loss=2.748699426651001,disc loss=0.5425631999969482, {hms_string(epoch_elapsed)}\n",
            "1/1 [==============================] - 0s 17ms/step\n",
            "Epoch 45, gen loss=2.9180870056152344,disc loss=0.2648283541202545, {hms_string(epoch_elapsed)}\n",
            "1/1 [==============================] - 0s 17ms/step\n",
            "Epoch 46, gen loss=3.43232798576355,disc loss=0.2662251889705658, {hms_string(epoch_elapsed)}\n",
            "1/1 [==============================] - 0s 17ms/step\n",
            "Epoch 47, gen loss=3.591944456100464,disc loss=0.21963946521282196, {hms_string(epoch_elapsed)}\n",
            "1/1 [==============================] - 0s 18ms/step\n",
            "Epoch 48, gen loss=4.421166896820068,disc loss=0.2452460527420044, {hms_string(epoch_elapsed)}\n",
            "1/1 [==============================] - 0s 18ms/step\n",
            "Epoch 49, gen loss=3.213942527770996,disc loss=0.22402256727218628, {hms_string(epoch_elapsed)}\n",
            "1/1 [==============================] - 0s 17ms/step\n",
            "Epoch 50, gen loss=4.327331066131592,disc loss=0.09648510068655014, {hms_string(epoch_elapsed)}\n",
            "1/1 [==============================] - 0s 17ms/step\n",
            "Epoch 51, gen loss=3.9535224437713623,disc loss=0.1746010035276413, {hms_string(epoch_elapsed)}\n",
            "1/1 [==============================] - 0s 18ms/step\n",
            "Epoch 52, gen loss=3.4782521724700928,disc loss=0.2727150619029999, {hms_string(epoch_elapsed)}\n",
            "1/1 [==============================] - 0s 18ms/step\n",
            "Epoch 53, gen loss=3.331441640853882,disc loss=0.30103960633277893, {hms_string(epoch_elapsed)}\n",
            "1/1 [==============================] - 0s 17ms/step\n",
            "Epoch 54, gen loss=3.2691733837127686,disc loss=0.413925439119339, {hms_string(epoch_elapsed)}\n",
            "1/1 [==============================] - 0s 17ms/step\n",
            "Epoch 55, gen loss=4.202709197998047,disc loss=0.17318342626094818, {hms_string(epoch_elapsed)}\n",
            "1/1 [==============================] - 0s 17ms/step\n",
            "Epoch 56, gen loss=3.3711535930633545,disc loss=0.2320704460144043, {hms_string(epoch_elapsed)}\n",
            "1/1 [==============================] - 0s 17ms/step\n",
            "Epoch 57, gen loss=3.7210819721221924,disc loss=0.2118629366159439, {hms_string(epoch_elapsed)}\n",
            "1/1 [==============================] - 0s 17ms/step\n",
            "Epoch 58, gen loss=3.3286168575286865,disc loss=0.21913905441761017, {hms_string(epoch_elapsed)}\n",
            "1/1 [==============================] - 0s 18ms/step\n",
            "Epoch 59, gen loss=3.6569454669952393,disc loss=0.24646003544330597, {hms_string(epoch_elapsed)}\n",
            "1/1 [==============================] - 0s 18ms/step\n",
            "Epoch 60, gen loss=3.8760623931884766,disc loss=0.32434582710266113, {hms_string(epoch_elapsed)}\n",
            "1/1 [==============================] - 0s 18ms/step\n",
            "Epoch 61, gen loss=3.3617851734161377,disc loss=0.24427072703838348, {hms_string(epoch_elapsed)}\n",
            "1/1 [==============================] - 0s 18ms/step\n",
            "Epoch 62, gen loss=4.4980058670043945,disc loss=0.2210461050271988, {hms_string(epoch_elapsed)}\n",
            "1/1 [==============================] - 0s 19ms/step\n",
            "Epoch 63, gen loss=3.396225929260254,disc loss=0.16418494284152985, {hms_string(epoch_elapsed)}\n",
            "1/1 [==============================] - 0s 18ms/step\n",
            "Epoch 64, gen loss=4.408715724945068,disc loss=0.20591934025287628, {hms_string(epoch_elapsed)}\n",
            "1/1 [==============================] - 0s 17ms/step\n",
            "Epoch 65, gen loss=3.5037574768066406,disc loss=0.29181167483329773, {hms_string(epoch_elapsed)}\n",
            "1/1 [==============================] - 0s 17ms/step\n",
            "Epoch 66, gen loss=3.5458147525787354,disc loss=0.15589763224124908, {hms_string(epoch_elapsed)}\n",
            "1/1 [==============================] - 0s 18ms/step\n",
            "Epoch 67, gen loss=4.021970272064209,disc loss=0.15526846051216125, {hms_string(epoch_elapsed)}\n",
            "1/1 [==============================] - 0s 18ms/step\n",
            "Epoch 68, gen loss=4.388981342315674,disc loss=0.14111854135990143, {hms_string(epoch_elapsed)}\n",
            "1/1 [==============================] - 0s 17ms/step\n",
            "Epoch 69, gen loss=4.391716957092285,disc loss=0.21969063580036163, {hms_string(epoch_elapsed)}\n",
            "1/1 [==============================] - 0s 17ms/step\n",
            "Epoch 70, gen loss=3.878324508666992,disc loss=0.170218825340271, {hms_string(epoch_elapsed)}\n",
            "1/1 [==============================] - 0s 17ms/step\n",
            "Epoch 71, gen loss=4.636777400970459,disc loss=0.10686365514993668, {hms_string(epoch_elapsed)}\n",
            "1/1 [==============================] - 0s 18ms/step\n",
            "Epoch 72, gen loss=3.6017067432403564,disc loss=0.2753092646598816, {hms_string(epoch_elapsed)}\n",
            "1/1 [==============================] - 0s 17ms/step\n",
            "Epoch 73, gen loss=4.009981155395508,disc loss=0.24285443127155304, {hms_string(epoch_elapsed)}\n",
            "1/1 [==============================] - 0s 18ms/step\n",
            "Epoch 74, gen loss=4.302079677581787,disc loss=0.1224159300327301, {hms_string(epoch_elapsed)}\n",
            "1/1 [==============================] - 0s 17ms/step\n",
            "Epoch 75, gen loss=4.204625606536865,disc loss=0.15704476833343506, {hms_string(epoch_elapsed)}\n",
            "1/1 [==============================] - 0s 18ms/step\n",
            "Epoch 76, gen loss=3.743008852005005,disc loss=0.11768142133951187, {hms_string(epoch_elapsed)}\n",
            "1/1 [==============================] - 0s 17ms/step\n",
            "Epoch 77, gen loss=3.7091877460479736,disc loss=0.34099650382995605, {hms_string(epoch_elapsed)}\n",
            "1/1 [==============================] - 0s 18ms/step\n",
            "Epoch 78, gen loss=3.3496646881103516,disc loss=0.2105158418416977, {hms_string(epoch_elapsed)}\n",
            "1/1 [==============================] - 0s 18ms/step\n",
            "Epoch 79, gen loss=3.4191038608551025,disc loss=0.23336315155029297, {hms_string(epoch_elapsed)}\n",
            "1/1 [==============================] - 0s 17ms/step\n",
            "Epoch 80, gen loss=4.1371684074401855,disc loss=0.27522197365760803, {hms_string(epoch_elapsed)}\n",
            "1/1 [==============================] - 0s 18ms/step\n",
            "Epoch 81, gen loss=3.339771270751953,disc loss=0.5041891932487488, {hms_string(epoch_elapsed)}\n",
            "1/1 [==============================] - 0s 17ms/step\n",
            "Epoch 82, gen loss=3.107881546020508,disc loss=0.2917790114879608, {hms_string(epoch_elapsed)}\n",
            "1/1 [==============================] - 0s 19ms/step\n",
            "Epoch 83, gen loss=3.8327534198760986,disc loss=0.43497511744499207, {hms_string(epoch_elapsed)}\n",
            "1/1 [==============================] - 0s 30ms/step\n",
            "Epoch 84, gen loss=3.4129772186279297,disc loss=0.4635935127735138, {hms_string(epoch_elapsed)}\n",
            "1/1 [==============================] - 0s 19ms/step\n",
            "Epoch 85, gen loss=3.923030138015747,disc loss=0.4494967460632324, {hms_string(epoch_elapsed)}\n",
            "1/1 [==============================] - 0s 18ms/step\n",
            "Epoch 86, gen loss=2.88470458984375,disc loss=0.37581667304039, {hms_string(epoch_elapsed)}\n",
            "1/1 [==============================] - 0s 18ms/step\n",
            "Epoch 87, gen loss=3.760192632675171,disc loss=0.24959588050842285, {hms_string(epoch_elapsed)}\n",
            "1/1 [==============================] - 0s 17ms/step\n",
            "Epoch 88, gen loss=3.533986806869507,disc loss=0.6184847354888916, {hms_string(epoch_elapsed)}\n",
            "1/1 [==============================] - 0s 18ms/step\n",
            "Epoch 89, gen loss=2.843703031539917,disc loss=0.2698400914669037, {hms_string(epoch_elapsed)}\n",
            "1/1 [==============================] - 0s 17ms/step\n",
            "Epoch 90, gen loss=3.3836984634399414,disc loss=0.7738849520683289, {hms_string(epoch_elapsed)}\n",
            "1/1 [==============================] - 0s 18ms/step\n",
            "Epoch 91, gen loss=3.1398074626922607,disc loss=0.43803322315216064, {hms_string(epoch_elapsed)}\n",
            "1/1 [==============================] - 0s 18ms/step\n",
            "Epoch 92, gen loss=3.0963714122772217,disc loss=0.9169330596923828, {hms_string(epoch_elapsed)}\n",
            "1/1 [==============================] - 0s 18ms/step\n",
            "Epoch 93, gen loss=2.978200912475586,disc loss=0.5557733178138733, {hms_string(epoch_elapsed)}\n",
            "1/1 [==============================] - 0s 18ms/step\n",
            "Epoch 94, gen loss=2.9609291553497314,disc loss=0.48697447776794434, {hms_string(epoch_elapsed)}\n",
            "1/1 [==============================] - 0s 18ms/step\n",
            "Epoch 95, gen loss=2.962773084640503,disc loss=0.5994094014167786, {hms_string(epoch_elapsed)}\n",
            "1/1 [==============================] - 0s 18ms/step\n",
            "Epoch 96, gen loss=2.3822147846221924,disc loss=0.5155571103096008, {hms_string(epoch_elapsed)}\n",
            "1/1 [==============================] - 0s 17ms/step\n",
            "Epoch 97, gen loss=2.2961153984069824,disc loss=0.8535674214363098, {hms_string(epoch_elapsed)}\n",
            "1/1 [==============================] - 0s 19ms/step\n",
            "Epoch 98, gen loss=3.4713027477264404,disc loss=0.5818032622337341, {hms_string(epoch_elapsed)}\n",
            "1/1 [==============================] - 0s 19ms/step\n",
            "Epoch 99, gen loss=1.819685935974121,disc loss=0.9185237884521484, {hms_string(epoch_elapsed)}\n",
            "1/1 [==============================] - 0s 19ms/step\n",
            "Epoch 100, gen loss=3.3797647953033447,disc loss=0.6393483281135559, {hms_string(epoch_elapsed)}\n",
            "1/1 [==============================] - 0s 17ms/step\n",
            "Training time: 0:00:13.01\n"
          ]
        }
      ],
      "source": [
        "#from https://www.tensorflow.org/tutorials/generative/dcgan\n",
        "#using pre-compiling\n",
        "@tf.function\n",
        "def train_step(images):\n",
        "  seed = tf.random.normal([BATCH_SIZE, SEED_SIZE])\n",
        "\n",
        "  with tf.GradientTape() as gen_tape, tf.GradientTape() as disc_tape:\n",
        "    generated_images = generator(seed, training=True)\n",
        "\n",
        "    real_output = discriminator(images, training=True)\n",
        "    fake_output = discriminator(generated_images, training=True)\n",
        "\n",
        "    gen_loss = generator_loss(fake_output)\n",
        "    disc_loss = discriminator_loss(real_output, fake_output)\n",
        "    \n",
        "\n",
        "    gradients_of_generator = gen_tape.gradient(\\\n",
        "        gen_loss, generator.trainable_variables)\n",
        "    gradients_of_discriminator = disc_tape.gradient(\\\n",
        "        disc_loss, discriminator.trainable_variables)\n",
        "\n",
        "    generator_optimizer.apply_gradients(zip(\n",
        "        gradients_of_generator, generator.trainable_variables))\n",
        "    discriminator_optimizer.apply_gradients(zip(\n",
        "        gradients_of_discriminator, \n",
        "        discriminator.trainable_variables))\n",
        "  return gen_loss,disc_loss\n",
        "\n",
        "#training \n",
        "def train(dataset, epochs):\n",
        "  fixed_seed = np.random.normal(0, 1, (PREVIEW_ROWS * PREVIEW_COLS, \n",
        "                                       SEED_SIZE))\n",
        "  start = time.time()\n",
        "\n",
        "  for epoch in range(epochs):\n",
        "    epoch_start = time.time()\n",
        "\n",
        "    gen_loss_list = []\n",
        "    disc_loss_list = []\n",
        "\n",
        "    for image_batch in dataset:\n",
        "      t = train_step(image_batch)\n",
        "      gen_loss_list.append(t[0])\n",
        "      disc_loss_list.append(t[1])\n",
        "\n",
        "    g_loss = sum(gen_loss_list) / len(gen_loss_list)\n",
        "    d_loss = sum(disc_loss_list) / len(disc_loss_list)\n",
        "\n",
        "    epoch_elapsed = time.time()-epoch_start\n",
        "    print (f'Epoch {epoch+1}, gen loss={g_loss},disc loss={d_loss},'\\\n",
        "           ' {hms_string(epoch_elapsed)}')\n",
        "    save_images(epoch,fixed_seed)\n",
        "\n",
        "  elapsed = time.time()-start\n",
        "  print (f'Training time: {hms_string(elapsed)}')\n",
        "\n",
        "train(train_dataset, EPOCHS)"
      ],
      "id": "21a36f25-f9ba-44b9-975f-c0e5a046445d"
    },
    {
      "cell_type": "code",
      "source": [
        "# Save the model\n",
        "generator.save('generator.h5')\n",
        "discriminator.save('discriminator.h5')"
      ],
      "metadata": {
        "id": "kwvfcHF6dh1_"
      },
      "id": "kwvfcHF6dh1_",
      "execution_count": null,
      "outputs": []
    }
  ],
  "metadata": {
    "kernelspec": {
      "display_name": "Python 3",
      "language": "python",
      "name": "python3"
    },
    "colab": {
      "provenance": []
    },
    "widgets": {
      "application/vnd.jupyter.widget-state+json": {
        "b02aa7ee0094466e9f8b2dff2faeb481": {
          "model_module": "jupyter-leaflet",
          "model_name": "LeafletMapModel",
          "model_module_version": "^0.17",
          "state": {
            "_dom_classes": [],
            "_model_module": "jupyter-leaflet",
            "_model_module_version": "^0.17",
            "_model_name": "LeafletMapModel",
            "_view_count": null,
            "_view_module": "jupyter-leaflet",
            "_view_module_version": "^0.17",
            "_view_name": "LeafletMapView",
            "bottom": 6457,
            "bounce_at_zoom_limits": true,
            "box_zoom": true,
            "center": [
              40.763901280945866,
              34.74975585937501
            ],
            "close_popup_on_click": true,
            "controls": [
              "IPY_MODEL_4f5b630943c645eda03c0074caeae346",
              "IPY_MODEL_4ee3767b638d40ceaab21aca5ffae9ec",
              "IPY_MODEL_36833b9fdef24553b49b3cb61a6570c3",
              "IPY_MODEL_12e303b151234e2ca90f84d471207b8b",
              "IPY_MODEL_1f39ef521f5d47549c5b90746d840516",
              "IPY_MODEL_b22b2d5a32864559a70400bc5820e5cb",
              "IPY_MODEL_9df03f3a978a438c995424cfc518710b",
              "IPY_MODEL_16f2cf62894b4b0c8721e7b55b55a729"
            ],
            "crs": {
              "name": "EPSG3857",
              "custom": false
            },
            "default_style": "IPY_MODEL_ef52ab84f8d240a689fcf93b1a206921",
            "double_click_zoom": true,
            "dragging": true,
            "dragging_style": "IPY_MODEL_da0e5c17d9804e49a2cdd320ea9536fa",
            "east": 46.8017578125,
            "fullscreen": false,
            "inertia": true,
            "inertia_deceleration": 3000,
            "inertia_max_speed": 1500,
            "interpolation": "bilinear",
            "keyboard": true,
            "keyboard_pan_offset": 80,
            "keyboard_zoom_offset": 1,
            "layers": [
              "IPY_MODEL_b0fe9d166f3141d195ba8e5a2366542b",
              "IPY_MODEL_5b3ea12b8f13420c91c008159a4b878b",
              "IPY_MODEL_98e45063092945f8b9ef8e8283622329"
            ],
            "layout": "IPY_MODEL_87231556109846438c2943d5e3edbb87",
            "left": 9225,
            "max_zoom": 24,
            "min_zoom": null,
            "modisdate": "2022-12-06",
            "north": 45.5679096098613,
            "options": [
              "bounce_at_zoom_limits",
              "box_zoom",
              "center",
              "close_popup_on_click",
              "double_click_zoom",
              "dragging",
              "fullscreen",
              "inertia",
              "inertia_deceleration",
              "inertia_max_speed",
              "interpolation",
              "keyboard",
              "keyboard_pan_offset",
              "keyboard_zoom_offset",
              "max_zoom",
              "min_zoom",
              "prefer_canvas",
              "scroll_wheel_zoom",
              "tap",
              "tap_tolerance",
              "touch_zoom",
              "world_copy_jump",
              "zoom",
              "zoom_animation_threshold",
              "zoom_delta",
              "zoom_snap"
            ],
            "panes": {},
            "prefer_canvas": false,
            "right": 10322,
            "scroll_wheel_zoom": true,
            "south": 35.585851593232356,
            "style": "IPY_MODEL_ef52ab84f8d240a689fcf93b1a206921",
            "tap": true,
            "tap_tolerance": 15,
            "top": 5857,
            "touch_zoom": true,
            "west": 22.697753906250004,
            "window_url": "https://2yywzwz5s3u-496ff2e9c6d22116-0-colab.googleusercontent.com/outputframe.html?vrz=colab-20221205-060050-RC00_492958489",
            "world_copy_jump": false,
            "zoom": 6,
            "zoom_animation_threshold": 4,
            "zoom_delta": 1,
            "zoom_snap": 1
          }
        },
        "4f5b630943c645eda03c0074caeae346": {
          "model_module": "jupyter-leaflet",
          "model_name": "LeafletWidgetControlModel",
          "model_module_version": "^0.17",
          "state": {
            "_model_module": "jupyter-leaflet",
            "_model_module_version": "^0.17",
            "_model_name": "LeafletWidgetControlModel",
            "_view_count": null,
            "_view_module": "jupyter-leaflet",
            "_view_module_version": "^0.17",
            "_view_name": "LeafletWidgetControlView",
            "max_height": null,
            "max_width": null,
            "min_height": null,
            "min_width": null,
            "options": [
              "position",
              "transparent_bg"
            ],
            "position": "topleft",
            "transparent_bg": false,
            "widget": "IPY_MODEL_c801adbac18b4f1c85fd99bfc7fe0a31"
          }
        },
        "4ee3767b638d40ceaab21aca5ffae9ec": {
          "model_module": "jupyter-leaflet",
          "model_name": "LeafletZoomControlModel",
          "model_module_version": "^0.17",
          "state": {
            "_model_module": "jupyter-leaflet",
            "_model_module_version": "^0.17",
            "_model_name": "LeafletZoomControlModel",
            "_view_count": null,
            "_view_module": "jupyter-leaflet",
            "_view_module_version": "^0.17",
            "_view_name": "LeafletZoomControlView",
            "options": [
              "position",
              "zoom_in_text",
              "zoom_in_title",
              "zoom_out_text",
              "zoom_out_title"
            ],
            "position": "topleft",
            "zoom_in_text": "+",
            "zoom_in_title": "Zoom in",
            "zoom_out_text": "-",
            "zoom_out_title": "Zoom out"
          }
        },
        "36833b9fdef24553b49b3cb61a6570c3": {
          "model_module": "jupyter-leaflet",
          "model_name": "LeafletScaleControlModel",
          "model_module_version": "^0.17",
          "state": {
            "_model_module": "jupyter-leaflet",
            "_model_module_version": "^0.17",
            "_model_name": "LeafletScaleControlModel",
            "_view_count": null,
            "_view_module": "jupyter-leaflet",
            "_view_module_version": "^0.17",
            "_view_name": "LeafletScaleControlView",
            "imperial": true,
            "max_width": 100,
            "metric": true,
            "options": [
              "imperial",
              "max_width",
              "metric",
              "position",
              "update_when_idle"
            ],
            "position": "bottomleft",
            "update_when_idle": false
          }
        },
        "12e303b151234e2ca90f84d471207b8b": {
          "model_module": "jupyter-leaflet",
          "model_name": "LeafletFullScreenControlModel",
          "model_module_version": "^0.17",
          "state": {
            "_model_module": "jupyter-leaflet",
            "_model_module_version": "^0.17",
            "_model_name": "LeafletFullScreenControlModel",
            "_view_count": null,
            "_view_module": "jupyter-leaflet",
            "_view_module_version": "^0.17",
            "_view_name": "LeafletFullScreenControlView",
            "options": [
              "position"
            ],
            "position": "topleft"
          }
        },
        "1f39ef521f5d47549c5b90746d840516": {
          "model_module": "jupyter-leaflet",
          "model_name": "LeafletMeasureControlModel",
          "model_module_version": "^0.17",
          "state": {
            "_custom_units": {},
            "_model_module": "jupyter-leaflet",
            "_model_module_version": "^0.17",
            "_model_name": "LeafletMeasureControlModel",
            "_view_count": null,
            "_view_module": "jupyter-leaflet",
            "_view_module_version": "^0.17",
            "_view_name": "LeafletMeasureControlView",
            "active_color": "orange",
            "capture_z_index": 10000,
            "completed_color": "#C8F2BE",
            "options": [
              "active_color",
              "capture_z_index",
              "completed_color",
              "popup_options",
              "position",
              "primary_area_unit",
              "primary_length_unit",
              "secondary_area_unit",
              "secondary_length_unit"
            ],
            "popup_options": {
              "className": "leaflet-measure-resultpopup",
              "autoPanPadding": [
                10,
                10
              ]
            },
            "position": "bottomleft",
            "primary_area_unit": "acres",
            "primary_length_unit": "kilometers",
            "secondary_area_unit": null,
            "secondary_length_unit": null
          }
        },
        "b22b2d5a32864559a70400bc5820e5cb": {
          "model_module": "jupyter-leaflet",
          "model_name": "LeafletAttributionControlModel",
          "model_module_version": "^0.17",
          "state": {
            "_model_module": "jupyter-leaflet",
            "_model_module_version": "^0.17",
            "_model_name": "LeafletAttributionControlModel",
            "_view_count": null,
            "_view_module": "jupyter-leaflet",
            "_view_module_version": "^0.17",
            "_view_name": "LeafletAttributionControlView",
            "options": [
              "position",
              "prefix"
            ],
            "position": "bottomright",
            "prefix": "ipyleaflet"
          }
        },
        "9df03f3a978a438c995424cfc518710b": {
          "model_module": "jupyter-leaflet",
          "model_name": "LeafletDrawControlModel",
          "model_module_version": "^0.17",
          "state": {
            "_model_module": "jupyter-leaflet",
            "_model_module_version": "^0.17",
            "_model_name": "LeafletDrawControlModel",
            "_view_count": null,
            "_view_module": "jupyter-leaflet",
            "_view_module_version": "^0.17",
            "_view_name": "LeafletDrawControlView",
            "circle": {
              "shapeOptions": {
                "color": "#3388ff"
              }
            },
            "circlemarker": {},
            "data": [],
            "edit": true,
            "marker": {
              "shapeOptions": {
                "color": "#3388ff"
              }
            },
            "options": [
              "position"
            ],
            "polygon": {
              "shapeOptions": {}
            },
            "polyline": {
              "shapeOptions": {}
            },
            "position": "topleft",
            "rectangle": {
              "shapeOptions": {
                "color": "#3388ff"
              }
            },
            "remove": true
          }
        },
        "16f2cf62894b4b0c8721e7b55b55a729": {
          "model_module": "jupyter-leaflet",
          "model_name": "LeafletWidgetControlModel",
          "model_module_version": "^0.17",
          "state": {
            "_model_module": "jupyter-leaflet",
            "_model_module_version": "^0.17",
            "_model_name": "LeafletWidgetControlModel",
            "_view_count": null,
            "_view_module": "jupyter-leaflet",
            "_view_module_version": "^0.17",
            "_view_name": "LeafletWidgetControlView",
            "max_height": null,
            "max_width": null,
            "min_height": null,
            "min_width": null,
            "options": [
              "position",
              "transparent_bg"
            ],
            "position": "topright",
            "transparent_bg": false,
            "widget": "IPY_MODEL_85dada49067e46fda15893c28b7d0b70"
          }
        },
        "ef52ab84f8d240a689fcf93b1a206921": {
          "model_module": "jupyter-leaflet",
          "model_name": "LeafletMapStyleModel",
          "model_module_version": "^0.17",
          "state": {
            "_model_module": "jupyter-leaflet",
            "_model_module_version": "^0.17",
            "_model_name": "LeafletMapStyleModel",
            "_view_count": null,
            "_view_module": "@jupyter-widgets/base",
            "_view_module_version": "1.2.0",
            "_view_name": "StyleView",
            "cursor": "grab"
          }
        },
        "da0e5c17d9804e49a2cdd320ea9536fa": {
          "model_module": "jupyter-leaflet",
          "model_name": "LeafletMapStyleModel",
          "model_module_version": "^0.17",
          "state": {
            "_model_module": "jupyter-leaflet",
            "_model_module_version": "^0.17",
            "_model_name": "LeafletMapStyleModel",
            "_view_count": null,
            "_view_module": "@jupyter-widgets/base",
            "_view_module_version": "1.2.0",
            "_view_name": "StyleView",
            "cursor": "move"
          }
        },
        "b0fe9d166f3141d195ba8e5a2366542b": {
          "model_module": "jupyter-leaflet",
          "model_name": "LeafletTileLayerModel",
          "model_module_version": "^0.17",
          "state": {
            "_model_module": "jupyter-leaflet",
            "_model_module_version": "^0.17",
            "_model_name": "LeafletTileLayerModel",
            "_view_count": null,
            "_view_module": "jupyter-leaflet",
            "_view_module_version": "^0.17",
            "_view_name": "LeafletTileLayerView",
            "attribution": "&copy; <a href=\"https://www.openstreetmap.org/copyright\">OpenStreetMap</a> contributors",
            "base": true,
            "bottom": true,
            "bounds": null,
            "detect_retina": false,
            "loading": false,
            "max_native_zoom": null,
            "max_zoom": 19,
            "min_native_zoom": null,
            "min_zoom": 1,
            "name": "OpenStreetMap.Mapnik",
            "no_wrap": false,
            "opacity": 1,
            "options": [
              "attribution",
              "bounds",
              "detect_retina",
              "max_native_zoom",
              "max_zoom",
              "min_native_zoom",
              "min_zoom",
              "no_wrap",
              "tile_size",
              "tms",
              "zoom_offset"
            ],
            "pane": "",
            "popup": null,
            "popup_max_height": null,
            "popup_max_width": 300,
            "popup_min_width": 50,
            "show_loading": false,
            "subitems": [],
            "tile_size": 256,
            "tms": false,
            "url": "https://tile.openstreetmap.org/{z}/{x}/{y}.png",
            "visible": true,
            "zoom_offset": 0
          }
        },
        "5b3ea12b8f13420c91c008159a4b878b": {
          "model_module": "jupyter-leaflet",
          "model_name": "LeafletTileLayerModel",
          "model_module_version": "^0.17",
          "state": {
            "_model_module": "jupyter-leaflet",
            "_model_module_version": "^0.17",
            "_model_name": "LeafletTileLayerModel",
            "_view_count": null,
            "_view_module": "jupyter-leaflet",
            "_view_module_version": "^0.17",
            "_view_name": "LeafletTileLayerView",
            "attribution": "Google",
            "base": false,
            "bottom": true,
            "bounds": null,
            "detect_retina": false,
            "loading": false,
            "max_native_zoom": null,
            "max_zoom": 22,
            "min_native_zoom": null,
            "min_zoom": 0,
            "name": "Google Maps",
            "no_wrap": false,
            "opacity": 1,
            "options": [
              "attribution",
              "bounds",
              "detect_retina",
              "max_native_zoom",
              "max_zoom",
              "min_native_zoom",
              "min_zoom",
              "no_wrap",
              "tile_size",
              "tms",
              "zoom_offset"
            ],
            "pane": "",
            "popup": null,
            "popup_max_height": null,
            "popup_max_width": 300,
            "popup_min_width": 50,
            "show_loading": false,
            "subitems": [],
            "tile_size": 256,
            "tms": false,
            "url": "https://mt1.google.com/vt/lyrs=m&x={x}&y={y}&z={z}",
            "visible": true,
            "zoom_offset": 0
          }
        },
        "98e45063092945f8b9ef8e8283622329": {
          "model_module": "jupyter-leaflet",
          "model_name": "LeafletTileLayerModel",
          "model_module_version": "^0.17",
          "state": {
            "_model_module": "jupyter-leaflet",
            "_model_module_version": "^0.17",
            "_model_name": "LeafletTileLayerModel",
            "_view_count": null,
            "_view_module": "jupyter-leaflet",
            "_view_module_version": "^0.17",
            "_view_name": "LeafletTileLayerView",
            "attribution": "Google Earth Engine",
            "base": false,
            "bottom": true,
            "bounds": null,
            "detect_retina": false,
            "loading": false,
            "max_native_zoom": null,
            "max_zoom": 24,
            "min_native_zoom": null,
            "min_zoom": 0,
            "name": "Veg",
            "no_wrap": false,
            "opacity": 1,
            "options": [
              "attribution",
              "bounds",
              "detect_retina",
              "max_native_zoom",
              "max_zoom",
              "min_native_zoom",
              "min_zoom",
              "no_wrap",
              "tile_size",
              "tms",
              "zoom_offset"
            ],
            "pane": "",
            "popup": null,
            "popup_max_height": null,
            "popup_max_width": 300,
            "popup_min_width": 50,
            "show_loading": false,
            "subitems": [],
            "tile_size": 256,
            "tms": false,
            "url": "https://earthengine.googleapis.com/v1alpha/projects/earthengine-legacy/maps/61c581880da0d46c0d5b57c4b3a105b0-6aad9e45c860509c3080876bef60fe80/tiles/{z}/{x}/{y}",
            "visible": true,
            "zoom_offset": 0
          }
        },
        "87231556109846438c2943d5e3edbb87": {
          "model_module": "@jupyter-widgets/base",
          "model_name": "LayoutModel",
          "model_module_version": "1.2.0",
          "state": {
            "_model_module": "@jupyter-widgets/base",
            "_model_module_version": "1.2.0",
            "_model_name": "LayoutModel",
            "_view_count": null,
            "_view_module": "@jupyter-widgets/base",
            "_view_module_version": "1.2.0",
            "_view_name": "LayoutView",
            "align_content": null,
            "align_items": null,
            "align_self": null,
            "border": null,
            "bottom": null,
            "display": null,
            "flex": null,
            "flex_flow": null,
            "grid_area": null,
            "grid_auto_columns": null,
            "grid_auto_flow": null,
            "grid_auto_rows": null,
            "grid_column": null,
            "grid_gap": null,
            "grid_row": null,
            "grid_template_areas": null,
            "grid_template_columns": null,
            "grid_template_rows": null,
            "height": "600px",
            "justify_content": null,
            "justify_items": null,
            "left": null,
            "margin": null,
            "max_height": null,
            "max_width": null,
            "min_height": null,
            "min_width": null,
            "object_fit": null,
            "object_position": null,
            "order": null,
            "overflow": null,
            "overflow_x": null,
            "overflow_y": null,
            "padding": null,
            "right": null,
            "top": null,
            "visibility": null,
            "width": null
          }
        },
        "779b75a8570344d8b25b0dbf52ad6943": {
          "model_module": "jupyter-leaflet",
          "model_name": "LeafletMapStyleModel",
          "model_module_version": "^0.17",
          "state": {
            "_model_module": "jupyter-leaflet",
            "_model_module_version": "^0.17",
            "_model_name": "LeafletMapStyleModel",
            "_view_count": null,
            "_view_module": "@jupyter-widgets/base",
            "_view_module_version": "1.2.0",
            "_view_name": "StyleView",
            "cursor": "grab"
          }
        },
        "c801adbac18b4f1c85fd99bfc7fe0a31": {
          "model_module": "@jupyter-widgets/controls",
          "model_name": "HBoxModel",
          "model_module_version": "1.5.0",
          "state": {
            "_dom_classes": [],
            "_model_module": "@jupyter-widgets/controls",
            "_model_module_version": "1.5.0",
            "_model_name": "HBoxModel",
            "_view_count": null,
            "_view_module": "@jupyter-widgets/controls",
            "_view_module_version": "1.5.0",
            "_view_name": "HBoxView",
            "box_style": "",
            "children": [
              "IPY_MODEL_5b963ed3673d4cfc992d3bfc337cab0e"
            ],
            "layout": "IPY_MODEL_32b3b2760bf04ed681c38f4d5b917651"
          }
        },
        "85dada49067e46fda15893c28b7d0b70": {
          "model_module": "@jupyter-widgets/controls",
          "model_name": "VBoxModel",
          "model_module_version": "1.5.0",
          "state": {
            "_dom_classes": [],
            "_model_module": "@jupyter-widgets/controls",
            "_model_module_version": "1.5.0",
            "_model_name": "VBoxModel",
            "_view_count": null,
            "_view_module": "@jupyter-widgets/controls",
            "_view_module_version": "1.5.0",
            "_view_name": "VBoxView",
            "box_style": "",
            "children": [
              "IPY_MODEL_0a06edab65f34312aa41584082f8d0e8"
            ],
            "layout": "IPY_MODEL_699db6fecd1f45a8ab72ec4b4dfce484"
          }
        },
        "5b963ed3673d4cfc992d3bfc337cab0e": {
          "model_module": "@jupyter-widgets/controls",
          "model_name": "ToggleButtonModel",
          "model_module_version": "1.5.0",
          "state": {
            "_dom_classes": [],
            "_model_module": "@jupyter-widgets/controls",
            "_model_module_version": "1.5.0",
            "_model_name": "ToggleButtonModel",
            "_view_count": null,
            "_view_module": "@jupyter-widgets/controls",
            "_view_module_version": "1.5.0",
            "_view_name": "ToggleButtonView",
            "button_style": "",
            "description": "",
            "description_tooltip": null,
            "disabled": false,
            "icon": "globe",
            "layout": "IPY_MODEL_937d1b4cec5049d7a2c347a20b48c2d2",
            "style": "IPY_MODEL_586eeddf8fed401091081a2c74bfedde",
            "tooltip": "Search location/data",
            "value": false
          }
        },
        "32b3b2760bf04ed681c38f4d5b917651": {
          "model_module": "@jupyter-widgets/base",
          "model_name": "LayoutModel",
          "model_module_version": "1.2.0",
          "state": {
            "_model_module": "@jupyter-widgets/base",
            "_model_module_version": "1.2.0",
            "_model_name": "LayoutModel",
            "_view_count": null,
            "_view_module": "@jupyter-widgets/base",
            "_view_module_version": "1.2.0",
            "_view_name": "LayoutView",
            "align_content": null,
            "align_items": null,
            "align_self": null,
            "border": null,
            "bottom": null,
            "display": null,
            "flex": null,
            "flex_flow": null,
            "grid_area": null,
            "grid_auto_columns": null,
            "grid_auto_flow": null,
            "grid_auto_rows": null,
            "grid_column": null,
            "grid_gap": null,
            "grid_row": null,
            "grid_template_areas": null,
            "grid_template_columns": null,
            "grid_template_rows": null,
            "height": null,
            "justify_content": null,
            "justify_items": null,
            "left": null,
            "margin": null,
            "max_height": null,
            "max_width": null,
            "min_height": null,
            "min_width": null,
            "object_fit": null,
            "object_position": null,
            "order": null,
            "overflow": null,
            "overflow_x": null,
            "overflow_y": null,
            "padding": null,
            "right": null,
            "top": null,
            "visibility": null,
            "width": null
          }
        },
        "0a06edab65f34312aa41584082f8d0e8": {
          "model_module": "@jupyter-widgets/controls",
          "model_name": "ToggleButtonModel",
          "model_module_version": "1.5.0",
          "state": {
            "_dom_classes": [],
            "_model_module": "@jupyter-widgets/controls",
            "_model_module_version": "1.5.0",
            "_model_name": "ToggleButtonModel",
            "_view_count": null,
            "_view_module": "@jupyter-widgets/controls",
            "_view_module_version": "1.5.0",
            "_view_name": "ToggleButtonView",
            "button_style": "",
            "description": "",
            "description_tooltip": null,
            "disabled": false,
            "icon": "wrench",
            "layout": "IPY_MODEL_b779ecad469d46c58181a2c50bdc2534",
            "style": "IPY_MODEL_5eca3669930f421cad7a53ff7de17bc5",
            "tooltip": "Toolbar",
            "value": false
          }
        },
        "699db6fecd1f45a8ab72ec4b4dfce484": {
          "model_module": "@jupyter-widgets/base",
          "model_name": "LayoutModel",
          "model_module_version": "1.2.0",
          "state": {
            "_model_module": "@jupyter-widgets/base",
            "_model_module_version": "1.2.0",
            "_model_name": "LayoutModel",
            "_view_count": null,
            "_view_module": "@jupyter-widgets/base",
            "_view_module_version": "1.2.0",
            "_view_name": "LayoutView",
            "align_content": null,
            "align_items": null,
            "align_self": null,
            "border": null,
            "bottom": null,
            "display": null,
            "flex": null,
            "flex_flow": null,
            "grid_area": null,
            "grid_auto_columns": null,
            "grid_auto_flow": null,
            "grid_auto_rows": null,
            "grid_column": null,
            "grid_gap": null,
            "grid_row": null,
            "grid_template_areas": null,
            "grid_template_columns": null,
            "grid_template_rows": null,
            "height": null,
            "justify_content": null,
            "justify_items": null,
            "left": null,
            "margin": null,
            "max_height": null,
            "max_width": null,
            "min_height": null,
            "min_width": null,
            "object_fit": null,
            "object_position": null,
            "order": null,
            "overflow": null,
            "overflow_x": null,
            "overflow_y": null,
            "padding": null,
            "right": null,
            "top": null,
            "visibility": null,
            "width": null
          }
        },
        "937d1b4cec5049d7a2c347a20b48c2d2": {
          "model_module": "@jupyter-widgets/base",
          "model_name": "LayoutModel",
          "model_module_version": "1.2.0",
          "state": {
            "_model_module": "@jupyter-widgets/base",
            "_model_module_version": "1.2.0",
            "_model_name": "LayoutModel",
            "_view_count": null,
            "_view_module": "@jupyter-widgets/base",
            "_view_module_version": "1.2.0",
            "_view_name": "LayoutView",
            "align_content": null,
            "align_items": null,
            "align_self": null,
            "border": null,
            "bottom": null,
            "display": null,
            "flex": null,
            "flex_flow": null,
            "grid_area": null,
            "grid_auto_columns": null,
            "grid_auto_flow": null,
            "grid_auto_rows": null,
            "grid_column": null,
            "grid_gap": null,
            "grid_row": null,
            "grid_template_areas": null,
            "grid_template_columns": null,
            "grid_template_rows": null,
            "height": "28px",
            "justify_content": null,
            "justify_items": null,
            "left": null,
            "margin": null,
            "max_height": null,
            "max_width": null,
            "min_height": null,
            "min_width": null,
            "object_fit": null,
            "object_position": null,
            "order": null,
            "overflow": null,
            "overflow_x": null,
            "overflow_y": null,
            "padding": "0px 0px 0px 4px",
            "right": null,
            "top": null,
            "visibility": null,
            "width": "28px"
          }
        },
        "586eeddf8fed401091081a2c74bfedde": {
          "model_module": "@jupyter-widgets/controls",
          "model_name": "DescriptionStyleModel",
          "model_module_version": "1.5.0",
          "state": {
            "_model_module": "@jupyter-widgets/controls",
            "_model_module_version": "1.5.0",
            "_model_name": "DescriptionStyleModel",
            "_view_count": null,
            "_view_module": "@jupyter-widgets/base",
            "_view_module_version": "1.2.0",
            "_view_name": "StyleView",
            "description_width": ""
          }
        },
        "b779ecad469d46c58181a2c50bdc2534": {
          "model_module": "@jupyter-widgets/base",
          "model_name": "LayoutModel",
          "model_module_version": "1.2.0",
          "state": {
            "_model_module": "@jupyter-widgets/base",
            "_model_module_version": "1.2.0",
            "_model_name": "LayoutModel",
            "_view_count": null,
            "_view_module": "@jupyter-widgets/base",
            "_view_module_version": "1.2.0",
            "_view_name": "LayoutView",
            "align_content": null,
            "align_items": null,
            "align_self": null,
            "border": null,
            "bottom": null,
            "display": null,
            "flex": null,
            "flex_flow": null,
            "grid_area": null,
            "grid_auto_columns": null,
            "grid_auto_flow": null,
            "grid_auto_rows": null,
            "grid_column": null,
            "grid_gap": null,
            "grid_row": null,
            "grid_template_areas": null,
            "grid_template_columns": null,
            "grid_template_rows": null,
            "height": "28px",
            "justify_content": null,
            "justify_items": null,
            "left": null,
            "margin": null,
            "max_height": null,
            "max_width": null,
            "min_height": null,
            "min_width": null,
            "object_fit": null,
            "object_position": null,
            "order": null,
            "overflow": null,
            "overflow_x": null,
            "overflow_y": null,
            "padding": "0px 0px 0px 4px",
            "right": null,
            "top": null,
            "visibility": null,
            "width": "28px"
          }
        },
        "5eca3669930f421cad7a53ff7de17bc5": {
          "model_module": "@jupyter-widgets/controls",
          "model_name": "DescriptionStyleModel",
          "model_module_version": "1.5.0",
          "state": {
            "_model_module": "@jupyter-widgets/controls",
            "_model_module_version": "1.5.0",
            "_model_name": "DescriptionStyleModel",
            "_view_count": null,
            "_view_module": "@jupyter-widgets/base",
            "_view_module_version": "1.2.0",
            "_view_name": "StyleView",
            "description_width": ""
          }
        }
      }
    }
  },
  "nbformat": 4,
  "nbformat_minor": 5
}