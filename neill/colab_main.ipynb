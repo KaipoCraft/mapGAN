{
  "cells": [
    {
      "cell_type": "markdown",
      "source": [
        "# **Project: MapGAN**\n",
        "## Authors: Neill Shikada and Melanie Sharif\n",
        "## Professor: Robin Burke\n",
        "## Course: INFO5604"
      ],
      "metadata": {
        "id": "w542x3MZwRdf"
      },
      "id": "w542x3MZwRdf"
    },
    {
      "cell_type": "markdown",
      "source": [
        "If you want to run this code locally using Anaconda, follow the instructions [here](https://research.google.com/colaboratory/local-runtimes.html):\n",
        "1. Open Anaconda command prompt\n",
        "\n",
        "2. Ensure that Jupyter has the proper extensions enabled\n",
        "  `jupyter-serverextension enable jupyter_http_over_ws`\n",
        "\n",
        "3. Run Jupyter Notebook and allow access to Google Colab with this code\n",
        "  `jupyter notebook --NotebookApp.allow_origin='https://colab.research.google.com'`\n",
        "  \n",
        "4. Click the dropdown in the top left of Google Colab Notebook, select `Connect to a local runtime`\n",
        "\n",
        "5. Copy the `http://localhost:8888/?token=###`  link from the Anaconda command prompt\n",
        "\n",
        "6. Paste into the Google Colab url space\n",
        "\n",
        "7. It should connect! Then keep the Jupyter Notebook open the whole time you code as this is where your code is running locally"
      ],
      "metadata": {
        "id": "7S5rrTJkD0w5"
      },
      "id": "7S5rrTJkD0w5"
    },
    {
      "cell_type": "markdown",
      "source": [
        "# Import Dependencies"
      ],
      "metadata": {
        "id": "__3WS_MJuiAJ"
      },
      "id": "__3WS_MJuiAJ"
    },
    {
      "cell_type": "markdown",
      "source": [
        "1. Install any package that needs to be installed"
      ],
      "metadata": {
        "id": "bkeTuynkGKjm"
      },
      "id": "bkeTuynkGKjm"
    },
    {
      "cell_type": "code",
      "source": [
        "!pip install earthengine-api --upgrade"
      ],
      "metadata": {
        "colab": {
          "base_uri": "https://localhost:8080/"
        },
        "collapsed": true,
        "id": "IgZf3ITlukcv",
        "outputId": "2d234caa-bb76-4bae-e6bf-ae1774cac905"
      },
      "id": "IgZf3ITlukcv",
      "execution_count": 1,
      "outputs": [
        {
          "output_type": "stream",
          "name": "stdout",
          "text": [
            "Looking in indexes: https://pypi.org/simple, https://us-python.pkg.dev/colab-wheels/public/simple/\n",
            "Requirement already satisfied: earthengine-api in /usr/local/lib/python3.8/dist-packages (0.1.334)\n",
            "Requirement already satisfied: google-cloud-storage in /usr/local/lib/python3.8/dist-packages (from earthengine-api) (2.5.0)\n",
            "Requirement already satisfied: future in /usr/local/lib/python3.8/dist-packages (from earthengine-api) (0.16.0)\n",
            "Requirement already satisfied: google-api-python-client>=1.12.1 in /usr/local/lib/python3.8/dist-packages (from earthengine-api) (1.12.11)\n",
            "Requirement already satisfied: httplib2<1dev,>=0.9.2 in /usr/local/lib/python3.8/dist-packages (from earthengine-api) (0.17.4)\n",
            "Requirement already satisfied: google-auth>=1.4.1 in /usr/local/lib/python3.8/dist-packages (from earthengine-api) (2.15.0)\n",
            "Requirement already satisfied: requests in /usr/local/lib/python3.8/dist-packages (from earthengine-api) (2.23.0)\n",
            "Requirement already satisfied: six in /usr/local/lib/python3.8/dist-packages (from earthengine-api) (1.15.0)\n",
            "Requirement already satisfied: google-auth-httplib2>=0.0.3 in /usr/local/lib/python3.8/dist-packages (from earthengine-api) (0.0.4)\n",
            "Requirement already satisfied: google-api-core<3dev,>=1.21.0 in /usr/local/lib/python3.8/dist-packages (from google-api-python-client>=1.12.1->earthengine-api) (2.8.2)\n",
            "Requirement already satisfied: uritemplate<4dev,>=3.0.0 in /usr/local/lib/python3.8/dist-packages (from google-api-python-client>=1.12.1->earthengine-api) (3.0.1)\n",
            "Requirement already satisfied: protobuf<5.0.0dev,>=3.15.0 in /usr/local/lib/python3.8/dist-packages (from google-api-core<3dev,>=1.21.0->google-api-python-client>=1.12.1->earthengine-api) (3.19.6)\n",
            "Requirement already satisfied: googleapis-common-protos<2.0dev,>=1.56.2 in /usr/local/lib/python3.8/dist-packages (from google-api-core<3dev,>=1.21.0->google-api-python-client>=1.12.1->earthengine-api) (1.57.0)\n",
            "Requirement already satisfied: pyasn1-modules>=0.2.1 in /usr/local/lib/python3.8/dist-packages (from google-auth>=1.4.1->earthengine-api) (0.2.8)\n",
            "Requirement already satisfied: cachetools<6.0,>=2.0.0 in /usr/local/lib/python3.8/dist-packages (from google-auth>=1.4.1->earthengine-api) (5.2.0)\n",
            "Requirement already satisfied: rsa<5,>=3.1.4 in /usr/local/lib/python3.8/dist-packages (from google-auth>=1.4.1->earthengine-api) (4.9)\n",
            "Requirement already satisfied: pyasn1<0.5.0,>=0.4.6 in /usr/local/lib/python3.8/dist-packages (from pyasn1-modules>=0.2.1->google-auth>=1.4.1->earthengine-api) (0.4.8)\n",
            "Requirement already satisfied: urllib3!=1.25.0,!=1.25.1,<1.26,>=1.21.1 in /usr/local/lib/python3.8/dist-packages (from requests->earthengine-api) (1.24.3)\n",
            "Requirement already satisfied: certifi>=2017.4.17 in /usr/local/lib/python3.8/dist-packages (from requests->earthengine-api) (2022.9.24)\n",
            "Requirement already satisfied: chardet<4,>=3.0.2 in /usr/local/lib/python3.8/dist-packages (from requests->earthengine-api) (3.0.4)\n",
            "Requirement already satisfied: idna<3,>=2.5 in /usr/local/lib/python3.8/dist-packages (from requests->earthengine-api) (2.10)\n",
            "Requirement already satisfied: google-resumable-media>=2.3.2 in /usr/local/lib/python3.8/dist-packages (from google-cloud-storage->earthengine-api) (2.4.0)\n",
            "Requirement already satisfied: google-cloud-core<3.0dev,>=2.3.0 in /usr/local/lib/python3.8/dist-packages (from google-cloud-storage->earthengine-api) (2.3.2)\n",
            "Requirement already satisfied: google-crc32c<2.0dev,>=1.0 in /usr/local/lib/python3.8/dist-packages (from google-resumable-media>=2.3.2->google-cloud-storage->earthengine-api) (1.5.0)\n"
          ]
        }
      ]
    },
    {
      "cell_type": "code",
      "source": [
        "!pip install geemap"
      ],
      "metadata": {
        "id": "xkYRHXD0dhmB",
        "colab": {
          "base_uri": "https://localhost:8080/"
        },
        "outputId": "ff7ac6e9-5abe-47d7-df5e-25a80fde319e"
      },
      "id": "xkYRHXD0dhmB",
      "execution_count": 2,
      "outputs": [
        {
          "output_type": "stream",
          "name": "stdout",
          "text": [
            "Looking in indexes: https://pypi.org/simple, https://us-python.pkg.dev/colab-wheels/public/simple/\n",
            "Collecting geemap\n",
            "  Downloading geemap-0.19.0-py2.py3-none-any.whl (2.1 MB)\n",
            "\u001b[K     |████████████████████████████████| 2.1 MB 3.1 MB/s \n",
            "\u001b[?25hRequirement already satisfied: earthengine-api>=0.1.304 in /usr/local/lib/python3.8/dist-packages (from geemap) (0.1.334)\n",
            "Requirement already satisfied: pillow in /usr/local/lib/python3.8/dist-packages (from geemap) (7.1.2)\n",
            "Requirement already satisfied: pandas in /usr/local/lib/python3.8/dist-packages (from geemap) (1.3.5)\n",
            "Collecting pyshp>=2.1.3\n",
            "  Downloading pyshp-2.3.1-py2.py3-none-any.whl (46 kB)\n",
            "\u001b[K     |████████████████████████████████| 46 kB 2.0 MB/s \n",
            "\u001b[?25hCollecting xyzservices\n",
            "  Downloading xyzservices-2022.9.0-py3-none-any.whl (55 kB)\n",
            "\u001b[K     |████████████████████████████████| 55 kB 2.0 MB/s \n",
            "\u001b[?25hCollecting ipyleaflet>=0.17.0\n",
            "  Downloading ipyleaflet-0.17.2-py3-none-any.whl (3.7 MB)\n",
            "\u001b[K     |████████████████████████████████| 3.7 MB 6.0 MB/s \n",
            "\u001b[?25hCollecting ee-extra>=0.0.10\n",
            "  Downloading ee_extra-0.0.14.tar.gz (198 kB)\n",
            "\u001b[K     |████████████████████████████████| 198 kB 49.3 MB/s \n",
            "\u001b[?25hCollecting whiteboxgui>=0.6.0\n",
            "  Downloading whiteboxgui-2.2.0-py2.py3-none-any.whl (99 kB)\n",
            "\u001b[K     |████████████████████████████████| 99 kB 5.2 MB/s \n",
            "\u001b[?25hCollecting geocoder\n",
            "  Downloading geocoder-1.38.1-py2.py3-none-any.whl (98 kB)\n",
            "\u001b[K     |████████████████████████████████| 98 kB 4.6 MB/s \n",
            "\u001b[?25hCollecting colour\n",
            "  Downloading colour-0.1.5-py2.py3-none-any.whl (23 kB)\n",
            "Collecting ipytree\n",
            "  Downloading ipytree-0.2.2-py2.py3-none-any.whl (1.3 MB)\n",
            "\u001b[K     |████████████████████████████████| 1.3 MB 6.3 MB/s \n",
            "\u001b[?25hCollecting sankee>=0.1.0\n",
            "  Downloading sankee-0.2.0.tar.gz (29 kB)\n",
            "Collecting ipyfilechooser>=0.6.0\n",
            "  Downloading ipyfilechooser-0.6.0-py3-none-any.whl (11 kB)\n",
            "Requirement already satisfied: gdown in /usr/local/lib/python3.8/dist-packages (from geemap) (4.4.0)\n",
            "Collecting scooby\n",
            "  Downloading scooby-0.7.0-py3-none-any.whl (16 kB)\n",
            "Collecting geeadd>=0.5.1\n",
            "  Downloading geeadd-0.5.6-py3-none-any.whl (30 kB)\n",
            "Collecting bqplot\n",
            "  Downloading bqplot-0.12.36-py2.py3-none-any.whl (1.2 MB)\n",
            "\u001b[K     |████████████████████████████████| 1.2 MB 22.5 MB/s \n",
            "\u001b[?25hCollecting ipyevents\n",
            "  Downloading ipyevents-2.0.1-py2.py3-none-any.whl (130 kB)\n",
            "\u001b[K     |████████████████████████████████| 130 kB 18.8 MB/s \n",
            "\u001b[?25hRequirement already satisfied: folium>=0.11.0 in /usr/local/lib/python3.8/dist-packages (from geemap) (0.12.1.post1)\n",
            "Collecting geojson\n",
            "  Downloading geojson-2.5.0-py2.py3-none-any.whl (14 kB)\n",
            "Requirement already satisfied: numpy in /usr/local/lib/python3.8/dist-packages (from geemap) (1.21.6)\n",
            "Collecting pycrs\n",
            "  Downloading PyCRS-1.0.2.tar.gz (36 kB)\n",
            "Collecting python-box\n",
            "  Downloading python_box-6.1.0-cp38-cp38-manylinux_2_17_x86_64.manylinux2014_x86_64.whl (3.5 MB)\n",
            "\u001b[K     |████████████████████████████████| 3.5 MB 11.6 MB/s \n",
            "\u001b[?25hCollecting eerepr>=0.0.4\n",
            "  Downloading eerepr-0.0.4-py3-none-any.whl (9.7 kB)\n",
            "Requirement already satisfied: matplotlib in /usr/local/lib/python3.8/dist-packages (from geemap) (3.2.2)\n",
            "Collecting ffmpeg-python\n",
            "  Downloading ffmpeg_python-0.2.0-py3-none-any.whl (25 kB)\n",
            "Requirement already satisfied: future in /usr/local/lib/python3.8/dist-packages (from earthengine-api>=0.1.304->geemap) (0.16.0)\n",
            "Requirement already satisfied: google-auth>=1.4.1 in /usr/local/lib/python3.8/dist-packages (from earthengine-api>=0.1.304->geemap) (2.15.0)\n",
            "Requirement already satisfied: google-auth-httplib2>=0.0.3 in /usr/local/lib/python3.8/dist-packages (from earthengine-api>=0.1.304->geemap) (0.0.4)\n",
            "Requirement already satisfied: httplib2<1dev,>=0.9.2 in /usr/local/lib/python3.8/dist-packages (from earthengine-api>=0.1.304->geemap) (0.17.4)\n",
            "Requirement already satisfied: google-api-python-client>=1.12.1 in /usr/local/lib/python3.8/dist-packages (from earthengine-api>=0.1.304->geemap) (1.12.11)\n",
            "Requirement already satisfied: requests in /usr/local/lib/python3.8/dist-packages (from earthengine-api>=0.1.304->geemap) (2.23.0)\n",
            "Requirement already satisfied: six in /usr/local/lib/python3.8/dist-packages (from earthengine-api>=0.1.304->geemap) (1.15.0)\n",
            "Requirement already satisfied: google-cloud-storage in /usr/local/lib/python3.8/dist-packages (from earthengine-api>=0.1.304->geemap) (2.5.0)\n",
            "Requirement already satisfied: branca>=0.3.0 in /usr/local/lib/python3.8/dist-packages (from folium>=0.11.0->geemap) (0.6.0)\n",
            "Requirement already satisfied: jinja2>=2.9 in /usr/local/lib/python3.8/dist-packages (from folium>=0.11.0->geemap) (2.11.3)\n",
            "Collecting logzero>=1.5.0\n",
            "  Downloading logzero-1.7.0-py2.py3-none-any.whl (16 kB)\n",
            "Collecting beautifulsoup4>=4.9.0\n",
            "  Downloading beautifulsoup4-4.11.1-py3-none-any.whl (128 kB)\n",
            "\u001b[K     |████████████████████████████████| 128 kB 20.6 MB/s \n",
            "\u001b[?25hCollecting soupsieve>1.2\n",
            "  Downloading soupsieve-2.3.2.post1-py3-none-any.whl (37 kB)\n",
            "Requirement already satisfied: google-api-core<3dev,>=1.21.0 in /usr/local/lib/python3.8/dist-packages (from google-api-python-client>=1.12.1->earthengine-api>=0.1.304->geemap) (2.8.2)\n",
            "Requirement already satisfied: uritemplate<4dev,>=3.0.0 in /usr/local/lib/python3.8/dist-packages (from google-api-python-client>=1.12.1->earthengine-api>=0.1.304->geemap) (3.0.1)\n",
            "Requirement already satisfied: googleapis-common-protos<2.0dev,>=1.56.2 in /usr/local/lib/python3.8/dist-packages (from google-api-core<3dev,>=1.21.0->google-api-python-client>=1.12.1->earthengine-api>=0.1.304->geemap) (1.57.0)\n",
            "Requirement already satisfied: protobuf<5.0.0dev,>=3.15.0 in /usr/local/lib/python3.8/dist-packages (from google-api-core<3dev,>=1.21.0->google-api-python-client>=1.12.1->earthengine-api>=0.1.304->geemap) (3.19.6)\n",
            "Requirement already satisfied: cachetools<6.0,>=2.0.0 in /usr/local/lib/python3.8/dist-packages (from google-auth>=1.4.1->earthengine-api>=0.1.304->geemap) (5.2.0)\n",
            "Requirement already satisfied: pyasn1-modules>=0.2.1 in /usr/local/lib/python3.8/dist-packages (from google-auth>=1.4.1->earthengine-api>=0.1.304->geemap) (0.2.8)\n",
            "Requirement already satisfied: rsa<5,>=3.1.4 in /usr/local/lib/python3.8/dist-packages (from google-auth>=1.4.1->earthengine-api>=0.1.304->geemap) (4.9)\n",
            "Requirement already satisfied: ipywidgets in /usr/local/lib/python3.8/dist-packages (from ipyfilechooser>=0.6.0->geemap) (7.7.1)\n",
            "Collecting traittypes<3,>=0.2.1\n",
            "  Downloading traittypes-0.2.1-py2.py3-none-any.whl (8.6 kB)\n",
            "Requirement already satisfied: widgetsnbextension~=3.6.0 in /usr/local/lib/python3.8/dist-packages (from ipywidgets->ipyfilechooser>=0.6.0->geemap) (3.6.1)\n",
            "Requirement already satisfied: ipython>=4.0.0 in /usr/local/lib/python3.8/dist-packages (from ipywidgets->ipyfilechooser>=0.6.0->geemap) (7.9.0)\n",
            "Requirement already satisfied: ipykernel>=4.5.1 in /usr/local/lib/python3.8/dist-packages (from ipywidgets->ipyfilechooser>=0.6.0->geemap) (5.3.4)\n",
            "Requirement already satisfied: jupyterlab-widgets>=1.0.0 in /usr/local/lib/python3.8/dist-packages (from ipywidgets->ipyfilechooser>=0.6.0->geemap) (3.0.3)\n",
            "Requirement already satisfied: ipython-genutils~=0.2.0 in /usr/local/lib/python3.8/dist-packages (from ipywidgets->ipyfilechooser>=0.6.0->geemap) (0.2.0)\n",
            "Requirement already satisfied: traitlets>=4.3.1 in /usr/local/lib/python3.8/dist-packages (from ipywidgets->ipyfilechooser>=0.6.0->geemap) (5.6.0)\n",
            "Requirement already satisfied: tornado>=4.2 in /usr/local/lib/python3.8/dist-packages (from ipykernel>=4.5.1->ipywidgets->ipyfilechooser>=0.6.0->geemap) (6.0.4)\n",
            "Requirement already satisfied: jupyter-client in /usr/local/lib/python3.8/dist-packages (from ipykernel>=4.5.1->ipywidgets->ipyfilechooser>=0.6.0->geemap) (6.1.12)\n",
            "Requirement already satisfied: pexpect in /usr/local/lib/python3.8/dist-packages (from ipython>=4.0.0->ipywidgets->ipyfilechooser>=0.6.0->geemap) (4.8.0)\n",
            "Requirement already satisfied: decorator in /usr/local/lib/python3.8/dist-packages (from ipython>=4.0.0->ipywidgets->ipyfilechooser>=0.6.0->geemap) (4.4.2)\n",
            "Requirement already satisfied: pickleshare in /usr/local/lib/python3.8/dist-packages (from ipython>=4.0.0->ipywidgets->ipyfilechooser>=0.6.0->geemap) (0.7.5)\n",
            "Requirement already satisfied: pygments in /usr/local/lib/python3.8/dist-packages (from ipython>=4.0.0->ipywidgets->ipyfilechooser>=0.6.0->geemap) (2.6.1)\n",
            "Collecting jedi>=0.10\n",
            "  Downloading jedi-0.18.2-py2.py3-none-any.whl (1.6 MB)\n",
            "\u001b[K     |████████████████████████████████| 1.6 MB 45.1 MB/s \n",
            "\u001b[?25hRequirement already satisfied: backcall in /usr/local/lib/python3.8/dist-packages (from ipython>=4.0.0->ipywidgets->ipyfilechooser>=0.6.0->geemap) (0.2.0)\n",
            "Requirement already satisfied: prompt-toolkit<2.1.0,>=2.0.0 in /usr/local/lib/python3.8/dist-packages (from ipython>=4.0.0->ipywidgets->ipyfilechooser>=0.6.0->geemap) (2.0.10)\n",
            "Requirement already satisfied: setuptools>=18.5 in /usr/local/lib/python3.8/dist-packages (from ipython>=4.0.0->ipywidgets->ipyfilechooser>=0.6.0->geemap) (57.4.0)\n",
            "Requirement already satisfied: parso<0.9.0,>=0.8.0 in /usr/local/lib/python3.8/dist-packages (from jedi>=0.10->ipython>=4.0.0->ipywidgets->ipyfilechooser>=0.6.0->geemap) (0.8.3)\n",
            "Requirement already satisfied: MarkupSafe>=0.23 in /usr/local/lib/python3.8/dist-packages (from jinja2>=2.9->folium>=0.11.0->geemap) (2.0.1)\n",
            "Requirement already satisfied: wcwidth in /usr/local/lib/python3.8/dist-packages (from prompt-toolkit<2.1.0,>=2.0.0->ipython>=4.0.0->ipywidgets->ipyfilechooser>=0.6.0->geemap) (0.2.5)\n",
            "Requirement already satisfied: pyasn1<0.5.0,>=0.4.6 in /usr/local/lib/python3.8/dist-packages (from pyasn1-modules>=0.2.1->google-auth>=1.4.1->earthengine-api>=0.1.304->geemap) (0.4.8)\n",
            "Requirement already satisfied: urllib3!=1.25.0,!=1.25.1,<1.26,>=1.21.1 in /usr/local/lib/python3.8/dist-packages (from requests->earthengine-api>=0.1.304->geemap) (1.24.3)\n",
            "Requirement already satisfied: idna<3,>=2.5 in /usr/local/lib/python3.8/dist-packages (from requests->earthengine-api>=0.1.304->geemap) (2.10)\n",
            "Requirement already satisfied: certifi>=2017.4.17 in /usr/local/lib/python3.8/dist-packages (from requests->earthengine-api>=0.1.304->geemap) (2022.9.24)\n",
            "Requirement already satisfied: chardet<4,>=3.0.2 in /usr/local/lib/python3.8/dist-packages (from requests->earthengine-api>=0.1.304->geemap) (3.0.4)\n",
            "Requirement already satisfied: plotly>=5.2.2 in /usr/local/lib/python3.8/dist-packages (from sankee>=0.1.0->geemap) (5.5.0)\n",
            "Requirement already satisfied: tenacity>=6.2.0 in /usr/local/lib/python3.8/dist-packages (from plotly>=5.2.2->sankee>=0.1.0->geemap) (8.1.0)\n",
            "Collecting whitebox\n",
            "  Downloading whitebox-2.2.0-py2.py3-none-any.whl (79 kB)\n",
            "\u001b[K     |████████████████████████████████| 79 kB 1.0 MB/s \n",
            "\u001b[?25hRequirement already satisfied: notebook>=4.4.1 in /usr/local/lib/python3.8/dist-packages (from widgetsnbextension~=3.6.0->ipywidgets->ipyfilechooser>=0.6.0->geemap) (5.7.16)\n",
            "Requirement already satisfied: pyzmq>=17 in /usr/local/lib/python3.8/dist-packages (from notebook>=4.4.1->widgetsnbextension~=3.6.0->ipywidgets->ipyfilechooser>=0.6.0->geemap) (23.2.1)\n",
            "Requirement already satisfied: jupyter-core>=4.4.0 in /usr/local/lib/python3.8/dist-packages (from notebook>=4.4.1->widgetsnbextension~=3.6.0->ipywidgets->ipyfilechooser>=0.6.0->geemap) (5.1.0)\n",
            "Requirement already satisfied: nbformat in /usr/local/lib/python3.8/dist-packages (from notebook>=4.4.1->widgetsnbextension~=3.6.0->ipywidgets->ipyfilechooser>=0.6.0->geemap) (5.7.0)\n",
            "Requirement already satisfied: prometheus-client in /usr/local/lib/python3.8/dist-packages (from notebook>=4.4.1->widgetsnbextension~=3.6.0->ipywidgets->ipyfilechooser>=0.6.0->geemap) (0.15.0)\n",
            "Requirement already satisfied: nbconvert<6.0 in /usr/local/lib/python3.8/dist-packages (from notebook>=4.4.1->widgetsnbextension~=3.6.0->ipywidgets->ipyfilechooser>=0.6.0->geemap) (5.6.1)\n",
            "Requirement already satisfied: Send2Trash in /usr/local/lib/python3.8/dist-packages (from notebook>=4.4.1->widgetsnbextension~=3.6.0->ipywidgets->ipyfilechooser>=0.6.0->geemap) (1.8.0)\n",
            "Requirement already satisfied: terminado>=0.8.1 in /usr/local/lib/python3.8/dist-packages (from notebook>=4.4.1->widgetsnbextension~=3.6.0->ipywidgets->ipyfilechooser>=0.6.0->geemap) (0.13.3)\n",
            "Requirement already satisfied: python-dateutil>=2.1 in /usr/local/lib/python3.8/dist-packages (from jupyter-client->ipykernel>=4.5.1->ipywidgets->ipyfilechooser>=0.6.0->geemap) (2.8.2)\n",
            "Requirement already satisfied: platformdirs>=2.5 in /usr/local/lib/python3.8/dist-packages (from jupyter-core>=4.4.0->notebook>=4.4.1->widgetsnbextension~=3.6.0->ipywidgets->ipyfilechooser>=0.6.0->geemap) (2.5.4)\n",
            "Requirement already satisfied: pandocfilters>=1.4.1 in /usr/local/lib/python3.8/dist-packages (from nbconvert<6.0->notebook>=4.4.1->widgetsnbextension~=3.6.0->ipywidgets->ipyfilechooser>=0.6.0->geemap) (1.5.0)\n",
            "Requirement already satisfied: mistune<2,>=0.8.1 in /usr/local/lib/python3.8/dist-packages (from nbconvert<6.0->notebook>=4.4.1->widgetsnbextension~=3.6.0->ipywidgets->ipyfilechooser>=0.6.0->geemap) (0.8.4)\n",
            "Requirement already satisfied: bleach in /usr/local/lib/python3.8/dist-packages (from nbconvert<6.0->notebook>=4.4.1->widgetsnbextension~=3.6.0->ipywidgets->ipyfilechooser>=0.6.0->geemap) (5.0.1)\n",
            "Requirement already satisfied: entrypoints>=0.2.2 in /usr/local/lib/python3.8/dist-packages (from nbconvert<6.0->notebook>=4.4.1->widgetsnbextension~=3.6.0->ipywidgets->ipyfilechooser>=0.6.0->geemap) (0.4)\n",
            "Requirement already satisfied: defusedxml in /usr/local/lib/python3.8/dist-packages (from nbconvert<6.0->notebook>=4.4.1->widgetsnbextension~=3.6.0->ipywidgets->ipyfilechooser>=0.6.0->geemap) (0.7.1)\n",
            "Requirement already satisfied: testpath in /usr/local/lib/python3.8/dist-packages (from nbconvert<6.0->notebook>=4.4.1->widgetsnbextension~=3.6.0->ipywidgets->ipyfilechooser>=0.6.0->geemap) (0.6.0)\n",
            "Requirement already satisfied: fastjsonschema in /usr/local/lib/python3.8/dist-packages (from nbformat->notebook>=4.4.1->widgetsnbextension~=3.6.0->ipywidgets->ipyfilechooser>=0.6.0->geemap) (2.16.2)\n",
            "Requirement already satisfied: jsonschema>=2.6 in /usr/local/lib/python3.8/dist-packages (from nbformat->notebook>=4.4.1->widgetsnbextension~=3.6.0->ipywidgets->ipyfilechooser>=0.6.0->geemap) (4.3.3)\n",
            "Requirement already satisfied: importlib-resources>=1.4.0 in /usr/local/lib/python3.8/dist-packages (from jsonschema>=2.6->nbformat->notebook>=4.4.1->widgetsnbextension~=3.6.0->ipywidgets->ipyfilechooser>=0.6.0->geemap) (5.10.0)\n",
            "Requirement already satisfied: pyrsistent!=0.17.0,!=0.17.1,!=0.17.2,>=0.14.0 in /usr/local/lib/python3.8/dist-packages (from jsonschema>=2.6->nbformat->notebook>=4.4.1->widgetsnbextension~=3.6.0->ipywidgets->ipyfilechooser>=0.6.0->geemap) (0.19.2)\n",
            "Requirement already satisfied: attrs>=17.4.0 in /usr/local/lib/python3.8/dist-packages (from jsonschema>=2.6->nbformat->notebook>=4.4.1->widgetsnbextension~=3.6.0->ipywidgets->ipyfilechooser>=0.6.0->geemap) (22.1.0)\n",
            "Requirement already satisfied: zipp>=3.1.0 in /usr/local/lib/python3.8/dist-packages (from importlib-resources>=1.4.0->jsonschema>=2.6->nbformat->notebook>=4.4.1->widgetsnbextension~=3.6.0->ipywidgets->ipyfilechooser>=0.6.0->geemap) (3.11.0)\n",
            "Requirement already satisfied: ptyprocess in /usr/local/lib/python3.8/dist-packages (from terminado>=0.8.1->notebook>=4.4.1->widgetsnbextension~=3.6.0->ipywidgets->ipyfilechooser>=0.6.0->geemap) (0.7.0)\n",
            "Requirement already satisfied: webencodings in /usr/local/lib/python3.8/dist-packages (from bleach->nbconvert<6.0->notebook>=4.4.1->widgetsnbextension~=3.6.0->ipywidgets->ipyfilechooser>=0.6.0->geemap) (0.5.1)\n",
            "Requirement already satisfied: pytz>=2017.3 in /usr/local/lib/python3.8/dist-packages (from pandas->geemap) (2022.6)\n",
            "Requirement already satisfied: filelock in /usr/local/lib/python3.8/dist-packages (from gdown->geemap) (3.8.0)\n",
            "Requirement already satisfied: tqdm in /usr/local/lib/python3.8/dist-packages (from gdown->geemap) (4.64.1)\n",
            "Collecting ratelim\n",
            "  Downloading ratelim-0.1.6-py2.py3-none-any.whl (4.0 kB)\n",
            "Requirement already satisfied: click in /usr/local/lib/python3.8/dist-packages (from geocoder->geemap) (7.1.2)\n",
            "Requirement already satisfied: google-cloud-core<3.0dev,>=2.3.0 in /usr/local/lib/python3.8/dist-packages (from google-cloud-storage->earthengine-api>=0.1.304->geemap) (2.3.2)\n",
            "Requirement already satisfied: google-resumable-media>=2.3.2 in /usr/local/lib/python3.8/dist-packages (from google-cloud-storage->earthengine-api>=0.1.304->geemap) (2.4.0)\n",
            "Requirement already satisfied: google-crc32c<2.0dev,>=1.0 in /usr/local/lib/python3.8/dist-packages (from google-resumable-media>=2.3.2->google-cloud-storage->earthengine-api>=0.1.304->geemap) (1.5.0)\n",
            "Requirement already satisfied: cycler>=0.10 in /usr/local/lib/python3.8/dist-packages (from matplotlib->geemap) (0.11.0)\n",
            "Requirement already satisfied: pyparsing!=2.0.4,!=2.1.2,!=2.1.6,>=2.0.1 in /usr/local/lib/python3.8/dist-packages (from matplotlib->geemap) (3.0.9)\n",
            "Requirement already satisfied: kiwisolver>=1.0.1 in /usr/local/lib/python3.8/dist-packages (from matplotlib->geemap) (1.4.4)\n",
            "Requirement already satisfied: PySocks!=1.5.7,>=1.5.6 in /usr/local/lib/python3.8/dist-packages (from requests->earthengine-api>=0.1.304->geemap) (1.7.1)\n",
            "Building wheels for collected packages: ee-extra, sankee, pycrs\n",
            "  Building wheel for ee-extra (setup.py) ... \u001b[?25l\u001b[?25hdone\n",
            "  Created wheel for ee-extra: filename=ee_extra-0.0.14-py3-none-any.whl size=209116 sha256=4f388e79bb3c13526437aaac50717fba6d863ec38b5741778d95fc1bb0eded10\n",
            "  Stored in directory: /root/.cache/pip/wheels/0f/38/3a/2e67f6d7202f45758a40499d6d4426fd8047813d168b042645\n",
            "  Building wheel for sankee (setup.py) ... \u001b[?25l\u001b[?25hdone\n",
            "  Created wheel for sankee: filename=sankee-0.2.0-py3-none-any.whl size=28746 sha256=713271b9579fa2f71e9b2b270424b35f6f3b5b643a32f855e74cc28f7d2c5199\n",
            "  Stored in directory: /root/.cache/pip/wheels/ea/27/fa/1381c4b685dee631e75b900b8e0eb0df9c233a4cbdf55f7d3d\n",
            "  Building wheel for pycrs (setup.py) ... \u001b[?25l\u001b[?25hdone\n",
            "  Created wheel for pycrs: filename=PyCRS-1.0.2-py3-none-any.whl size=32703 sha256=cbdc72e3d56cdbae1f148fcf9e9c1d4f651626cd09cb6720ac266f403fca41d9\n",
            "  Stored in directory: /root/.cache/pip/wheels/c1/e9/f3/19ecf82bebc5cdaba5c2a83f673f7b9b09c26fbc9b57534a2e\n",
            "Successfully built ee-extra sankee pycrs\n",
            "Installing collected packages: jedi, soupsieve, xyzservices, whitebox, traittypes, ratelim, logzero, ipytree, ipyfilechooser, beautifulsoup4, whiteboxgui, scooby, sankee, python-box, pyshp, pycrs, ipyleaflet, ipyevents, geojson, geocoder, geeadd, ffmpeg-python, eerepr, ee-extra, colour, bqplot, geemap\n",
            "  Attempting uninstall: beautifulsoup4\n",
            "    Found existing installation: beautifulsoup4 4.6.3\n",
            "    Uninstalling beautifulsoup4-4.6.3:\n",
            "      Successfully uninstalled beautifulsoup4-4.6.3\n",
            "Successfully installed beautifulsoup4-4.11.1 bqplot-0.12.36 colour-0.1.5 ee-extra-0.0.14 eerepr-0.0.4 ffmpeg-python-0.2.0 geeadd-0.5.6 geemap-0.19.0 geocoder-1.38.1 geojson-2.5.0 ipyevents-2.0.1 ipyfilechooser-0.6.0 ipyleaflet-0.17.2 ipytree-0.2.2 jedi-0.18.2 logzero-1.7.0 pycrs-1.0.2 pyshp-2.3.1 python-box-6.1.0 ratelim-0.1.6 sankee-0.2.0 scooby-0.7.0 soupsieve-2.3.2.post1 traittypes-0.2.1 whitebox-2.2.0 whiteboxgui-2.2.0 xyzservices-2022.9.0\n"
          ]
        }
      ]
    },
    {
      "cell_type": "markdown",
      "source": [
        "2. Install packages to build neural network"
      ],
      "metadata": {
        "id": "X3Ru228E7GtD"
      },
      "id": "X3Ru228E7GtD"
    },
    {
      "cell_type": "code",
      "source": [
        "import scipy as sp    # import scipy for \n",
        "import pandas as pd   # import pandas for data formatting\n",
        "import numpy as np    # import numpy for data formatting"
      ],
      "metadata": {
        "id": "FJUK4Fs8c88h"
      },
      "execution_count": 3,
      "outputs": [],
      "id": "FJUK4Fs8c88h"
    },
    {
      "cell_type": "code",
      "source": [
        "import matplotlib.pyplot as plt\n",
        "import seaborn as sb"
      ],
      "metadata": {
        "id": "n1R45WD4dA4-"
      },
      "execution_count": 4,
      "outputs": [],
      "id": "n1R45WD4dA4-"
    },
    {
      "cell_type": "code",
      "source": [
        "import tensorflow as tf"
      ],
      "metadata": {
        "id": "jMxsrV_-dB19"
      },
      "execution_count": 5,
      "outputs": [],
      "id": "jMxsrV_-dB19"
    },
    {
      "cell_type": "code",
      "source": [
        "from tensorflow.keras.layers import Input, Reshape, Dropout, Dense \n",
        "from tensorflow.keras.layers import Flatten, BatchNormalization\n",
        "from tensorflow.keras.layers import Activation, ZeroPadding2D\n",
        "from tensorflow.keras.layers import LeakyReLU\n",
        "from tensorflow.keras.layers import UpSampling2D, Conv2D\n",
        "from tensorflow.keras.models import Sequential, Model, load_model\n",
        "from tensorflow.keras.optimizers import Adam, SGD"
      ],
      "metadata": {
        "id": "6_GfV0gddCxc"
      },
      "execution_count": 6,
      "outputs": [],
      "id": "6_GfV0gddCxc"
    },
    {
      "cell_type": "code",
      "source": [
        "from PIL import Image\n",
        "from tqdm import tqdm\n",
        "import os \n",
        "import time"
      ],
      "metadata": {
        "id": "tGC1favvdE9Q"
      },
      "execution_count": 7,
      "outputs": [],
      "id": "tGC1favvdE9Q"
    },
    {
      "cell_type": "markdown",
      "source": [
        "3. Install Google libraries"
      ],
      "metadata": {
        "id": "mh7itzRJ7MtA"
      },
      "id": "mh7itzRJ7MtA"
    },
    {
      "cell_type": "code",
      "source": [
        "# geemap is Google Earth Engine's bespoke visualization library\n",
        "import geemap"
      ],
      "metadata": {
        "id": "WZb5tcLQdenT"
      },
      "id": "WZb5tcLQdenT",
      "execution_count": 8,
      "outputs": []
    },
    {
      "cell_type": "code",
      "source": [
        "# Enable access to Google Earth Engine. If you are running this locally, you have to right click and open the link in a new tab (otherwise it'll come up with an error)\n",
        "import ee\n",
        "ee.Authenticate()\n",
        "ee.Initialize()"
      ],
      "metadata": {
        "id": "d-0ZpX5FxLLB",
        "outputId": "9d6778c2-b84f-4393-9ae1-cdee45efd377",
        "colab": {
          "base_uri": "https://localhost:8080/"
        }
      },
      "id": "d-0ZpX5FxLLB",
      "execution_count": 9,
      "outputs": [
        {
          "output_type": "stream",
          "name": "stdout",
          "text": [
            "To authorize access needed by Earth Engine, open the following URL in a web browser and follow the instructions. If the web browser does not start automatically, please manually browse the URL below.\n",
            "\n",
            "    https://code.earthengine.google.com/client-auth?scopes=https%3A//www.googleapis.com/auth/earthengine%20https%3A//www.googleapis.com/auth/devstorage.full_control&request_id=RjZDx-M2sqa6s4YmgBdhDIRd3SylrM-PyB4gtxdFa_Q&tc=ULmsrpJYGHgf9dvjF0FEfTWOmLy8suw4LK3D4gcK1Fg&cc=X0JJGjt_MMQJ1E-CrvdpeXOk4-WB9Sh1SSBH2RJPfRU\n",
            "\n",
            "The authorization workflow will generate a code, which you should paste in the box below.\n",
            "Enter verification code: 4/1AfgeXvucmK1PN_pnKTwvjNHbUvEX8uDqS7ifcRPIg4MhdhsAjBVysAnOYG0\n",
            "\n",
            "Successfully saved authorization token.\n"
          ]
        }
      ]
    },
    {
      "cell_type": "code",
      "source": [
        "# Import Google drive so we can export our data and models\n",
        "from google.colab import drive\n",
        "drive.mount('/content/drive')"
      ],
      "metadata": {
        "colab": {
          "base_uri": "https://localhost:8080/"
        },
        "id": "xs6GsvrC8cEk",
        "outputId": "9b23a0e5-e131-42b4-e060-befb3ac98069"
      },
      "id": "xs6GsvrC8cEk",
      "execution_count": 10,
      "outputs": [
        {
          "output_type": "stream",
          "name": "stdout",
          "text": [
            "Mounted at /content/drive\n"
          ]
        }
      ]
    },
    {
      "cell_type": "markdown",
      "source": [
        "# Define Variables"
      ],
      "metadata": {
        "id": "Li2LZslrTYk5"
      },
      "id": "Li2LZslrTYk5"
    },
    {
      "cell_type": "markdown",
      "source": [
        "## Specify Cloud Storage Bucket\n",
        "Google Colab uses Google Storage Buckets to run any code, so you have to have one and specify it!"
      ],
      "metadata": {
        "id": "9zidoREnTfxV"
      },
      "id": "9zidoREnTfxV"
    },
    {
      "cell_type": "code",
      "source": [
        "OUTPUT_BUCKET = '/content/drive/MyDrive/mapGAN/output'"
      ],
      "metadata": {
        "id": "F6PLnlFgTy7e"
      },
      "id": "F6PLnlFgTy7e",
      "execution_count": 20,
      "outputs": []
    },
    {
      "cell_type": "markdown",
      "source": [
        "Define database variables. Here, we're using a database of [global settlement patterns](https://developers.google.com/earth-engine/datasets/catalog/DLR_WSF_WSF2015_v1) and [Landsat 9 imagery](https://developers.google.com/earth-engine/datasets/catalog/LANDSAT_LC09_C02_T1?hl=en)"
      ],
      "metadata": {
        "id": "T35-bcEYT2Pw"
      },
      "id": "T35-bcEYT2Pw"
    },
    {
      "cell_type": "code",
      "source": [
        "L8SR = ee.ImageCollection('LANDSAT/LC08/C01/T1_SR')"
      ],
      "metadata": {
        "id": "MB-MFbpSKMZt"
      },
      "id": "MB-MFbpSKMZt",
      "execution_count": 21,
      "outputs": []
    },
    {
      "cell_type": "markdown",
      "source": [
        "Define the file paths for data"
      ],
      "metadata": {
        "id": "pwk8N_TbVdgw"
      },
      "id": "pwk8N_TbVdgw"
    },
    {
      "cell_type": "code",
      "source": [
        "TRAIN_FILE_PREFIX = 'Training_demo'\n",
        "TEST_FILE_PREFIX = 'Testing_demo'\n",
        "file_extension = '.tfrecord.gz'\n",
        "TRAIN_FILE_PATH = 'gs://' + OUTPUT_BUCKET + '/' + TRAIN_FILE_PREFIX + file_extension\n",
        "TEST_FILE_PATH = 'gs://' + OUTPUT_BUCKET + '/' + TEST_FILE_PREFIX + file_extension\n"
      ],
      "metadata": {
        "id": "Z1aMAAPjVTih"
      },
      "id": "Z1aMAAPjVTih",
      "execution_count": 22,
      "outputs": []
    },
    {
      "cell_type": "code",
      "source": [
        "# Use these bands for prediction.\n",
        "# The bands are different for each dataset in Earth Engine, but we are looking for the raw RGB values of the images\n",
        "BANDS = ['B4', 'B3', 'B2']\n",
        "\n",
        "# These names are used to specify properties in the export of\n",
        "# training/testing data and to define the mapping between names and data\n",
        "# when reading into TensorFlow datasets.\n",
        "FEATURE_NAMES = list(BANDS)\n",
        "\n",
        "# File names for the training and testing datasets.  These TFRecord files\n",
        "# will be exported from Earth Engine into the Cloud Storage bucket.\n",
        "TRAIN_FILE_PREFIX = 'Training'\n",
        "FILE_EXT = '.tfrecord.gz'\n",
        "TRAIN_FILE_PATH = 'gs://' + OUTPUT_BUCKET + '/' + TRAIN_FILE_PREFIX + file_extension\n",
        "\n",
        "# File name for the prediction (image) dataset.  The trained model will read\n",
        "# this dataset and make predictions in each pixel.\n",
        "IMAGE_FILE_PREFIX = 'Image_pixel'\n",
        "\n",
        "# The output path for the classified image (i.e. predictions) TFRecord file.\n",
        "OUTPUT_IMAGE_FILE = 'gs://' + OUTPUT_BUCKET + '/Classified_pixel.TFRecord'"
      ],
      "metadata": {
        "id": "uZRT7skbxbWO"
      },
      "id": "uZRT7skbxbWO",
      "execution_count": 23,
      "outputs": []
    },
    {
      "cell_type": "markdown",
      "source": [
        "## Define the Coordinate Feature Collection\n",
        "A feature collection is a type of dataset standard in Google Earth Engine. In this one, we're creating a library of coordinates corresponding to the megacities of the world. For our purposes, a megacity is any city with a population of more than 10 million people. This list was made according to [this Wikipedia article](https://en.wikipedia.org/wiki/Megacity)"
      ],
      "metadata": {
        "id": "dbndwDWk3cXy"
      },
      "id": "dbndwDWk3cXy"
    },
    {
      "cell_type": "code",
      "source": [
        "# https://mbonnema.github.io/GoogleEarthEngine/05-time-series/\n",
        "# https://developers.google.com/earth-engine/apidocs/ee-featurecollection\n",
        "# https://developers.google.com/earth-engine/apidocs/ee-geometry-point-coordinates\n",
        "\n",
        "megacitiesDict = [\n",
        "  ee.Feature(ee.Geometry.Point(77.3530, 12.5844), {'city': 'Bangalore'}),\n",
        "  ee.Feature(ee.Geometry.Point(100.2939, 13.4509), {'city': 'Bangkok'}),\n",
        "  ee.Feature(ee.Geometry.Point(116.2351, 39.5424 ), {'city': 'Beijing'}),\n",
        "  ee.Feature(ee.Geometry.Point(-74.420, 4.4240), {'city': 'Bogota'}),\n",
        "  ee.Feature(ee.Geometry.Point(-58.2254, -34.3612), {'city': 'Buenos Aires'}),\n",
        "  ee.Feature(ee.Geometry.Point(31.14, 30.02), {'city': 'Cairo'}),\n",
        "  ee.Feature(ee.Geometry.Point(104.0348, 30.3936), {'city': 'Chengdu'}),\n",
        "  ee.Feature(ee.Geometry.Point(80.16145, 13.04577), {'city': 'Chennai'}),\n",
        "  ee.Feature(ee.Geometry.Point(106.3301, 29.3349), {'city': 'Chongqing'}),\n",
        "  ee.Feature(ee.Geometry.Point(77.1348, 28.3636), {'city': 'Delhi'}),\n",
        "  ee.Feature(ee.Geometry.Point(90.2320, 23.4550), {'city': 'Dhaka'}),\n",
        "  ee.Feature(ee.Geometry.Point(113.1536, 23.0748), {'city': 'Guangzhou'}),\n",
        "  ee.Feature(ee.Geometry.Point(120.0911, 30.1601), {'city': 'Huangzhou'}),\n",
        "  ee.Feature(ee.Geometry.Point(106.4207, 10.4632), {'city': 'Ho Chi Minh City'}),\n",
        "  ee.Feature(ee.Geometry.Point(78.29121, 17.23060), {'city': 'Hyderabad'}),\n",
        "  ee.Feature(ee.Geometry.Point(28.5718, 41.0049), {'city': 'Istanbul'}),\n",
        "  ee.Feature(ee.Geometry.Point(106.4939, -6.1030), {'city': 'Jakarta'}),\n",
        "  ee.Feature(ee.Geometry.Point(28.244, -26.1216), {'city': 'Johannesburg'}),\n",
        "  ee.Feature(ee.Geometry.Point(67.036, 24.5136), {'city': 'Karachi'}),\n",
        "  ee.Feature(ee.Geometry.Point(15.1920, -4.1930), {'city': 'Kinshasa'}),\n",
        "  ee.Feature(ee.Geometry.Point(88.2212, 22.3403), {'city': 'Kolkata'}),\n",
        "  ee.Feature(ee.Geometry.Point(3.384082, 6.455027), {'city': 'Lagos'}),\n",
        "  ee.Feature(ee.Geometry.Point(74.2037, 31.3259), {'city': 'Lahore'}),\n",
        "  ee.Feature(ee.Geometry.Point(-77.0215, -12.0336), {'city': 'Lima'}),\n",
        "  ee.Feature(ee.Geometry.Point(-0.739, 51.3026), {'city': 'London'}),\n",
        "  ee.Feature(ee.Geometry.Point(-118.15, 34.03), {'city': 'Los Angeles'}),\n",
        "  ee.Feature(ee.Geometry.Point(121, 14.58), {'city': 'Metro Manila'}),\n",
        "  ee.Feature(ee.Geometry.Point(-99.8, 19.26), {'city': 'Mexico City'}),\n",
        "  ee.Feature(ee.Geometry.Point(37.372, 55.4521), {'city': 'Moscow'}),\n",
        "  ee.Feature(ee.Geometry.Point(72.5239, 19.0434), {'city': 'Mumbai'}),\n",
        "  ee.Feature(ee.Geometry.Point(136.54, 35.11), {'city': 'Nagoya'}),\n",
        "  ee.Feature(ee.Geometry.Point(-74.0022, 40.4246), {'city': 'New York City'}),\n",
        "  ee.Feature(ee.Geometry.Point(135.308, 34.4138), {'city': 'Osaka'}),\n",
        "  ee.Feature(ee.Geometry.Point(2.2108, 48.5124), {'city': 'Paris'}),\n",
        "  ee.Feature(ee.Geometry.Point(-43.1221, -22.5441), {'city': 'Rio de Janeiro'}),\n",
        "  ee.Feature(ee.Geometry.Point(-46.38, -23.33), {'city': 'São Paulo'}),\n",
        "  ee.Feature(ee.Geometry.Point(126.5924, 37.3336), {'city': 'Seoul'}),\n",
        "  ee.Feature(ee.Geometry.Point(121.2829, 31.1343), {'city': 'Shanghai'}),\n",
        "  ee.Feature(ee.Geometry.Point(114.0335, 22.3229), {'city': 'Shenzhen'}),\n",
        "  ee.Feature(ee.Geometry.Point(51.2320, 35.4121), {'city': 'Tehran'}),\n",
        "  ee.Feature(ee.Geometry.Point(117.1219, 39.0801), {'city': 'Tianjin'}),\n",
        "  ee.Feature(ee.Geometry.Point(139.4132, 35.4123), {'city': 'Tokyo'}),\n",
        "  ee.Feature(ee.Geometry.Point(114.1817, 30.3536), {'city': 'Wuhan'}),\n",
        "  ee.Feature(ee.Geometry.Point(118.0520, 24.2847), {'city': 'Xiamen'}),\n",
        "  ee.Feature(ee.Geometry.Point(108.5714, 34.1554), {'city': 'Xi\\'an'})\n",
        "]\n",
        "\n",
        "megacitiesFC = ee.FeatureCollection(megacitiesDict)"
      ],
      "metadata": {
        "id": "yHGMDmRkihJ4"
      },
      "id": "yHGMDmRkihJ4",
      "execution_count": 24,
      "outputs": []
    },
    {
      "cell_type": "code",
      "source": [
        "megacitiesFC"
      ],
      "metadata": {
        "id": "p0dbLkX8G4qj",
        "outputId": "f6133ede-1b48-4670-cd89-b3626426fbf8",
        "colab": {
          "base_uri": "https://localhost:8080/",
          "height": 0
        }
      },
      "id": "p0dbLkX8G4qj",
      "execution_count": 25,
      "outputs": [
        {
          "output_type": "execute_result",
          "data": {
            "text/plain": [
              "<ee.featurecollection.FeatureCollection at 0x7fec188d9fd0>"
            ],
            "text/html": [
              "<div><style>:root {\n",
              "  --font-color-primary: var(--jp-content-font-color0, rgba(0, 0, 0, 1));\n",
              "  --font-color-secondary: var(--jp-content-font-color2, rgba(0, 0, 0, 0.6));\n",
              "  --font-color-accent: rgba(123, 31, 162, 1);\n",
              "  --border-color: var(--jp-border-color2, #e0e0e0);\n",
              "  --background-color: var(--jp-layout-color0, white);\n",
              "  --background-color-row-even: var(--jp-layout-color1, white);\n",
              "  --background-color-row-odd: var(--jp-layout-color2, #eeeeee);\n",
              "}\n",
              "\n",
              "html[theme=\"dark\"],\n",
              "body[data-theme=\"dark\"],\n",
              "body.vscode-dark {\n",
              "  --font-color-primary: rgba(255, 255, 255, 1);\n",
              "  --font-color-secondary: rgba(255, 255, 255, 0.6);\n",
              "  --font-color-accent: rgb(173, 132, 190);\n",
              "  --border-color: #2e2e2e;\n",
              "  --background-color: #111111;\n",
              "  --background-color-row-even: #111111;\n",
              "  --background-color-row-odd: #313131;\n",
              "}\n",
              "\n",
              ".ee {\n",
              "  padding: 1em;\n",
              "  line-height: 1.5em;\n",
              "  min-width: 300px;\n",
              "  max-width: 1200px;\n",
              "  overflow-y: scroll;\n",
              "  max-height: 600px;\n",
              "  border: 1px solid var(--border-color);\n",
              "  font-family: monospace;\n",
              "}\n",
              "\n",
              ".ee li {\n",
              "  list-style-type: none;\n",
              "}\n",
              "\n",
              ".ee ul {\n",
              "  padding-left: 1.5em !important;\n",
              "  margin: 0;\n",
              "}\n",
              "\n",
              ".ee > ul {\n",
              "  padding-left: 0 !important;\n",
              "}\n",
              "\n",
              ".ee-open,\n",
              ".ee-shut {\n",
              "  color: var(--font-color-secondary);\n",
              "  cursor: pointer;\n",
              "  margin: 0;\n",
              "}\n",
              "\n",
              ".ee-open:hover,\n",
              ".ee-shut:hover {\n",
              "  color: var(--font-color-primary);\n",
              "}\n",
              "\n",
              ".ee-k {\n",
              "  color: var(--font-color-accent);\n",
              "  margin-right: 6px;\n",
              "}\n",
              "\n",
              ".ee-v {\n",
              "  color: var(--font-color-primary);\n",
              "}\n",
              "\n",
              ".ee-toggle {\n",
              "  display: none;\n",
              "}\n",
              "\n",
              ".ee-shut + ul {\n",
              "  display: none;\n",
              "}\n",
              "\n",
              ".ee-open + ul {\n",
              "  display: block;\n",
              "}\n",
              "\n",
              ".ee-shut::before {\n",
              "  display: inline-block;\n",
              "  content: \"▼\";\n",
              "  margin-right: 6px;\n",
              "  transform: rotate(-90deg);\n",
              "  transition: transform 0.2s;\n",
              "}\n",
              "\n",
              ".ee-open::before {\n",
              "  transform: rotate(0deg);\n",
              "  display: inline-block;\n",
              "  content: \"▼\";\n",
              "  margin-right: 6px;\n",
              "  transition: transform 0.2s;\n",
              "}\n",
              "</style><div class='ee'><ul><li><label class='ee-shut'>FeatureCollection (45 elements, 2 columns)<input type='checkbox' class='ee-toggle'></label><ul><li><span class='ee-k'>type:</span><span class='ee-v'>FeatureCollection</span></li><li><label class='ee-shut'>columns: Object (2 properties)<input type='checkbox' class='ee-toggle'></label><ul><li><span class='ee-k'>city:</span><span class='ee-v'>String</span></li><li><span class='ee-k'>system:index:</span><span class='ee-v'>String</span></li></ul></li><li><label class='ee-shut'>features: List (45 elements)<input type='checkbox' class='ee-toggle'></label><ul><li><label class='ee-shut'>0: Feature (Point, 1 property)<input type='checkbox' class='ee-toggle'></label><ul><li><span class='ee-k'>type:</span><span class='ee-v'>Feature</span></li><li><span class='ee-k'>id:</span><span class='ee-v'>0</span></li><li><label class='ee-shut'>geometry: Point (77.35, 12.58)<input type='checkbox' class='ee-toggle'></label><ul><li><span class='ee-k'>type:</span><span class='ee-v'>Point</span></li><li><label class='ee-shut'>coordinates: [77.353, 12.5844]<input type='checkbox' class='ee-toggle'></label><ul><li><span class='ee-k'>0:</span><span class='ee-v'>77.353</span></li><li><span class='ee-k'>1:</span><span class='ee-v'>12.5844</span></li></ul></li></ul></li><li><label class='ee-shut'>properties: Object (1 property)<input type='checkbox' class='ee-toggle'></label><ul><li><span class='ee-k'>city:</span><span class='ee-v'>Bangalore</span></li></ul></li></ul></li><li><label class='ee-shut'>1: Feature (Point, 1 property)<input type='checkbox' class='ee-toggle'></label><ul><li><span class='ee-k'>type:</span><span class='ee-v'>Feature</span></li><li><span class='ee-k'>id:</span><span class='ee-v'>1</span></li><li><label class='ee-shut'>geometry: Point (100.29, 13.45)<input type='checkbox' class='ee-toggle'></label><ul><li><span class='ee-k'>type:</span><span class='ee-v'>Point</span></li><li><label class='ee-shut'>coordinates: [100.2939, 13.4509]<input type='checkbox' class='ee-toggle'></label><ul><li><span class='ee-k'>0:</span><span class='ee-v'>100.2939</span></li><li><span class='ee-k'>1:</span><span class='ee-v'>13.4509</span></li></ul></li></ul></li><li><label class='ee-shut'>properties: Object (1 property)<input type='checkbox' class='ee-toggle'></label><ul><li><span class='ee-k'>city:</span><span class='ee-v'>Bangkok</span></li></ul></li></ul></li><li><label class='ee-shut'>2: Feature (Point, 1 property)<input type='checkbox' class='ee-toggle'></label><ul><li><span class='ee-k'>type:</span><span class='ee-v'>Feature</span></li><li><span class='ee-k'>id:</span><span class='ee-v'>2</span></li><li><label class='ee-shut'>geometry: Point (116.24, 39.54)<input type='checkbox' class='ee-toggle'></label><ul><li><span class='ee-k'>type:</span><span class='ee-v'>Point</span></li><li><label class='ee-shut'>coordinates: [116.2351, 39.5424]<input type='checkbox' class='ee-toggle'></label><ul><li><span class='ee-k'>0:</span><span class='ee-v'>116.2351</span></li><li><span class='ee-k'>1:</span><span class='ee-v'>39.5424</span></li></ul></li></ul></li><li><label class='ee-shut'>properties: Object (1 property)<input type='checkbox' class='ee-toggle'></label><ul><li><span class='ee-k'>city:</span><span class='ee-v'>Beijing</span></li></ul></li></ul></li><li><label class='ee-shut'>3: Feature (Point, 1 property)<input type='checkbox' class='ee-toggle'></label><ul><li><span class='ee-k'>type:</span><span class='ee-v'>Feature</span></li><li><span class='ee-k'>id:</span><span class='ee-v'>3</span></li><li><label class='ee-shut'>geometry: Point (-74.42, 4.42)<input type='checkbox' class='ee-toggle'></label><ul><li><span class='ee-k'>type:</span><span class='ee-v'>Point</span></li><li><label class='ee-shut'>coordinates: [-74.42, 4.424]<input type='checkbox' class='ee-toggle'></label><ul><li><span class='ee-k'>0:</span><span class='ee-v'>-74.42</span></li><li><span class='ee-k'>1:</span><span class='ee-v'>4.424</span></li></ul></li></ul></li><li><label class='ee-shut'>properties: Object (1 property)<input type='checkbox' class='ee-toggle'></label><ul><li><span class='ee-k'>city:</span><span class='ee-v'>Bogota</span></li></ul></li></ul></li><li><label class='ee-shut'>4: Feature (Point, 1 property)<input type='checkbox' class='ee-toggle'></label><ul><li><span class='ee-k'>type:</span><span class='ee-v'>Feature</span></li><li><span class='ee-k'>id:</span><span class='ee-v'>4</span></li><li><label class='ee-shut'>geometry: Point (-58.23, -34.36)<input type='checkbox' class='ee-toggle'></label><ul><li><span class='ee-k'>type:</span><span class='ee-v'>Point</span></li><li><label class='ee-shut'>coordinates: [-58.2254, -34.3612]<input type='checkbox' class='ee-toggle'></label><ul><li><span class='ee-k'>0:</span><span class='ee-v'>-58.2254</span></li><li><span class='ee-k'>1:</span><span class='ee-v'>-34.3612</span></li></ul></li></ul></li><li><label class='ee-shut'>properties: Object (1 property)<input type='checkbox' class='ee-toggle'></label><ul><li><span class='ee-k'>city:</span><span class='ee-v'>Buenos Aires</span></li></ul></li></ul></li><li><label class='ee-shut'>5: Feature (Point, 1 property)<input type='checkbox' class='ee-toggle'></label><ul><li><span class='ee-k'>type:</span><span class='ee-v'>Feature</span></li><li><span class='ee-k'>id:</span><span class='ee-v'>5</span></li><li><label class='ee-shut'>geometry: Point (31.14, 30.02)<input type='checkbox' class='ee-toggle'></label><ul><li><span class='ee-k'>type:</span><span class='ee-v'>Point</span></li><li><label class='ee-shut'>coordinates: [31.14, 30.02]<input type='checkbox' class='ee-toggle'></label><ul><li><span class='ee-k'>0:</span><span class='ee-v'>31.14</span></li><li><span class='ee-k'>1:</span><span class='ee-v'>30.02</span></li></ul></li></ul></li><li><label class='ee-shut'>properties: Object (1 property)<input type='checkbox' class='ee-toggle'></label><ul><li><span class='ee-k'>city:</span><span class='ee-v'>Cairo</span></li></ul></li></ul></li><li><label class='ee-shut'>6: Feature (Point, 1 property)<input type='checkbox' class='ee-toggle'></label><ul><li><span class='ee-k'>type:</span><span class='ee-v'>Feature</span></li><li><span class='ee-k'>id:</span><span class='ee-v'>6</span></li><li><label class='ee-shut'>geometry: Point (104.03, 30.39)<input type='checkbox' class='ee-toggle'></label><ul><li><span class='ee-k'>type:</span><span class='ee-v'>Point</span></li><li><label class='ee-shut'>coordinates: [104.0348, 30.3936]<input type='checkbox' class='ee-toggle'></label><ul><li><span class='ee-k'>0:</span><span class='ee-v'>104.0348</span></li><li><span class='ee-k'>1:</span><span class='ee-v'>30.3936</span></li></ul></li></ul></li><li><label class='ee-shut'>properties: Object (1 property)<input type='checkbox' class='ee-toggle'></label><ul><li><span class='ee-k'>city:</span><span class='ee-v'>Chengdu</span></li></ul></li></ul></li><li><label class='ee-shut'>7: Feature (Point, 1 property)<input type='checkbox' class='ee-toggle'></label><ul><li><span class='ee-k'>type:</span><span class='ee-v'>Feature</span></li><li><span class='ee-k'>id:</span><span class='ee-v'>7</span></li><li><label class='ee-shut'>geometry: Point (80.16, 13.05)<input type='checkbox' class='ee-toggle'></label><ul><li><span class='ee-k'>type:</span><span class='ee-v'>Point</span></li><li><label class='ee-shut'>coordinates: [80.16145, 13.04577]<input type='checkbox' class='ee-toggle'></label><ul><li><span class='ee-k'>0:</span><span class='ee-v'>80.16145</span></li><li><span class='ee-k'>1:</span><span class='ee-v'>13.04577</span></li></ul></li></ul></li><li><label class='ee-shut'>properties: Object (1 property)<input type='checkbox' class='ee-toggle'></label><ul><li><span class='ee-k'>city:</span><span class='ee-v'>Chennai</span></li></ul></li></ul></li><li><label class='ee-shut'>8: Feature (Point, 1 property)<input type='checkbox' class='ee-toggle'></label><ul><li><span class='ee-k'>type:</span><span class='ee-v'>Feature</span></li><li><span class='ee-k'>id:</span><span class='ee-v'>8</span></li><li><label class='ee-shut'>geometry: Point (106.33, 29.33)<input type='checkbox' class='ee-toggle'></label><ul><li><span class='ee-k'>type:</span><span class='ee-v'>Point</span></li><li><label class='ee-shut'>coordinates: [106.3301, 29.3349]<input type='checkbox' class='ee-toggle'></label><ul><li><span class='ee-k'>0:</span><span class='ee-v'>106.3301</span></li><li><span class='ee-k'>1:</span><span class='ee-v'>29.3349</span></li></ul></li></ul></li><li><label class='ee-shut'>properties: Object (1 property)<input type='checkbox' class='ee-toggle'></label><ul><li><span class='ee-k'>city:</span><span class='ee-v'>Chongqing</span></li></ul></li></ul></li><li><label class='ee-shut'>9: Feature (Point, 1 property)<input type='checkbox' class='ee-toggle'></label><ul><li><span class='ee-k'>type:</span><span class='ee-v'>Feature</span></li><li><span class='ee-k'>id:</span><span class='ee-v'>9</span></li><li><label class='ee-shut'>geometry: Point (77.13, 28.36)<input type='checkbox' class='ee-toggle'></label><ul><li><span class='ee-k'>type:</span><span class='ee-v'>Point</span></li><li><label class='ee-shut'>coordinates: [77.1348, 28.3636]<input type='checkbox' class='ee-toggle'></label><ul><li><span class='ee-k'>0:</span><span class='ee-v'>77.1348</span></li><li><span class='ee-k'>1:</span><span class='ee-v'>28.3636</span></li></ul></li></ul></li><li><label class='ee-shut'>properties: Object (1 property)<input type='checkbox' class='ee-toggle'></label><ul><li><span class='ee-k'>city:</span><span class='ee-v'>Delhi</span></li></ul></li></ul></li><li><label class='ee-shut'>10: Feature (Point, 1 property)<input type='checkbox' class='ee-toggle'></label><ul><li><span class='ee-k'>type:</span><span class='ee-v'>Feature</span></li><li><span class='ee-k'>id:</span><span class='ee-v'>10</span></li><li><label class='ee-shut'>geometry: Point (90.23, 23.45)<input type='checkbox' class='ee-toggle'></label><ul><li><span class='ee-k'>type:</span><span class='ee-v'>Point</span></li><li><label class='ee-shut'>coordinates: [90.232, 23.455]<input type='checkbox' class='ee-toggle'></label><ul><li><span class='ee-k'>0:</span><span class='ee-v'>90.232</span></li><li><span class='ee-k'>1:</span><span class='ee-v'>23.455</span></li></ul></li></ul></li><li><label class='ee-shut'>properties: Object (1 property)<input type='checkbox' class='ee-toggle'></label><ul><li><span class='ee-k'>city:</span><span class='ee-v'>Dhaka</span></li></ul></li></ul></li><li><label class='ee-shut'>11: Feature (Point, 1 property)<input type='checkbox' class='ee-toggle'></label><ul><li><span class='ee-k'>type:</span><span class='ee-v'>Feature</span></li><li><span class='ee-k'>id:</span><span class='ee-v'>11</span></li><li><label class='ee-shut'>geometry: Point (113.15, 23.07)<input type='checkbox' class='ee-toggle'></label><ul><li><span class='ee-k'>type:</span><span class='ee-v'>Point</span></li><li><label class='ee-shut'>coordinates: [113.1536, 23.0748]<input type='checkbox' class='ee-toggle'></label><ul><li><span class='ee-k'>0:</span><span class='ee-v'>113.1536</span></li><li><span class='ee-k'>1:</span><span class='ee-v'>23.0748</span></li></ul></li></ul></li><li><label class='ee-shut'>properties: Object (1 property)<input type='checkbox' class='ee-toggle'></label><ul><li><span class='ee-k'>city:</span><span class='ee-v'>Guangzhou</span></li></ul></li></ul></li><li><label class='ee-shut'>12: Feature (Point, 1 property)<input type='checkbox' class='ee-toggle'></label><ul><li><span class='ee-k'>type:</span><span class='ee-v'>Feature</span></li><li><span class='ee-k'>id:</span><span class='ee-v'>12</span></li><li><label class='ee-shut'>geometry: Point (120.09, 30.16)<input type='checkbox' class='ee-toggle'></label><ul><li><span class='ee-k'>type:</span><span class='ee-v'>Point</span></li><li><label class='ee-shut'>coordinates: [120.0911, 30.1601]<input type='checkbox' class='ee-toggle'></label><ul><li><span class='ee-k'>0:</span><span class='ee-v'>120.0911</span></li><li><span class='ee-k'>1:</span><span class='ee-v'>30.1601</span></li></ul></li></ul></li><li><label class='ee-shut'>properties: Object (1 property)<input type='checkbox' class='ee-toggle'></label><ul><li><span class='ee-k'>city:</span><span class='ee-v'>Huangzhou</span></li></ul></li></ul></li><li><label class='ee-shut'>13: Feature (Point, 1 property)<input type='checkbox' class='ee-toggle'></label><ul><li><span class='ee-k'>type:</span><span class='ee-v'>Feature</span></li><li><span class='ee-k'>id:</span><span class='ee-v'>13</span></li><li><label class='ee-shut'>geometry: Point (106.42, 10.46)<input type='checkbox' class='ee-toggle'></label><ul><li><span class='ee-k'>type:</span><span class='ee-v'>Point</span></li><li><label class='ee-shut'>coordinates: [106.4207, 10.4632]<input type='checkbox' class='ee-toggle'></label><ul><li><span class='ee-k'>0:</span><span class='ee-v'>106.4207</span></li><li><span class='ee-k'>1:</span><span class='ee-v'>10.4632</span></li></ul></li></ul></li><li><label class='ee-shut'>properties: Object (1 property)<input type='checkbox' class='ee-toggle'></label><ul><li><span class='ee-k'>city:</span><span class='ee-v'>Ho Chi Minh City</span></li></ul></li></ul></li><li><label class='ee-shut'>14: Feature (Point, 1 property)<input type='checkbox' class='ee-toggle'></label><ul><li><span class='ee-k'>type:</span><span class='ee-v'>Feature</span></li><li><span class='ee-k'>id:</span><span class='ee-v'>14</span></li><li><label class='ee-shut'>geometry: Point (78.29, 17.23)<input type='checkbox' class='ee-toggle'></label><ul><li><span class='ee-k'>type:</span><span class='ee-v'>Point</span></li><li><label class='ee-shut'>coordinates: [78.29121, 17.2306]<input type='checkbox' class='ee-toggle'></label><ul><li><span class='ee-k'>0:</span><span class='ee-v'>78.29121</span></li><li><span class='ee-k'>1:</span><span class='ee-v'>17.2306</span></li></ul></li></ul></li><li><label class='ee-shut'>properties: Object (1 property)<input type='checkbox' class='ee-toggle'></label><ul><li><span class='ee-k'>city:</span><span class='ee-v'>Hyderabad</span></li></ul></li></ul></li><li><label class='ee-shut'>15: Feature (Point, 1 property)<input type='checkbox' class='ee-toggle'></label><ul><li><span class='ee-k'>type:</span><span class='ee-v'>Feature</span></li><li><span class='ee-k'>id:</span><span class='ee-v'>15</span></li><li><label class='ee-shut'>geometry: Point (28.57, 41.00)<input type='checkbox' class='ee-toggle'></label><ul><li><span class='ee-k'>type:</span><span class='ee-v'>Point</span></li><li><label class='ee-shut'>coordinates: [28.5718, 41.0049]<input type='checkbox' class='ee-toggle'></label><ul><li><span class='ee-k'>0:</span><span class='ee-v'>28.5718</span></li><li><span class='ee-k'>1:</span><span class='ee-v'>41.0049</span></li></ul></li></ul></li><li><label class='ee-shut'>properties: Object (1 property)<input type='checkbox' class='ee-toggle'></label><ul><li><span class='ee-k'>city:</span><span class='ee-v'>Istanbul</span></li></ul></li></ul></li><li><label class='ee-shut'>16: Feature (Point, 1 property)<input type='checkbox' class='ee-toggle'></label><ul><li><span class='ee-k'>type:</span><span class='ee-v'>Feature</span></li><li><span class='ee-k'>id:</span><span class='ee-v'>16</span></li><li><label class='ee-shut'>geometry: Point (106.49, -6.10)<input type='checkbox' class='ee-toggle'></label><ul><li><span class='ee-k'>type:</span><span class='ee-v'>Point</span></li><li><label class='ee-shut'>coordinates: [106.4939, -6.103]<input type='checkbox' class='ee-toggle'></label><ul><li><span class='ee-k'>0:</span><span class='ee-v'>106.4939</span></li><li><span class='ee-k'>1:</span><span class='ee-v'>-6.103</span></li></ul></li></ul></li><li><label class='ee-shut'>properties: Object (1 property)<input type='checkbox' class='ee-toggle'></label><ul><li><span class='ee-k'>city:</span><span class='ee-v'>Jakarta</span></li></ul></li></ul></li><li><label class='ee-shut'>17: Feature (Point, 1 property)<input type='checkbox' class='ee-toggle'></label><ul><li><span class='ee-k'>type:</span><span class='ee-v'>Feature</span></li><li><span class='ee-k'>id:</span><span class='ee-v'>17</span></li><li><label class='ee-shut'>geometry: Point (28.24, -26.12)<input type='checkbox' class='ee-toggle'></label><ul><li><span class='ee-k'>type:</span><span class='ee-v'>Point</span></li><li><label class='ee-shut'>coordinates: [28.244, -26.1216]<input type='checkbox' class='ee-toggle'></label><ul><li><span class='ee-k'>0:</span><span class='ee-v'>28.244</span></li><li><span class='ee-k'>1:</span><span class='ee-v'>-26.1216</span></li></ul></li></ul></li><li><label class='ee-shut'>properties: Object (1 property)<input type='checkbox' class='ee-toggle'></label><ul><li><span class='ee-k'>city:</span><span class='ee-v'>Johannesburg</span></li></ul></li></ul></li><li><label class='ee-shut'>18: Feature (Point, 1 property)<input type='checkbox' class='ee-toggle'></label><ul><li><span class='ee-k'>type:</span><span class='ee-v'>Feature</span></li><li><span class='ee-k'>id:</span><span class='ee-v'>18</span></li><li><label class='ee-shut'>geometry: Point (67.04, 24.51)<input type='checkbox' class='ee-toggle'></label><ul><li><span class='ee-k'>type:</span><span class='ee-v'>Point</span></li><li><label class='ee-shut'>coordinates: [67.036, 24.5136]<input type='checkbox' class='ee-toggle'></label><ul><li><span class='ee-k'>0:</span><span class='ee-v'>67.036</span></li><li><span class='ee-k'>1:</span><span class='ee-v'>24.5136</span></li></ul></li></ul></li><li><label class='ee-shut'>properties: Object (1 property)<input type='checkbox' class='ee-toggle'></label><ul><li><span class='ee-k'>city:</span><span class='ee-v'>Karachi</span></li></ul></li></ul></li><li><label class='ee-shut'>19: Feature (Point, 1 property)<input type='checkbox' class='ee-toggle'></label><ul><li><span class='ee-k'>type:</span><span class='ee-v'>Feature</span></li><li><span class='ee-k'>id:</span><span class='ee-v'>19</span></li><li><label class='ee-shut'>geometry: Point (15.19, -4.19)<input type='checkbox' class='ee-toggle'></label><ul><li><span class='ee-k'>type:</span><span class='ee-v'>Point</span></li><li><label class='ee-shut'>coordinates: [15.192, -4.193]<input type='checkbox' class='ee-toggle'></label><ul><li><span class='ee-k'>0:</span><span class='ee-v'>15.192</span></li><li><span class='ee-k'>1:</span><span class='ee-v'>-4.193</span></li></ul></li></ul></li><li><label class='ee-shut'>properties: Object (1 property)<input type='checkbox' class='ee-toggle'></label><ul><li><span class='ee-k'>city:</span><span class='ee-v'>Kinshasa</span></li></ul></li></ul></li><li><label class='ee-shut'>20: Feature (Point, 1 property)<input type='checkbox' class='ee-toggle'></label><ul><li><span class='ee-k'>type:</span><span class='ee-v'>Feature</span></li><li><span class='ee-k'>id:</span><span class='ee-v'>20</span></li><li><label class='ee-shut'>geometry: Point (88.22, 22.34)<input type='checkbox' class='ee-toggle'></label><ul><li><span class='ee-k'>type:</span><span class='ee-v'>Point</span></li><li><label class='ee-shut'>coordinates: [88.2212, 22.3403]<input type='checkbox' class='ee-toggle'></label><ul><li><span class='ee-k'>0:</span><span class='ee-v'>88.2212</span></li><li><span class='ee-k'>1:</span><span class='ee-v'>22.3403</span></li></ul></li></ul></li><li><label class='ee-shut'>properties: Object (1 property)<input type='checkbox' class='ee-toggle'></label><ul><li><span class='ee-k'>city:</span><span class='ee-v'>Kolkata</span></li></ul></li></ul></li><li><label class='ee-shut'>21: Feature (Point, 1 property)<input type='checkbox' class='ee-toggle'></label><ul><li><span class='ee-k'>type:</span><span class='ee-v'>Feature</span></li><li><span class='ee-k'>id:</span><span class='ee-v'>21</span></li><li><label class='ee-shut'>geometry: Point (3.38, 6.46)<input type='checkbox' class='ee-toggle'></label><ul><li><span class='ee-k'>type:</span><span class='ee-v'>Point</span></li><li><label class='ee-shut'>coordinates: [3.384082, 6.455027]<input type='checkbox' class='ee-toggle'></label><ul><li><span class='ee-k'>0:</span><span class='ee-v'>3.384082</span></li><li><span class='ee-k'>1:</span><span class='ee-v'>6.455027</span></li></ul></li></ul></li><li><label class='ee-shut'>properties: Object (1 property)<input type='checkbox' class='ee-toggle'></label><ul><li><span class='ee-k'>city:</span><span class='ee-v'>Lagos</span></li></ul></li></ul></li><li><label class='ee-shut'>22: Feature (Point, 1 property)<input type='checkbox' class='ee-toggle'></label><ul><li><span class='ee-k'>type:</span><span class='ee-v'>Feature</span></li><li><span class='ee-k'>id:</span><span class='ee-v'>22</span></li><li><label class='ee-shut'>geometry: Point (74.20, 31.33)<input type='checkbox' class='ee-toggle'></label><ul><li><span class='ee-k'>type:</span><span class='ee-v'>Point</span></li><li><label class='ee-shut'>coordinates: [74.2037, 31.3259]<input type='checkbox' class='ee-toggle'></label><ul><li><span class='ee-k'>0:</span><span class='ee-v'>74.2037</span></li><li><span class='ee-k'>1:</span><span class='ee-v'>31.3259</span></li></ul></li></ul></li><li><label class='ee-shut'>properties: Object (1 property)<input type='checkbox' class='ee-toggle'></label><ul><li><span class='ee-k'>city:</span><span class='ee-v'>Lahore</span></li></ul></li></ul></li><li><label class='ee-shut'>23: Feature (Point, 1 property)<input type='checkbox' class='ee-toggle'></label><ul><li><span class='ee-k'>type:</span><span class='ee-v'>Feature</span></li><li><span class='ee-k'>id:</span><span class='ee-v'>23</span></li><li><label class='ee-shut'>geometry: Point (-77.02, -12.03)<input type='checkbox' class='ee-toggle'></label><ul><li><span class='ee-k'>type:</span><span class='ee-v'>Point</span></li><li><label class='ee-shut'>coordinates: [-77.0215, -12.0336]<input type='checkbox' class='ee-toggle'></label><ul><li><span class='ee-k'>0:</span><span class='ee-v'>-77.0215</span></li><li><span class='ee-k'>1:</span><span class='ee-v'>-12.0336</span></li></ul></li></ul></li><li><label class='ee-shut'>properties: Object (1 property)<input type='checkbox' class='ee-toggle'></label><ul><li><span class='ee-k'>city:</span><span class='ee-v'>Lima</span></li></ul></li></ul></li><li><label class='ee-shut'>24: Feature (Point, 1 property)<input type='checkbox' class='ee-toggle'></label><ul><li><span class='ee-k'>type:</span><span class='ee-v'>Feature</span></li><li><span class='ee-k'>id:</span><span class='ee-v'>24</span></li><li><label class='ee-shut'>geometry: Point (-0.74, 51.30)<input type='checkbox' class='ee-toggle'></label><ul><li><span class='ee-k'>type:</span><span class='ee-v'>Point</span></li><li><label class='ee-shut'>coordinates: [-0.739, 51.3026]<input type='checkbox' class='ee-toggle'></label><ul><li><span class='ee-k'>0:</span><span class='ee-v'>-0.739</span></li><li><span class='ee-k'>1:</span><span class='ee-v'>51.3026</span></li></ul></li></ul></li><li><label class='ee-shut'>properties: Object (1 property)<input type='checkbox' class='ee-toggle'></label><ul><li><span class='ee-k'>city:</span><span class='ee-v'>London</span></li></ul></li></ul></li><li><label class='ee-shut'>25: Feature (Point, 1 property)<input type='checkbox' class='ee-toggle'></label><ul><li><span class='ee-k'>type:</span><span class='ee-v'>Feature</span></li><li><span class='ee-k'>id:</span><span class='ee-v'>25</span></li><li><label class='ee-shut'>geometry: Point (-118.15, 34.03)<input type='checkbox' class='ee-toggle'></label><ul><li><span class='ee-k'>type:</span><span class='ee-v'>Point</span></li><li><label class='ee-shut'>coordinates: [-118.15, 34.03]<input type='checkbox' class='ee-toggle'></label><ul><li><span class='ee-k'>0:</span><span class='ee-v'>-118.15</span></li><li><span class='ee-k'>1:</span><span class='ee-v'>34.03</span></li></ul></li></ul></li><li><label class='ee-shut'>properties: Object (1 property)<input type='checkbox' class='ee-toggle'></label><ul><li><span class='ee-k'>city:</span><span class='ee-v'>Los Angeles</span></li></ul></li></ul></li><li><label class='ee-shut'>26: Feature (Point, 1 property)<input type='checkbox' class='ee-toggle'></label><ul><li><span class='ee-k'>type:</span><span class='ee-v'>Feature</span></li><li><span class='ee-k'>id:</span><span class='ee-v'>26</span></li><li><label class='ee-shut'>geometry: Point (121.00, 14.58)<input type='checkbox' class='ee-toggle'></label><ul><li><span class='ee-k'>type:</span><span class='ee-v'>Point</span></li><li><label class='ee-shut'>coordinates: [121, 14.58]<input type='checkbox' class='ee-toggle'></label><ul><li><span class='ee-k'>0:</span><span class='ee-v'>121</span></li><li><span class='ee-k'>1:</span><span class='ee-v'>14.58</span></li></ul></li></ul></li><li><label class='ee-shut'>properties: Object (1 property)<input type='checkbox' class='ee-toggle'></label><ul><li><span class='ee-k'>city:</span><span class='ee-v'>Metro Manila</span></li></ul></li></ul></li><li><label class='ee-shut'>27: Feature (Point, 1 property)<input type='checkbox' class='ee-toggle'></label><ul><li><span class='ee-k'>type:</span><span class='ee-v'>Feature</span></li><li><span class='ee-k'>id:</span><span class='ee-v'>27</span></li><li><label class='ee-shut'>geometry: Point (-99.80, 19.26)<input type='checkbox' class='ee-toggle'></label><ul><li><span class='ee-k'>type:</span><span class='ee-v'>Point</span></li><li><label class='ee-shut'>coordinates: [-99.8, 19.26]<input type='checkbox' class='ee-toggle'></label><ul><li><span class='ee-k'>0:</span><span class='ee-v'>-99.8</span></li><li><span class='ee-k'>1:</span><span class='ee-v'>19.26</span></li></ul></li></ul></li><li><label class='ee-shut'>properties: Object (1 property)<input type='checkbox' class='ee-toggle'></label><ul><li><span class='ee-k'>city:</span><span class='ee-v'>Mexico City</span></li></ul></li></ul></li><li><label class='ee-shut'>28: Feature (Point, 1 property)<input type='checkbox' class='ee-toggle'></label><ul><li><span class='ee-k'>type:</span><span class='ee-v'>Feature</span></li><li><span class='ee-k'>id:</span><span class='ee-v'>28</span></li><li><label class='ee-shut'>geometry: Point (37.37, 55.45)<input type='checkbox' class='ee-toggle'></label><ul><li><span class='ee-k'>type:</span><span class='ee-v'>Point</span></li><li><label class='ee-shut'>coordinates: [37.372, 55.4521]<input type='checkbox' class='ee-toggle'></label><ul><li><span class='ee-k'>0:</span><span class='ee-v'>37.372</span></li><li><span class='ee-k'>1:</span><span class='ee-v'>55.4521</span></li></ul></li></ul></li><li><label class='ee-shut'>properties: Object (1 property)<input type='checkbox' class='ee-toggle'></label><ul><li><span class='ee-k'>city:</span><span class='ee-v'>Moscow</span></li></ul></li></ul></li><li><label class='ee-shut'>29: Feature (Point, 1 property)<input type='checkbox' class='ee-toggle'></label><ul><li><span class='ee-k'>type:</span><span class='ee-v'>Feature</span></li><li><span class='ee-k'>id:</span><span class='ee-v'>29</span></li><li><label class='ee-shut'>geometry: Point (72.52, 19.04)<input type='checkbox' class='ee-toggle'></label><ul><li><span class='ee-k'>type:</span><span class='ee-v'>Point</span></li><li><label class='ee-shut'>coordinates: [72.5239, 19.0434]<input type='checkbox' class='ee-toggle'></label><ul><li><span class='ee-k'>0:</span><span class='ee-v'>72.5239</span></li><li><span class='ee-k'>1:</span><span class='ee-v'>19.0434</span></li></ul></li></ul></li><li><label class='ee-shut'>properties: Object (1 property)<input type='checkbox' class='ee-toggle'></label><ul><li><span class='ee-k'>city:</span><span class='ee-v'>Mumbai</span></li></ul></li></ul></li><li><label class='ee-shut'>30: Feature (Point, 1 property)<input type='checkbox' class='ee-toggle'></label><ul><li><span class='ee-k'>type:</span><span class='ee-v'>Feature</span></li><li><span class='ee-k'>id:</span><span class='ee-v'>30</span></li><li><label class='ee-shut'>geometry: Point (136.54, 35.11)<input type='checkbox' class='ee-toggle'></label><ul><li><span class='ee-k'>type:</span><span class='ee-v'>Point</span></li><li><label class='ee-shut'>coordinates: [136.54, 35.11]<input type='checkbox' class='ee-toggle'></label><ul><li><span class='ee-k'>0:</span><span class='ee-v'>136.54</span></li><li><span class='ee-k'>1:</span><span class='ee-v'>35.11</span></li></ul></li></ul></li><li><label class='ee-shut'>properties: Object (1 property)<input type='checkbox' class='ee-toggle'></label><ul><li><span class='ee-k'>city:</span><span class='ee-v'>Nagoya</span></li></ul></li></ul></li><li><label class='ee-shut'>31: Feature (Point, 1 property)<input type='checkbox' class='ee-toggle'></label><ul><li><span class='ee-k'>type:</span><span class='ee-v'>Feature</span></li><li><span class='ee-k'>id:</span><span class='ee-v'>31</span></li><li><label class='ee-shut'>geometry: Point (-74.00, 40.42)<input type='checkbox' class='ee-toggle'></label><ul><li><span class='ee-k'>type:</span><span class='ee-v'>Point</span></li><li><label class='ee-shut'>coordinates: [-74.0022, 40.4246]<input type='checkbox' class='ee-toggle'></label><ul><li><span class='ee-k'>0:</span><span class='ee-v'>-74.0022</span></li><li><span class='ee-k'>1:</span><span class='ee-v'>40.4246</span></li></ul></li></ul></li><li><label class='ee-shut'>properties: Object (1 property)<input type='checkbox' class='ee-toggle'></label><ul><li><span class='ee-k'>city:</span><span class='ee-v'>New York City</span></li></ul></li></ul></li><li><label class='ee-shut'>32: Feature (Point, 1 property)<input type='checkbox' class='ee-toggle'></label><ul><li><span class='ee-k'>type:</span><span class='ee-v'>Feature</span></li><li><span class='ee-k'>id:</span><span class='ee-v'>32</span></li><li><label class='ee-shut'>geometry: Point (135.31, 34.41)<input type='checkbox' class='ee-toggle'></label><ul><li><span class='ee-k'>type:</span><span class='ee-v'>Point</span></li><li><label class='ee-shut'>coordinates: [135.308, 34.4138]<input type='checkbox' class='ee-toggle'></label><ul><li><span class='ee-k'>0:</span><span class='ee-v'>135.308</span></li><li><span class='ee-k'>1:</span><span class='ee-v'>34.4138</span></li></ul></li></ul></li><li><label class='ee-shut'>properties: Object (1 property)<input type='checkbox' class='ee-toggle'></label><ul><li><span class='ee-k'>city:</span><span class='ee-v'>Osaka</span></li></ul></li></ul></li><li><label class='ee-shut'>33: Feature (Point, 1 property)<input type='checkbox' class='ee-toggle'></label><ul><li><span class='ee-k'>type:</span><span class='ee-v'>Feature</span></li><li><span class='ee-k'>id:</span><span class='ee-v'>33</span></li><li><label class='ee-shut'>geometry: Point (2.21, 48.51)<input type='checkbox' class='ee-toggle'></label><ul><li><span class='ee-k'>type:</span><span class='ee-v'>Point</span></li><li><label class='ee-shut'>coordinates: [2.2108, 48.5124]<input type='checkbox' class='ee-toggle'></label><ul><li><span class='ee-k'>0:</span><span class='ee-v'>2.2108</span></li><li><span class='ee-k'>1:</span><span class='ee-v'>48.5124</span></li></ul></li></ul></li><li><label class='ee-shut'>properties: Object (1 property)<input type='checkbox' class='ee-toggle'></label><ul><li><span class='ee-k'>city:</span><span class='ee-v'>Paris</span></li></ul></li></ul></li><li><label class='ee-shut'>34: Feature (Point, 1 property)<input type='checkbox' class='ee-toggle'></label><ul><li><span class='ee-k'>type:</span><span class='ee-v'>Feature</span></li><li><span class='ee-k'>id:</span><span class='ee-v'>34</span></li><li><label class='ee-shut'>geometry: Point (-43.12, -22.54)<input type='checkbox' class='ee-toggle'></label><ul><li><span class='ee-k'>type:</span><span class='ee-v'>Point</span></li><li><label class='ee-shut'>coordinates: [-43.1221, -22.5441]<input type='checkbox' class='ee-toggle'></label><ul><li><span class='ee-k'>0:</span><span class='ee-v'>-43.1221</span></li><li><span class='ee-k'>1:</span><span class='ee-v'>-22.5441</span></li></ul></li></ul></li><li><label class='ee-shut'>properties: Object (1 property)<input type='checkbox' class='ee-toggle'></label><ul><li><span class='ee-k'>city:</span><span class='ee-v'>Rio de Janeiro</span></li></ul></li></ul></li><li><label class='ee-shut'>35: Feature (Point, 1 property)<input type='checkbox' class='ee-toggle'></label><ul><li><span class='ee-k'>type:</span><span class='ee-v'>Feature</span></li><li><span class='ee-k'>id:</span><span class='ee-v'>35</span></li><li><label class='ee-shut'>geometry: Point (-46.38, -23.33)<input type='checkbox' class='ee-toggle'></label><ul><li><span class='ee-k'>type:</span><span class='ee-v'>Point</span></li><li><label class='ee-shut'>coordinates: [-46.38, -23.33]<input type='checkbox' class='ee-toggle'></label><ul><li><span class='ee-k'>0:</span><span class='ee-v'>-46.38</span></li><li><span class='ee-k'>1:</span><span class='ee-v'>-23.33</span></li></ul></li></ul></li><li><label class='ee-shut'>properties: Object (1 property)<input type='checkbox' class='ee-toggle'></label><ul><li><span class='ee-k'>city:</span><span class='ee-v'>São Paulo</span></li></ul></li></ul></li><li><label class='ee-shut'>36: Feature (Point, 1 property)<input type='checkbox' class='ee-toggle'></label><ul><li><span class='ee-k'>type:</span><span class='ee-v'>Feature</span></li><li><span class='ee-k'>id:</span><span class='ee-v'>36</span></li><li><label class='ee-shut'>geometry: Point (126.59, 37.33)<input type='checkbox' class='ee-toggle'></label><ul><li><span class='ee-k'>type:</span><span class='ee-v'>Point</span></li><li><label class='ee-shut'>coordinates: [126.5924, 37.3336]<input type='checkbox' class='ee-toggle'></label><ul><li><span class='ee-k'>0:</span><span class='ee-v'>126.5924</span></li><li><span class='ee-k'>1:</span><span class='ee-v'>37.3336</span></li></ul></li></ul></li><li><label class='ee-shut'>properties: Object (1 property)<input type='checkbox' class='ee-toggle'></label><ul><li><span class='ee-k'>city:</span><span class='ee-v'>Seoul</span></li></ul></li></ul></li><li><label class='ee-shut'>37: Feature (Point, 1 property)<input type='checkbox' class='ee-toggle'></label><ul><li><span class='ee-k'>type:</span><span class='ee-v'>Feature</span></li><li><span class='ee-k'>id:</span><span class='ee-v'>37</span></li><li><label class='ee-shut'>geometry: Point (121.28, 31.13)<input type='checkbox' class='ee-toggle'></label><ul><li><span class='ee-k'>type:</span><span class='ee-v'>Point</span></li><li><label class='ee-shut'>coordinates: [121.2829, 31.1343]<input type='checkbox' class='ee-toggle'></label><ul><li><span class='ee-k'>0:</span><span class='ee-v'>121.2829</span></li><li><span class='ee-k'>1:</span><span class='ee-v'>31.1343</span></li></ul></li></ul></li><li><label class='ee-shut'>properties: Object (1 property)<input type='checkbox' class='ee-toggle'></label><ul><li><span class='ee-k'>city:</span><span class='ee-v'>Shanghai</span></li></ul></li></ul></li><li><label class='ee-shut'>38: Feature (Point, 1 property)<input type='checkbox' class='ee-toggle'></label><ul><li><span class='ee-k'>type:</span><span class='ee-v'>Feature</span></li><li><span class='ee-k'>id:</span><span class='ee-v'>38</span></li><li><label class='ee-shut'>geometry: Point (114.03, 22.32)<input type='checkbox' class='ee-toggle'></label><ul><li><span class='ee-k'>type:</span><span class='ee-v'>Point</span></li><li><label class='ee-shut'>coordinates: [114.0335, 22.3229]<input type='checkbox' class='ee-toggle'></label><ul><li><span class='ee-k'>0:</span><span class='ee-v'>114.0335</span></li><li><span class='ee-k'>1:</span><span class='ee-v'>22.3229</span></li></ul></li></ul></li><li><label class='ee-shut'>properties: Object (1 property)<input type='checkbox' class='ee-toggle'></label><ul><li><span class='ee-k'>city:</span><span class='ee-v'>Shenzhen</span></li></ul></li></ul></li><li><label class='ee-shut'>39: Feature (Point, 1 property)<input type='checkbox' class='ee-toggle'></label><ul><li><span class='ee-k'>type:</span><span class='ee-v'>Feature</span></li><li><span class='ee-k'>id:</span><span class='ee-v'>39</span></li><li><label class='ee-shut'>geometry: Point (51.23, 35.41)<input type='checkbox' class='ee-toggle'></label><ul><li><span class='ee-k'>type:</span><span class='ee-v'>Point</span></li><li><label class='ee-shut'>coordinates: [51.232, 35.4121]<input type='checkbox' class='ee-toggle'></label><ul><li><span class='ee-k'>0:</span><span class='ee-v'>51.232</span></li><li><span class='ee-k'>1:</span><span class='ee-v'>35.4121</span></li></ul></li></ul></li><li><label class='ee-shut'>properties: Object (1 property)<input type='checkbox' class='ee-toggle'></label><ul><li><span class='ee-k'>city:</span><span class='ee-v'>Tehran</span></li></ul></li></ul></li><li><label class='ee-shut'>40: Feature (Point, 1 property)<input type='checkbox' class='ee-toggle'></label><ul><li><span class='ee-k'>type:</span><span class='ee-v'>Feature</span></li><li><span class='ee-k'>id:</span><span class='ee-v'>40</span></li><li><label class='ee-shut'>geometry: Point (117.12, 39.08)<input type='checkbox' class='ee-toggle'></label><ul><li><span class='ee-k'>type:</span><span class='ee-v'>Point</span></li><li><label class='ee-shut'>coordinates: [117.1219, 39.0801]<input type='checkbox' class='ee-toggle'></label><ul><li><span class='ee-k'>0:</span><span class='ee-v'>117.1219</span></li><li><span class='ee-k'>1:</span><span class='ee-v'>39.0801</span></li></ul></li></ul></li><li><label class='ee-shut'>properties: Object (1 property)<input type='checkbox' class='ee-toggle'></label><ul><li><span class='ee-k'>city:</span><span class='ee-v'>Tianjin</span></li></ul></li></ul></li><li><label class='ee-shut'>41: Feature (Point, 1 property)<input type='checkbox' class='ee-toggle'></label><ul><li><span class='ee-k'>type:</span><span class='ee-v'>Feature</span></li><li><span class='ee-k'>id:</span><span class='ee-v'>41</span></li><li><label class='ee-shut'>geometry: Point (139.41, 35.41)<input type='checkbox' class='ee-toggle'></label><ul><li><span class='ee-k'>type:</span><span class='ee-v'>Point</span></li><li><label class='ee-shut'>coordinates: [139.4132, 35.4123]<input type='checkbox' class='ee-toggle'></label><ul><li><span class='ee-k'>0:</span><span class='ee-v'>139.4132</span></li><li><span class='ee-k'>1:</span><span class='ee-v'>35.4123</span></li></ul></li></ul></li><li><label class='ee-shut'>properties: Object (1 property)<input type='checkbox' class='ee-toggle'></label><ul><li><span class='ee-k'>city:</span><span class='ee-v'>Tokyo</span></li></ul></li></ul></li><li><label class='ee-shut'>42: Feature (Point, 1 property)<input type='checkbox' class='ee-toggle'></label><ul><li><span class='ee-k'>type:</span><span class='ee-v'>Feature</span></li><li><span class='ee-k'>id:</span><span class='ee-v'>42</span></li><li><label class='ee-shut'>geometry: Point (114.18, 30.35)<input type='checkbox' class='ee-toggle'></label><ul><li><span class='ee-k'>type:</span><span class='ee-v'>Point</span></li><li><label class='ee-shut'>coordinates: [114.1817, 30.3536]<input type='checkbox' class='ee-toggle'></label><ul><li><span class='ee-k'>0:</span><span class='ee-v'>114.1817</span></li><li><span class='ee-k'>1:</span><span class='ee-v'>30.3536</span></li></ul></li></ul></li><li><label class='ee-shut'>properties: Object (1 property)<input type='checkbox' class='ee-toggle'></label><ul><li><span class='ee-k'>city:</span><span class='ee-v'>Wuhan</span></li></ul></li></ul></li><li><label class='ee-shut'>43: Feature (Point, 1 property)<input type='checkbox' class='ee-toggle'></label><ul><li><span class='ee-k'>type:</span><span class='ee-v'>Feature</span></li><li><span class='ee-k'>id:</span><span class='ee-v'>43</span></li><li><label class='ee-shut'>geometry: Point (118.05, 24.28)<input type='checkbox' class='ee-toggle'></label><ul><li><span class='ee-k'>type:</span><span class='ee-v'>Point</span></li><li><label class='ee-shut'>coordinates: [118.052, 24.2847]<input type='checkbox' class='ee-toggle'></label><ul><li><span class='ee-k'>0:</span><span class='ee-v'>118.052</span></li><li><span class='ee-k'>1:</span><span class='ee-v'>24.2847</span></li></ul></li></ul></li><li><label class='ee-shut'>properties: Object (1 property)<input type='checkbox' class='ee-toggle'></label><ul><li><span class='ee-k'>city:</span><span class='ee-v'>Xiamen</span></li></ul></li></ul></li><li><label class='ee-shut'>44: Feature (Point, 1 property)<input type='checkbox' class='ee-toggle'></label><ul><li><span class='ee-k'>type:</span><span class='ee-v'>Feature</span></li><li><span class='ee-k'>id:</span><span class='ee-v'>44</span></li><li><label class='ee-shut'>geometry: Point (108.57, 34.16)<input type='checkbox' class='ee-toggle'></label><ul><li><span class='ee-k'>type:</span><span class='ee-v'>Point</span></li><li><label class='ee-shut'>coordinates: [108.5714, 34.1554]<input type='checkbox' class='ee-toggle'></label><ul><li><span class='ee-k'>0:</span><span class='ee-v'>108.5714</span></li><li><span class='ee-k'>1:</span><span class='ee-v'>34.1554</span></li></ul></li></ul></li><li><label class='ee-shut'>properties: Object (1 property)<input type='checkbox' class='ee-toggle'></label><ul><li><span class='ee-k'>city:</span><span class='ee-v'>Xi'an</span></li></ul></li></ul></li></ul></li></ul></li></ul></div><script>function toggleHeader() {\n",
              "    const parent = this.parentElement;\n",
              "    parent.className = parent.className === \"ee-open\" ? \"ee-shut\" : \"ee-open\";\n",
              "}\n",
              "\n",
              "for (let c of document.getElementsByClassName(\"ee-toggle\")) {\n",
              "    c.onclick = toggleHeader;\n",
              "}</script></div>"
            ]
          },
          "metadata": {},
          "execution_count": 25
        }
      ]
    },
    {
      "cell_type": "markdown",
      "source": [
        "## Visualize the dataset\n",
        "Use geemap to show what the dataset looks like on a map of Earth"
      ],
      "metadata": {
        "id": "oNTHlBD27kNV"
      },
      "id": "oNTHlBD27kNV"
    },
    {
      "cell_type": "code",
      "source": [
        "def bounding_box_func(feature):\n",
        "    intermediate_buffer = feature.buffer(40000);  # buffer radius, half your box width in m\n",
        "    intermediate_box = intermediate_buffer.bounds(); # Draw a bounding box around the circle\n",
        "    return(intermediate_box); # Return the bounding box"
      ],
      "metadata": {
        "id": "l6sEZ-onq_Yl"
      },
      "id": "l6sEZ-onq_Yl",
      "execution_count": 30,
      "outputs": []
    },
    {
      "cell_type": "code",
      "source": [
        "clipFC = megacitiesFC.map(bounding_box_func)"
      ],
      "metadata": {
        "id": "sV4LIB6kjduK"
      },
      "id": "sV4LIB6kjduK",
      "execution_count": 31,
      "outputs": []
    },
    {
      "cell_type": "code",
      "source": [
        "opticalBands = ['B1', 'B2', 'B3', 'B4', 'B5', 'B6', 'B7']\n",
        "\n",
        "Map = geemap.Map(zoom = 10)\n",
        "\n",
        "# Cloud masking function to get rid of as many clouds as we can\n",
        "def maskL8sr(image):\n",
        "  cloudShadowBitMask = ee.Number(2).pow(3).int()\n",
        "  cloudsBitMask = ee.Number(2).pow(5).int()\n",
        "  qa = image.select('pixel_qa')\n",
        "  mask1 = qa.bitwiseAnd(cloudShadowBitMask).eq(0).And(\n",
        "    qa.bitwiseAnd(cloudsBitMask).eq(0))\n",
        "  mask2 = image.mask().reduce('min')\n",
        "  mask3 = image.select(opticalBands).gt(0).And(\n",
        "          image.select(opticalBands).lt(10000)).reduce('min')\n",
        "  mask = mask1.And(mask2).And(mask3)\n",
        "  return image.select(opticalBands).divide(10000)\n",
        "\n",
        "def clipImage(image):\n",
        "  image = image.clip(clipFC)\n",
        "  image = image.select('B4', 'B3', 'B2')\n",
        "  return image\n",
        "\n",
        "imageCollection = L8SR.map(maskL8sr)\n",
        "imageCollection = imageCollection.map(clipImage).filterBounds(megacitiesFC).sort('CLOUD COVER')\n",
        "\n",
        "\n",
        "# The image input data is a cloud-masked median composite\n",
        "# image = L8SR.filterDate('2015-01-01', '2017-12-31').filterBounds(megacitiesFC).map(maskL8sr).median()\n",
        "# image = image.select('B4', 'B3', 'B2')\n",
        "\n",
        "# image = image.clip(ee.Geometry.Polygon([geo1, geo2, geo3, geo4]))\n",
        "# image = image.clipToCollection(clipFC)\n",
        "\n",
        "# This creates an imageCollection of the data to work with instead of an image\n",
        "# collection = L8SR.filterDate('2015-01-01', '2017-12-31').filterBounds(megacitiesFC).map(maskL8sr)\n",
        "\n",
        "# TODO write a function to create a bounding box around each city\n",
        "# TODO write a function that takes \"image\" and seperates it into an imageCollection of each city\n",
        "\n",
        "# sets image variables\n",
        "rgbVis = {\n",
        "  'bands': BANDS,\n",
        "  'min': 0,\n",
        "  'max': 0.3\n",
        "};\n",
        "\n",
        "Map.setCenter(139.6503, 35.6762)\n",
        "# adds image layers to map\n",
        "# Map.addLayer(collection, rgbVis, 'Cities: Collection')\n",
        "Map.addLayer(imageCollection, rgbVis, 'Cities: Image')\n",
        "\n",
        "Map"
      ],
      "metadata": {
        "colab": {
          "base_uri": "https://localhost:8080/",
          "height": 621,
          "referenced_widgets": [
            "5c39fe715f4045f38fde05576080858e",
            "f63cd70eb8f9413ea3554a9b9d6e262f",
            "33b62d0077de4f259dbe863e921644ac",
            "6c00fa9211b54888a7ba5ae0799a8cdd",
            "e84fe1423ee44b0da654d3a0a0c23149",
            "d2da6572308e40c8879f09455014c790",
            "874f3255709e4f238e8c64c6fcad6f8b",
            "3448cf1c72f54892ba5dbd2e3117ae0d",
            "2ce31e0eba1a41799311972b27cf7d7f",
            "a285507a5b5a41c992f018fe2ec8715c",
            "514816161d7c40efbc4f8fa1eccdc4b0",
            "19fb8c9e539f4d0f9565ca3280d897b7",
            "e6520749c9d740c69a61009a56f33ae6",
            "bcaf50f45e86498bacafbe5669518e88",
            "572003dce8524d43a19f6576d2f4adda",
            "6ed28908ec914c69be95a217ee738aeb",
            "0e25e982961d45deb772630d62e9e482",
            "076e90aab219421e93527dfacdbb8fb7",
            "317a8af7a4854071b467fa6df50712ed",
            "b857e773d6834284981f6a89f10b317d",
            "2006895a1a134234a710103d8588658c",
            "9a3ff038041f4117b82851832ab717e8",
            "ab79b53f83ed44a3bf0d41125560040f",
            "0be20f176dd34f36a6b8e778dc8f07c9",
            "0357ff2be20646188d6af64504cc8cf5",
            "d4eaabb3b99e4805847955a81caf191e"
          ]
        },
        "id": "OfYW0e4fdNzd",
        "outputId": "5353e5eb-61fb-4ee6-a317-c4c7fb2f8010"
      },
      "id": "OfYW0e4fdNzd",
      "execution_count": 89,
      "outputs": [
        {
          "output_type": "display_data",
          "data": {
            "text/plain": [
              "Map(center=[35.6762, 139.6503], controls=(WidgetControl(options=['position', 'transparent_bg'], widget=HBox(ch…"
            ],
            "application/vnd.jupyter.widget-view+json": {
              "version_major": 2,
              "version_minor": 0,
              "model_id": "5c39fe715f4045f38fde05576080858e"
            }
          },
          "metadata": {
            "application/vnd.jupyter.widget-view+json": {
              "colab": {
                "custom_widget_manager": {
                  "url": "https://ssl.gstatic.com/colaboratory-static/widgets/colab-cdn-widget-manager/d2e234f7cc04bf79/manager.min.js"
                }
              }
            }
          }
        }
      ]
    },
    {
      "cell_type": "code",
      "source": [
        "opticalBands = ['B1', 'B2', 'B3', 'B4', 'B5', 'B6', 'B7']\n",
        "\n",
        "Map = geemap.Map(zoom = 10)\n",
        "\n",
        "# Cloud masking function to get rid of as many clouds as we can\n",
        "def maskL8sr(image):\n",
        "  cloudShadowBitMask = ee.Number(2).pow(3).int()\n",
        "  cloudsBitMask = ee.Number(2).pow(5).int()\n",
        "  qa = image.select('pixel_qa')\n",
        "  mask1 = qa.bitwiseAnd(cloudShadowBitMask).eq(0).And(\n",
        "    qa.bitwiseAnd(cloudsBitMask).eq(0))\n",
        "  mask2 = image.mask().reduce('min')\n",
        "  mask3 = image.select(opticalBands).gt(0).And(\n",
        "          image.select(opticalBands).lt(10000)).reduce('min')\n",
        "  mask = mask1.And(mask2).And(mask3)\n",
        "  return image.select(opticalBands).divide(10000)\n",
        "  \n",
        "# The image input data is a cloud-masked median composite\n",
        "image = L8SR.filterDate('2015-01-01', '2017-12-31').filterBounds(megacitiesFC).map(maskL8sr).median()\n",
        "image = image.select('B4', 'B3', 'B2')\n",
        "\n",
        "image = image.clipToCollection(clipFC)\n",
        "\n",
        "# TODO write a function to create a bounding box around each city\n",
        "# TODO write a function that takes \"image\" and seperates it into an imageCollection of each city\n",
        "\n",
        "# sets image variables\n",
        "rgbVis = {\n",
        "  'bands': BANDS,\n",
        "  'min': 0,\n",
        "  'max': 0.3\n",
        "};\n",
        "\n",
        "Map.setCenter(139.6503, 35.6762)\n",
        "# adds image layers to map\n",
        "# Map.addLayer(collection, rgbVis, 'Cities: Collection')\n",
        "Map.addLayer(image, rgbVis, 'Cities: Image')\n",
        "\n",
        "Map"
      ],
      "metadata": {
        "id": "ogRa_aSA0dRV",
        "outputId": "d847b2ca-9cf1-4df5-e79a-860fd1ff6a7a",
        "colab": {
          "base_uri": "https://localhost:8080/",
          "height": 621,
          "referenced_widgets": [
            "61b553a4b3fb4b5aa09a266934224650",
            "b5a1347215c64b0b8912204133b1c83d",
            "51c549ab785f4d218ff85b06abf43150",
            "a81757b0b24d42d0b529c307b01f985f",
            "9fbca8149af74d969d9a8c8760ee682e",
            "ffe19d4f685a4084a9668ec4a225daaf",
            "ae850933a62545469df9ae1b3dcbbc25",
            "480c352b95c548349aa5551170dab65a",
            "4e732d978b984bea9f2605de53fb55d5",
            "9e7a110d54874b9c864160c27f1ad3ac",
            "06f5fba8549844d4a0e6b3767f64908f",
            "6672f132ffe044a59a4ba91643038a44",
            "e6520749c9d740c69a61009a56f33ae6",
            "84c51ff7152b4d37a7d1d9368c9017c9",
            "782132700461409cb8a91b480b57d999",
            "79b03358ccee4d58bf3771b23b5ecd7d",
            "71707a23b8f04006a141d23f3689c5fd",
            "79a38422ff074331a90e339d0611f530",
            "1f08e05921c444518ef98dee4056b55a",
            "88cc5598307b44d3a4808a1fec5c83d8",
            "71ba771571ce42229fda20f2f71074b2",
            "e064ec4c169748ef9797128162c02487",
            "45c36b72fc6c4d1189684b4a3cfb2b1d",
            "8ca95006d9bf4e2aae59be677246469e",
            "4513eed0a4634cc7a1cdba2f57fafa93",
            "2fb4acacac654e12859b8d958611ca26"
          ]
        }
      },
      "id": "ogRa_aSA0dRV",
      "execution_count": 83,
      "outputs": [
        {
          "output_type": "display_data",
          "data": {
            "text/plain": [
              "Map(center=[35.6762, 139.6503], controls=(WidgetControl(options=['position', 'transparent_bg'], widget=HBox(ch…"
            ],
            "application/vnd.jupyter.widget-view+json": {
              "version_major": 2,
              "version_minor": 0,
              "model_id": "61b553a4b3fb4b5aa09a266934224650"
            }
          },
          "metadata": {
            "application/vnd.jupyter.widget-view+json": {
              "colab": {
                "custom_widget_manager": {
                  "url": "https://ssl.gstatic.com/colaboratory-static/widgets/colab-cdn-widget-manager/d2e234f7cc04bf79/manager.min.js"
                }
              }
            }
          }
        }
      ]
    },
    {
      "cell_type": "code",
      "source": [
        "ee.Algorithms.Describe(imageCollection)"
      ],
      "metadata": {
        "id": "5Yi7US-dePTX",
        "outputId": "6dab95f8-aea5-425b-9cff-539c7d11df01",
        "colab": {
          "base_uri": "https://localhost:8080/",
          "height": 173
        }
      },
      "id": "5Yi7US-dePTX",
      "execution_count": 54,
      "outputs": [
        {
          "output_type": "execute_result",
          "data": {
            "text/plain": [
              "<ee.computedobject.ComputedObject at 0x7fec1645efa0>"
            ],
            "text/html": [
              "<div><style>:root {\n",
              "  --font-color-primary: var(--jp-content-font-color0, rgba(0, 0, 0, 1));\n",
              "  --font-color-secondary: var(--jp-content-font-color2, rgba(0, 0, 0, 0.6));\n",
              "  --font-color-accent: rgba(123, 31, 162, 1);\n",
              "  --border-color: var(--jp-border-color2, #e0e0e0);\n",
              "  --background-color: var(--jp-layout-color0, white);\n",
              "  --background-color-row-even: var(--jp-layout-color1, white);\n",
              "  --background-color-row-odd: var(--jp-layout-color2, #eeeeee);\n",
              "}\n",
              "\n",
              "html[theme=\"dark\"],\n",
              "body[data-theme=\"dark\"],\n",
              "body.vscode-dark {\n",
              "  --font-color-primary: rgba(255, 255, 255, 1);\n",
              "  --font-color-secondary: rgba(255, 255, 255, 0.6);\n",
              "  --font-color-accent: rgb(173, 132, 190);\n",
              "  --border-color: #2e2e2e;\n",
              "  --background-color: #111111;\n",
              "  --background-color-row-even: #111111;\n",
              "  --background-color-row-odd: #313131;\n",
              "}\n",
              "\n",
              ".ee {\n",
              "  padding: 1em;\n",
              "  line-height: 1.5em;\n",
              "  min-width: 300px;\n",
              "  max-width: 1200px;\n",
              "  overflow-y: scroll;\n",
              "  max-height: 600px;\n",
              "  border: 1px solid var(--border-color);\n",
              "  font-family: monospace;\n",
              "}\n",
              "\n",
              ".ee li {\n",
              "  list-style-type: none;\n",
              "}\n",
              "\n",
              ".ee ul {\n",
              "  padding-left: 1.5em !important;\n",
              "  margin: 0;\n",
              "}\n",
              "\n",
              ".ee > ul {\n",
              "  padding-left: 0 !important;\n",
              "}\n",
              "\n",
              ".ee-open,\n",
              ".ee-shut {\n",
              "  color: var(--font-color-secondary);\n",
              "  cursor: pointer;\n",
              "  margin: 0;\n",
              "}\n",
              "\n",
              ".ee-open:hover,\n",
              ".ee-shut:hover {\n",
              "  color: var(--font-color-primary);\n",
              "}\n",
              "\n",
              ".ee-k {\n",
              "  color: var(--font-color-accent);\n",
              "  margin-right: 6px;\n",
              "}\n",
              "\n",
              ".ee-v {\n",
              "  color: var(--font-color-primary);\n",
              "}\n",
              "\n",
              ".ee-toggle {\n",
              "  display: none;\n",
              "}\n",
              "\n",
              ".ee-shut + ul {\n",
              "  display: none;\n",
              "}\n",
              "\n",
              ".ee-open + ul {\n",
              "  display: block;\n",
              "}\n",
              "\n",
              ".ee-shut::before {\n",
              "  display: inline-block;\n",
              "  content: \"▼\";\n",
              "  margin-right: 6px;\n",
              "  transform: rotate(-90deg);\n",
              "  transition: transform 0.2s;\n",
              "}\n",
              "\n",
              ".ee-open::before {\n",
              "  transform: rotate(0deg);\n",
              "  display: inline-block;\n",
              "  content: \"▼\";\n",
              "  margin-right: 6px;\n",
              "  transition: transform 0.2s;\n",
              "}\n",
              "</style><div class='ee'><ul><li><label class='ee-shut'>ImageCollection LANDSAT/LC08/C01/T1_SR  (0 elements)<input type='checkbox' class='ee-toggle'></label><ul><li><span class='ee-k'>type:</span><span class='ee-v'>ImageCollection</span></li><li><span class='ee-k'>id:</span><span class='ee-v'>LANDSAT/LC08/C01/T1_SR</span></li><li><span class='ee-k'>version:</span><span class='ee-v'>1648901701901439</span></li><li><label class='ee-shut'>bands: []<input type='checkbox' class='ee-toggle'></label><ul></ul></li><li><label class='ee-shut'>properties: Object (38 properties)<input type='checkbox' class='ee-toggle'></label><ul><li><label class='ee-shut'>date_range: [1365638400000, 1640908800000]<input type='checkbox' class='ee-toggle'></label><ul><li><span class='ee-k'>0:</span><span class='ee-v'>1365638400000</span></li><li><span class='ee-k'>1:</span><span class='ee-v'>1640908800000</span></li></ul></li><li><span class='ee-k'>description:</span><span class='ee-v'><p>This dataset is the atmospherically corrected\n",
              "surface reflectance from  the Landsat 8 OLI/TIRS sensors.\n",
              "These images contain 5 visible and near-infrared (VNIR) bands and\n",
              "2 short-wave infrared (SWIR) bands processed to orthorectified surface\n",
              "reflectance, and two thermal infrared (TIR) bands processed to orthorectified\n",
              "brightness temperature</p><p>These data have been atmospherically corrected using\n",
              "<a href=\"https://prd-wret.s3.us-west-2.amazonaws.com/assets/palladium/production/atoms/files/LSDS-1368_L8_C1-LandSurfaceReflectanceCode-LASRC_ProductGuide-v3.pdf\">LaSRC</a>\n",
              "and includes a cloud, shadow, water and snow mask produced using\n",
              "<a href=\"https://www.usgs.gov/core-science-systems/nli/landsat/cfmask-algorithm\">CFMASK</a>,\n",
              "as well as a per-pixel saturation mask.</p><p>Strips of collected data are packaged into overlapping &quot;scenes&quot; covering approximately\n",
              "170km x 183km using a <a href=\"https://landsat.gsfc.nasa.gov/about/worldwide-reference-system\">standardized reference grid</a>.</p><p>See also <a href=\"https://www.usgs.gov/land-resources/nli/landsat/landsat-surface-reflectance-quality-assessment\">the USGS page on SR QA bands</a>.</p><p>SR can only be produced for Landsat assets processed to the\n",
              "<a href=\"https://www.usgs.gov/land-resources/nli/landsat/landsat-levels-processing\">L1TP level</a></p><p>Data provider notes:</p><ul><li>Although Surface Reflectance can be processed only from the Operational\n",
              "Land Imager (OLI) bands, SR requires combined OLI/Thermal Infrared\n",
              "Sensor (TIRS) product (LC8) input in order to generate the accompanying\n",
              "cloud mask. Therefore, OLI only (LO8), and TIRS only (LT8) data products\n",
              "cannot be calculated to SR.</li><li>SR is not run for a scene with a solar zenith angle greater than 76&deg;.</li><li>Users are cautioned to avoid using SR for data acquired\n",
              "over high latitudes (&gt; 65&deg;).</li><li>The panchromatic band (ETM+ Band 7, OLI Band 8) is not processed to\n",
              "Surface Reflectance.</li><li>Efficacy of SR correction will be likely reduced in areas where atmospheric\n",
              "correction is affected by adverse conditions:\n",
              "<ul><li>Hyper-arid or snow-covered regions</li><li>Low sun angle conditions</li><li>Coastal regions where land area is small relative to adjacent water</li><li>Areas with extensive cloud contamination</li></ul></li></ul><p>This product is generated by Google using a Docker image supplied by USGS.</p><p><b>Provider: <a href=\"https://www.usgs.gov/core-science-systems/nli/landsat/landsat-surface-reflectance\">USGS</a></b><br><p><b>Resolution</b><br>30 meters\n",
              "</p><p><b>Revisit Interval</b><br>\n",
              "  16 days\n",
              "</p><p><b>Bands</b><table class=\"eecat\"><tr><th scope=\"col\">Name</th><th scope=\"col\">Units</th><th scope=\"col\">Scale</th><th scope=\"col\">Wavelength</th><th scope=\"col\">Description</th></tr><tr><td>B1</td><td></td><td>0.0001</td><td>0.435-0.451 &mu;m</td><td><p>Band 1 (ultra blue) surface reflectance</p></td></tr><tr><td>B2</td><td></td><td>0.0001</td><td>0.452-0.512 &mu;m</td><td><p>Band 2 (blue) surface reflectance</p></td></tr><tr><td>B3</td><td></td><td>0.0001</td><td>0.533-0.590 &mu;m</td><td><p>Band 3 (green) surface reflectance</p></td></tr><tr><td>B4</td><td></td><td>0.0001</td><td>0.636-0.673 &mu;m</td><td><p>Band 4 (red) surface reflectance</p></td></tr><tr><td>B5</td><td></td><td>0.0001</td><td>0.851-0.879 &mu;m</td><td><p>Band 5 (near infrared) surface reflectance</p></td></tr><tr><td>B6</td><td></td><td>0.0001</td><td>1.566-1.651 &mu;m</td><td><p>Band 6 (shortwave infrared 1) surface reflectance</p></td></tr><tr><td>B7</td><td></td><td>0.0001</td><td>2.107-2.294 &mu;m</td><td><p>Band 7 (shortwave infrared 2) surface reflectance</p></td></tr><tr><td>B10</td><td>Kelvin</td><td>0.1</td><td>10.60-11.19 &mu;m</td><td><p>Band 10 brightness temperature. This band, while originally\n",
              "collected with a resolution of 100m / pixel, has been resampled using\n",
              "cubic convolution to 30m.</p></td></tr><tr><td>B11</td><td>Kelvin</td><td>0.1</td><td>11.50-12.51 &mu;m</td><td><p>Band 11 brightness temperature. This band, while originally\n",
              "collected with a resolution of 100m / pixel, has been resampled using\n",
              "cubic convolution to 30m.</p></td></tr><tr><td>sr_aerosol</td><td></td><td></td><td></td><td><p>Aerosol attributes</p></td></tr><tr><td colspan=100>\n",
              "      Bitmask for sr_aerosol\n",
              "<ul><li>\n",
              "          Bit 0: Fill\n",
              "<ul></ul></li><li>\n",
              "          Bit 1: Aerosol retrieval - valid\n",
              "<ul></ul></li><li>\n",
              "          Bit 2: Aerosol retrieval - interpolated\n",
              "<ul></ul></li><li>\n",
              "          Bit 3: Water pixel\n",
              "<ul></ul></li><li>\n",
              "          Bit 4: Water aerosol retrieval failed - needs interpolated\n",
              "<ul></ul></li><li>\n",
              "          Bit 5: Neighbor of failed aerosol retrieval\n",
              "<ul></ul></li><li>\n",
              "          Bits 6-7: Aerosol content\n",
              "<ul><li>0: Climatology</li><li>1: Low</li><li>2: Medium</li><li>3: High</li></ul></li></ul></td></tr><tr><td>pixel_qa</td><td></td><td></td><td></td><td><p>Pixel quality attributes generated from the CFMASK algorithm.</p></td></tr><tr><td colspan=100>\n",
              "      Bitmask for pixel_qa\n",
              "<ul><li>\n",
              "          Bit 0: Fill\n",
              "<ul></ul></li><li>\n",
              "          Bit 1: Clear\n",
              "<ul></ul></li><li>\n",
              "          Bit 2: Water\n",
              "<ul></ul></li><li>\n",
              "          Bit 3: Cloud Shadow\n",
              "<ul></ul></li><li>\n",
              "          Bit 4: Snow\n",
              "<ul></ul></li><li>\n",
              "          Bit 5: Cloud\n",
              "<ul></ul></li><li>\n",
              "          Bits 6-7: Cloud Confidence\n",
              "<ul><li>0: None</li><li>1: Low</li><li>2: Medium</li><li>3: High</li></ul></li><li>\n",
              "          Bits 8-9: Cirrus Confidence\n",
              "<ul><li>0: None</li><li>1: Low</li><li>2: Medium</li><li>3: High</li></ul></li><li>\n",
              "          Bit 10: Terrain Occlusion\n",
              "<ul></ul></li></ul></td></tr><tr><td>radsat_qa</td><td></td><td></td><td></td><td><p>Radiometric saturation QA</p></td></tr><tr><td colspan=100>\n",
              "      Bitmask for radsat_qa\n",
              "<ul><li>\n",
              "          Bit 0: Data Fill Flag\n",
              "<ul><li>0: Valid data</li><li>1: Invalid data</li></ul></li><li>\n",
              "          Bit 1: Band 1 data saturated\n",
              "<ul></ul></li><li>\n",
              "          Bit 2: Band 2 data saturated\n",
              "<ul></ul></li><li>\n",
              "          Bit 3: Band 3 data saturated\n",
              "<ul></ul></li><li>\n",
              "          Bit 4: Band 4 data saturated\n",
              "<ul></ul></li><li>\n",
              "          Bit 5: Band 5 data saturated\n",
              "<ul></ul></li><li>\n",
              "          Bit 6: Band 6 data saturated\n",
              "<ul></ul></li><li>\n",
              "          Bit 7: Band 7 data saturated\n",
              "<ul></ul></li><li>\n",
              "          Bit 8: Unused\n",
              "<ul></ul></li><li>\n",
              "          Bit 9: Band 9 data saturated\n",
              "<ul></ul></li><li>\n",
              "          Bit 10: Band 10 data saturated\n",
              "<ul></ul></li><li>\n",
              "          Bit 11: Band 11 data saturated\n",
              "<ul></ul></li></ul></td></tr></table><p><b>Image Properties</b><table class=\"eecat\"><tr><th scope=\"col\">Name</th><th scope=\"col\">Type</th><th scope=\"col\">Description</th></tr><tr><td>CLOUD_COVER</td><td>DOUBLE</td><td><p>Percentage cloud cover (0-100), -1 = not calculated.\n",
              "(Obtained from raw Landsat metadata)</p></td></tr><tr><td>CLOUD_COVER_LAND</td><td>DOUBLE</td><td><p>Percentage cloud cover over land (0-100), -1 = not calculated.\n",
              "(Obtained from raw Landsat metadata)</p></td></tr><tr><td>EARTH_SUN_DISTANCE</td><td>DOUBLE</td><td><p>Earth-Sun distance (AU)</p></td></tr><tr><td>ESPA_VERSION</td><td>STRING</td><td><p>Internal ESPA image version used to compute SR</p></td></tr><tr><td>GEOMETRIC_RMSE_MODEL</td><td>DOUBLE</td><td><p>Combined RMSE (Root Mean Square Error) of the geometric\n",
              "    residuals (meters) in both across-track and along-track\n",
              "    directions. (Obtained from raw Landsat metadata)</p></td></tr><tr><td>GEOMETRIC_RMSE_MODEL_X</td><td>DOUBLE</td><td><p>RMSE (Root Mean Square Error) of the geometric residuals (meters)\n",
              "    measured on the GCPs (Ground Control Points) used in geometric\n",
              "    precision correction in the across-track direction.\n",
              "    (Obtained from raw Landsat metadata)</p></td></tr><tr><td>GEOMETRIC_RMSE_MODEL_Y</td><td>DOUBLE</td><td><p>RMSE (Root Mean Square Error) of the geometric residuals (meters)\n",
              "    measured on the GCPs (Ground Control Points) used in geometric\n",
              "    precision correction in the along-track direction.\n",
              "    (Obtained from raw Landsat metadata)</p></td></tr><tr><td>IMAGE_QUALITY</td><td>INT</td><td><p>Image quality, 0 = worst, 9 = best, -1 = quality not calculated.\n",
              "(Obtained from raw Landsat metadata)</p></td></tr><tr><td>LANDSAT_ID</td><td>STRING</td><td><p>Landsat Product Identifier (Collection 1)</p></td></tr><tr><td>LEVEL1_PRODUCTION_DATE</td><td>INT</td><td><p>Date of production for raw Level 1 data as ms since epoch</p></td></tr><tr><td>PIXEL_QA_VERSION</td><td>STRING</td><td><p>Version of the software used to produce the &#39;pixel_qa&#39; band</p></td></tr><tr><td>SATELLITE</td><td>STRING</td><td><p>Name of satellite</p></td></tr><tr><td>SENSING_TIME</td><td>STRING</td><td><p>Time of the observations as in ISO 8601 string.\n",
              "(Obtained from raw Landsat metadata)</p></td></tr><tr><td>SOLAR_AZIMUTH_ANGLE</td><td>DOUBLE</td><td><p>Solar azimuth angle</p></td></tr><tr><td>SR_APP_VERSION</td><td>STRING</td><td><p>LaSRC version used to process surface reflectance</p></td></tr><tr><td>WRS_PATH</td><td>INT</td><td><p>WRS path number of scene</p></td></tr><tr><td>WRS_ROW</td><td>INT</td><td><p>WRS row number of scene</p></td></tr></table><p><b>Terms of Use</b><br><p>Landsat datasets are federally created data\n",
              "and therefore reside in the public domain and may be used, transferred, or\n",
              "reproduced without copyright restriction.</p><p>Acknowledgement or credit of the USGS as data source should be provided\n",
              "by including a line of text citation such as the example shown below.</p><p>(Product, Image, Photograph, or Dataset Name) courtesy of\n",
              "the U.S. Geological Survey</p><p>Example: Landsat-7 image courtesy of the U.S. Geological Survey</p><p>See the\n",
              "<a href=\"https://www.usgs.gov/information-policies-and-instructions/usgs-visual-identity-system\">USGS Visual Identity System Guidance</a>\n",
              "for further details on proper citation and acknowledgement of USGS products.</p><style>\n",
              "  table.eecat {\n",
              "  border: 1px solid black;\n",
              "  border-collapse: collapse;\n",
              "  font-size: 13px;\n",
              "  }\n",
              "  table.eecat td, tr, th {\n",
              "  text-align: left; vertical-align: top;\n",
              "  border: 1px solid gray; padding: 3px;\n",
              "  }\n",
              "  td.nobreak { white-space: nowrap; }\n",
              "</style></span></li><li><label class='ee-shut'>keywords: List (9 elements)<input type='checkbox' class='ee-toggle'></label><ul><li><span class='ee-k'>0:</span><span class='ee-v'>cfmask</span></li><li><span class='ee-k'>1:</span><span class='ee-v'>cloud</span></li><li><span class='ee-k'>2:</span><span class='ee-v'>fmask</span></li><li><span class='ee-k'>3:</span><span class='ee-v'>global</span></li><li><span class='ee-k'>4:</span><span class='ee-v'>l8sr</span></li><li><span class='ee-k'>5:</span><span class='ee-v'>landsat</span></li><li><span class='ee-k'>6:</span><span class='ee-v'>reflectance</span></li><li><span class='ee-k'>7:</span><span class='ee-v'>sr</span></li><li><span class='ee-k'>8:</span><span class='ee-v'>usgs</span></li></ul></li><li><span class='ee-k'>period:</span><span class='ee-v'>0</span></li><li><label class='ee-shut'>product_tags: List (8 elements)<input type='checkbox' class='ee-toggle'></label><ul><li><span class='ee-k'>0:</span><span class='ee-v'>global</span></li><li><span class='ee-k'>1:</span><span class='ee-v'>sr</span></li><li><span class='ee-k'>2:</span><span class='ee-v'>reflectance</span></li><li><span class='ee-k'>3:</span><span class='ee-v'>l8sr</span></li><li><span class='ee-k'>4:</span><span class='ee-v'>cloud</span></li><li><span class='ee-k'>5:</span><span class='ee-v'>fmask</span></li><li><span class='ee-k'>6:</span><span class='ee-v'>cfmask</span></li><li><span class='ee-k'>7:</span><span class='ee-v'>lc08</span></li></ul></li><li><span class='ee-k'>provider:</span><span class='ee-v'>USGS</span></li><li><span class='ee-k'>provider_url:</span><span class='ee-v'>https://www.usgs.gov/core-science-systems/nli/landsat/landsat-surface-reflectance</span></li><li><span class='ee-k'>sample:</span><span class='ee-v'>https://mw1.google.com/ges/dd/images/LANDSAT_SR_sample.png</span></li><li><label class='ee-shut'>source_tags: ['landsat', 'usgs']<input type='checkbox' class='ee-toggle'></label><ul><li><span class='ee-k'>0:</span><span class='ee-v'>landsat</span></li><li><span class='ee-k'>1:</span><span class='ee-v'>usgs</span></li></ul></li><li><span class='ee-k'>superseded_by:</span><span class='ee-v'>LANDSAT/LC08/C02/T1_L2</span></li><li><span class='ee-k'>system:visualization_0_bands:</span><span class='ee-v'>B4,B3,B2</span></li><li><span class='ee-k'>system:visualization_0_max:</span><span class='ee-v'>30000.0</span></li><li><span class='ee-k'>system:visualization_0_min:</span><span class='ee-v'>0.0</span></li><li><span class='ee-k'>system:visualization_0_name:</span><span class='ee-v'>True Color (432)</span></li><li><span class='ee-k'>system:visualization_1_bands:</span><span class='ee-v'>B5,B4,B3</span></li><li><span class='ee-k'>system:visualization_1_max:</span><span class='ee-v'>30000.0</span></li><li><span class='ee-k'>system:visualization_1_min:</span><span class='ee-v'>0.0</span></li><li><span class='ee-k'>system:visualization_1_name:</span><span class='ee-v'>Near Infrared (543)</span></li><li><span class='ee-k'>system:visualization_2_bands:</span><span class='ee-v'>B7,B5,B3</span></li><li><span class='ee-k'>system:visualization_2_max:</span><span class='ee-v'>30000.0</span></li><li><span class='ee-k'>system:visualization_2_min:</span><span class='ee-v'>0.0</span></li><li><span class='ee-k'>system:visualization_2_name:</span><span class='ee-v'>Shortwave Infrared (753)</span></li><li><label class='ee-shut'>tags: List (9 elements)<input type='checkbox' class='ee-toggle'></label><ul><li><span class='ee-k'>0:</span><span class='ee-v'>cfmask</span></li><li><span class='ee-k'>1:</span><span class='ee-v'>cloud</span></li><li><span class='ee-k'>2:</span><span class='ee-v'>fmask</span></li><li><span class='ee-k'>3:</span><span class='ee-v'>global</span></li><li><span class='ee-k'>4:</span><span class='ee-v'>l8sr</span></li><li><span class='ee-k'>5:</span><span class='ee-v'>landsat</span></li><li><span class='ee-k'>6:</span><span class='ee-v'>reflectance</span></li><li><span class='ee-k'>7:</span><span class='ee-v'>sr</span></li><li><span class='ee-k'>8:</span><span class='ee-v'>usgs</span></li></ul></li><li><span class='ee-k'>thumb:</span><span class='ee-v'>https://mw1.google.com/ges/dd/images/LANDSAT_SR_thumb.png</span></li><li><span class='ee-k'>title:</span><span class='ee-v'>USGS Landsat 8 Surface Reflectance Tier 1 [deprecated]</span></li><li><span class='ee-k'>type_name:</span><span class='ee-v'>ImageCollection</span></li><li><span class='ee-k'>visualization_0_bands:</span><span class='ee-v'>B4,B3,B2</span></li><li><span class='ee-k'>visualization_0_max:</span><span class='ee-v'>30000.0</span></li><li><span class='ee-k'>visualization_0_min:</span><span class='ee-v'>0.0</span></li><li><span class='ee-k'>visualization_0_name:</span><span class='ee-v'>True Color (432)</span></li><li><span class='ee-k'>visualization_1_bands:</span><span class='ee-v'>B5,B4,B3</span></li><li><span class='ee-k'>visualization_1_max:</span><span class='ee-v'>30000.0</span></li><li><span class='ee-k'>visualization_1_min:</span><span class='ee-v'>0.0</span></li><li><span class='ee-k'>visualization_1_name:</span><span class='ee-v'>Near Infrared (543)</span></li><li><span class='ee-k'>visualization_2_bands:</span><span class='ee-v'>B7,B5,B3</span></li><li><span class='ee-k'>visualization_2_max:</span><span class='ee-v'>30000.0</span></li><li><span class='ee-k'>visualization_2_min:</span><span class='ee-v'>0.0</span></li><li><span class='ee-k'>visualization_2_name:</span><span class='ee-v'>Shortwave Infrared (753)</span></li></ul></li></ul></li></ul></div><script>function toggleHeader() {\n",
              "    const parent = this.parentElement;\n",
              "    parent.className = parent.className === \"ee-open\" ? \"ee-shut\" : \"ee-open\";\n",
              "}\n",
              "\n",
              "for (let c of document.getElementsByClassName(\"ee-toggle\")) {\n",
              "    c.onclick = toggleHeader;\n",
              "}</script></div>"
            ]
          },
          "metadata": {},
          "execution_count": 54
        }
      ]
    },
    {
      "cell_type": "code",
      "source": [
        "type(imageCollection)"
      ],
      "metadata": {
        "id": "iSp0kXOOm5SY",
        "outputId": "7ed42c67-3960-45cc-d6db-1b91389caad8",
        "colab": {
          "base_uri": "https://localhost:8080/"
        }
      },
      "id": "iSp0kXOOm5SY",
      "execution_count": 67,
      "outputs": [
        {
          "output_type": "execute_result",
          "data": {
            "text/plain": [
              "ee.imagecollection.ImageCollection"
            ]
          },
          "metadata": {},
          "execution_count": 67
        }
      ]
    },
    {
      "cell_type": "code",
      "source": [
        "imageCollection.size()"
      ],
      "metadata": {
        "id": "tCb_Y_M0q86q",
        "outputId": "4a2cc33b-ebb5-4621-e90b-19faddc94832",
        "colab": {
          "base_uri": "https://localhost:8080/",
          "height": 68
        }
      },
      "id": "tCb_Y_M0q86q",
      "execution_count": 68,
      "outputs": [
        {
          "output_type": "execute_result",
          "data": {
            "text/plain": [
              "<ee.ee_number.Number at 0x7fec16158e20>"
            ],
            "text/html": [
              "<div><style>:root {\n",
              "  --font-color-primary: var(--jp-content-font-color0, rgba(0, 0, 0, 1));\n",
              "  --font-color-secondary: var(--jp-content-font-color2, rgba(0, 0, 0, 0.6));\n",
              "  --font-color-accent: rgba(123, 31, 162, 1);\n",
              "  --border-color: var(--jp-border-color2, #e0e0e0);\n",
              "  --background-color: var(--jp-layout-color0, white);\n",
              "  --background-color-row-even: var(--jp-layout-color1, white);\n",
              "  --background-color-row-odd: var(--jp-layout-color2, #eeeeee);\n",
              "}\n",
              "\n",
              "html[theme=\"dark\"],\n",
              "body[data-theme=\"dark\"],\n",
              "body.vscode-dark {\n",
              "  --font-color-primary: rgba(255, 255, 255, 1);\n",
              "  --font-color-secondary: rgba(255, 255, 255, 0.6);\n",
              "  --font-color-accent: rgb(173, 132, 190);\n",
              "  --border-color: #2e2e2e;\n",
              "  --background-color: #111111;\n",
              "  --background-color-row-even: #111111;\n",
              "  --background-color-row-odd: #313131;\n",
              "}\n",
              "\n",
              ".ee {\n",
              "  padding: 1em;\n",
              "  line-height: 1.5em;\n",
              "  min-width: 300px;\n",
              "  max-width: 1200px;\n",
              "  overflow-y: scroll;\n",
              "  max-height: 600px;\n",
              "  border: 1px solid var(--border-color);\n",
              "  font-family: monospace;\n",
              "}\n",
              "\n",
              ".ee li {\n",
              "  list-style-type: none;\n",
              "}\n",
              "\n",
              ".ee ul {\n",
              "  padding-left: 1.5em !important;\n",
              "  margin: 0;\n",
              "}\n",
              "\n",
              ".ee > ul {\n",
              "  padding-left: 0 !important;\n",
              "}\n",
              "\n",
              ".ee-open,\n",
              ".ee-shut {\n",
              "  color: var(--font-color-secondary);\n",
              "  cursor: pointer;\n",
              "  margin: 0;\n",
              "}\n",
              "\n",
              ".ee-open:hover,\n",
              ".ee-shut:hover {\n",
              "  color: var(--font-color-primary);\n",
              "}\n",
              "\n",
              ".ee-k {\n",
              "  color: var(--font-color-accent);\n",
              "  margin-right: 6px;\n",
              "}\n",
              "\n",
              ".ee-v {\n",
              "  color: var(--font-color-primary);\n",
              "}\n",
              "\n",
              ".ee-toggle {\n",
              "  display: none;\n",
              "}\n",
              "\n",
              ".ee-shut + ul {\n",
              "  display: none;\n",
              "}\n",
              "\n",
              ".ee-open + ul {\n",
              "  display: block;\n",
              "}\n",
              "\n",
              ".ee-shut::before {\n",
              "  display: inline-block;\n",
              "  content: \"▼\";\n",
              "  margin-right: 6px;\n",
              "  transform: rotate(-90deg);\n",
              "  transition: transform 0.2s;\n",
              "}\n",
              "\n",
              ".ee-open::before {\n",
              "  transform: rotate(0deg);\n",
              "  display: inline-block;\n",
              "  content: \"▼\";\n",
              "  margin-right: 6px;\n",
              "  transition: transform 0.2s;\n",
              "}\n",
              "</style><div class='ee'><ul><li><span class='ee-v'>10211</span></li></ul></div><script>function toggleHeader() {\n",
              "    const parent = this.parentElement;\n",
              "    parent.className = parent.className === \"ee-open\" ? \"ee-shut\" : \"ee-open\";\n",
              "}\n",
              "\n",
              "for (let c of document.getElementsByClassName(\"ee-toggle\")) {\n",
              "    c.onclick = toggleHeader;\n",
              "}</script></div>"
            ]
          },
          "metadata": {},
          "execution_count": 68
        }
      ]
    },
    {
      "cell_type": "code",
      "source": [
        "geemap.ee_export_image_to_drive(\n",
        "    imageCollection.first(), description='landsat', folder='export', scale=30\n",
        ")"
      ],
      "metadata": {
        "id": "ibQWYO3w1K4Y"
      },
      "id": "ibQWYO3w1K4Y",
      "execution_count": 90,
      "outputs": []
    },
    {
      "cell_type": "markdown",
      "source": [
        "## Export the Data in TFRecord format\n",
        "Google Earth Engine can export data in TFRecord format. This is what we need to do to allow us to use the data in a Tensorflow model."
      ],
      "metadata": {
        "id": "UCLM5Zz2IrCg"
      },
      "id": "UCLM5Zz2IrCg"
    },
    {
      "cell_type": "markdown",
      "source": [
        "1. We want to verify that we can see the output folder on Google Drive"
      ],
      "metadata": {
        "id": "5M5bNdUcSQac"
      },
      "id": "5M5bNdUcSQac"
    },
    {
      "cell_type": "code",
      "source": [
        "# Make sure you can see the output bucket.  You must have write access.\n",
        "print('Found Cloud Storage bucket.' if tf.io.gfile.exists(OUTPUT_BUCKET) \n",
        "    else 'Can not find output Cloud Storage bucket.')"
      ],
      "metadata": {
        "colab": {
          "base_uri": "https://localhost:8080/"
        },
        "id": "3p5GdaPw8FPY",
        "outputId": "1b1d1496-2fa9-4c64-a180-0d1466078e96"
      },
      "id": "3p5GdaPw8FPY",
      "execution_count": 69,
      "outputs": [
        {
          "output_type": "stream",
          "name": "stdout",
          "text": [
            "Found Cloud Storage bucket.\n"
          ]
        }
      ]
    },
    {
      "cell_type": "markdown",
      "source": [
        "2. Setup the export function with all options. We are exporting in the TFRecord file format"
      ],
      "metadata": {
        "id": "nhJXkdaTSYhz"
      },
      "id": "nhJXkdaTSYhz"
    },
    {
      "cell_type": "code",
      "source": [
        "# Export function if you are exporting an ImageCollection\n",
        "export = ee.batch.Export.table.toDrive(\n",
        "    collection = imageCollection,\n",
        "    description = 'collection_export_2',\n",
        "    folder = OUTPUT_BUCKET,\n",
        "    fileNamePrefix = IMAGE_FILE_PREFIX,\n",
        "    fileFormat = 'TFRecord',\n",
        ")"
      ],
      "metadata": {
        "id": "_kPOWY0TpBY-"
      },
      "id": "_kPOWY0TpBY-",
      "execution_count": 71,
      "outputs": []
    },
    {
      "cell_type": "code",
      "source": [
        "# Specify patch and file dimensions.\n",
        "image_export_options = {\n",
        "  'patchDimensions': [128, 128],\n",
        "  'maxFileSize': 104857600,\n",
        "  'compressed': True\n",
        "}\n",
        "\n",
        "# Export function if you are exporting an Image\n",
        "export = ee.batch.Export.image.toDrive(\n",
        "    image = image,\n",
        "    description = 'image_export',\n",
        "    folder = OUTPUT_BUCKET,\n",
        "    fileNamePrefix = IMAGE_FILE_PREFIX,\n",
        "    fileFormat = 'TFRecord',\n",
        "    formatOptions=image_export_options,\n",
        ")"
      ],
      "metadata": {
        "id": "u7ct5FUuFJTf"
      },
      "id": "u7ct5FUuFJTf",
      "execution_count": null,
      "outputs": []
    },
    {
      "cell_type": "markdown",
      "source": [
        "3. Begin the export function. This runs remotely on the Google Earth Engine servers. This function simply sends the data off to their system and it'll run in tandem with this program."
      ],
      "metadata": {
        "id": "0erjz4KSSpSv"
      },
      "id": "0erjz4KSSpSv"
    },
    {
      "cell_type": "code",
      "source": [
        "export.start()"
      ],
      "metadata": {
        "id": "ZrNQc5b4GnJL"
      },
      "id": "ZrNQc5b4GnJL",
      "execution_count": 72,
      "outputs": []
    },
    {
      "cell_type": "markdown",
      "source": [
        "4. Keep us updated on the status of the batch job we just sent."
      ],
      "metadata": {
        "id": "o4gzLSbOS1fv"
      },
      "id": "o4gzLSbOS1fv"
    },
    {
      "cell_type": "code",
      "source": [
        "import time\n",
        "\n",
        "while export.active():\n",
        "  print('Polling for task (id: {}).'.format(export.id))\n",
        "  time.sleep(30)\n",
        "print('Done with image export.')"
      ],
      "metadata": {
        "colab": {
          "base_uri": "https://localhost:8080/"
        },
        "id": "GlR0UuIT-9yK",
        "outputId": "4c6eb56f-1bfc-4912-be02-dbd03fd031b6"
      },
      "id": "GlR0UuIT-9yK",
      "execution_count": 73,
      "outputs": [
        {
          "output_type": "stream",
          "name": "stdout",
          "text": [
            "Polling for task (id: GV5EEYKOZ3P5KFUHKAHS2DA3).\n",
            "Polling for task (id: GV5EEYKOZ3P5KFUHKAHS2DA3).\n",
            "Polling for task (id: GV5EEYKOZ3P5KFUHKAHS2DA3).\n",
            "Polling for task (id: GV5EEYKOZ3P5KFUHKAHS2DA3).\n",
            "Polling for task (id: GV5EEYKOZ3P5KFUHKAHS2DA3).\n",
            "Polling for task (id: GV5EEYKOZ3P5KFUHKAHS2DA3).\n",
            "Polling for task (id: GV5EEYKOZ3P5KFUHKAHS2DA3).\n",
            "Polling for task (id: GV5EEYKOZ3P5KFUHKAHS2DA3).\n",
            "Polling for task (id: GV5EEYKOZ3P5KFUHKAHS2DA3).\n",
            "Polling for task (id: GV5EEYKOZ3P5KFUHKAHS2DA3).\n",
            "Done with image export.\n"
          ]
        }
      ]
    },
    {
      "cell_type": "markdown",
      "source": [
        "5. Check if the job was a success. If not, reference Stack Overflow and Youtube a lot as I did. Error messages don't show up in Google Colab, you'll have to go to the Earth Engine coding environment to see the error code."
      ],
      "metadata": {
        "id": "CCqG5wsLS86n"
      },
      "id": "CCqG5wsLS86n"
    },
    {
      "cell_type": "code",
      "source": [
        "print(ee.batch.Task.list())"
      ],
      "metadata": {
        "colab": {
          "base_uri": "https://localhost:8080/"
        },
        "id": "bMuiSZe8-mp-",
        "outputId": "d66f3c3f-90ec-410f-9b1e-045a33173ced"
      },
      "id": "bMuiSZe8-mp-",
      "execution_count": 74,
      "outputs": [
        {
          "output_type": "stream",
          "name": "stdout",
          "text": [
            "[<Task GV5EEYKOZ3P5KFUHKAHS2DA3 EXPORT_FEATURES: collection_export_2 (COMPLETED)>, <Task 745PTKTJYPYHEE5NX72A47ER EXPORT_FEATURES: collection_export (COMPLETED)>, <Task QE23R2MJCW2C2DYTU3YS7JZY EXPORT_IMAGE: image_export (FAILED)>, <Task TWPPG67BMZEESG73LTO3Y5QS EXPORT_IMAGE: image_export (FAILED)>, <Task SCLT3SARZFIXVERTCLPOYLYW EXPORT_IMAGE: image_export (FAILED)>, <Task BMAPZWQ3RAV36PVXF27LLFLY EXPORT_IMAGE: image_export (FAILED)>, <Task Y47DQBNSZTNX7MDIGCNDW2UL EXPORT_FEATURES: collection_export (COMPLETED)>, <Task VWGXH3CX5O32SMSV4C363KI3 EXPORT_FEATURES: Testing Export (FAILED)>, <Task 6DH3I2DUAS727DQTEEDICI5Y EXPORT_FEATURES: Training Export (FAILED)>, <Task AGOIDVVQ33FCPP3GLQEKXZH7 EXPORT_FEATURES: Testing Export (FAILED)>, <Task 2MBXAEBODIOZM7RBOKE22PLB EXPORT_FEATURES: Training Export (FAILED)>, <Task A6ZE2VKNKV5G6AXJW5SVXKJF EXPORT_FEATURES: collection_export (COMPLETED)>, <Task M6JH7SCOC5AAMQTZITGBWA6F EXPORT_FEATURES: collection_export3 (COMPLETED)>, <Task X56LYGU3A7UXYUU7ZQFCRL3F EXPORT_IMAGE: collection_export3 (FAILED)>, <Task GM7Q52532CEASXSERLAPJ3G7 EXPORT_IMAGE: collection_export3 (FAILED)>, <Task RGKL7TJARRJV7MCHQZYUK7XJ EXPORT_IMAGE: collection_export1 (FAILED)>, <Task CE2ERUJMUUCWAUAYUFXMDCV7 EXPORT_IMAGE: collection_export1 (FAILED)>, <Task LP4ZLSQZTAE7MTN7MC4U57GB EXPORT_IMAGE: tianjin (COMPLETED)>, <Task 2PI3ZSTDKDDM7V5JGCEF4ZIS EXPORT_IMAGE: tianjin (FAILED)>, <Task WT6HJKTCTPZIM2IASIBKONP7 EXPORT_IMAGE: tianjin (FAILED)>, <Task AQ4GKBGQ2DBZGPLTYUIESFMD EXPORT_IMAGE: tianjin (FAILED)>, <Task MNKN763ZGSQ6EVQBTWRHB27P EXPORT_IMAGE: tianjin (FAILED)>, <Task ZOTZWOYK2VL5E776ML3VEMQU EXPORT_IMAGE: Megacities Image Export (FAILED)>, <Task 3Y7BETVU44DWSVIKRMMY3R5F EXPORT_IMAGE: megacity_image_export (FAILED)>, <Task AXAYKHQBP34CAZKKY5MTODWF EXPORT_IMAGE: megacity_image_export (FAILED)>, <Task NM4TAP2XRFH6TM3JD6KEAXVW EXPORT_IMAGE: Image Export (FAILED)>, <Task OOL5L2WIRUOTYAWXO4DPRDYG EXPORT_IMAGE: Image Export (FAILED)>, <Task NV7IOE5HLLG6PGMBUSFTNUIJ EXPORT_FEATURES: Training Export (FAILED)>]\n"
          ]
        }
      ]
    },
    {
      "cell_type": "markdown",
      "source": [
        "## Import the TFRecordDataset and Convert\n",
        "We want to load the data we just exported back into the system and get it shaped correctly to work with the CNN we will construct."
      ],
      "metadata": {
        "id": "6BLLstCEPQDn"
      },
      "id": "6BLLstCEPQDn"
    },
    {
      "cell_type": "code",
      "source": [
        "# Create a dataset from the TFRecord file in Cloud Storage.\n",
        "raw_dataset = tf.data.TFRecordDataset('/content/drive/MyDrive/mapGAN/output/Image_pixel.tfrecord.gz', compression_type='GZIP')\n",
        "# Print the first record to check.\n",
        "print(iter(raw_dataset).next())"
      ],
      "metadata": {
        "colab": {
          "base_uri": "https://localhost:8080/"
        },
        "id": "DTV6Kcj5_HwD",
        "outputId": "134f6f19-3987-4e87-ad58-c97674377fda"
      },
      "id": "DTV6Kcj5_HwD",
      "execution_count": 75,
      "outputs": [
        {
          "output_type": "stream",
          "name": "stdout",
          "text": [
            "tf.Tensor(b'\\n*\\n(\\n\\x0csystem:index\\x12\\x18\\n\\x16\\n\\x14LC08_007068_20150113', shape=(), dtype=string)\n"
          ]
        }
      ]
    },
    {
      "cell_type": "code",
      "source": [
        "# List of fixed-length features, all of which are float32.\n",
        "columns = [\n",
        "  tf.io.FixedLenFeature(shape=[1], dtype=tf.float32) for k in FEATURE_NAMES\n",
        "]\n",
        "\n",
        "# Dictionary with names as keys, features as values.\n",
        "features_dict = dict(zip(FEATURE_NAMES, columns))\n",
        "\n",
        "print(features_dict)"
      ],
      "metadata": {
        "id": "onANuJslXkVd",
        "outputId": "457530ef-43d3-4aa3-9809-c6ddc59a480d",
        "colab": {
          "base_uri": "https://localhost:8080/"
        }
      },
      "id": "onANuJslXkVd",
      "execution_count": 76,
      "outputs": [
        {
          "output_type": "stream",
          "name": "stdout",
          "text": [
            "{'B4': FixedLenFeature(shape=[1], dtype=tf.float32, default_value=None), 'B3': FixedLenFeature(shape=[1], dtype=tf.float32, default_value=None), 'B2': FixedLenFeature(shape=[1], dtype=tf.float32, default_value=None)}\n"
          ]
        }
      ]
    },
    {
      "cell_type": "code",
      "source": [
        "# Keras requires inputs as a tuple.  Note that the inputs must be in the\n",
        "# right shape.  Also note that to use the categorical_crossentropy loss,\n",
        "# the label needs to be turned into a one-hot vector.\n",
        "def to_tuple(inputs, label):\n",
        "  return (tf.transpose(list(inputs.values())),\n",
        "          tf.one_hot(indices=label, depth=3))\n",
        "\n",
        "# Map the to_tuple function, shuffle and batch.\n",
        "input_dataset = parsed_dataset.map(to_tuple).batch(8)"
      ],
      "metadata": {
        "id": "o8U-HiQXVfKE",
        "outputId": "ad88283d-c0e8-4940-b9c2-2f0238fbe849",
        "colab": {
          "base_uri": "https://localhost:8080/",
          "height": 433
        }
      },
      "id": "o8U-HiQXVfKE",
      "execution_count": null,
      "outputs": [
        {
          "output_type": "error",
          "ename": "TypeError",
          "evalue": "ignored",
          "traceback": [
            "\u001b[0;31m---------------------------------------------------------------------------\u001b[0m",
            "\u001b[0;31mTypeError\u001b[0m                                 Traceback (most recent call last)",
            "\u001b[0;32m<ipython-input-118-6aaf88cdf264>\u001b[0m in \u001b[0;36m<module>\u001b[0;34m\u001b[0m\n\u001b[1;32m      7\u001b[0m \u001b[0;34m\u001b[0m\u001b[0m\n\u001b[1;32m      8\u001b[0m \u001b[0;31m# Map the to_tuple function, shuffle and batch.\u001b[0m\u001b[0;34m\u001b[0m\u001b[0;34m\u001b[0m\u001b[0;34m\u001b[0m\u001b[0m\n\u001b[0;32m----> 9\u001b[0;31m \u001b[0minput_dataset\u001b[0m \u001b[0;34m=\u001b[0m \u001b[0mparsed_dataset\u001b[0m\u001b[0;34m.\u001b[0m\u001b[0mmap\u001b[0m\u001b[0;34m(\u001b[0m\u001b[0mto_tuple\u001b[0m\u001b[0;34m)\u001b[0m\u001b[0;34m.\u001b[0m\u001b[0mbatch\u001b[0m\u001b[0;34m(\u001b[0m\u001b[0;36m8\u001b[0m\u001b[0;34m)\u001b[0m\u001b[0;34m\u001b[0m\u001b[0;34m\u001b[0m\u001b[0m\n\u001b[0m",
            "\u001b[0;32m/usr/local/lib/python3.8/dist-packages/tensorflow/python/data/ops/dataset_ops.py\u001b[0m in \u001b[0;36mmap\u001b[0;34m(self, map_func, num_parallel_calls, deterministic, name)\u001b[0m\n\u001b[1;32m   2046\u001b[0m         warnings.warn(\"The `deterministic` argument has no effect unless the \"\n\u001b[1;32m   2047\u001b[0m                       \"`num_parallel_calls` argument is specified.\")\n\u001b[0;32m-> 2048\u001b[0;31m       \u001b[0;32mreturn\u001b[0m \u001b[0mMapDataset\u001b[0m\u001b[0;34m(\u001b[0m\u001b[0mself\u001b[0m\u001b[0;34m,\u001b[0m \u001b[0mmap_func\u001b[0m\u001b[0;34m,\u001b[0m \u001b[0mpreserve_cardinality\u001b[0m\u001b[0;34m=\u001b[0m\u001b[0;32mTrue\u001b[0m\u001b[0;34m,\u001b[0m \u001b[0mname\u001b[0m\u001b[0;34m=\u001b[0m\u001b[0mname\u001b[0m\u001b[0;34m)\u001b[0m\u001b[0;34m\u001b[0m\u001b[0;34m\u001b[0m\u001b[0m\n\u001b[0m\u001b[1;32m   2049\u001b[0m     \u001b[0;32melse\u001b[0m\u001b[0;34m:\u001b[0m\u001b[0;34m\u001b[0m\u001b[0;34m\u001b[0m\u001b[0m\n\u001b[1;32m   2050\u001b[0m       return ParallelMapDataset(\n",
            "\u001b[0;32m/usr/local/lib/python3.8/dist-packages/tensorflow/python/data/ops/dataset_ops.py\u001b[0m in \u001b[0;36m__init__\u001b[0;34m(self, input_dataset, map_func, use_inter_op_parallelism, preserve_cardinality, use_legacy_function, name)\u001b[0m\n\u001b[1;32m   5241\u001b[0m     \u001b[0mself\u001b[0m\u001b[0;34m.\u001b[0m\u001b[0m_use_inter_op_parallelism\u001b[0m \u001b[0;34m=\u001b[0m \u001b[0muse_inter_op_parallelism\u001b[0m\u001b[0;34m\u001b[0m\u001b[0;34m\u001b[0m\u001b[0m\n\u001b[1;32m   5242\u001b[0m     \u001b[0mself\u001b[0m\u001b[0;34m.\u001b[0m\u001b[0m_preserve_cardinality\u001b[0m \u001b[0;34m=\u001b[0m \u001b[0mpreserve_cardinality\u001b[0m\u001b[0;34m\u001b[0m\u001b[0;34m\u001b[0m\u001b[0m\n\u001b[0;32m-> 5243\u001b[0;31m     self._map_func = structured_function.StructuredFunctionWrapper(\n\u001b[0m\u001b[1;32m   5244\u001b[0m         \u001b[0mmap_func\u001b[0m\u001b[0;34m,\u001b[0m\u001b[0;34m\u001b[0m\u001b[0;34m\u001b[0m\u001b[0m\n\u001b[1;32m   5245\u001b[0m         \u001b[0mself\u001b[0m\u001b[0;34m.\u001b[0m\u001b[0m_transformation_name\u001b[0m\u001b[0;34m(\u001b[0m\u001b[0;34m)\u001b[0m\u001b[0;34m,\u001b[0m\u001b[0;34m\u001b[0m\u001b[0;34m\u001b[0m\u001b[0m\n",
            "\u001b[0;32m/usr/local/lib/python3.8/dist-packages/tensorflow/python/data/ops/structured_function.py\u001b[0m in \u001b[0;36m__init__\u001b[0;34m(self, func, transformation_name, dataset, input_classes, input_shapes, input_types, input_structure, add_to_graph, use_legacy_function, defun_kwargs)\u001b[0m\n\u001b[1;32m    269\u001b[0m         \u001b[0mfn_factory\u001b[0m \u001b[0;34m=\u001b[0m \u001b[0mtrace_tf_function\u001b[0m\u001b[0;34m(\u001b[0m\u001b[0mdefun_kwargs\u001b[0m\u001b[0;34m)\u001b[0m\u001b[0;34m\u001b[0m\u001b[0;34m\u001b[0m\u001b[0m\n\u001b[1;32m    270\u001b[0m \u001b[0;34m\u001b[0m\u001b[0m\n\u001b[0;32m--> 271\u001b[0;31m     \u001b[0mself\u001b[0m\u001b[0;34m.\u001b[0m\u001b[0m_function\u001b[0m \u001b[0;34m=\u001b[0m \u001b[0mfn_factory\u001b[0m\u001b[0;34m(\u001b[0m\u001b[0;34m)\u001b[0m\u001b[0;34m\u001b[0m\u001b[0;34m\u001b[0m\u001b[0m\n\u001b[0m\u001b[1;32m    272\u001b[0m     \u001b[0;31m# There is no graph to add in eager mode.\u001b[0m\u001b[0;34m\u001b[0m\u001b[0;34m\u001b[0m\u001b[0;34m\u001b[0m\u001b[0m\n\u001b[1;32m    273\u001b[0m     \u001b[0madd_to_graph\u001b[0m \u001b[0;34m&=\u001b[0m \u001b[0;32mnot\u001b[0m \u001b[0mcontext\u001b[0m\u001b[0;34m.\u001b[0m\u001b[0mexecuting_eagerly\u001b[0m\u001b[0;34m(\u001b[0m\u001b[0;34m)\u001b[0m\u001b[0;34m\u001b[0m\u001b[0;34m\u001b[0m\u001b[0m\n",
            "\u001b[0;32m/usr/local/lib/python3.8/dist-packages/tensorflow/python/eager/function.py\u001b[0m in \u001b[0;36mget_concrete_function\u001b[0;34m(self, *args, **kwargs)\u001b[0m\n\u001b[1;32m   2565\u001b[0m          \u001b[0;32mor\u001b[0m\u001b[0;31m \u001b[0m\u001b[0;31m`\u001b[0m\u001b[0mtf\u001b[0m\u001b[0;34m.\u001b[0m\u001b[0mTensor\u001b[0m\u001b[0;31m`\u001b[0m \u001b[0;32mor\u001b[0m\u001b[0;31m \u001b[0m\u001b[0;31m`\u001b[0m\u001b[0mtf\u001b[0m\u001b[0;34m.\u001b[0m\u001b[0mTensorSpec\u001b[0m\u001b[0;31m`\u001b[0m\u001b[0;34m.\u001b[0m\u001b[0;34m\u001b[0m\u001b[0;34m\u001b[0m\u001b[0m\n\u001b[1;32m   2566\u001b[0m     \"\"\"\n\u001b[0;32m-> 2567\u001b[0;31m     graph_function = self._get_concrete_function_garbage_collected(\n\u001b[0m\u001b[1;32m   2568\u001b[0m         *args, **kwargs)\n\u001b[1;32m   2569\u001b[0m     \u001b[0mgraph_function\u001b[0m\u001b[0;34m.\u001b[0m\u001b[0m_garbage_collector\u001b[0m\u001b[0;34m.\u001b[0m\u001b[0mrelease\u001b[0m\u001b[0;34m(\u001b[0m\u001b[0;34m)\u001b[0m  \u001b[0;31m# pylint: disable=protected-access\u001b[0m\u001b[0;34m\u001b[0m\u001b[0;34m\u001b[0m\u001b[0m\n",
            "\u001b[0;32m/usr/local/lib/python3.8/dist-packages/tensorflow/python/eager/function.py\u001b[0m in \u001b[0;36m_get_concrete_function_garbage_collected\u001b[0;34m(self, *args, **kwargs)\u001b[0m\n\u001b[1;32m   2531\u001b[0m       \u001b[0margs\u001b[0m\u001b[0;34m,\u001b[0m \u001b[0mkwargs\u001b[0m \u001b[0;34m=\u001b[0m \u001b[0;32mNone\u001b[0m\u001b[0;34m,\u001b[0m \u001b[0;32mNone\u001b[0m\u001b[0;34m\u001b[0m\u001b[0;34m\u001b[0m\u001b[0m\n\u001b[1;32m   2532\u001b[0m     \u001b[0;32mwith\u001b[0m \u001b[0mself\u001b[0m\u001b[0;34m.\u001b[0m\u001b[0m_lock\u001b[0m\u001b[0;34m:\u001b[0m\u001b[0;34m\u001b[0m\u001b[0;34m\u001b[0m\u001b[0m\n\u001b[0;32m-> 2533\u001b[0;31m       \u001b[0mgraph_function\u001b[0m\u001b[0;34m,\u001b[0m \u001b[0m_\u001b[0m \u001b[0;34m=\u001b[0m \u001b[0mself\u001b[0m\u001b[0;34m.\u001b[0m\u001b[0m_maybe_define_function\u001b[0m\u001b[0;34m(\u001b[0m\u001b[0margs\u001b[0m\u001b[0;34m,\u001b[0m \u001b[0mkwargs\u001b[0m\u001b[0;34m)\u001b[0m\u001b[0;34m\u001b[0m\u001b[0;34m\u001b[0m\u001b[0m\n\u001b[0m\u001b[1;32m   2534\u001b[0m       \u001b[0mseen_names\u001b[0m \u001b[0;34m=\u001b[0m \u001b[0mset\u001b[0m\u001b[0;34m(\u001b[0m\u001b[0;34m)\u001b[0m\u001b[0;34m\u001b[0m\u001b[0;34m\u001b[0m\u001b[0m\n\u001b[1;32m   2535\u001b[0m       captured = object_identity.ObjectIdentitySet(\n",
            "\u001b[0;32m/usr/local/lib/python3.8/dist-packages/tensorflow/python/eager/function.py\u001b[0m in \u001b[0;36m_maybe_define_function\u001b[0;34m(self, args, kwargs)\u001b[0m\n\u001b[1;32m   2709\u001b[0m             \u001b[0;34m(\u001b[0m\u001b[0margs\u001b[0m\u001b[0;34m,\u001b[0m \u001b[0mkwargs\u001b[0m\u001b[0;34m)\u001b[0m \u001b[0;34m=\u001b[0m \u001b[0mcache_key\u001b[0m\u001b[0;34m.\u001b[0m\u001b[0m_placeholder_value\u001b[0m\u001b[0;34m(\u001b[0m\u001b[0;34m)\u001b[0m  \u001b[0;31m# pylint: disable=protected-access\u001b[0m\u001b[0;34m\u001b[0m\u001b[0;34m\u001b[0m\u001b[0m\n\u001b[1;32m   2710\u001b[0m \u001b[0;34m\u001b[0m\u001b[0m\n\u001b[0;32m-> 2711\u001b[0;31m           \u001b[0mgraph_function\u001b[0m \u001b[0;34m=\u001b[0m \u001b[0mself\u001b[0m\u001b[0;34m.\u001b[0m\u001b[0m_create_graph_function\u001b[0m\u001b[0;34m(\u001b[0m\u001b[0margs\u001b[0m\u001b[0;34m,\u001b[0m \u001b[0mkwargs\u001b[0m\u001b[0;34m)\u001b[0m\u001b[0;34m\u001b[0m\u001b[0;34m\u001b[0m\u001b[0m\n\u001b[0m\u001b[1;32m   2712\u001b[0m           self._function_cache.add(cache_key, cache_key_deletion_observer,\n\u001b[1;32m   2713\u001b[0m                                    graph_function)\n",
            "\u001b[0;32m/usr/local/lib/python3.8/dist-packages/tensorflow/python/eager/function.py\u001b[0m in \u001b[0;36m_create_graph_function\u001b[0;34m(self, args, kwargs)\u001b[0m\n\u001b[1;32m   2625\u001b[0m     \u001b[0marg_names\u001b[0m \u001b[0;34m=\u001b[0m \u001b[0mbase_arg_names\u001b[0m \u001b[0;34m+\u001b[0m \u001b[0mmissing_arg_names\u001b[0m\u001b[0;34m\u001b[0m\u001b[0;34m\u001b[0m\u001b[0m\n\u001b[1;32m   2626\u001b[0m     graph_function = ConcreteFunction(\n\u001b[0;32m-> 2627\u001b[0;31m         func_graph_module.func_graph_from_py_func(\n\u001b[0m\u001b[1;32m   2628\u001b[0m             \u001b[0mself\u001b[0m\u001b[0;34m.\u001b[0m\u001b[0m_name\u001b[0m\u001b[0;34m,\u001b[0m\u001b[0;34m\u001b[0m\u001b[0;34m\u001b[0m\u001b[0m\n\u001b[1;32m   2629\u001b[0m             \u001b[0mself\u001b[0m\u001b[0;34m.\u001b[0m\u001b[0m_python_function\u001b[0m\u001b[0;34m,\u001b[0m\u001b[0;34m\u001b[0m\u001b[0;34m\u001b[0m\u001b[0m\n",
            "\u001b[0;32m/usr/local/lib/python3.8/dist-packages/tensorflow/python/framework/func_graph.py\u001b[0m in \u001b[0;36mfunc_graph_from_py_func\u001b[0;34m(name, python_func, args, kwargs, signature, func_graph, autograph, autograph_options, add_control_dependencies, arg_names, op_return_value, collections, capture_by_value, acd_record_initial_resource_uses)\u001b[0m\n\u001b[1;32m   1139\u001b[0m         \u001b[0m_\u001b[0m\u001b[0;34m,\u001b[0m \u001b[0moriginal_func\u001b[0m \u001b[0;34m=\u001b[0m \u001b[0mtf_decorator\u001b[0m\u001b[0;34m.\u001b[0m\u001b[0munwrap\u001b[0m\u001b[0;34m(\u001b[0m\u001b[0mpython_func\u001b[0m\u001b[0;34m)\u001b[0m\u001b[0;34m\u001b[0m\u001b[0;34m\u001b[0m\u001b[0m\n\u001b[1;32m   1140\u001b[0m \u001b[0;34m\u001b[0m\u001b[0m\n\u001b[0;32m-> 1141\u001b[0;31m       \u001b[0mfunc_outputs\u001b[0m \u001b[0;34m=\u001b[0m \u001b[0mpython_func\u001b[0m\u001b[0;34m(\u001b[0m\u001b[0;34m*\u001b[0m\u001b[0mfunc_args\u001b[0m\u001b[0;34m,\u001b[0m \u001b[0;34m**\u001b[0m\u001b[0mfunc_kwargs\u001b[0m\u001b[0;34m)\u001b[0m\u001b[0;34m\u001b[0m\u001b[0;34m\u001b[0m\u001b[0m\n\u001b[0m\u001b[1;32m   1142\u001b[0m \u001b[0;34m\u001b[0m\u001b[0m\n\u001b[1;32m   1143\u001b[0m       \u001b[0;31m# invariant: `func_outputs` contains only Tensors, CompositeTensors,\u001b[0m\u001b[0;34m\u001b[0m\u001b[0;34m\u001b[0m\u001b[0;34m\u001b[0m\u001b[0m\n",
            "\u001b[0;32m/usr/local/lib/python3.8/dist-packages/tensorflow/python/data/ops/structured_function.py\u001b[0m in \u001b[0;36mwrapped_fn\u001b[0;34m(*args)\u001b[0m\n\u001b[1;32m    246\u001b[0m           attributes=defun_kwargs)\n\u001b[1;32m    247\u001b[0m       \u001b[0;32mdef\u001b[0m \u001b[0mwrapped_fn\u001b[0m\u001b[0;34m(\u001b[0m\u001b[0;34m*\u001b[0m\u001b[0margs\u001b[0m\u001b[0;34m)\u001b[0m\u001b[0;34m:\u001b[0m  \u001b[0;31m# pylint: disable=missing-docstring\u001b[0m\u001b[0;34m\u001b[0m\u001b[0;34m\u001b[0m\u001b[0m\n\u001b[0;32m--> 248\u001b[0;31m         \u001b[0mret\u001b[0m \u001b[0;34m=\u001b[0m \u001b[0mwrapper_helper\u001b[0m\u001b[0;34m(\u001b[0m\u001b[0;34m*\u001b[0m\u001b[0margs\u001b[0m\u001b[0;34m)\u001b[0m\u001b[0;34m\u001b[0m\u001b[0;34m\u001b[0m\u001b[0m\n\u001b[0m\u001b[1;32m    249\u001b[0m         \u001b[0mret\u001b[0m \u001b[0;34m=\u001b[0m \u001b[0mstructure\u001b[0m\u001b[0;34m.\u001b[0m\u001b[0mto_tensor_list\u001b[0m\u001b[0;34m(\u001b[0m\u001b[0mself\u001b[0m\u001b[0;34m.\u001b[0m\u001b[0m_output_structure\u001b[0m\u001b[0;34m,\u001b[0m \u001b[0mret\u001b[0m\u001b[0;34m)\u001b[0m\u001b[0;34m\u001b[0m\u001b[0;34m\u001b[0m\u001b[0m\n\u001b[1;32m    250\u001b[0m         \u001b[0;32mreturn\u001b[0m \u001b[0;34m[\u001b[0m\u001b[0mops\u001b[0m\u001b[0;34m.\u001b[0m\u001b[0mconvert_to_tensor\u001b[0m\u001b[0;34m(\u001b[0m\u001b[0mt\u001b[0m\u001b[0;34m)\u001b[0m \u001b[0;32mfor\u001b[0m \u001b[0mt\u001b[0m \u001b[0;32min\u001b[0m \u001b[0mret\u001b[0m\u001b[0;34m]\u001b[0m\u001b[0;34m\u001b[0m\u001b[0;34m\u001b[0m\u001b[0m\n",
            "\u001b[0;32m/usr/local/lib/python3.8/dist-packages/tensorflow/python/data/ops/structured_function.py\u001b[0m in \u001b[0;36mwrapper_helper\u001b[0;34m(*args)\u001b[0m\n\u001b[1;32m    175\u001b[0m       \u001b[0;32mif\u001b[0m \u001b[0;32mnot\u001b[0m \u001b[0m_should_unpack\u001b[0m\u001b[0;34m(\u001b[0m\u001b[0mnested_args\u001b[0m\u001b[0;34m)\u001b[0m\u001b[0;34m:\u001b[0m\u001b[0;34m\u001b[0m\u001b[0;34m\u001b[0m\u001b[0m\n\u001b[1;32m    176\u001b[0m         \u001b[0mnested_args\u001b[0m \u001b[0;34m=\u001b[0m \u001b[0;34m(\u001b[0m\u001b[0mnested_args\u001b[0m\u001b[0;34m,\u001b[0m\u001b[0;34m)\u001b[0m\u001b[0;34m\u001b[0m\u001b[0;34m\u001b[0m\u001b[0m\n\u001b[0;32m--> 177\u001b[0;31m       \u001b[0mret\u001b[0m \u001b[0;34m=\u001b[0m \u001b[0mautograph\u001b[0m\u001b[0;34m.\u001b[0m\u001b[0mtf_convert\u001b[0m\u001b[0;34m(\u001b[0m\u001b[0mself\u001b[0m\u001b[0;34m.\u001b[0m\u001b[0m_func\u001b[0m\u001b[0;34m,\u001b[0m \u001b[0mag_ctx\u001b[0m\u001b[0;34m)\u001b[0m\u001b[0;34m(\u001b[0m\u001b[0;34m*\u001b[0m\u001b[0mnested_args\u001b[0m\u001b[0;34m)\u001b[0m\u001b[0;34m\u001b[0m\u001b[0;34m\u001b[0m\u001b[0m\n\u001b[0m\u001b[1;32m    178\u001b[0m       \u001b[0;32mif\u001b[0m \u001b[0m_should_pack\u001b[0m\u001b[0;34m(\u001b[0m\u001b[0mret\u001b[0m\u001b[0;34m)\u001b[0m\u001b[0;34m:\u001b[0m\u001b[0;34m\u001b[0m\u001b[0;34m\u001b[0m\u001b[0m\n\u001b[1;32m    179\u001b[0m         \u001b[0mret\u001b[0m \u001b[0;34m=\u001b[0m \u001b[0mtuple\u001b[0m\u001b[0;34m(\u001b[0m\u001b[0mret\u001b[0m\u001b[0;34m)\u001b[0m\u001b[0;34m\u001b[0m\u001b[0;34m\u001b[0m\u001b[0m\n",
            "\u001b[0;32m/usr/local/lib/python3.8/dist-packages/tensorflow/python/autograph/impl/api.py\u001b[0m in \u001b[0;36mwrapper\u001b[0;34m(*args, **kwargs)\u001b[0m\n\u001b[1;32m    690\u001b[0m       \u001b[0;32mexcept\u001b[0m \u001b[0mException\u001b[0m \u001b[0;32mas\u001b[0m \u001b[0me\u001b[0m\u001b[0;34m:\u001b[0m  \u001b[0;31m# pylint:disable=broad-except\u001b[0m\u001b[0;34m\u001b[0m\u001b[0;34m\u001b[0m\u001b[0m\n\u001b[1;32m    691\u001b[0m         \u001b[0;32mif\u001b[0m \u001b[0mhasattr\u001b[0m\u001b[0;34m(\u001b[0m\u001b[0me\u001b[0m\u001b[0;34m,\u001b[0m \u001b[0;34m'ag_error_metadata'\u001b[0m\u001b[0;34m)\u001b[0m\u001b[0;34m:\u001b[0m\u001b[0;34m\u001b[0m\u001b[0;34m\u001b[0m\u001b[0m\n\u001b[0;32m--> 692\u001b[0;31m           \u001b[0;32mraise\u001b[0m \u001b[0me\u001b[0m\u001b[0;34m.\u001b[0m\u001b[0mag_error_metadata\u001b[0m\u001b[0;34m.\u001b[0m\u001b[0mto_exception\u001b[0m\u001b[0;34m(\u001b[0m\u001b[0me\u001b[0m\u001b[0;34m)\u001b[0m\u001b[0;34m\u001b[0m\u001b[0;34m\u001b[0m\u001b[0m\n\u001b[0m\u001b[1;32m    693\u001b[0m         \u001b[0;32melse\u001b[0m\u001b[0;34m:\u001b[0m\u001b[0;34m\u001b[0m\u001b[0;34m\u001b[0m\u001b[0m\n\u001b[1;32m    694\u001b[0m           \u001b[0;32mraise\u001b[0m\u001b[0;34m\u001b[0m\u001b[0;34m\u001b[0m\u001b[0m\n",
            "\u001b[0;32m/usr/local/lib/python3.8/dist-packages/tensorflow/python/autograph/impl/api.py\u001b[0m in \u001b[0;36mwrapper\u001b[0;34m(*args, **kwargs)\u001b[0m\n\u001b[1;32m    687\u001b[0m       \u001b[0;32mtry\u001b[0m\u001b[0;34m:\u001b[0m\u001b[0;34m\u001b[0m\u001b[0;34m\u001b[0m\u001b[0m\n\u001b[1;32m    688\u001b[0m         \u001b[0;32mwith\u001b[0m \u001b[0mconversion_ctx\u001b[0m\u001b[0;34m:\u001b[0m\u001b[0;34m\u001b[0m\u001b[0;34m\u001b[0m\u001b[0m\n\u001b[0;32m--> 689\u001b[0;31m           \u001b[0;32mreturn\u001b[0m \u001b[0mconverted_call\u001b[0m\u001b[0;34m(\u001b[0m\u001b[0mf\u001b[0m\u001b[0;34m,\u001b[0m \u001b[0margs\u001b[0m\u001b[0;34m,\u001b[0m \u001b[0mkwargs\u001b[0m\u001b[0;34m,\u001b[0m \u001b[0moptions\u001b[0m\u001b[0;34m=\u001b[0m\u001b[0moptions\u001b[0m\u001b[0;34m)\u001b[0m\u001b[0;34m\u001b[0m\u001b[0;34m\u001b[0m\u001b[0m\n\u001b[0m\u001b[1;32m    690\u001b[0m       \u001b[0;32mexcept\u001b[0m \u001b[0mException\u001b[0m \u001b[0;32mas\u001b[0m \u001b[0me\u001b[0m\u001b[0;34m:\u001b[0m  \u001b[0;31m# pylint:disable=broad-except\u001b[0m\u001b[0;34m\u001b[0m\u001b[0;34m\u001b[0m\u001b[0m\n\u001b[1;32m    691\u001b[0m         \u001b[0;32mif\u001b[0m \u001b[0mhasattr\u001b[0m\u001b[0;34m(\u001b[0m\u001b[0me\u001b[0m\u001b[0;34m,\u001b[0m \u001b[0;34m'ag_error_metadata'\u001b[0m\u001b[0;34m)\u001b[0m\u001b[0;34m:\u001b[0m\u001b[0;34m\u001b[0m\u001b[0;34m\u001b[0m\u001b[0m\n",
            "\u001b[0;32m/usr/local/lib/python3.8/dist-packages/tensorflow/python/autograph/impl/api.py\u001b[0m in \u001b[0;36mconverted_call\u001b[0;34m(f, args, kwargs, caller_fn_scope, options)\u001b[0m\n\u001b[1;32m    437\u001b[0m     \u001b[0;32mtry\u001b[0m\u001b[0;34m:\u001b[0m\u001b[0;34m\u001b[0m\u001b[0;34m\u001b[0m\u001b[0m\n\u001b[1;32m    438\u001b[0m       \u001b[0;32mif\u001b[0m \u001b[0mkwargs\u001b[0m \u001b[0;32mis\u001b[0m \u001b[0;32mnot\u001b[0m \u001b[0;32mNone\u001b[0m\u001b[0;34m:\u001b[0m\u001b[0;34m\u001b[0m\u001b[0;34m\u001b[0m\u001b[0m\n\u001b[0;32m--> 439\u001b[0;31m         \u001b[0mresult\u001b[0m \u001b[0;34m=\u001b[0m \u001b[0mconverted_f\u001b[0m\u001b[0;34m(\u001b[0m\u001b[0;34m*\u001b[0m\u001b[0meffective_args\u001b[0m\u001b[0;34m,\u001b[0m \u001b[0;34m**\u001b[0m\u001b[0mkwargs\u001b[0m\u001b[0;34m)\u001b[0m\u001b[0;34m\u001b[0m\u001b[0;34m\u001b[0m\u001b[0m\n\u001b[0m\u001b[1;32m    440\u001b[0m       \u001b[0;32melse\u001b[0m\u001b[0;34m:\u001b[0m\u001b[0;34m\u001b[0m\u001b[0;34m\u001b[0m\u001b[0m\n\u001b[1;32m    441\u001b[0m         \u001b[0mresult\u001b[0m \u001b[0;34m=\u001b[0m \u001b[0mconverted_f\u001b[0m\u001b[0;34m(\u001b[0m\u001b[0;34m*\u001b[0m\u001b[0meffective_args\u001b[0m\u001b[0;34m)\u001b[0m\u001b[0;34m\u001b[0m\u001b[0;34m\u001b[0m\u001b[0m\n",
            "\u001b[0;32m/tmp/__autograph_generated_filefgei2jng.py\u001b[0m in \u001b[0;36mtf__to_tuple\u001b[0;34m(inputs, label)\u001b[0m\n\u001b[1;32m     10\u001b[0m                 \u001b[0;32mtry\u001b[0m\u001b[0;34m:\u001b[0m\u001b[0;34m\u001b[0m\u001b[0;34m\u001b[0m\u001b[0m\n\u001b[1;32m     11\u001b[0m                     \u001b[0mdo_return\u001b[0m \u001b[0;34m=\u001b[0m \u001b[0;32mTrue\u001b[0m\u001b[0;34m\u001b[0m\u001b[0;34m\u001b[0m\u001b[0m\n\u001b[0;32m---> 12\u001b[0;31m                     \u001b[0mretval_\u001b[0m \u001b[0;34m=\u001b[0m \u001b[0;34m(\u001b[0m\u001b[0mag__\u001b[0m\u001b[0;34m.\u001b[0m\u001b[0mconverted_call\u001b[0m\u001b[0;34m(\u001b[0m\u001b[0mag__\u001b[0m\u001b[0;34m.\u001b[0m\u001b[0mld\u001b[0m\u001b[0;34m(\u001b[0m\u001b[0mtf\u001b[0m\u001b[0;34m)\u001b[0m\u001b[0;34m.\u001b[0m\u001b[0mtranspose\u001b[0m\u001b[0;34m,\u001b[0m \u001b[0;34m(\u001b[0m\u001b[0mag__\u001b[0m\u001b[0;34m.\u001b[0m\u001b[0mconverted_call\u001b[0m\u001b[0;34m(\u001b[0m\u001b[0mag__\u001b[0m\u001b[0;34m.\u001b[0m\u001b[0mld\u001b[0m\u001b[0;34m(\u001b[0m\u001b[0mlist\u001b[0m\u001b[0;34m)\u001b[0m\u001b[0;34m,\u001b[0m \u001b[0;34m(\u001b[0m\u001b[0mag__\u001b[0m\u001b[0;34m.\u001b[0m\u001b[0mconverted_call\u001b[0m\u001b[0;34m(\u001b[0m\u001b[0mag__\u001b[0m\u001b[0;34m.\u001b[0m\u001b[0mld\u001b[0m\u001b[0;34m(\u001b[0m\u001b[0minputs\u001b[0m\u001b[0;34m)\u001b[0m\u001b[0;34m.\u001b[0m\u001b[0mvalues\u001b[0m\u001b[0;34m,\u001b[0m \u001b[0;34m(\u001b[0m\u001b[0;34m)\u001b[0m\u001b[0;34m,\u001b[0m \u001b[0;32mNone\u001b[0m\u001b[0;34m,\u001b[0m \u001b[0mfscope\u001b[0m\u001b[0;34m)\u001b[0m\u001b[0;34m,\u001b[0m\u001b[0;34m)\u001b[0m\u001b[0;34m,\u001b[0m \u001b[0;32mNone\u001b[0m\u001b[0;34m,\u001b[0m \u001b[0mfscope\u001b[0m\u001b[0;34m)\u001b[0m\u001b[0;34m,\u001b[0m\u001b[0;34m)\u001b[0m\u001b[0;34m,\u001b[0m \u001b[0;32mNone\u001b[0m\u001b[0;34m,\u001b[0m \u001b[0mfscope\u001b[0m\u001b[0;34m)\u001b[0m\u001b[0;34m,\u001b[0m \u001b[0mag__\u001b[0m\u001b[0;34m.\u001b[0m\u001b[0mconverted_call\u001b[0m\u001b[0;34m(\u001b[0m\u001b[0mag__\u001b[0m\u001b[0;34m.\u001b[0m\u001b[0mld\u001b[0m\u001b[0;34m(\u001b[0m\u001b[0mtf\u001b[0m\u001b[0;34m)\u001b[0m\u001b[0;34m.\u001b[0m\u001b[0mone_hot\u001b[0m\u001b[0;34m,\u001b[0m \u001b[0;34m(\u001b[0m\u001b[0;34m)\u001b[0m\u001b[0;34m,\u001b[0m \u001b[0mdict\u001b[0m\u001b[0;34m(\u001b[0m\u001b[0mindices\u001b[0m\u001b[0;34m=\u001b[0m\u001b[0mag__\u001b[0m\u001b[0;34m.\u001b[0m\u001b[0mld\u001b[0m\u001b[0;34m(\u001b[0m\u001b[0mlabel\u001b[0m\u001b[0;34m)\u001b[0m\u001b[0;34m,\u001b[0m \u001b[0mdepth\u001b[0m\u001b[0;34m=\u001b[0m\u001b[0;36m3\u001b[0m\u001b[0;34m)\u001b[0m\u001b[0;34m,\u001b[0m \u001b[0mfscope\u001b[0m\u001b[0;34m)\u001b[0m\u001b[0;34m)\u001b[0m\u001b[0;34m\u001b[0m\u001b[0;34m\u001b[0m\u001b[0m\n\u001b[0m\u001b[1;32m     13\u001b[0m                 \u001b[0;32mexcept\u001b[0m\u001b[0;34m:\u001b[0m\u001b[0;34m\u001b[0m\u001b[0;34m\u001b[0m\u001b[0m\n\u001b[1;32m     14\u001b[0m                     \u001b[0mdo_return\u001b[0m \u001b[0;34m=\u001b[0m \u001b[0;32mFalse\u001b[0m\u001b[0;34m\u001b[0m\u001b[0;34m\u001b[0m\u001b[0m\n",
            "\u001b[0;32m/usr/local/lib/python3.8/dist-packages/tensorflow/python/autograph/impl/api.py\u001b[0m in \u001b[0;36mconverted_call\u001b[0;34m(f, args, kwargs, caller_fn_scope, options)\u001b[0m\n\u001b[1;32m    329\u001b[0m   \u001b[0;32mif\u001b[0m \u001b[0mconversion\u001b[0m\u001b[0;34m.\u001b[0m\u001b[0mis_in_allowlist_cache\u001b[0m\u001b[0;34m(\u001b[0m\u001b[0mf\u001b[0m\u001b[0;34m,\u001b[0m \u001b[0moptions\u001b[0m\u001b[0;34m)\u001b[0m\u001b[0;34m:\u001b[0m\u001b[0;34m\u001b[0m\u001b[0;34m\u001b[0m\u001b[0m\n\u001b[1;32m    330\u001b[0m     \u001b[0mlogging\u001b[0m\u001b[0;34m.\u001b[0m\u001b[0mlog\u001b[0m\u001b[0;34m(\u001b[0m\u001b[0;36m2\u001b[0m\u001b[0;34m,\u001b[0m \u001b[0;34m'Allowlisted %s: from cache'\u001b[0m\u001b[0;34m,\u001b[0m \u001b[0mf\u001b[0m\u001b[0;34m)\u001b[0m\u001b[0;34m\u001b[0m\u001b[0;34m\u001b[0m\u001b[0m\n\u001b[0;32m--> 331\u001b[0;31m     \u001b[0;32mreturn\u001b[0m \u001b[0m_call_unconverted\u001b[0m\u001b[0;34m(\u001b[0m\u001b[0mf\u001b[0m\u001b[0;34m,\u001b[0m \u001b[0margs\u001b[0m\u001b[0;34m,\u001b[0m \u001b[0mkwargs\u001b[0m\u001b[0;34m,\u001b[0m \u001b[0moptions\u001b[0m\u001b[0;34m,\u001b[0m \u001b[0;32mFalse\u001b[0m\u001b[0;34m)\u001b[0m\u001b[0;34m\u001b[0m\u001b[0;34m\u001b[0m\u001b[0m\n\u001b[0m\u001b[1;32m    332\u001b[0m \u001b[0;34m\u001b[0m\u001b[0m\n\u001b[1;32m    333\u001b[0m   \u001b[0;32mif\u001b[0m \u001b[0mag_ctx\u001b[0m\u001b[0;34m.\u001b[0m\u001b[0mcontrol_status_ctx\u001b[0m\u001b[0;34m(\u001b[0m\u001b[0;34m)\u001b[0m\u001b[0;34m.\u001b[0m\u001b[0mstatus\u001b[0m \u001b[0;34m==\u001b[0m \u001b[0mag_ctx\u001b[0m\u001b[0;34m.\u001b[0m\u001b[0mStatus\u001b[0m\u001b[0;34m.\u001b[0m\u001b[0mDISABLED\u001b[0m\u001b[0;34m:\u001b[0m\u001b[0;34m\u001b[0m\u001b[0;34m\u001b[0m\u001b[0m\n",
            "\u001b[0;32m/usr/local/lib/python3.8/dist-packages/tensorflow/python/autograph/impl/api.py\u001b[0m in \u001b[0;36m_call_unconverted\u001b[0;34m(f, args, kwargs, options, update_cache)\u001b[0m\n\u001b[1;32m    456\u001b[0m \u001b[0;34m\u001b[0m\u001b[0m\n\u001b[1;32m    457\u001b[0m   \u001b[0;32mif\u001b[0m \u001b[0mkwargs\u001b[0m \u001b[0;32mis\u001b[0m \u001b[0;32mnot\u001b[0m \u001b[0;32mNone\u001b[0m\u001b[0;34m:\u001b[0m\u001b[0;34m\u001b[0m\u001b[0;34m\u001b[0m\u001b[0m\n\u001b[0;32m--> 458\u001b[0;31m     \u001b[0;32mreturn\u001b[0m \u001b[0mf\u001b[0m\u001b[0;34m(\u001b[0m\u001b[0;34m*\u001b[0m\u001b[0margs\u001b[0m\u001b[0;34m,\u001b[0m \u001b[0;34m**\u001b[0m\u001b[0mkwargs\u001b[0m\u001b[0;34m)\u001b[0m\u001b[0;34m\u001b[0m\u001b[0;34m\u001b[0m\u001b[0m\n\u001b[0m\u001b[1;32m    459\u001b[0m   \u001b[0;32mreturn\u001b[0m \u001b[0mf\u001b[0m\u001b[0;34m(\u001b[0m\u001b[0;34m*\u001b[0m\u001b[0margs\u001b[0m\u001b[0;34m)\u001b[0m\u001b[0;34m\u001b[0m\u001b[0;34m\u001b[0m\u001b[0m\n\u001b[1;32m    460\u001b[0m \u001b[0;34m\u001b[0m\u001b[0m\n",
            "\u001b[0;32m/usr/local/lib/python3.8/dist-packages/tensorflow/python/util/traceback_utils.py\u001b[0m in \u001b[0;36merror_handler\u001b[0;34m(*args, **kwargs)\u001b[0m\n\u001b[1;32m    151\u001b[0m     \u001b[0;32mexcept\u001b[0m \u001b[0mException\u001b[0m \u001b[0;32mas\u001b[0m \u001b[0me\u001b[0m\u001b[0;34m:\u001b[0m\u001b[0;34m\u001b[0m\u001b[0;34m\u001b[0m\u001b[0m\n\u001b[1;32m    152\u001b[0m       \u001b[0mfiltered_tb\u001b[0m \u001b[0;34m=\u001b[0m \u001b[0m_process_traceback_frames\u001b[0m\u001b[0;34m(\u001b[0m\u001b[0me\u001b[0m\u001b[0;34m.\u001b[0m\u001b[0m__traceback__\u001b[0m\u001b[0;34m)\u001b[0m\u001b[0;34m\u001b[0m\u001b[0;34m\u001b[0m\u001b[0m\n\u001b[0;32m--> 153\u001b[0;31m       \u001b[0;32mraise\u001b[0m \u001b[0me\u001b[0m\u001b[0;34m.\u001b[0m\u001b[0mwith_traceback\u001b[0m\u001b[0;34m(\u001b[0m\u001b[0mfiltered_tb\u001b[0m\u001b[0;34m)\u001b[0m \u001b[0;32mfrom\u001b[0m \u001b[0;32mNone\u001b[0m\u001b[0;34m\u001b[0m\u001b[0;34m\u001b[0m\u001b[0m\n\u001b[0m\u001b[1;32m    154\u001b[0m     \u001b[0;32mfinally\u001b[0m\u001b[0;34m:\u001b[0m\u001b[0;34m\u001b[0m\u001b[0;34m\u001b[0m\u001b[0m\n\u001b[1;32m    155\u001b[0m       \u001b[0;32mdel\u001b[0m \u001b[0mfiltered_tb\u001b[0m\u001b[0;34m\u001b[0m\u001b[0;34m\u001b[0m\u001b[0m\n",
            "\u001b[0;32m/usr/local/lib/python3.8/dist-packages/tensorflow/python/framework/op_def_library.py\u001b[0m in \u001b[0;36m_SatisfiesTypeConstraint\u001b[0;34m(dtype, attr_def, param_name)\u001b[0m\n\u001b[1;32m     56\u001b[0m     \u001b[0mallowed_values\u001b[0m \u001b[0;34m=\u001b[0m \u001b[0;34m\", \"\u001b[0m\u001b[0;34m.\u001b[0m\u001b[0mjoin\u001b[0m\u001b[0;34m(\u001b[0m\u001b[0mdtypes\u001b[0m\u001b[0;34m.\u001b[0m\u001b[0mas_dtype\u001b[0m\u001b[0;34m(\u001b[0m\u001b[0mx\u001b[0m\u001b[0;34m)\u001b[0m\u001b[0;34m.\u001b[0m\u001b[0mname\u001b[0m \u001b[0;32mfor\u001b[0m \u001b[0mx\u001b[0m \u001b[0;32min\u001b[0m \u001b[0mallowed_list\u001b[0m\u001b[0;34m)\u001b[0m\u001b[0;34m\u001b[0m\u001b[0;34m\u001b[0m\u001b[0m\n\u001b[1;32m     57\u001b[0m     \u001b[0;32mif\u001b[0m \u001b[0mdtype\u001b[0m \u001b[0;32mnot\u001b[0m \u001b[0;32min\u001b[0m \u001b[0mallowed_list\u001b[0m\u001b[0;34m:\u001b[0m\u001b[0;34m\u001b[0m\u001b[0;34m\u001b[0m\u001b[0m\n\u001b[0;32m---> 58\u001b[0;31m       raise TypeError(\n\u001b[0m\u001b[1;32m     59\u001b[0m           \u001b[0;34mf\"Value passed to parameter '{param_name}' has DataType \"\u001b[0m\u001b[0;34m\u001b[0m\u001b[0;34m\u001b[0m\u001b[0m\n\u001b[1;32m     60\u001b[0m           \u001b[0;34mf\"{dtypes.as_dtype(dtype).name} not in list of allowed values: \"\u001b[0m\u001b[0;34m\u001b[0m\u001b[0;34m\u001b[0m\u001b[0m\n",
            "\u001b[0;31mTypeError\u001b[0m: in user code:\n\n    File \"<ipython-input-118-6aaf88cdf264>\", line 5, in to_tuple  *\n        return (tf.transpose(list(inputs.values())),\n\n    TypeError: Value passed to parameter 'indices' has DataType float32 not in list of allowed values: uint8, int32, int64\n"
          ]
        }
      ]
    },
    {
      "cell_type": "code",
      "source": [
        "# Dictionary with names as keys, features as values.\n",
        "features_dict = dict(zip(FEATURE_NAMES, columns))\n",
        "\n",
        "print(features_dict)"
      ],
      "metadata": {
        "id": "-9ygwv68U769"
      },
      "id": "-9ygwv68U769",
      "execution_count": null,
      "outputs": []
    },
    {
      "cell_type": "code",
      "source": [
        "raw_example = next(iter(raw_dataset))\n",
        "parsed = tf.train.Example.FromString(raw_example.numpy())\n",
        "\n",
        "parsed.features.feature['B4']"
      ],
      "metadata": {
        "id": "t0mtY1JITmQA",
        "outputId": "ecc3464e-40cb-4e23-8c74-e748730eff56",
        "colab": {
          "base_uri": "https://localhost:8080/"
        }
      },
      "id": "t0mtY1JITmQA",
      "execution_count": null,
      "outputs": [
        {
          "output_type": "execute_result",
          "data": {
            "text/plain": []
          },
          "metadata": {},
          "execution_count": 27
        }
      ]
    },
    {
      "cell_type": "code",
      "source": [
        "type(parsed)"
      ],
      "metadata": {
        "id": "gaV-8ZohTy5m",
        "outputId": "87033572-2ef9-4da7-e2fc-33fa8e7b22bd",
        "colab": {
          "base_uri": "https://localhost:8080/"
        }
      },
      "id": "gaV-8ZohTy5m",
      "execution_count": null,
      "outputs": [
        {
          "output_type": "execute_result",
          "data": {
            "text/plain": [
              "tensorflow.core.example.example_pb2.Example"
            ]
          },
          "metadata": {},
          "execution_count": 28
        }
      ]
    },
    {
      "cell_type": "code",
      "source": [
        "# Create a description of the features.\n",
        "feature_description = {\n",
        "    'B4': tf.io.FixedLenFeature([], tf.float32, default_value=0),\n",
        "    'B3': tf.io.FixedLenFeature([], tf.float32, default_value=0),\n",
        "    'B2': tf.io.FixedLenFeature([], tf.float32, default_value=0),\n",
        "}\n",
        "\n",
        "def _parse_function(example_proto):\n",
        "  # Parse the input `tf.train.Example` proto using the dictionary above.\n",
        "  return tf.io.parse_single_example(example_proto, feature_description)"
      ],
      "metadata": {
        "id": "OI0BqSV7QV7z"
      },
      "id": "OI0BqSV7QV7z",
      "execution_count": null,
      "outputs": []
    },
    {
      "cell_type": "code",
      "source": [
        "train_dataset_p = train_dataset.map(_parse_function)"
      ],
      "metadata": {
        "id": "QUp5VvKlRC57"
      },
      "id": "QUp5VvKlRC57",
      "execution_count": null,
      "outputs": []
    },
    {
      "cell_type": "code",
      "source": [
        "train_dataset_p"
      ],
      "metadata": {
        "id": "l4POe-WFRRwz",
        "outputId": "19067452-134b-47af-a62a-622477c43c0e",
        "colab": {
          "base_uri": "https://localhost:8080/"
        }
      },
      "id": "l4POe-WFRRwz",
      "execution_count": null,
      "outputs": [
        {
          "output_type": "execute_result",
          "data": {
            "text/plain": [
              "<MapDataset element_spec={'B2': TensorSpec(shape=(), dtype=tf.float32, name=None), 'B3': TensorSpec(shape=(), dtype=tf.float32, name=None), 'B4': TensorSpec(shape=(), dtype=tf.float32, name=None)}>"
            ]
          },
          "metadata": {},
          "execution_count": 18
        }
      ]
    },
    {
      "cell_type": "code",
      "source": [
        "for parsed_record in train_dataset_p.take(10):\n",
        "  print(repr(parsed_record))"
      ],
      "metadata": {
        "id": "OecHYSAuRvMA",
        "outputId": "33e553b6-58b8-4595-a7c5-9fe243ad3492",
        "colab": {
          "base_uri": "https://localhost:8080/"
        }
      },
      "id": "OecHYSAuRvMA",
      "execution_count": null,
      "outputs": [
        {
          "output_type": "stream",
          "name": "stdout",
          "text": [
            "{'B2': <tf.Tensor: shape=(), dtype=float32, numpy=0.0>, 'B3': <tf.Tensor: shape=(), dtype=float32, numpy=0.0>, 'B4': <tf.Tensor: shape=(), dtype=float32, numpy=0.0>}\n",
            "{'B2': <tf.Tensor: shape=(), dtype=float32, numpy=0.0>, 'B3': <tf.Tensor: shape=(), dtype=float32, numpy=0.0>, 'B4': <tf.Tensor: shape=(), dtype=float32, numpy=0.0>}\n",
            "{'B2': <tf.Tensor: shape=(), dtype=float32, numpy=0.0>, 'B3': <tf.Tensor: shape=(), dtype=float32, numpy=0.0>, 'B4': <tf.Tensor: shape=(), dtype=float32, numpy=0.0>}\n",
            "{'B2': <tf.Tensor: shape=(), dtype=float32, numpy=0.0>, 'B3': <tf.Tensor: shape=(), dtype=float32, numpy=0.0>, 'B4': <tf.Tensor: shape=(), dtype=float32, numpy=0.0>}\n",
            "{'B2': <tf.Tensor: shape=(), dtype=float32, numpy=0.0>, 'B3': <tf.Tensor: shape=(), dtype=float32, numpy=0.0>, 'B4': <tf.Tensor: shape=(), dtype=float32, numpy=0.0>}\n",
            "{'B2': <tf.Tensor: shape=(), dtype=float32, numpy=0.0>, 'B3': <tf.Tensor: shape=(), dtype=float32, numpy=0.0>, 'B4': <tf.Tensor: shape=(), dtype=float32, numpy=0.0>}\n",
            "{'B2': <tf.Tensor: shape=(), dtype=float32, numpy=0.0>, 'B3': <tf.Tensor: shape=(), dtype=float32, numpy=0.0>, 'B4': <tf.Tensor: shape=(), dtype=float32, numpy=0.0>}\n",
            "{'B2': <tf.Tensor: shape=(), dtype=float32, numpy=0.0>, 'B3': <tf.Tensor: shape=(), dtype=float32, numpy=0.0>, 'B4': <tf.Tensor: shape=(), dtype=float32, numpy=0.0>}\n",
            "{'B2': <tf.Tensor: shape=(), dtype=float32, numpy=0.0>, 'B3': <tf.Tensor: shape=(), dtype=float32, numpy=0.0>, 'B4': <tf.Tensor: shape=(), dtype=float32, numpy=0.0>}\n",
            "{'B2': <tf.Tensor: shape=(), dtype=float32, numpy=0.0>, 'B3': <tf.Tensor: shape=(), dtype=float32, numpy=0.0>, 'B4': <tf.Tensor: shape=(), dtype=float32, numpy=0.0>}\n"
          ]
        }
      ]
    },
    {
      "cell_type": "code",
      "source": [
        "# List of fixed-length features, all of which are float32.\n",
        "columns = [\n",
        "  tf.io.FixedLenFeature(shape=[1], dtype=tf.float32) for k in FEATURE_NAMES\n",
        "]\n",
        "\n",
        "# Dictionary with names as keys, features as values.\n",
        "features_dict = dict(zip(FEATURE_NAMES, columns))\n",
        "\n",
        "print(features_dict)"
      ],
      "metadata": {
        "colab": {
          "base_uri": "https://localhost:8080/"
        },
        "id": "u8wLoGgQuFpe",
        "outputId": "d885374d-8b97-45a0-d1cd-9f9f13c4ee95"
      },
      "id": "u8wLoGgQuFpe",
      "execution_count": null,
      "outputs": [
        {
          "output_type": "stream",
          "name": "stdout",
          "text": [
            "{'B4': FixedLenFeature(shape=[1], dtype=tf.float32, default_value=None), 'B3': FixedLenFeature(shape=[1], dtype=tf.float32, default_value=None), 'B2': FixedLenFeature(shape=[1], dtype=tf.float32, default_value=None)}\n"
          ]
        }
      ]
    },
    {
      "cell_type": "code",
      "source": [
        "parsed_dataset"
      ],
      "metadata": {
        "id": "HM4gBknW5lG0",
        "outputId": "6f10fc0f-beef-4e22-e86a-ae3a49f594d6",
        "colab": {
          "base_uri": "https://localhost:8080/"
        }
      },
      "id": "HM4gBknW5lG0",
      "execution_count": null,
      "outputs": [
        {
          "output_type": "execute_result",
          "data": {
            "text/plain": [
              "<ParallelMapDataset element_spec=({}, TensorSpec(shape=(1,), dtype=tf.float32, name=None), TensorSpec(shape=(1,), dtype=tf.float32, name=None), TensorSpec(shape=(1,), dtype=tf.float32, name=None))>"
            ]
          },
          "metadata": {},
          "execution_count": 125
        }
      ]
    },
    {
      "cell_type": "code",
      "source": [
        "# Keras requires inputs as a tuple.  Note that the inputs must be in the\n",
        "# right shape.  Also note that to use the categorical_crossentropy loss,\n",
        "# the label needs to be turned into a one-hot vector.\n",
        "def to_tuple(inputs, label):\n",
        "  return (tf.transpose(list(inputs.values())),\n",
        "          tf.one_hot(indices=label, depth=3))\n",
        "\n",
        "# Map the to_tuple function, shuffle and batch.\n",
        "input_dataset = parsed_dataset.map(to_tuple).batch(8)"
      ],
      "metadata": {
        "id": "RRrliaNt1mD2",
        "outputId": "be97cbe2-63b4-4866-b44e-8f3749489cfe",
        "colab": {
          "base_uri": "https://localhost:8080/",
          "height": 397
        }
      },
      "id": "RRrliaNt1mD2",
      "execution_count": null,
      "outputs": [
        {
          "output_type": "error",
          "ename": "TypeError",
          "evalue": "ignored",
          "traceback": [
            "\u001b[0;31m---------------------------------------------------------------------------\u001b[0m",
            "\u001b[0;31mTypeError\u001b[0m                                 Traceback (most recent call last)",
            "\u001b[0;32m<ipython-input-112-6aaf88cdf264>\u001b[0m in \u001b[0;36m<module>\u001b[0;34m\u001b[0m\n\u001b[1;32m      7\u001b[0m \u001b[0;34m\u001b[0m\u001b[0m\n\u001b[1;32m      8\u001b[0m \u001b[0;31m# Map the to_tuple function, shuffle and batch.\u001b[0m\u001b[0;34m\u001b[0m\u001b[0;34m\u001b[0m\u001b[0;34m\u001b[0m\u001b[0m\n\u001b[0;32m----> 9\u001b[0;31m \u001b[0minput_dataset\u001b[0m \u001b[0;34m=\u001b[0m \u001b[0mparsed_dataset\u001b[0m\u001b[0;34m.\u001b[0m\u001b[0mmap\u001b[0m\u001b[0;34m(\u001b[0m\u001b[0mto_tuple\u001b[0m\u001b[0;34m)\u001b[0m\u001b[0;34m.\u001b[0m\u001b[0mbatch\u001b[0m\u001b[0;34m(\u001b[0m\u001b[0;36m8\u001b[0m\u001b[0;34m)\u001b[0m\u001b[0;34m\u001b[0m\u001b[0;34m\u001b[0m\u001b[0m\n\u001b[0m",
            "\u001b[0;32m/usr/local/lib/python3.8/dist-packages/tensorflow/python/data/ops/dataset_ops.py\u001b[0m in \u001b[0;36mmap\u001b[0;34m(self, map_func, num_parallel_calls, deterministic, name)\u001b[0m\n\u001b[1;32m   2046\u001b[0m         warnings.warn(\"The `deterministic` argument has no effect unless the \"\n\u001b[1;32m   2047\u001b[0m                       \"`num_parallel_calls` argument is specified.\")\n\u001b[0;32m-> 2048\u001b[0;31m       \u001b[0;32mreturn\u001b[0m \u001b[0mMapDataset\u001b[0m\u001b[0;34m(\u001b[0m\u001b[0mself\u001b[0m\u001b[0;34m,\u001b[0m \u001b[0mmap_func\u001b[0m\u001b[0;34m,\u001b[0m \u001b[0mpreserve_cardinality\u001b[0m\u001b[0;34m=\u001b[0m\u001b[0;32mTrue\u001b[0m\u001b[0;34m,\u001b[0m \u001b[0mname\u001b[0m\u001b[0;34m=\u001b[0m\u001b[0mname\u001b[0m\u001b[0;34m)\u001b[0m\u001b[0;34m\u001b[0m\u001b[0;34m\u001b[0m\u001b[0m\n\u001b[0m\u001b[1;32m   2049\u001b[0m     \u001b[0;32melse\u001b[0m\u001b[0;34m:\u001b[0m\u001b[0;34m\u001b[0m\u001b[0;34m\u001b[0m\u001b[0m\n\u001b[1;32m   2050\u001b[0m       return ParallelMapDataset(\n",
            "\u001b[0;32m/usr/local/lib/python3.8/dist-packages/tensorflow/python/data/ops/dataset_ops.py\u001b[0m in \u001b[0;36m__init__\u001b[0;34m(self, input_dataset, map_func, use_inter_op_parallelism, preserve_cardinality, use_legacy_function, name)\u001b[0m\n\u001b[1;32m   5241\u001b[0m     \u001b[0mself\u001b[0m\u001b[0;34m.\u001b[0m\u001b[0m_use_inter_op_parallelism\u001b[0m \u001b[0;34m=\u001b[0m \u001b[0muse_inter_op_parallelism\u001b[0m\u001b[0;34m\u001b[0m\u001b[0;34m\u001b[0m\u001b[0m\n\u001b[1;32m   5242\u001b[0m     \u001b[0mself\u001b[0m\u001b[0;34m.\u001b[0m\u001b[0m_preserve_cardinality\u001b[0m \u001b[0;34m=\u001b[0m \u001b[0mpreserve_cardinality\u001b[0m\u001b[0;34m\u001b[0m\u001b[0;34m\u001b[0m\u001b[0m\n\u001b[0;32m-> 5243\u001b[0;31m     self._map_func = structured_function.StructuredFunctionWrapper(\n\u001b[0m\u001b[1;32m   5244\u001b[0m         \u001b[0mmap_func\u001b[0m\u001b[0;34m,\u001b[0m\u001b[0;34m\u001b[0m\u001b[0;34m\u001b[0m\u001b[0m\n\u001b[1;32m   5245\u001b[0m         \u001b[0mself\u001b[0m\u001b[0;34m.\u001b[0m\u001b[0m_transformation_name\u001b[0m\u001b[0;34m(\u001b[0m\u001b[0;34m)\u001b[0m\u001b[0;34m,\u001b[0m\u001b[0;34m\u001b[0m\u001b[0;34m\u001b[0m\u001b[0m\n",
            "\u001b[0;32m/usr/local/lib/python3.8/dist-packages/tensorflow/python/data/ops/structured_function.py\u001b[0m in \u001b[0;36m__init__\u001b[0;34m(self, func, transformation_name, dataset, input_classes, input_shapes, input_types, input_structure, add_to_graph, use_legacy_function, defun_kwargs)\u001b[0m\n\u001b[1;32m    269\u001b[0m         \u001b[0mfn_factory\u001b[0m \u001b[0;34m=\u001b[0m \u001b[0mtrace_tf_function\u001b[0m\u001b[0;34m(\u001b[0m\u001b[0mdefun_kwargs\u001b[0m\u001b[0;34m)\u001b[0m\u001b[0;34m\u001b[0m\u001b[0;34m\u001b[0m\u001b[0m\n\u001b[1;32m    270\u001b[0m \u001b[0;34m\u001b[0m\u001b[0m\n\u001b[0;32m--> 271\u001b[0;31m     \u001b[0mself\u001b[0m\u001b[0;34m.\u001b[0m\u001b[0m_function\u001b[0m \u001b[0;34m=\u001b[0m \u001b[0mfn_factory\u001b[0m\u001b[0;34m(\u001b[0m\u001b[0;34m)\u001b[0m\u001b[0;34m\u001b[0m\u001b[0;34m\u001b[0m\u001b[0m\n\u001b[0m\u001b[1;32m    272\u001b[0m     \u001b[0;31m# There is no graph to add in eager mode.\u001b[0m\u001b[0;34m\u001b[0m\u001b[0;34m\u001b[0m\u001b[0;34m\u001b[0m\u001b[0m\n\u001b[1;32m    273\u001b[0m     \u001b[0madd_to_graph\u001b[0m \u001b[0;34m&=\u001b[0m \u001b[0;32mnot\u001b[0m \u001b[0mcontext\u001b[0m\u001b[0;34m.\u001b[0m\u001b[0mexecuting_eagerly\u001b[0m\u001b[0;34m(\u001b[0m\u001b[0;34m)\u001b[0m\u001b[0;34m\u001b[0m\u001b[0;34m\u001b[0m\u001b[0m\n",
            "\u001b[0;32m/usr/local/lib/python3.8/dist-packages/tensorflow/python/eager/function.py\u001b[0m in \u001b[0;36mget_concrete_function\u001b[0;34m(self, *args, **kwargs)\u001b[0m\n\u001b[1;32m   2565\u001b[0m          \u001b[0;32mor\u001b[0m\u001b[0;31m \u001b[0m\u001b[0;31m`\u001b[0m\u001b[0mtf\u001b[0m\u001b[0;34m.\u001b[0m\u001b[0mTensor\u001b[0m\u001b[0;31m`\u001b[0m \u001b[0;32mor\u001b[0m\u001b[0;31m \u001b[0m\u001b[0;31m`\u001b[0m\u001b[0mtf\u001b[0m\u001b[0;34m.\u001b[0m\u001b[0mTensorSpec\u001b[0m\u001b[0;31m`\u001b[0m\u001b[0;34m.\u001b[0m\u001b[0;34m\u001b[0m\u001b[0;34m\u001b[0m\u001b[0m\n\u001b[1;32m   2566\u001b[0m     \"\"\"\n\u001b[0;32m-> 2567\u001b[0;31m     graph_function = self._get_concrete_function_garbage_collected(\n\u001b[0m\u001b[1;32m   2568\u001b[0m         *args, **kwargs)\n\u001b[1;32m   2569\u001b[0m     \u001b[0mgraph_function\u001b[0m\u001b[0;34m.\u001b[0m\u001b[0m_garbage_collector\u001b[0m\u001b[0;34m.\u001b[0m\u001b[0mrelease\u001b[0m\u001b[0;34m(\u001b[0m\u001b[0;34m)\u001b[0m  \u001b[0;31m# pylint: disable=protected-access\u001b[0m\u001b[0;34m\u001b[0m\u001b[0;34m\u001b[0m\u001b[0m\n",
            "\u001b[0;32m/usr/local/lib/python3.8/dist-packages/tensorflow/python/eager/function.py\u001b[0m in \u001b[0;36m_get_concrete_function_garbage_collected\u001b[0;34m(self, *args, **kwargs)\u001b[0m\n\u001b[1;32m   2531\u001b[0m       \u001b[0margs\u001b[0m\u001b[0;34m,\u001b[0m \u001b[0mkwargs\u001b[0m \u001b[0;34m=\u001b[0m \u001b[0;32mNone\u001b[0m\u001b[0;34m,\u001b[0m \u001b[0;32mNone\u001b[0m\u001b[0;34m\u001b[0m\u001b[0;34m\u001b[0m\u001b[0m\n\u001b[1;32m   2532\u001b[0m     \u001b[0;32mwith\u001b[0m \u001b[0mself\u001b[0m\u001b[0;34m.\u001b[0m\u001b[0m_lock\u001b[0m\u001b[0;34m:\u001b[0m\u001b[0;34m\u001b[0m\u001b[0;34m\u001b[0m\u001b[0m\n\u001b[0;32m-> 2533\u001b[0;31m       \u001b[0mgraph_function\u001b[0m\u001b[0;34m,\u001b[0m \u001b[0m_\u001b[0m \u001b[0;34m=\u001b[0m \u001b[0mself\u001b[0m\u001b[0;34m.\u001b[0m\u001b[0m_maybe_define_function\u001b[0m\u001b[0;34m(\u001b[0m\u001b[0margs\u001b[0m\u001b[0;34m,\u001b[0m \u001b[0mkwargs\u001b[0m\u001b[0;34m)\u001b[0m\u001b[0;34m\u001b[0m\u001b[0;34m\u001b[0m\u001b[0m\n\u001b[0m\u001b[1;32m   2534\u001b[0m       \u001b[0mseen_names\u001b[0m \u001b[0;34m=\u001b[0m \u001b[0mset\u001b[0m\u001b[0;34m(\u001b[0m\u001b[0;34m)\u001b[0m\u001b[0;34m\u001b[0m\u001b[0;34m\u001b[0m\u001b[0m\n\u001b[1;32m   2535\u001b[0m       captured = object_identity.ObjectIdentitySet(\n",
            "\u001b[0;32m/usr/local/lib/python3.8/dist-packages/tensorflow/python/eager/function.py\u001b[0m in \u001b[0;36m_maybe_define_function\u001b[0;34m(self, args, kwargs)\u001b[0m\n\u001b[1;32m   2709\u001b[0m             \u001b[0;34m(\u001b[0m\u001b[0margs\u001b[0m\u001b[0;34m,\u001b[0m \u001b[0mkwargs\u001b[0m\u001b[0;34m)\u001b[0m \u001b[0;34m=\u001b[0m \u001b[0mcache_key\u001b[0m\u001b[0;34m.\u001b[0m\u001b[0m_placeholder_value\u001b[0m\u001b[0;34m(\u001b[0m\u001b[0;34m)\u001b[0m  \u001b[0;31m# pylint: disable=protected-access\u001b[0m\u001b[0;34m\u001b[0m\u001b[0;34m\u001b[0m\u001b[0m\n\u001b[1;32m   2710\u001b[0m \u001b[0;34m\u001b[0m\u001b[0m\n\u001b[0;32m-> 2711\u001b[0;31m           \u001b[0mgraph_function\u001b[0m \u001b[0;34m=\u001b[0m \u001b[0mself\u001b[0m\u001b[0;34m.\u001b[0m\u001b[0m_create_graph_function\u001b[0m\u001b[0;34m(\u001b[0m\u001b[0margs\u001b[0m\u001b[0;34m,\u001b[0m \u001b[0mkwargs\u001b[0m\u001b[0;34m)\u001b[0m\u001b[0;34m\u001b[0m\u001b[0;34m\u001b[0m\u001b[0m\n\u001b[0m\u001b[1;32m   2712\u001b[0m           self._function_cache.add(cache_key, cache_key_deletion_observer,\n\u001b[1;32m   2713\u001b[0m                                    graph_function)\n",
            "\u001b[0;32m/usr/local/lib/python3.8/dist-packages/tensorflow/python/eager/function.py\u001b[0m in \u001b[0;36m_create_graph_function\u001b[0;34m(self, args, kwargs)\u001b[0m\n\u001b[1;32m   2625\u001b[0m     \u001b[0marg_names\u001b[0m \u001b[0;34m=\u001b[0m \u001b[0mbase_arg_names\u001b[0m \u001b[0;34m+\u001b[0m \u001b[0mmissing_arg_names\u001b[0m\u001b[0;34m\u001b[0m\u001b[0;34m\u001b[0m\u001b[0m\n\u001b[1;32m   2626\u001b[0m     graph_function = ConcreteFunction(\n\u001b[0;32m-> 2627\u001b[0;31m         func_graph_module.func_graph_from_py_func(\n\u001b[0m\u001b[1;32m   2628\u001b[0m             \u001b[0mself\u001b[0m\u001b[0;34m.\u001b[0m\u001b[0m_name\u001b[0m\u001b[0;34m,\u001b[0m\u001b[0;34m\u001b[0m\u001b[0;34m\u001b[0m\u001b[0m\n\u001b[1;32m   2629\u001b[0m             \u001b[0mself\u001b[0m\u001b[0;34m.\u001b[0m\u001b[0m_python_function\u001b[0m\u001b[0;34m,\u001b[0m\u001b[0;34m\u001b[0m\u001b[0;34m\u001b[0m\u001b[0m\n",
            "\u001b[0;32m/usr/local/lib/python3.8/dist-packages/tensorflow/python/framework/func_graph.py\u001b[0m in \u001b[0;36mfunc_graph_from_py_func\u001b[0;34m(name, python_func, args, kwargs, signature, func_graph, autograph, autograph_options, add_control_dependencies, arg_names, op_return_value, collections, capture_by_value, acd_record_initial_resource_uses)\u001b[0m\n\u001b[1;32m   1139\u001b[0m         \u001b[0m_\u001b[0m\u001b[0;34m,\u001b[0m \u001b[0moriginal_func\u001b[0m \u001b[0;34m=\u001b[0m \u001b[0mtf_decorator\u001b[0m\u001b[0;34m.\u001b[0m\u001b[0munwrap\u001b[0m\u001b[0;34m(\u001b[0m\u001b[0mpython_func\u001b[0m\u001b[0;34m)\u001b[0m\u001b[0;34m\u001b[0m\u001b[0;34m\u001b[0m\u001b[0m\n\u001b[1;32m   1140\u001b[0m \u001b[0;34m\u001b[0m\u001b[0m\n\u001b[0;32m-> 1141\u001b[0;31m       \u001b[0mfunc_outputs\u001b[0m \u001b[0;34m=\u001b[0m \u001b[0mpython_func\u001b[0m\u001b[0;34m(\u001b[0m\u001b[0;34m*\u001b[0m\u001b[0mfunc_args\u001b[0m\u001b[0;34m,\u001b[0m \u001b[0;34m**\u001b[0m\u001b[0mfunc_kwargs\u001b[0m\u001b[0;34m)\u001b[0m\u001b[0;34m\u001b[0m\u001b[0;34m\u001b[0m\u001b[0m\n\u001b[0m\u001b[1;32m   1142\u001b[0m \u001b[0;34m\u001b[0m\u001b[0m\n\u001b[1;32m   1143\u001b[0m       \u001b[0;31m# invariant: `func_outputs` contains only Tensors, CompositeTensors,\u001b[0m\u001b[0;34m\u001b[0m\u001b[0;34m\u001b[0m\u001b[0;34m\u001b[0m\u001b[0m\n",
            "\u001b[0;32m/usr/local/lib/python3.8/dist-packages/tensorflow/python/data/ops/structured_function.py\u001b[0m in \u001b[0;36mwrapped_fn\u001b[0;34m(*args)\u001b[0m\n\u001b[1;32m    246\u001b[0m           attributes=defun_kwargs)\n\u001b[1;32m    247\u001b[0m       \u001b[0;32mdef\u001b[0m \u001b[0mwrapped_fn\u001b[0m\u001b[0;34m(\u001b[0m\u001b[0;34m*\u001b[0m\u001b[0margs\u001b[0m\u001b[0;34m)\u001b[0m\u001b[0;34m:\u001b[0m  \u001b[0;31m# pylint: disable=missing-docstring\u001b[0m\u001b[0;34m\u001b[0m\u001b[0;34m\u001b[0m\u001b[0m\n\u001b[0;32m--> 248\u001b[0;31m         \u001b[0mret\u001b[0m \u001b[0;34m=\u001b[0m \u001b[0mwrapper_helper\u001b[0m\u001b[0;34m(\u001b[0m\u001b[0;34m*\u001b[0m\u001b[0margs\u001b[0m\u001b[0;34m)\u001b[0m\u001b[0;34m\u001b[0m\u001b[0;34m\u001b[0m\u001b[0m\n\u001b[0m\u001b[1;32m    249\u001b[0m         \u001b[0mret\u001b[0m \u001b[0;34m=\u001b[0m \u001b[0mstructure\u001b[0m\u001b[0;34m.\u001b[0m\u001b[0mto_tensor_list\u001b[0m\u001b[0;34m(\u001b[0m\u001b[0mself\u001b[0m\u001b[0;34m.\u001b[0m\u001b[0m_output_structure\u001b[0m\u001b[0;34m,\u001b[0m \u001b[0mret\u001b[0m\u001b[0;34m)\u001b[0m\u001b[0;34m\u001b[0m\u001b[0;34m\u001b[0m\u001b[0m\n\u001b[1;32m    250\u001b[0m         \u001b[0;32mreturn\u001b[0m \u001b[0;34m[\u001b[0m\u001b[0mops\u001b[0m\u001b[0;34m.\u001b[0m\u001b[0mconvert_to_tensor\u001b[0m\u001b[0;34m(\u001b[0m\u001b[0mt\u001b[0m\u001b[0;34m)\u001b[0m \u001b[0;32mfor\u001b[0m \u001b[0mt\u001b[0m \u001b[0;32min\u001b[0m \u001b[0mret\u001b[0m\u001b[0;34m]\u001b[0m\u001b[0;34m\u001b[0m\u001b[0;34m\u001b[0m\u001b[0m\n",
            "\u001b[0;32m/usr/local/lib/python3.8/dist-packages/tensorflow/python/data/ops/structured_function.py\u001b[0m in \u001b[0;36mwrapper_helper\u001b[0;34m(*args)\u001b[0m\n\u001b[1;32m    175\u001b[0m       \u001b[0;32mif\u001b[0m \u001b[0;32mnot\u001b[0m \u001b[0m_should_unpack\u001b[0m\u001b[0;34m(\u001b[0m\u001b[0mnested_args\u001b[0m\u001b[0;34m)\u001b[0m\u001b[0;34m:\u001b[0m\u001b[0;34m\u001b[0m\u001b[0;34m\u001b[0m\u001b[0m\n\u001b[1;32m    176\u001b[0m         \u001b[0mnested_args\u001b[0m \u001b[0;34m=\u001b[0m \u001b[0;34m(\u001b[0m\u001b[0mnested_args\u001b[0m\u001b[0;34m,\u001b[0m\u001b[0;34m)\u001b[0m\u001b[0;34m\u001b[0m\u001b[0;34m\u001b[0m\u001b[0m\n\u001b[0;32m--> 177\u001b[0;31m       \u001b[0mret\u001b[0m \u001b[0;34m=\u001b[0m \u001b[0mautograph\u001b[0m\u001b[0;34m.\u001b[0m\u001b[0mtf_convert\u001b[0m\u001b[0;34m(\u001b[0m\u001b[0mself\u001b[0m\u001b[0;34m.\u001b[0m\u001b[0m_func\u001b[0m\u001b[0;34m,\u001b[0m \u001b[0mag_ctx\u001b[0m\u001b[0;34m)\u001b[0m\u001b[0;34m(\u001b[0m\u001b[0;34m*\u001b[0m\u001b[0mnested_args\u001b[0m\u001b[0;34m)\u001b[0m\u001b[0;34m\u001b[0m\u001b[0;34m\u001b[0m\u001b[0m\n\u001b[0m\u001b[1;32m    178\u001b[0m       \u001b[0;32mif\u001b[0m \u001b[0m_should_pack\u001b[0m\u001b[0;34m(\u001b[0m\u001b[0mret\u001b[0m\u001b[0;34m)\u001b[0m\u001b[0;34m:\u001b[0m\u001b[0;34m\u001b[0m\u001b[0;34m\u001b[0m\u001b[0m\n\u001b[1;32m    179\u001b[0m         \u001b[0mret\u001b[0m \u001b[0;34m=\u001b[0m \u001b[0mtuple\u001b[0m\u001b[0;34m(\u001b[0m\u001b[0mret\u001b[0m\u001b[0;34m)\u001b[0m\u001b[0;34m\u001b[0m\u001b[0;34m\u001b[0m\u001b[0m\n",
            "\u001b[0;32m/usr/local/lib/python3.8/dist-packages/tensorflow/python/autograph/impl/api.py\u001b[0m in \u001b[0;36mwrapper\u001b[0;34m(*args, **kwargs)\u001b[0m\n\u001b[1;32m    690\u001b[0m       \u001b[0;32mexcept\u001b[0m \u001b[0mException\u001b[0m \u001b[0;32mas\u001b[0m \u001b[0me\u001b[0m\u001b[0;34m:\u001b[0m  \u001b[0;31m# pylint:disable=broad-except\u001b[0m\u001b[0;34m\u001b[0m\u001b[0;34m\u001b[0m\u001b[0m\n\u001b[1;32m    691\u001b[0m         \u001b[0;32mif\u001b[0m \u001b[0mhasattr\u001b[0m\u001b[0;34m(\u001b[0m\u001b[0me\u001b[0m\u001b[0;34m,\u001b[0m \u001b[0;34m'ag_error_metadata'\u001b[0m\u001b[0;34m)\u001b[0m\u001b[0;34m:\u001b[0m\u001b[0;34m\u001b[0m\u001b[0;34m\u001b[0m\u001b[0m\n\u001b[0;32m--> 692\u001b[0;31m           \u001b[0;32mraise\u001b[0m \u001b[0me\u001b[0m\u001b[0;34m.\u001b[0m\u001b[0mag_error_metadata\u001b[0m\u001b[0;34m.\u001b[0m\u001b[0mto_exception\u001b[0m\u001b[0;34m(\u001b[0m\u001b[0me\u001b[0m\u001b[0;34m)\u001b[0m\u001b[0;34m\u001b[0m\u001b[0;34m\u001b[0m\u001b[0m\n\u001b[0m\u001b[1;32m    693\u001b[0m         \u001b[0;32melse\u001b[0m\u001b[0;34m:\u001b[0m\u001b[0;34m\u001b[0m\u001b[0;34m\u001b[0m\u001b[0m\n\u001b[1;32m    694\u001b[0m           \u001b[0;32mraise\u001b[0m\u001b[0;34m\u001b[0m\u001b[0;34m\u001b[0m\u001b[0m\n",
            "\u001b[0;32m/usr/local/lib/python3.8/dist-packages/tensorflow/python/autograph/impl/api.py\u001b[0m in \u001b[0;36mwrapper\u001b[0;34m(*args, **kwargs)\u001b[0m\n\u001b[1;32m    687\u001b[0m       \u001b[0;32mtry\u001b[0m\u001b[0;34m:\u001b[0m\u001b[0;34m\u001b[0m\u001b[0;34m\u001b[0m\u001b[0m\n\u001b[1;32m    688\u001b[0m         \u001b[0;32mwith\u001b[0m \u001b[0mconversion_ctx\u001b[0m\u001b[0;34m:\u001b[0m\u001b[0;34m\u001b[0m\u001b[0;34m\u001b[0m\u001b[0m\n\u001b[0;32m--> 689\u001b[0;31m           \u001b[0;32mreturn\u001b[0m \u001b[0mconverted_call\u001b[0m\u001b[0;34m(\u001b[0m\u001b[0mf\u001b[0m\u001b[0;34m,\u001b[0m \u001b[0margs\u001b[0m\u001b[0;34m,\u001b[0m \u001b[0mkwargs\u001b[0m\u001b[0;34m,\u001b[0m \u001b[0moptions\u001b[0m\u001b[0;34m=\u001b[0m\u001b[0moptions\u001b[0m\u001b[0;34m)\u001b[0m\u001b[0;34m\u001b[0m\u001b[0;34m\u001b[0m\u001b[0m\n\u001b[0m\u001b[1;32m    690\u001b[0m       \u001b[0;32mexcept\u001b[0m \u001b[0mException\u001b[0m \u001b[0;32mas\u001b[0m \u001b[0me\u001b[0m\u001b[0;34m:\u001b[0m  \u001b[0;31m# pylint:disable=broad-except\u001b[0m\u001b[0;34m\u001b[0m\u001b[0;34m\u001b[0m\u001b[0m\n\u001b[1;32m    691\u001b[0m         \u001b[0;32mif\u001b[0m \u001b[0mhasattr\u001b[0m\u001b[0;34m(\u001b[0m\u001b[0me\u001b[0m\u001b[0;34m,\u001b[0m \u001b[0;34m'ag_error_metadata'\u001b[0m\u001b[0;34m)\u001b[0m\u001b[0;34m:\u001b[0m\u001b[0;34m\u001b[0m\u001b[0;34m\u001b[0m\u001b[0m\n",
            "\u001b[0;32m/usr/local/lib/python3.8/dist-packages/tensorflow/python/autograph/impl/api.py\u001b[0m in \u001b[0;36mconverted_call\u001b[0;34m(f, args, kwargs, caller_fn_scope, options)\u001b[0m\n\u001b[1;32m    437\u001b[0m     \u001b[0;32mtry\u001b[0m\u001b[0;34m:\u001b[0m\u001b[0;34m\u001b[0m\u001b[0;34m\u001b[0m\u001b[0m\n\u001b[1;32m    438\u001b[0m       \u001b[0;32mif\u001b[0m \u001b[0mkwargs\u001b[0m \u001b[0;32mis\u001b[0m \u001b[0;32mnot\u001b[0m \u001b[0;32mNone\u001b[0m\u001b[0;34m:\u001b[0m\u001b[0;34m\u001b[0m\u001b[0;34m\u001b[0m\u001b[0m\n\u001b[0;32m--> 439\u001b[0;31m         \u001b[0mresult\u001b[0m \u001b[0;34m=\u001b[0m \u001b[0mconverted_f\u001b[0m\u001b[0;34m(\u001b[0m\u001b[0;34m*\u001b[0m\u001b[0meffective_args\u001b[0m\u001b[0;34m,\u001b[0m \u001b[0;34m**\u001b[0m\u001b[0mkwargs\u001b[0m\u001b[0;34m)\u001b[0m\u001b[0;34m\u001b[0m\u001b[0;34m\u001b[0m\u001b[0m\n\u001b[0m\u001b[1;32m    440\u001b[0m       \u001b[0;32melse\u001b[0m\u001b[0;34m:\u001b[0m\u001b[0;34m\u001b[0m\u001b[0;34m\u001b[0m\u001b[0m\n\u001b[1;32m    441\u001b[0m         \u001b[0mresult\u001b[0m \u001b[0;34m=\u001b[0m \u001b[0mconverted_f\u001b[0m\u001b[0;34m(\u001b[0m\u001b[0;34m*\u001b[0m\u001b[0meffective_args\u001b[0m\u001b[0;34m)\u001b[0m\u001b[0;34m\u001b[0m\u001b[0;34m\u001b[0m\u001b[0m\n",
            "\u001b[0;31mTypeError\u001b[0m: in user code:\n\n\n    TypeError: tf__to_tuple() takes 2 positional arguments but 4 were given\n"
          ]
        }
      ]
    },
    {
      "cell_type": "markdown",
      "source": [
        "# Setup the Neural Network"
      ],
      "metadata": {
        "id": "8kgO_By1c5cs"
      },
      "id": "8kgO_By1c5cs"
    },
    {
      "cell_type": "code",
      "execution_count": null,
      "metadata": {
        "colab": {
          "base_uri": "https://localhost:8080/",
          "height": 252
        },
        "id": "0hYDC41ymmag",
        "outputId": "e95ef0ce-d06d-4624-98e6-8ed2163b93c1"
      },
      "outputs": [
        {
          "output_type": "stream",
          "name": "stdout",
          "text": [
            "Drive already mounted at /content/drive; to attempt to forcibly remount, call drive.mount(\"/content/drive\", force_remount=True).\n"
          ]
        },
        {
          "output_type": "error",
          "ename": "NameError",
          "evalue": "ignored",
          "traceback": [
            "\u001b[0;31m---------------------------------------------------------------------------\u001b[0m",
            "\u001b[0;31mNameError\u001b[0m                                 Traceback (most recent call last)",
            "\u001b[0;32m<ipython-input-118-e4ee9d81f75d>\u001b[0m in \u001b[0;36m<module>\u001b[0;34m\u001b[0m\n\u001b[1;32m     21\u001b[0m \u001b[0;34m\u001b[0m\u001b[0m\n\u001b[1;32m     22\u001b[0m \u001b[0;31m# Configuration\u001b[0m\u001b[0;34m\u001b[0m\u001b[0;34m\u001b[0m\u001b[0;34m\u001b[0m\u001b[0m\n\u001b[0;32m---> 23\u001b[0;31m \u001b[0mDATASET\u001b[0m \u001b[0;34m=\u001b[0m \u001b[0ml8sr\u001b[0m\u001b[0;34m.\u001b[0m\u001b[0mfilterDate\u001b[0m\u001b[0;34m(\u001b[0m\u001b[0;34m'2015-01-01'\u001b[0m\u001b[0;34m,\u001b[0m \u001b[0;34m'2017-12-31'\u001b[0m\u001b[0;34m)\u001b[0m\u001b[0;34m.\u001b[0m\u001b[0mfilterBounds\u001b[0m\u001b[0;34m(\u001b[0m\u001b[0mlistOfFeaturesFc\u001b[0m\u001b[0;34m)\u001b[0m\u001b[0;34m.\u001b[0m\u001b[0mmap\u001b[0m\u001b[0;34m(\u001b[0m\u001b[0mmaskL8sr\u001b[0m\u001b[0;34m)\u001b[0m\u001b[0;34m\u001b[0m\u001b[0;34m\u001b[0m\u001b[0m\n\u001b[0m\u001b[1;32m     24\u001b[0m \u001b[0mBUCKET\u001b[0m \u001b[0;34m=\u001b[0m \u001b[0;34m\"/content/drive/MyDrive/mapGAN/data\"\u001b[0m\u001b[0;34m\u001b[0m\u001b[0;34m\u001b[0m\u001b[0m\n\u001b[1;32m     25\u001b[0m \u001b[0mEPOCHS\u001b[0m \u001b[0;34m=\u001b[0m \u001b[0;36m100\u001b[0m\u001b[0;34m\u001b[0m\u001b[0;34m\u001b[0m\u001b[0m\n",
            "\u001b[0;31mNameError\u001b[0m: name 'l8sr' is not defined"
          ]
        }
      ],
      "source": [
        "from google.colab import drive\n",
        "drive.mount('/content/drive')\n",
        "\n",
        "FOLDER = 'fcnn-demo'\n",
        "TRAINING_BASE = 'training_patches'\n",
        "\n",
        "GENERATE_RES = 2 # Generation resolution factor \n",
        "# (1=32, 2=64, 3=96, 4=128, etc.)\n",
        "GENERATE_SQUARE = 32 * GENERATE_RES # rows/cols (should be square)\n",
        "IMAGE_CHANNELS = 3\n",
        "\n",
        "RESPONSE = 'impervious'\n",
        "\n",
        "# Preview image\n",
        "PREVIEW_ROWS = 2\n",
        "PREVIEW_COLS = 2\n",
        "PREVIEW_MARGIN = 16\n",
        "\n",
        "# Size vector to generate images from\n",
        "SEED_SIZE = 100\n",
        "\n",
        "# Configuration\n",
        "DATASET = l8sr.filterDate('2015-01-01', '2017-12-31').filterBounds(listOfFeaturesFc).map(maskL8sr)\n",
        "BUCKET = \"/content/drive/MyDrive/mapGAN/data\"\n",
        "EPOCHS = 100\n",
        "BATCH_SIZE = 16\n",
        "BUFFER_SIZE = 60000\n",
        "\n",
        "print(f\"Will generate {GENERATE_SQUARE}px square images.\")"
      ],
      "id": "0hYDC41ymmag"
    },
    {
      "cell_type": "code",
      "source": [
        "type(DATASET)"
      ],
      "metadata": {
        "id": "z5ehxgcqjDwO",
        "outputId": "242f46cc-d9a6-407f-a7b4-9384269a70a2",
        "colab": {
          "base_uri": "https://localhost:8080/"
        }
      },
      "id": "z5ehxgcqjDwO",
      "execution_count": null,
      "outputs": [
        {
          "output_type": "execute_result",
          "data": {
            "text/plain": [
              "ee.imagecollection.ImageCollection"
            ]
          },
          "metadata": {},
          "execution_count": 78
        }
      ]
    },
    {
      "cell_type": "code",
      "source": [
        "# Convert the feature collections to lists for iteration.\n",
        "TRAINING_DATA = parsed_dataset\n",
        "\n",
        "training_binary_path = os.path.join(OUTPUT_BUCKET,\n",
        "        f'training_data_{GENERATE_SQUARE}_{GENERATE_SQUARE}.npy')\n",
        "\n",
        "start = time.time()\n",
        "print(\"Loading training images...\")\n",
        "\n",
        "training_data = []\n",
        "\n",
        "# TODO This for loop keeps giving the error \"user memory exceeded\" even with Google Compute Units\n",
        "for filename in range(TRAINING_DATA.size().getInfo()):\n",
        "    path = os.path.join(BUCKET,filename)\n",
        "    image = Image.open(path).resize((GENERATE_SQUARE,\n",
        "          GENERATE_SQUARE),Image.ANTIALIAS)\n",
        "    training_data.append(np.asarray(image))\n",
        "training_data = np.reshape(training_data,(-1,GENERATE_SQUARE,\n",
        "          GENERATE_SQUARE,IMAGE_CHANNELS))\n",
        "training_data = training_data.astype(np.float32)\n",
        "training_data = training_data / 127.5 - 1.\n",
        "\n",
        "\n",
        "print(\"Saving training image binary...\")\n",
        "np.save(training_binary_path,training_data)\n",
        "elapsed = time.time()-start"
      ],
      "metadata": {
        "id": "dRXbrUNLiRhZ",
        "outputId": "038aba84-7040-47cb-9db4-ee4ea4f47e96",
        "colab": {
          "base_uri": "https://localhost:8080/",
          "height": 252
        }
      },
      "id": "dRXbrUNLiRhZ",
      "execution_count": null,
      "outputs": [
        {
          "output_type": "stream",
          "name": "stdout",
          "text": [
            "Loading training images...\n"
          ]
        },
        {
          "output_type": "error",
          "ename": "AttributeError",
          "evalue": "ignored",
          "traceback": [
            "\u001b[0;31m---------------------------------------------------------------------------\u001b[0m",
            "\u001b[0;31mAttributeError\u001b[0m                            Traceback (most recent call last)",
            "\u001b[0;32m<ipython-input-121-5e61c26f7ac0>\u001b[0m in \u001b[0;36m<module>\u001b[0;34m\u001b[0m\n\u001b[1;32m     11\u001b[0m \u001b[0;34m\u001b[0m\u001b[0m\n\u001b[1;32m     12\u001b[0m \u001b[0;31m# TODO This for loop keeps giving the error \"user memory exceeded\" even with Google Compute Units\u001b[0m\u001b[0;34m\u001b[0m\u001b[0;34m\u001b[0m\u001b[0;34m\u001b[0m\u001b[0m\n\u001b[0;32m---> 13\u001b[0;31m \u001b[0;32mfor\u001b[0m \u001b[0mfilename\u001b[0m \u001b[0;32min\u001b[0m \u001b[0mrange\u001b[0m\u001b[0;34m(\u001b[0m\u001b[0mTRAINING_DATA\u001b[0m\u001b[0;34m.\u001b[0m\u001b[0msize\u001b[0m\u001b[0;34m(\u001b[0m\u001b[0;34m)\u001b[0m\u001b[0;34m.\u001b[0m\u001b[0mgetInfo\u001b[0m\u001b[0;34m(\u001b[0m\u001b[0;34m)\u001b[0m\u001b[0;34m)\u001b[0m\u001b[0;34m:\u001b[0m\u001b[0;34m\u001b[0m\u001b[0;34m\u001b[0m\u001b[0m\n\u001b[0m\u001b[1;32m     14\u001b[0m     \u001b[0mpath\u001b[0m \u001b[0;34m=\u001b[0m \u001b[0mos\u001b[0m\u001b[0;34m.\u001b[0m\u001b[0mpath\u001b[0m\u001b[0;34m.\u001b[0m\u001b[0mjoin\u001b[0m\u001b[0;34m(\u001b[0m\u001b[0mBUCKET\u001b[0m\u001b[0;34m,\u001b[0m\u001b[0mfilename\u001b[0m\u001b[0;34m)\u001b[0m\u001b[0;34m\u001b[0m\u001b[0;34m\u001b[0m\u001b[0m\n\u001b[1;32m     15\u001b[0m     image = Image.open(path).resize((GENERATE_SQUARE,\n",
            "\u001b[0;31mAttributeError\u001b[0m: 'ParallelMapDataset' object has no attribute 'size'"
          ]
        }
      ]
    },
    {
      "cell_type": "code",
      "execution_count": null,
      "metadata": {
        "id": "guz-TjGHCC82"
      },
      "outputs": [],
      "source": [
        "def save_images(cnt,noise):\n",
        "  image_array = np.full(( \n",
        "      PREVIEW_MARGIN + (PREVIEW_ROWS * (GENERATE_SQUARE+PREVIEW_MARGIN)), \n",
        "      PREVIEW_MARGIN + (PREVIEW_COLS * (GENERATE_SQUARE+PREVIEW_MARGIN)), 3), \n",
        "      255, dtype=np.uint8)\n",
        "  \n",
        "  generated_images = generator.predict(noise)\n",
        "\n",
        "  generated_images = 0.5 * generated_images + 0.5\n",
        "\n",
        "  image_count = 0\n",
        "  for row in range(PREVIEW_ROWS):\n",
        "      for col in range(PREVIEW_COLS):\n",
        "        r = row * (GENERATE_SQUARE+16) + PREVIEW_MARGIN\n",
        "        c = col * (GENERATE_SQUARE+16) + PREVIEW_MARGIN\n",
        "        image_array[r:r+GENERATE_SQUARE,c:c+GENERATE_SQUARE] \\\n",
        "            = generated_images[image_count] * 255\n",
        "        image_count += 1\n",
        "\n",
        "          \n",
        "  output_path = os.path.join(BUCKET,'output')\n",
        "  if not os.path.exists(output_path):\n",
        "    os.makedirs(output_path)\n",
        "  \n",
        "  filename = os.path.join(output_path,f\"train-{cnt}.png\")\n",
        "  im = Image.fromarray(image_array)\n",
        "  im.save(filename)"
      ],
      "id": "guz-TjGHCC82"
    },
    {
      "cell_type": "code",
      "execution_count": null,
      "metadata": {
        "id": "9d1b4cb7-c9b8-4b3a-afb7-2953aa4e7524"
      },
      "outputs": [],
      "source": [
        "#building the generator\n",
        "def build_generator(seed_size, channels):\n",
        "    model = Sequential()\n",
        "\n",
        "    model.add(Dense(4*4*256,activation=\"relu\",input_dim=seed_size))\n",
        "    model.add(Reshape((4,4,256)))\n",
        "\n",
        "    model.add(UpSampling2D())\n",
        "    model.add(Conv2D(256,kernel_size=3,padding=\"same\"))\n",
        "    model.add(BatchNormalization(momentum=0.8))\n",
        "    model.add(Activation(\"relu\"))\n",
        "\n",
        "    model.add(UpSampling2D())\n",
        "    model.add(Conv2D(256,kernel_size=3,padding=\"same\"))\n",
        "    model.add(BatchNormalization(momentum=0.8))\n",
        "    model.add(Activation(\"relu\"))\n",
        "   \n",
        "    # Output resolution, additional upsampling\n",
        "    model.add(UpSampling2D())\n",
        "    model.add(Conv2D(128,kernel_size=3,padding=\"same\"))\n",
        "    model.add(BatchNormalization(momentum=0.8))\n",
        "    model.add(Activation(\"relu\"))\n",
        "\n",
        "    if GENERATE_RES>1:\n",
        "      model.add(UpSampling2D(size=(GENERATE_RES,GENERATE_RES)))\n",
        "      model.add(Conv2D(128,kernel_size=3,padding=\"same\"))\n",
        "      model.add(BatchNormalization(momentum=0.8))\n",
        "      model.add(Activation(\"relu\"))\n",
        "\n",
        "    # Final CNN layer\n",
        "    model.add(Conv2D(channels,kernel_size=3,padding=\"same\"))\n",
        "    model.add(Activation(\"tanh\"))\n",
        "\n",
        "    return model"
      ],
      "id": "9d1b4cb7-c9b8-4b3a-afb7-2953aa4e7524"
    },
    {
      "cell_type": "code",
      "execution_count": null,
      "metadata": {
        "id": "78e3a40e-9662-4e62-b2eb-26a178c9f956"
      },
      "outputs": [],
      "source": [
        "# \n",
        "def build_discriminator(image_shape):\n",
        "    model = Sequential()\n",
        "\n",
        "    model.add(Conv2D(32, kernel_size=3, strides=2, input_shape=image_shape, \n",
        "                     padding=\"same\"))\n",
        "    model.add(LeakyReLU(alpha=0.2))\n",
        "\n",
        "    model.add(Dropout(0.25))\n",
        "    model.add(Conv2D(64, kernel_size=3, strides=2, padding=\"same\"))\n",
        "    model.add(ZeroPadding2D(padding=((0,1),(0,1))))\n",
        "    model.add(BatchNormalization(momentum=0.8))\n",
        "    model.add(LeakyReLU(alpha=0.2))\n",
        "\n",
        "    model.add(Dropout(0.25))\n",
        "    model.add(Conv2D(128, kernel_size=3, strides=2, padding=\"same\"))\n",
        "    model.add(BatchNormalization(momentum=0.8))\n",
        "    model.add(LeakyReLU(alpha=0.2))\n",
        "\n",
        "    model.add(Dropout(0.25))\n",
        "    model.add(Conv2D(256, kernel_size=3, strides=1, padding=\"same\"))\n",
        "    model.add(BatchNormalization(momentum=0.8))\n",
        "    model.add(LeakyReLU(alpha=0.2))\n",
        "\n",
        "    model.add(Dropout(0.25))\n",
        "    model.add(Conv2D(512, kernel_size=3, strides=1, padding=\"same\"))\n",
        "    model.add(BatchNormalization(momentum=0.8))\n",
        "    model.add(LeakyReLU(alpha=0.2))\n",
        "\n",
        "    model.add(Dropout(0.25))\n",
        "    model.add(Flatten())\n",
        "    model.add(Dense(1, activation='sigmoid'))\n",
        "\n",
        "    return model"
      ],
      "id": "78e3a40e-9662-4e62-b2eb-26a178c9f956"
    },
    {
      "cell_type": "code",
      "execution_count": null,
      "metadata": {
        "colab": {
          "base_uri": "https://localhost:8080/",
          "height": 285
        },
        "id": "aQJwWrrVCq95",
        "outputId": "305c9770-6e26-4b17-9c1e-1fb83556fd9e"
      },
      "outputs": [
        {
          "name": "stdout",
          "output_type": "stream",
          "text": [
            "tf.Tensor([[0.5007379]], shape=(1, 1), dtype=float32)\n"
          ]
        },
        {
          "data": {
            "image/png": "[encoded data removed]",
            "text/plain": [
              "<Figure size 432x288 with 1 Axes>"
            ]
          },
          "metadata": {
            "needs_background": "light"
          },
          "output_type": "display_data"
        }
      ],
      "source": [
        "generator = build_generator(SEED_SIZE, IMAGE_CHANNELS)\n",
        "\n",
        "noise = tf.random.normal([1, SEED_SIZE])\n",
        "generated_image = generator(noise, training=False)\n",
        "\n",
        "plt.imshow(generated_image[0, :, :, 0])\n",
        "\n",
        "image_shape = (GENERATE_SQUARE,GENERATE_SQUARE,IMAGE_CHANNELS)\n",
        "\n",
        "discriminator = build_discriminator(image_shape)\n",
        "decision = discriminator(generated_image)\n",
        "print(decision)\n",
        "\n",
        "cross_entropy = tf.keras.losses.BinaryCrossentropy()\n",
        "\n",
        "#discriminator loss\n",
        "def discriminator_loss(real_output, fake_output):\n",
        "    real_loss = cross_entropy(tf.ones_like(real_output), real_output)\n",
        "    fake_loss = cross_entropy(tf.zeros_like(fake_output), fake_output)\n",
        "    total_loss = real_loss + fake_loss\n",
        "    return total_loss\n",
        "\n",
        "#generator loss\n",
        "def generator_loss(fake_output):\n",
        "    return cross_entropy(tf.ones_like(fake_output), fake_output)\n",
        "\n",
        "generator_optimizer = tf.keras.optimizers.Adam(1.5e-4,0.5)\n",
        "#generator_optimizer = tf.keras.optimizers.SGD(learning_rate=0.01)\n",
        "discriminator_optimizer = tf.keras.optimizers.Adam(1.5e-4,0.5)\n",
        "#discriminator_optimizer = tf.keras.optimizers.SGD(learning_rate=0.01)"
      ],
      "id": "aQJwWrrVCq95"
    },
    {
      "cell_type": "code",
      "execution_count": null,
      "metadata": {
        "colab": {
          "base_uri": "https://localhost:8080/"
        },
        "id": "21a36f25-f9ba-44b9-975f-c0e5a046445d",
        "outputId": "ba33e6da-72db-4b9a-ef22-17413347531e"
      },
      "outputs": [
        {
          "name": "stdout",
          "output_type": "stream",
          "text": [
            "Epoch 1, gen loss=0.9690646529197693,disc loss=1.5506353378295898, {hms_string(epoch_elapsed)}\n",
            "1/1 [==============================] - 0s 125ms/step\n",
            "Epoch 2, gen loss=1.2313545942306519,disc loss=1.3242579698562622, {hms_string(epoch_elapsed)}\n",
            "1/1 [==============================] - 0s 17ms/step\n",
            "Epoch 3, gen loss=0.9897303581237793,disc loss=1.3891716003417969, {hms_string(epoch_elapsed)}\n",
            "1/1 [==============================] - 0s 17ms/step\n",
            "Epoch 4, gen loss=1.120313286781311,disc loss=1.1489533185958862, {hms_string(epoch_elapsed)}\n",
            "1/1 [==============================] - 0s 18ms/step\n",
            "Epoch 5, gen loss=1.3530868291854858,disc loss=1.042638897895813, {hms_string(epoch_elapsed)}\n",
            "1/1 [==============================] - 0s 17ms/step\n",
            "Epoch 6, gen loss=1.598588466644287,disc loss=0.9105803370475769, {hms_string(epoch_elapsed)}\n",
            "1/1 [==============================] - 0s 18ms/step\n",
            "Epoch 7, gen loss=1.4682759046554565,disc loss=0.8695600032806396, {hms_string(epoch_elapsed)}\n",
            "1/1 [==============================] - 0s 18ms/step\n",
            "Epoch 8, gen loss=1.4976228475570679,disc loss=0.8597947955131531, {hms_string(epoch_elapsed)}\n",
            "1/1 [==============================] - 0s 17ms/step\n",
            "Epoch 9, gen loss=1.4500378370285034,disc loss=1.1135460138320923, {hms_string(epoch_elapsed)}\n",
            "1/1 [==============================] - 0s 18ms/step\n",
            "Epoch 10, gen loss=1.4466911554336548,disc loss=0.9903598427772522, {hms_string(epoch_elapsed)}\n",
            "1/1 [==============================] - 0s 17ms/step\n",
            "Epoch 11, gen loss=1.873997688293457,disc loss=0.893195390701294, {hms_string(epoch_elapsed)}\n",
            "1/1 [==============================] - 0s 17ms/step\n",
            "Epoch 12, gen loss=2.108203649520874,disc loss=0.7308006882667542, {hms_string(epoch_elapsed)}\n",
            "1/1 [==============================] - 0s 18ms/step\n",
            "Epoch 13, gen loss=1.6845957040786743,disc loss=0.9872525334358215, {hms_string(epoch_elapsed)}\n",
            "1/1 [==============================] - 0s 19ms/step\n",
            "Epoch 14, gen loss=1.356745719909668,disc loss=1.039070725440979, {hms_string(epoch_elapsed)}\n",
            "1/1 [==============================] - 0s 17ms/step\n",
            "Epoch 15, gen loss=1.6273612976074219,disc loss=1.320895791053772, {hms_string(epoch_elapsed)}\n",
            "1/1 [==============================] - 0s 17ms/step\n",
            "Epoch 16, gen loss=2.2725725173950195,disc loss=0.6347626447677612, {hms_string(epoch_elapsed)}\n",
            "1/1 [==============================] - 0s 18ms/step\n",
            "Epoch 17, gen loss=2.40303635597229,disc loss=0.3923647403717041, {hms_string(epoch_elapsed)}\n",
            "1/1 [==============================] - 0s 18ms/step\n",
            "Epoch 18, gen loss=1.7788114547729492,disc loss=0.9850500226020813, {hms_string(epoch_elapsed)}\n",
            "1/1 [==============================] - 0s 17ms/step\n",
            "Epoch 19, gen loss=1.9655085802078247,disc loss=0.7757981419563293, {hms_string(epoch_elapsed)}\n",
            "1/1 [==============================] - 0s 17ms/step\n",
            "Epoch 20, gen loss=2.478353261947632,disc loss=0.5118444561958313, {hms_string(epoch_elapsed)}\n",
            "1/1 [==============================] - 0s 17ms/step\n",
            "Epoch 21, gen loss=2.4546079635620117,disc loss=0.4735827147960663, {hms_string(epoch_elapsed)}\n",
            "1/1 [==============================] - 0s 18ms/step\n",
            "Epoch 22, gen loss=1.9586998224258423,disc loss=0.496337890625, {hms_string(epoch_elapsed)}\n",
            "1/1 [==============================] - 0s 18ms/step\n",
            "Epoch 23, gen loss=2.2694053649902344,disc loss=0.6240302920341492, {hms_string(epoch_elapsed)}\n",
            "1/1 [==============================] - 0s 18ms/step\n",
            "Epoch 24, gen loss=2.4953391551971436,disc loss=0.4738253653049469, {hms_string(epoch_elapsed)}\n",
            "1/1 [==============================] - 0s 18ms/step\n",
            "Epoch 25, gen loss=2.3505399227142334,disc loss=0.5305848717689514, {hms_string(epoch_elapsed)}\n",
            "1/1 [==============================] - 0s 18ms/step\n",
            "Epoch 26, gen loss=2.8447606563568115,disc loss=0.3991447985172272, {hms_string(epoch_elapsed)}\n",
            "1/1 [==============================] - 0s 18ms/step\n",
            "Epoch 27, gen loss=2.854862928390503,disc loss=0.40306511521339417, {hms_string(epoch_elapsed)}\n",
            "1/1 [==============================] - 0s 19ms/step\n",
            "Epoch 28, gen loss=2.183180093765259,disc loss=0.4947153329849243, {hms_string(epoch_elapsed)}\n",
            "1/1 [==============================] - 0s 17ms/step\n",
            "Epoch 29, gen loss=2.2094333171844482,disc loss=0.6927172541618347, {hms_string(epoch_elapsed)}\n",
            "1/1 [==============================] - 0s 18ms/step\n",
            "Epoch 30, gen loss=2.8431107997894287,disc loss=0.5383955836296082, {hms_string(epoch_elapsed)}\n",
            "1/1 [==============================] - 0s 17ms/step\n",
            "Epoch 31, gen loss=3.449281692504883,disc loss=0.3243270218372345, {hms_string(epoch_elapsed)}\n",
            "1/1 [==============================] - 0s 18ms/step\n",
            "Epoch 32, gen loss=2.490574359893799,disc loss=0.353128582239151, {hms_string(epoch_elapsed)}\n",
            "1/1 [==============================] - 0s 18ms/step\n",
            "Epoch 33, gen loss=3.261054039001465,disc loss=0.516706645488739, {hms_string(epoch_elapsed)}\n",
            "1/1 [==============================] - 0s 17ms/step\n",
            "Epoch 34, gen loss=2.688596487045288,disc loss=0.31389907002449036, {hms_string(epoch_elapsed)}\n",
            "1/1 [==============================] - 0s 17ms/step\n",
            "Epoch 35, gen loss=2.8129169940948486,disc loss=0.36701104044914246, {hms_string(epoch_elapsed)}\n",
            "1/1 [==============================] - 0s 18ms/step\n",
            "Epoch 36, gen loss=3.357654571533203,disc loss=0.3557400405406952, {hms_string(epoch_elapsed)}\n",
            "1/1 [==============================] - 0s 17ms/step\n",
            "Epoch 37, gen loss=2.253446340560913,disc loss=0.4756418466567993, {hms_string(epoch_elapsed)}\n",
            "1/1 [==============================] - 0s 18ms/step\n",
            "Epoch 38, gen loss=3.7776801586151123,disc loss=0.3639504909515381, {hms_string(epoch_elapsed)}\n",
            "1/1 [==============================] - 0s 18ms/step\n",
            "Epoch 39, gen loss=2.6002321243286133,disc loss=0.34019216895103455, {hms_string(epoch_elapsed)}\n",
            "1/1 [==============================] - 0s 19ms/step\n",
            "Epoch 40, gen loss=3.2696940898895264,disc loss=0.4217710494995117, {hms_string(epoch_elapsed)}\n",
            "1/1 [==============================] - 0s 17ms/step\n",
            "Epoch 41, gen loss=3.2409114837646484,disc loss=0.34899473190307617, {hms_string(epoch_elapsed)}\n",
            "1/1 [==============================] - 0s 17ms/step\n",
            "Epoch 42, gen loss=4.322072505950928,disc loss=0.18919877707958221, {hms_string(epoch_elapsed)}\n",
            "1/1 [==============================] - 0s 18ms/step\n",
            "Epoch 43, gen loss=2.745295524597168,disc loss=0.32007646560668945, {hms_string(epoch_elapsed)}\n",
            "1/1 [==============================] - 0s 18ms/step\n",
            "Epoch 44, gen loss=2.748699426651001,disc loss=0.5425631999969482, {hms_string(epoch_elapsed)}\n",
            "1/1 [==============================] - 0s 17ms/step\n",
            "Epoch 45, gen loss=2.9180870056152344,disc loss=0.2648283541202545, {hms_string(epoch_elapsed)}\n",
            "1/1 [==============================] - 0s 17ms/step\n",
            "Epoch 46, gen loss=3.43232798576355,disc loss=0.2662251889705658, {hms_string(epoch_elapsed)}\n",
            "1/1 [==============================] - 0s 17ms/step\n",
            "Epoch 47, gen loss=3.591944456100464,disc loss=0.21963946521282196, {hms_string(epoch_elapsed)}\n",
            "1/1 [==============================] - 0s 18ms/step\n",
            "Epoch 48, gen loss=4.421166896820068,disc loss=0.2452460527420044, {hms_string(epoch_elapsed)}\n",
            "1/1 [==============================] - 0s 18ms/step\n",
            "Epoch 49, gen loss=3.213942527770996,disc loss=0.22402256727218628, {hms_string(epoch_elapsed)}\n",
            "1/1 [==============================] - 0s 17ms/step\n",
            "Epoch 50, gen loss=4.327331066131592,disc loss=0.09648510068655014, {hms_string(epoch_elapsed)}\n",
            "1/1 [==============================] - 0s 17ms/step\n",
            "Epoch 51, gen loss=3.9535224437713623,disc loss=0.1746010035276413, {hms_string(epoch_elapsed)}\n",
            "1/1 [==============================] - 0s 18ms/step\n",
            "Epoch 52, gen loss=3.4782521724700928,disc loss=0.2727150619029999, {hms_string(epoch_elapsed)}\n",
            "1/1 [==============================] - 0s 18ms/step\n",
            "Epoch 53, gen loss=3.331441640853882,disc loss=0.30103960633277893, {hms_string(epoch_elapsed)}\n",
            "1/1 [==============================] - 0s 17ms/step\n",
            "Epoch 54, gen loss=3.2691733837127686,disc loss=0.413925439119339, {hms_string(epoch_elapsed)}\n",
            "1/1 [==============================] - 0s 17ms/step\n",
            "Epoch 55, gen loss=4.202709197998047,disc loss=0.17318342626094818, {hms_string(epoch_elapsed)}\n",
            "1/1 [==============================] - 0s 17ms/step\n",
            "Epoch 56, gen loss=3.3711535930633545,disc loss=0.2320704460144043, {hms_string(epoch_elapsed)}\n",
            "1/1 [==============================] - 0s 17ms/step\n",
            "Epoch 57, gen loss=3.7210819721221924,disc loss=0.2118629366159439, {hms_string(epoch_elapsed)}\n",
            "1/1 [==============================] - 0s 17ms/step\n",
            "Epoch 58, gen loss=3.3286168575286865,disc loss=0.21913905441761017, {hms_string(epoch_elapsed)}\n",
            "1/1 [==============================] - 0s 18ms/step\n",
            "Epoch 59, gen loss=3.6569454669952393,disc loss=0.24646003544330597, {hms_string(epoch_elapsed)}\n",
            "1/1 [==============================] - 0s 18ms/step\n",
            "Epoch 60, gen loss=3.8760623931884766,disc loss=0.32434582710266113, {hms_string(epoch_elapsed)}\n",
            "1/1 [==============================] - 0s 18ms/step\n",
            "Epoch 61, gen loss=3.3617851734161377,disc loss=0.24427072703838348, {hms_string(epoch_elapsed)}\n",
            "1/1 [==============================] - 0s 18ms/step\n",
            "Epoch 62, gen loss=4.4980058670043945,disc loss=0.2210461050271988, {hms_string(epoch_elapsed)}\n",
            "1/1 [==============================] - 0s 19ms/step\n",
            "Epoch 63, gen loss=3.396225929260254,disc loss=0.16418494284152985, {hms_string(epoch_elapsed)}\n",
            "1/1 [==============================] - 0s 18ms/step\n",
            "Epoch 64, gen loss=4.408715724945068,disc loss=0.20591934025287628, {hms_string(epoch_elapsed)}\n",
            "1/1 [==============================] - 0s 17ms/step\n",
            "Epoch 65, gen loss=3.5037574768066406,disc loss=0.29181167483329773, {hms_string(epoch_elapsed)}\n",
            "1/1 [==============================] - 0s 17ms/step\n",
            "Epoch 66, gen loss=3.5458147525787354,disc loss=0.15589763224124908, {hms_string(epoch_elapsed)}\n",
            "1/1 [==============================] - 0s 18ms/step\n",
            "Epoch 67, gen loss=4.021970272064209,disc loss=0.15526846051216125, {hms_string(epoch_elapsed)}\n",
            "1/1 [==============================] - 0s 18ms/step\n",
            "Epoch 68, gen loss=4.388981342315674,disc loss=0.14111854135990143, {hms_string(epoch_elapsed)}\n",
            "1/1 [==============================] - 0s 17ms/step\n",
            "Epoch 69, gen loss=4.391716957092285,disc loss=0.21969063580036163, {hms_string(epoch_elapsed)}\n",
            "1/1 [==============================] - 0s 17ms/step\n",
            "Epoch 70, gen loss=3.878324508666992,disc loss=0.170218825340271, {hms_string(epoch_elapsed)}\n",
            "1/1 [==============================] - 0s 17ms/step\n",
            "Epoch 71, gen loss=4.636777400970459,disc loss=0.10686365514993668, {hms_string(epoch_elapsed)}\n",
            "1/1 [==============================] - 0s 18ms/step\n",
            "Epoch 72, gen loss=3.6017067432403564,disc loss=0.2753092646598816, {hms_string(epoch_elapsed)}\n",
            "1/1 [==============================] - 0s 17ms/step\n",
            "Epoch 73, gen loss=4.009981155395508,disc loss=0.24285443127155304, {hms_string(epoch_elapsed)}\n",
            "1/1 [==============================] - 0s 18ms/step\n",
            "Epoch 74, gen loss=4.302079677581787,disc loss=0.1224159300327301, {hms_string(epoch_elapsed)}\n",
            "1/1 [==============================] - 0s 17ms/step\n",
            "Epoch 75, gen loss=4.204625606536865,disc loss=0.15704476833343506, {hms_string(epoch_elapsed)}\n",
            "1/1 [==============================] - 0s 18ms/step\n",
            "Epoch 76, gen loss=3.743008852005005,disc loss=0.11768142133951187, {hms_string(epoch_elapsed)}\n",
            "1/1 [==============================] - 0s 17ms/step\n",
            "Epoch 77, gen loss=3.7091877460479736,disc loss=0.34099650382995605, {hms_string(epoch_elapsed)}\n",
            "1/1 [==============================] - 0s 18ms/step\n",
            "Epoch 78, gen loss=3.3496646881103516,disc loss=0.2105158418416977, {hms_string(epoch_elapsed)}\n",
            "1/1 [==============================] - 0s 18ms/step\n",
            "Epoch 79, gen loss=3.4191038608551025,disc loss=0.23336315155029297, {hms_string(epoch_elapsed)}\n",
            "1/1 [==============================] - 0s 17ms/step\n",
            "Epoch 80, gen loss=4.1371684074401855,disc loss=0.27522197365760803, {hms_string(epoch_elapsed)}\n",
            "1/1 [==============================] - 0s 18ms/step\n",
            "Epoch 81, gen loss=3.339771270751953,disc loss=0.5041891932487488, {hms_string(epoch_elapsed)}\n",
            "1/1 [==============================] - 0s 17ms/step\n",
            "Epoch 82, gen loss=3.107881546020508,disc loss=0.2917790114879608, {hms_string(epoch_elapsed)}\n",
            "1/1 [==============================] - 0s 19ms/step\n",
            "Epoch 83, gen loss=3.8327534198760986,disc loss=0.43497511744499207, {hms_string(epoch_elapsed)}\n",
            "1/1 [==============================] - 0s 30ms/step\n",
            "Epoch 84, gen loss=3.4129772186279297,disc loss=0.4635935127735138, {hms_string(epoch_elapsed)}\n",
            "1/1 [==============================] - 0s 19ms/step\n",
            "Epoch 85, gen loss=3.923030138015747,disc loss=0.4494967460632324, {hms_string(epoch_elapsed)}\n",
            "1/1 [==============================] - 0s 18ms/step\n",
            "Epoch 86, gen loss=2.88470458984375,disc loss=0.37581667304039, {hms_string(epoch_elapsed)}\n",
            "1/1 [==============================] - 0s 18ms/step\n",
            "Epoch 87, gen loss=3.760192632675171,disc loss=0.24959588050842285, {hms_string(epoch_elapsed)}\n",
            "1/1 [==============================] - 0s 17ms/step\n",
            "Epoch 88, gen loss=3.533986806869507,disc loss=0.6184847354888916, {hms_string(epoch_elapsed)}\n",
            "1/1 [==============================] - 0s 18ms/step\n",
            "Epoch 89, gen loss=2.843703031539917,disc loss=0.2698400914669037, {hms_string(epoch_elapsed)}\n",
            "1/1 [==============================] - 0s 17ms/step\n",
            "Epoch 90, gen loss=3.3836984634399414,disc loss=0.7738849520683289, {hms_string(epoch_elapsed)}\n",
            "1/1 [==============================] - 0s 18ms/step\n",
            "Epoch 91, gen loss=3.1398074626922607,disc loss=0.43803322315216064, {hms_string(epoch_elapsed)}\n",
            "1/1 [==============================] - 0s 18ms/step\n",
            "Epoch 92, gen loss=3.0963714122772217,disc loss=0.9169330596923828, {hms_string(epoch_elapsed)}\n",
            "1/1 [==============================] - 0s 18ms/step\n",
            "Epoch 93, gen loss=2.978200912475586,disc loss=0.5557733178138733, {hms_string(epoch_elapsed)}\n",
            "1/1 [==============================] - 0s 18ms/step\n",
            "Epoch 94, gen loss=2.9609291553497314,disc loss=0.48697447776794434, {hms_string(epoch_elapsed)}\n",
            "1/1 [==============================] - 0s 18ms/step\n",
            "Epoch 95, gen loss=2.962773084640503,disc loss=0.5994094014167786, {hms_string(epoch_elapsed)}\n",
            "1/1 [==============================] - 0s 18ms/step\n",
            "Epoch 96, gen loss=2.3822147846221924,disc loss=0.5155571103096008, {hms_string(epoch_elapsed)}\n",
            "1/1 [==============================] - 0s 17ms/step\n",
            "Epoch 97, gen loss=2.2961153984069824,disc loss=0.8535674214363098, {hms_string(epoch_elapsed)}\n",
            "1/1 [==============================] - 0s 19ms/step\n",
            "Epoch 98, gen loss=3.4713027477264404,disc loss=0.5818032622337341, {hms_string(epoch_elapsed)}\n",
            "1/1 [==============================] - 0s 19ms/step\n",
            "Epoch 99, gen loss=1.819685935974121,disc loss=0.9185237884521484, {hms_string(epoch_elapsed)}\n",
            "1/1 [==============================] - 0s 19ms/step\n",
            "Epoch 100, gen loss=3.3797647953033447,disc loss=0.6393483281135559, {hms_string(epoch_elapsed)}\n",
            "1/1 [==============================] - 0s 17ms/step\n",
            "Training time: 0:00:13.01\n"
          ]
        }
      ],
      "source": [
        "#from https://www.tensorflow.org/tutorials/generative/dcgan\n",
        "#using pre-compiling\n",
        "@tf.function\n",
        "def train_step(images):\n",
        "  seed = tf.random.normal([BATCH_SIZE, SEED_SIZE])\n",
        "\n",
        "  with tf.GradientTape() as gen_tape, tf.GradientTape() as disc_tape:\n",
        "    generated_images = generator(seed, training=True)\n",
        "\n",
        "    real_output = discriminator(images, training=True)\n",
        "    fake_output = discriminator(generated_images, training=True)\n",
        "\n",
        "    gen_loss = generator_loss(fake_output)\n",
        "    disc_loss = discriminator_loss(real_output, fake_output)\n",
        "    \n",
        "\n",
        "    gradients_of_generator = gen_tape.gradient(\\\n",
        "        gen_loss, generator.trainable_variables)\n",
        "    gradients_of_discriminator = disc_tape.gradient(\\\n",
        "        disc_loss, discriminator.trainable_variables)\n",
        "\n",
        "    generator_optimizer.apply_gradients(zip(\n",
        "        gradients_of_generator, generator.trainable_variables))\n",
        "    discriminator_optimizer.apply_gradients(zip(\n",
        "        gradients_of_discriminator, \n",
        "        discriminator.trainable_variables))\n",
        "  return gen_loss,disc_loss\n",
        "\n",
        "#training \n",
        "def train(dataset, epochs):\n",
        "  fixed_seed = np.random.normal(0, 1, (PREVIEW_ROWS * PREVIEW_COLS, \n",
        "                                       SEED_SIZE))\n",
        "  start = time.time()\n",
        "\n",
        "  for epoch in range(epochs):\n",
        "    epoch_start = time.time()\n",
        "\n",
        "    gen_loss_list = []\n",
        "    disc_loss_list = []\n",
        "\n",
        "    for image_batch in dataset:\n",
        "      t = train_step(image_batch)\n",
        "      gen_loss_list.append(t[0])\n",
        "      disc_loss_list.append(t[1])\n",
        "\n",
        "    g_loss = sum(gen_loss_list) / len(gen_loss_list)\n",
        "    d_loss = sum(disc_loss_list) / len(disc_loss_list)\n",
        "\n",
        "    epoch_elapsed = time.time()-epoch_start\n",
        "    print (f'Epoch {epoch+1}, gen loss={g_loss},disc loss={d_loss},'\\\n",
        "           ' {hms_string(epoch_elapsed)}')\n",
        "    save_images(epoch,fixed_seed)\n",
        "\n",
        "  elapsed = time.time()-start\n",
        "  print (f'Training time: {hms_string(elapsed)}')\n",
        "\n",
        "train(train_dataset, EPOCHS)"
      ],
      "id": "21a36f25-f9ba-44b9-975f-c0e5a046445d"
    },
    {
      "cell_type": "code",
      "source": [
        "# Save the model\n",
        "generator.save('generator.h5')\n",
        "discriminator.save('discriminator.h5')"
      ],
      "metadata": {
        "id": "kwvfcHF6dh1_"
      },
      "id": "kwvfcHF6dh1_",
      "execution_count": null,
      "outputs": []
    }
  ],
  "metadata": {
    "kernelspec": {
      "display_name": "Python 3",
      "language": "python",
      "name": "python3"
    },
    "colab": {
      "provenance": []
    },
    "widgets": {
      "application/vnd.jupyter.widget-state+json": {
        "5c39fe715f4045f38fde05576080858e": {
          "model_module": "jupyter-leaflet",
          "model_name": "LeafletMapModel",
          "model_module_version": "^0.17",
          "state": {
            "_dom_classes": [],
            "_model_module": "jupyter-leaflet",
            "_model_module_version": "^0.17",
            "_model_name": "LeafletMapModel",
            "_view_count": null,
            "_view_module": "jupyter-leaflet",
            "_view_module_version": "^0.17",
            "_view_name": "LeafletMapView",
            "bottom": 103793,
            "bounce_at_zoom_limits": true,
            "box_zoom": true,
            "center": [
              35.383451974194934,
              139.41925048828128
            ],
            "close_popup_on_click": true,
            "controls": [
              "IPY_MODEL_f63cd70eb8f9413ea3554a9b9d6e262f",
              "IPY_MODEL_33b62d0077de4f259dbe863e921644ac",
              "IPY_MODEL_6c00fa9211b54888a7ba5ae0799a8cdd",
              "IPY_MODEL_e84fe1423ee44b0da654d3a0a0c23149",
              "IPY_MODEL_d2da6572308e40c8879f09455014c790",
              "IPY_MODEL_874f3255709e4f238e8c64c6fcad6f8b",
              "IPY_MODEL_3448cf1c72f54892ba5dbd2e3117ae0d",
              "IPY_MODEL_2ce31e0eba1a41799311972b27cf7d7f"
            ],
            "crs": {
              "name": "EPSG3857",
              "custom": false
            },
            "default_style": "IPY_MODEL_a285507a5b5a41c992f018fe2ec8715c",
            "double_click_zoom": true,
            "dragging": true,
            "dragging_style": "IPY_MODEL_514816161d7c40efbc4f8fa1eccdc4b0",
            "east": 139.99053955078128,
            "fullscreen": false,
            "inertia": true,
            "inertia_deceleration": 3000,
            "inertia_max_speed": 1500,
            "interpolation": "bilinear",
            "keyboard": true,
            "keyboard_pan_offset": 80,
            "keyboard_zoom_offset": 1,
            "layers": [
              "IPY_MODEL_19fb8c9e539f4d0f9565ca3280d897b7",
              "IPY_MODEL_e6520749c9d740c69a61009a56f33ae6",
              "IPY_MODEL_bcaf50f45e86498bacafbe5669518e88"
            ],
            "layout": "IPY_MODEL_572003dce8524d43a19f6576d2f4adda",
            "left": 232178,
            "max_zoom": 24,
            "min_zoom": null,
            "modisdate": "2022-12-07",
            "north": 35.7186429809343,
            "options": [
              "bounce_at_zoom_limits",
              "box_zoom",
              "center",
              "close_popup_on_click",
              "double_click_zoom",
              "dragging",
              "fullscreen",
              "inertia",
              "inertia_deceleration",
              "inertia_max_speed",
              "interpolation",
              "keyboard",
              "keyboard_pan_offset",
              "keyboard_zoom_offset",
              "max_zoom",
              "min_zoom",
              "prefer_canvas",
              "scroll_wheel_zoom",
              "tap",
              "tap_tolerance",
              "touch_zoom",
              "world_copy_jump",
              "zoom",
              "zoom_animation_threshold",
              "zoom_delta",
              "zoom_snap"
            ],
            "panes": {},
            "prefer_canvas": false,
            "right": 233010,
            "scroll_wheel_zoom": true,
            "south": 35.046862452490686,
            "style": "IPY_MODEL_a285507a5b5a41c992f018fe2ec8715c",
            "tap": true,
            "tap_tolerance": 15,
            "top": 103193,
            "touch_zoom": true,
            "west": 138.84796142578128,
            "window_url": "https://m1kygpf6bc-496ff2e9c6d22116-0-colab.googleusercontent.com/outputframe.html?vrz=colab-20221206-060108-RC00_493246498",
            "world_copy_jump": false,
            "zoom": 10,
            "zoom_animation_threshold": 4,
            "zoom_delta": 1,
            "zoom_snap": 1
          }
        },
        "f63cd70eb8f9413ea3554a9b9d6e262f": {
          "model_module": "jupyter-leaflet",
          "model_name": "LeafletWidgetControlModel",
          "model_module_version": "^0.17",
          "state": {
            "_model_module": "jupyter-leaflet",
            "_model_module_version": "^0.17",
            "_model_name": "LeafletWidgetControlModel",
            "_view_count": null,
            "_view_module": "jupyter-leaflet",
            "_view_module_version": "^0.17",
            "_view_name": "LeafletWidgetControlView",
            "max_height": null,
            "max_width": null,
            "min_height": null,
            "min_width": null,
            "options": [
              "position",
              "transparent_bg"
            ],
            "position": "topleft",
            "transparent_bg": false,
            "widget": "IPY_MODEL_0e25e982961d45deb772630d62e9e482"
          }
        },
        "33b62d0077de4f259dbe863e921644ac": {
          "model_module": "jupyter-leaflet",
          "model_name": "LeafletZoomControlModel",
          "model_module_version": "^0.17",
          "state": {
            "_model_module": "jupyter-leaflet",
            "_model_module_version": "^0.17",
            "_model_name": "LeafletZoomControlModel",
            "_view_count": null,
            "_view_module": "jupyter-leaflet",
            "_view_module_version": "^0.17",
            "_view_name": "LeafletZoomControlView",
            "options": [
              "position",
              "zoom_in_text",
              "zoom_in_title",
              "zoom_out_text",
              "zoom_out_title"
            ],
            "position": "topleft",
            "zoom_in_text": "+",
            "zoom_in_title": "Zoom in",
            "zoom_out_text": "-",
            "zoom_out_title": "Zoom out"
          }
        },
        "6c00fa9211b54888a7ba5ae0799a8cdd": {
          "model_module": "jupyter-leaflet",
          "model_name": "LeafletScaleControlModel",
          "model_module_version": "^0.17",
          "state": {
            "_model_module": "jupyter-leaflet",
            "_model_module_version": "^0.17",
            "_model_name": "LeafletScaleControlModel",
            "_view_count": null,
            "_view_module": "jupyter-leaflet",
            "_view_module_version": "^0.17",
            "_view_name": "LeafletScaleControlView",
            "imperial": true,
            "max_width": 100,
            "metric": true,
            "options": [
              "imperial",
              "max_width",
              "metric",
              "position",
              "update_when_idle"
            ],
            "position": "bottomleft",
            "update_when_idle": false
          }
        },
        "e84fe1423ee44b0da654d3a0a0c23149": {
          "model_module": "jupyter-leaflet",
          "model_name": "LeafletFullScreenControlModel",
          "model_module_version": "^0.17",
          "state": {
            "_model_module": "jupyter-leaflet",
            "_model_module_version": "^0.17",
            "_model_name": "LeafletFullScreenControlModel",
            "_view_count": null,
            "_view_module": "jupyter-leaflet",
            "_view_module_version": "^0.17",
            "_view_name": "LeafletFullScreenControlView",
            "options": [
              "position"
            ],
            "position": "topleft"
          }
        },
        "d2da6572308e40c8879f09455014c790": {
          "model_module": "jupyter-leaflet",
          "model_name": "LeafletMeasureControlModel",
          "model_module_version": "^0.17",
          "state": {
            "_custom_units": {},
            "_model_module": "jupyter-leaflet",
            "_model_module_version": "^0.17",
            "_model_name": "LeafletMeasureControlModel",
            "_view_count": null,
            "_view_module": "jupyter-leaflet",
            "_view_module_version": "^0.17",
            "_view_name": "LeafletMeasureControlView",
            "active_color": "orange",
            "capture_z_index": 10000,
            "completed_color": "#C8F2BE",
            "options": [
              "active_color",
              "capture_z_index",
              "completed_color",
              "popup_options",
              "position",
              "primary_area_unit",
              "primary_length_unit",
              "secondary_area_unit",
              "secondary_length_unit"
            ],
            "popup_options": {
              "className": "leaflet-measure-resultpopup",
              "autoPanPadding": [
                10,
                10
              ]
            },
            "position": "bottomleft",
            "primary_area_unit": "acres",
            "primary_length_unit": "kilometers",
            "secondary_area_unit": null,
            "secondary_length_unit": null
          }
        },
        "874f3255709e4f238e8c64c6fcad6f8b": {
          "model_module": "jupyter-leaflet",
          "model_name": "LeafletAttributionControlModel",
          "model_module_version": "^0.17",
          "state": {
            "_model_module": "jupyter-leaflet",
            "_model_module_version": "^0.17",
            "_model_name": "LeafletAttributionControlModel",
            "_view_count": null,
            "_view_module": "jupyter-leaflet",
            "_view_module_version": "^0.17",
            "_view_name": "LeafletAttributionControlView",
            "options": [
              "position",
              "prefix"
            ],
            "position": "bottomright",
            "prefix": "ipyleaflet"
          }
        },
        "3448cf1c72f54892ba5dbd2e3117ae0d": {
          "model_module": "jupyter-leaflet",
          "model_name": "LeafletDrawControlModel",
          "model_module_version": "^0.17",
          "state": {
            "_model_module": "jupyter-leaflet",
            "_model_module_version": "^0.17",
            "_model_name": "LeafletDrawControlModel",
            "_view_count": null,
            "_view_module": "jupyter-leaflet",
            "_view_module_version": "^0.17",
            "_view_name": "LeafletDrawControlView",
            "circle": {
              "shapeOptions": {
                "color": "#3388ff"
              }
            },
            "circlemarker": {},
            "data": [],
            "edit": true,
            "marker": {
              "shapeOptions": {
                "color": "#3388ff"
              }
            },
            "options": [
              "position"
            ],
            "polygon": {
              "shapeOptions": {}
            },
            "polyline": {
              "shapeOptions": {}
            },
            "position": "topleft",
            "rectangle": {
              "shapeOptions": {
                "color": "#3388ff"
              }
            },
            "remove": true
          }
        },
        "2ce31e0eba1a41799311972b27cf7d7f": {
          "model_module": "jupyter-leaflet",
          "model_name": "LeafletWidgetControlModel",
          "model_module_version": "^0.17",
          "state": {
            "_model_module": "jupyter-leaflet",
            "_model_module_version": "^0.17",
            "_model_name": "LeafletWidgetControlModel",
            "_view_count": null,
            "_view_module": "jupyter-leaflet",
            "_view_module_version": "^0.17",
            "_view_name": "LeafletWidgetControlView",
            "max_height": null,
            "max_width": null,
            "min_height": null,
            "min_width": null,
            "options": [
              "position",
              "transparent_bg"
            ],
            "position": "topright",
            "transparent_bg": false,
            "widget": "IPY_MODEL_076e90aab219421e93527dfacdbb8fb7"
          }
        },
        "a285507a5b5a41c992f018fe2ec8715c": {
          "model_module": "jupyter-leaflet",
          "model_name": "LeafletMapStyleModel",
          "model_module_version": "^0.17",
          "state": {
            "_model_module": "jupyter-leaflet",
            "_model_module_version": "^0.17",
            "_model_name": "LeafletMapStyleModel",
            "_view_count": null,
            "_view_module": "@jupyter-widgets/base",
            "_view_module_version": "1.2.0",
            "_view_name": "StyleView",
            "cursor": "grab"
          }
        },
        "514816161d7c40efbc4f8fa1eccdc4b0": {
          "model_module": "jupyter-leaflet",
          "model_name": "LeafletMapStyleModel",
          "model_module_version": "^0.17",
          "state": {
            "_model_module": "jupyter-leaflet",
            "_model_module_version": "^0.17",
            "_model_name": "LeafletMapStyleModel",
            "_view_count": null,
            "_view_module": "@jupyter-widgets/base",
            "_view_module_version": "1.2.0",
            "_view_name": "StyleView",
            "cursor": "move"
          }
        },
        "19fb8c9e539f4d0f9565ca3280d897b7": {
          "model_module": "jupyter-leaflet",
          "model_name": "LeafletTileLayerModel",
          "model_module_version": "^0.17",
          "state": {
            "_model_module": "jupyter-leaflet",
            "_model_module_version": "^0.17",
            "_model_name": "LeafletTileLayerModel",
            "_view_count": null,
            "_view_module": "jupyter-leaflet",
            "_view_module_version": "^0.17",
            "_view_name": "LeafletTileLayerView",
            "attribution": "&copy; <a href=\"https://www.openstreetmap.org/copyright\">OpenStreetMap</a> contributors",
            "base": true,
            "bottom": true,
            "bounds": null,
            "detect_retina": false,
            "loading": false,
            "max_native_zoom": null,
            "max_zoom": 19,
            "min_native_zoom": null,
            "min_zoom": 1,
            "name": "OpenStreetMap.Mapnik",
            "no_wrap": false,
            "opacity": 1,
            "options": [
              "attribution",
              "bounds",
              "detect_retina",
              "max_native_zoom",
              "max_zoom",
              "min_native_zoom",
              "min_zoom",
              "no_wrap",
              "tile_size",
              "tms",
              "zoom_offset"
            ],
            "pane": "",
            "popup": null,
            "popup_max_height": null,
            "popup_max_width": 300,
            "popup_min_width": 50,
            "show_loading": false,
            "subitems": [],
            "tile_size": 256,
            "tms": false,
            "url": "https://tile.openstreetmap.org/{z}/{x}/{y}.png",
            "visible": true,
            "zoom_offset": 0
          }
        },
        "e6520749c9d740c69a61009a56f33ae6": {
          "model_module": "jupyter-leaflet",
          "model_name": "LeafletTileLayerModel",
          "model_module_version": "^0.17",
          "state": {
            "_model_module": "jupyter-leaflet",
            "_model_module_version": "^0.17",
            "_model_name": "LeafletTileLayerModel",
            "_view_count": null,
            "_view_module": "jupyter-leaflet",
            "_view_module_version": "^0.17",
            "_view_name": "LeafletTileLayerView",
            "attribution": "Google",
            "base": false,
            "bottom": true,
            "bounds": null,
            "detect_retina": false,
            "loading": false,
            "max_native_zoom": null,
            "max_zoom": 22,
            "min_native_zoom": null,
            "min_zoom": 0,
            "name": "Google Maps",
            "no_wrap": false,
            "opacity": 1,
            "options": [
              "attribution",
              "bounds",
              "detect_retina",
              "max_native_zoom",
              "max_zoom",
              "min_native_zoom",
              "min_zoom",
              "no_wrap",
              "tile_size",
              "tms",
              "zoom_offset"
            ],
            "pane": "",
            "popup": null,
            "popup_max_height": null,
            "popup_max_width": 300,
            "popup_min_width": 50,
            "show_loading": false,
            "subitems": [],
            "tile_size": 256,
            "tms": false,
            "url": "https://mt1.google.com/vt/lyrs=m&x={x}&y={y}&z={z}",
            "visible": true,
            "zoom_offset": 0
          }
        },
        "bcaf50f45e86498bacafbe5669518e88": {
          "model_module": "jupyter-leaflet",
          "model_name": "LeafletTileLayerModel",
          "model_module_version": "^0.17",
          "state": {
            "_model_module": "jupyter-leaflet",
            "_model_module_version": "^0.17",
            "_model_name": "LeafletTileLayerModel",
            "_view_count": null,
            "_view_module": "jupyter-leaflet",
            "_view_module_version": "^0.17",
            "_view_name": "LeafletTileLayerView",
            "attribution": "Google Earth Engine",
            "base": false,
            "bottom": true,
            "bounds": null,
            "detect_retina": false,
            "loading": false,
            "max_native_zoom": null,
            "max_zoom": 24,
            "min_native_zoom": null,
            "min_zoom": 0,
            "name": "Cities: Image",
            "no_wrap": false,
            "opacity": 1,
            "options": [
              "attribution",
              "bounds",
              "detect_retina",
              "max_native_zoom",
              "max_zoom",
              "min_native_zoom",
              "min_zoom",
              "no_wrap",
              "tile_size",
              "tms",
              "zoom_offset"
            ],
            "pane": "",
            "popup": null,
            "popup_max_height": null,
            "popup_max_width": 300,
            "popup_min_width": 50,
            "show_loading": false,
            "subitems": [],
            "tile_size": 256,
            "tms": false,
            "url": "https://earthengine.googleapis.com/v1alpha/projects/earthengine-legacy/maps/8036add8ba3b6976754ef336fa9756a3-1ce9cfcc58c04f8a49c0e334016b16ea/tiles/{z}/{x}/{y}",
            "visible": true,
            "zoom_offset": 0
          }
        },
        "572003dce8524d43a19f6576d2f4adda": {
          "model_module": "@jupyter-widgets/base",
          "model_name": "LayoutModel",
          "model_module_version": "1.2.0",
          "state": {
            "_model_module": "@jupyter-widgets/base",
            "_model_module_version": "1.2.0",
            "_model_name": "LayoutModel",
            "_view_count": null,
            "_view_module": "@jupyter-widgets/base",
            "_view_module_version": "1.2.0",
            "_view_name": "LayoutView",
            "align_content": null,
            "align_items": null,
            "align_self": null,
            "border": null,
            "bottom": null,
            "display": null,
            "flex": null,
            "flex_flow": null,
            "grid_area": null,
            "grid_auto_columns": null,
            "grid_auto_flow": null,
            "grid_auto_rows": null,
            "grid_column": null,
            "grid_gap": null,
            "grid_row": null,
            "grid_template_areas": null,
            "grid_template_columns": null,
            "grid_template_rows": null,
            "height": "600px",
            "justify_content": null,
            "justify_items": null,
            "left": null,
            "margin": null,
            "max_height": null,
            "max_width": null,
            "min_height": null,
            "min_width": null,
            "object_fit": null,
            "object_position": null,
            "order": null,
            "overflow": null,
            "overflow_x": null,
            "overflow_y": null,
            "padding": null,
            "right": null,
            "top": null,
            "visibility": null,
            "width": null
          }
        },
        "6ed28908ec914c69be95a217ee738aeb": {
          "model_module": "jupyter-leaflet",
          "model_name": "LeafletMapStyleModel",
          "model_module_version": "^0.17",
          "state": {
            "_model_module": "jupyter-leaflet",
            "_model_module_version": "^0.17",
            "_model_name": "LeafletMapStyleModel",
            "_view_count": null,
            "_view_module": "@jupyter-widgets/base",
            "_view_module_version": "1.2.0",
            "_view_name": "StyleView",
            "cursor": "grab"
          }
        },
        "0e25e982961d45deb772630d62e9e482": {
          "model_module": "@jupyter-widgets/controls",
          "model_name": "HBoxModel",
          "model_module_version": "1.5.0",
          "state": {
            "_dom_classes": [],
            "_model_module": "@jupyter-widgets/controls",
            "_model_module_version": "1.5.0",
            "_model_name": "HBoxModel",
            "_view_count": null,
            "_view_module": "@jupyter-widgets/controls",
            "_view_module_version": "1.5.0",
            "_view_name": "HBoxView",
            "box_style": "",
            "children": [
              "IPY_MODEL_317a8af7a4854071b467fa6df50712ed"
            ],
            "layout": "IPY_MODEL_b857e773d6834284981f6a89f10b317d"
          }
        },
        "076e90aab219421e93527dfacdbb8fb7": {
          "model_module": "@jupyter-widgets/controls",
          "model_name": "VBoxModel",
          "model_module_version": "1.5.0",
          "state": {
            "_dom_classes": [],
            "_model_module": "@jupyter-widgets/controls",
            "_model_module_version": "1.5.0",
            "_model_name": "VBoxModel",
            "_view_count": null,
            "_view_module": "@jupyter-widgets/controls",
            "_view_module_version": "1.5.0",
            "_view_name": "VBoxView",
            "box_style": "",
            "children": [
              "IPY_MODEL_2006895a1a134234a710103d8588658c"
            ],
            "layout": "IPY_MODEL_9a3ff038041f4117b82851832ab717e8"
          }
        },
        "317a8af7a4854071b467fa6df50712ed": {
          "model_module": "@jupyter-widgets/controls",
          "model_name": "ToggleButtonModel",
          "model_module_version": "1.5.0",
          "state": {
            "_dom_classes": [],
            "_model_module": "@jupyter-widgets/controls",
            "_model_module_version": "1.5.0",
            "_model_name": "ToggleButtonModel",
            "_view_count": null,
            "_view_module": "@jupyter-widgets/controls",
            "_view_module_version": "1.5.0",
            "_view_name": "ToggleButtonView",
            "button_style": "",
            "description": "",
            "description_tooltip": null,
            "disabled": false,
            "icon": "globe",
            "layout": "IPY_MODEL_ab79b53f83ed44a3bf0d41125560040f",
            "style": "IPY_MODEL_0be20f176dd34f36a6b8e778dc8f07c9",
            "tooltip": "Search location/data",
            "value": false
          }
        },
        "b857e773d6834284981f6a89f10b317d": {
          "model_module": "@jupyter-widgets/base",
          "model_name": "LayoutModel",
          "model_module_version": "1.2.0",
          "state": {
            "_model_module": "@jupyter-widgets/base",
            "_model_module_version": "1.2.0",
            "_model_name": "LayoutModel",
            "_view_count": null,
            "_view_module": "@jupyter-widgets/base",
            "_view_module_version": "1.2.0",
            "_view_name": "LayoutView",
            "align_content": null,
            "align_items": null,
            "align_self": null,
            "border": null,
            "bottom": null,
            "display": null,
            "flex": null,
            "flex_flow": null,
            "grid_area": null,
            "grid_auto_columns": null,
            "grid_auto_flow": null,
            "grid_auto_rows": null,
            "grid_column": null,
            "grid_gap": null,
            "grid_row": null,
            "grid_template_areas": null,
            "grid_template_columns": null,
            "grid_template_rows": null,
            "height": null,
            "justify_content": null,
            "justify_items": null,
            "left": null,
            "margin": null,
            "max_height": null,
            "max_width": null,
            "min_height": null,
            "min_width": null,
            "object_fit": null,
            "object_position": null,
            "order": null,
            "overflow": null,
            "overflow_x": null,
            "overflow_y": null,
            "padding": null,
            "right": null,
            "top": null,
            "visibility": null,
            "width": null
          }
        },
        "2006895a1a134234a710103d8588658c": {
          "model_module": "@jupyter-widgets/controls",
          "model_name": "ToggleButtonModel",
          "model_module_version": "1.5.0",
          "state": {
            "_dom_classes": [],
            "_model_module": "@jupyter-widgets/controls",
            "_model_module_version": "1.5.0",
            "_model_name": "ToggleButtonModel",
            "_view_count": null,
            "_view_module": "@jupyter-widgets/controls",
            "_view_module_version": "1.5.0",
            "_view_name": "ToggleButtonView",
            "button_style": "",
            "description": "",
            "description_tooltip": null,
            "disabled": false,
            "icon": "wrench",
            "layout": "IPY_MODEL_0357ff2be20646188d6af64504cc8cf5",
            "style": "IPY_MODEL_d4eaabb3b99e4805847955a81caf191e",
            "tooltip": "Toolbar",
            "value": false
          }
        },
        "9a3ff038041f4117b82851832ab717e8": {
          "model_module": "@jupyter-widgets/base",
          "model_name": "LayoutModel",
          "model_module_version": "1.2.0",
          "state": {
            "_model_module": "@jupyter-widgets/base",
            "_model_module_version": "1.2.0",
            "_model_name": "LayoutModel",
            "_view_count": null,
            "_view_module": "@jupyter-widgets/base",
            "_view_module_version": "1.2.0",
            "_view_name": "LayoutView",
            "align_content": null,
            "align_items": null,
            "align_self": null,
            "border": null,
            "bottom": null,
            "display": null,
            "flex": null,
            "flex_flow": null,
            "grid_area": null,
            "grid_auto_columns": null,
            "grid_auto_flow": null,
            "grid_auto_rows": null,
            "grid_column": null,
            "grid_gap": null,
            "grid_row": null,
            "grid_template_areas": null,
            "grid_template_columns": null,
            "grid_template_rows": null,
            "height": null,
            "justify_content": null,
            "justify_items": null,
            "left": null,
            "margin": null,
            "max_height": null,
            "max_width": null,
            "min_height": null,
            "min_width": null,
            "object_fit": null,
            "object_position": null,
            "order": null,
            "overflow": null,
            "overflow_x": null,
            "overflow_y": null,
            "padding": null,
            "right": null,
            "top": null,
            "visibility": null,
            "width": null
          }
        },
        "ab79b53f83ed44a3bf0d41125560040f": {
          "model_module": "@jupyter-widgets/base",
          "model_name": "LayoutModel",
          "model_module_version": "1.2.0",
          "state": {
            "_model_module": "@jupyter-widgets/base",
            "_model_module_version": "1.2.0",
            "_model_name": "LayoutModel",
            "_view_count": null,
            "_view_module": "@jupyter-widgets/base",
            "_view_module_version": "1.2.0",
            "_view_name": "LayoutView",
            "align_content": null,
            "align_items": null,
            "align_self": null,
            "border": null,
            "bottom": null,
            "display": null,
            "flex": null,
            "flex_flow": null,
            "grid_area": null,
            "grid_auto_columns": null,
            "grid_auto_flow": null,
            "grid_auto_rows": null,
            "grid_column": null,
            "grid_gap": null,
            "grid_row": null,
            "grid_template_areas": null,
            "grid_template_columns": null,
            "grid_template_rows": null,
            "height": "28px",
            "justify_content": null,
            "justify_items": null,
            "left": null,
            "margin": null,
            "max_height": null,
            "max_width": null,
            "min_height": null,
            "min_width": null,
            "object_fit": null,
            "object_position": null,
            "order": null,
            "overflow": null,
            "overflow_x": null,
            "overflow_y": null,
            "padding": "0px 0px 0px 4px",
            "right": null,
            "top": null,
            "visibility": null,
            "width": "28px"
          }
        },
        "0be20f176dd34f36a6b8e778dc8f07c9": {
          "model_module": "@jupyter-widgets/controls",
          "model_name": "DescriptionStyleModel",
          "model_module_version": "1.5.0",
          "state": {
            "_model_module": "@jupyter-widgets/controls",
            "_model_module_version": "1.5.0",
            "_model_name": "DescriptionStyleModel",
            "_view_count": null,
            "_view_module": "@jupyter-widgets/base",
            "_view_module_version": "1.2.0",
            "_view_name": "StyleView",
            "description_width": ""
          }
        },
        "0357ff2be20646188d6af64504cc8cf5": {
          "model_module": "@jupyter-widgets/base",
          "model_name": "LayoutModel",
          "model_module_version": "1.2.0",
          "state": {
            "_model_module": "@jupyter-widgets/base",
            "_model_module_version": "1.2.0",
            "_model_name": "LayoutModel",
            "_view_count": null,
            "_view_module": "@jupyter-widgets/base",
            "_view_module_version": "1.2.0",
            "_view_name": "LayoutView",
            "align_content": null,
            "align_items": null,
            "align_self": null,
            "border": null,
            "bottom": null,
            "display": null,
            "flex": null,
            "flex_flow": null,
            "grid_area": null,
            "grid_auto_columns": null,
            "grid_auto_flow": null,
            "grid_auto_rows": null,
            "grid_column": null,
            "grid_gap": null,
            "grid_row": null,
            "grid_template_areas": null,
            "grid_template_columns": null,
            "grid_template_rows": null,
            "height": "28px",
            "justify_content": null,
            "justify_items": null,
            "left": null,
            "margin": null,
            "max_height": null,
            "max_width": null,
            "min_height": null,
            "min_width": null,
            "object_fit": null,
            "object_position": null,
            "order": null,
            "overflow": null,
            "overflow_x": null,
            "overflow_y": null,
            "padding": "0px 0px 0px 4px",
            "right": null,
            "top": null,
            "visibility": null,
            "width": "28px"
          }
        },
        "d4eaabb3b99e4805847955a81caf191e": {
          "model_module": "@jupyter-widgets/controls",
          "model_name": "DescriptionStyleModel",
          "model_module_version": "1.5.0",
          "state": {
            "_model_module": "@jupyter-widgets/controls",
            "_model_module_version": "1.5.0",
            "_model_name": "DescriptionStyleModel",
            "_view_count": null,
            "_view_module": "@jupyter-widgets/base",
            "_view_module_version": "1.2.0",
            "_view_name": "StyleView",
            "description_width": ""
          }
        },
        "61b553a4b3fb4b5aa09a266934224650": {
          "model_module": "jupyter-leaflet",
          "model_name": "LeafletMapModel",
          "model_module_version": "^0.17",
          "state": {
            "_dom_classes": [],
            "_model_module": "jupyter-leaflet",
            "_model_module_version": "^0.17",
            "_model_name": "LeafletMapModel",
            "_view_count": null,
            "_view_module": "jupyter-leaflet",
            "_view_module_version": "^0.17",
            "_view_name": "LeafletMapView",
            "bottom": 104085,
            "bounce_at_zoom_limits": true,
            "box_zoom": true,
            "center": [
              35.055856273399804,
              136.55456542968753
            ],
            "close_popup_on_click": true,
            "controls": [
              "IPY_MODEL_b5a1347215c64b0b8912204133b1c83d",
              "IPY_MODEL_51c549ab785f4d218ff85b06abf43150",
              "IPY_MODEL_a81757b0b24d42d0b529c307b01f985f",
              "IPY_MODEL_9fbca8149af74d969d9a8c8760ee682e",
              "IPY_MODEL_ffe19d4f685a4084a9668ec4a225daaf",
              "IPY_MODEL_ae850933a62545469df9ae1b3dcbbc25",
              "IPY_MODEL_480c352b95c548349aa5551170dab65a",
              "IPY_MODEL_4e732d978b984bea9f2605de53fb55d5"
            ],
            "crs": {
              "name": "EPSG3857",
              "custom": false
            },
            "default_style": "IPY_MODEL_9e7a110d54874b9c864160c27f1ad3ac",
            "double_click_zoom": true,
            "dragging": true,
            "dragging_style": "IPY_MODEL_06f5fba8549844d4a0e6b3767f64908f",
            "east": 137.12585449218753,
            "fullscreen": false,
            "inertia": true,
            "inertia_deceleration": 3000,
            "inertia_max_speed": 1500,
            "interpolation": "bilinear",
            "keyboard": true,
            "keyboard_pan_offset": 80,
            "keyboard_zoom_offset": 1,
            "layers": [
              "IPY_MODEL_6672f132ffe044a59a4ba91643038a44",
              "IPY_MODEL_e6520749c9d740c69a61009a56f33ae6",
              "IPY_MODEL_84c51ff7152b4d37a7d1d9368c9017c9"
            ],
            "layout": "IPY_MODEL_782132700461409cb8a91b480b57d999",
            "left": 230092,
            "max_zoom": 24,
            "min_zoom": null,
            "modisdate": "2022-12-07",
            "north": 35.39240857605964,
            "options": [
              "bounce_at_zoom_limits",
              "box_zoom",
              "center",
              "close_popup_on_click",
              "double_click_zoom",
              "dragging",
              "fullscreen",
              "inertia",
              "inertia_deceleration",
              "inertia_max_speed",
              "interpolation",
              "keyboard",
              "keyboard_pan_offset",
              "keyboard_zoom_offset",
              "max_zoom",
              "min_zoom",
              "prefer_canvas",
              "scroll_wheel_zoom",
              "tap",
              "tap_tolerance",
              "touch_zoom",
              "world_copy_jump",
              "zoom",
              "zoom_animation_threshold",
              "zoom_delta",
              "zoom_snap"
            ],
            "panes": {},
            "prefer_canvas": false,
            "right": 230924,
            "scroll_wheel_zoom": true,
            "south": 34.71791112677537,
            "style": "IPY_MODEL_9e7a110d54874b9c864160c27f1ad3ac",
            "tap": true,
            "tap_tolerance": 15,
            "top": 103485,
            "touch_zoom": true,
            "west": 135.98327636718753,
            "window_url": "https://m1kygpf6bc-496ff2e9c6d22116-0-colab.googleusercontent.com/outputframe.html?vrz=colab-20221206-060108-RC00_493246498",
            "world_copy_jump": false,
            "zoom": 10,
            "zoom_animation_threshold": 4,
            "zoom_delta": 1,
            "zoom_snap": 1
          }
        },
        "b5a1347215c64b0b8912204133b1c83d": {
          "model_module": "jupyter-leaflet",
          "model_name": "LeafletWidgetControlModel",
          "model_module_version": "^0.17",
          "state": {
            "_model_module": "jupyter-leaflet",
            "_model_module_version": "^0.17",
            "_model_name": "LeafletWidgetControlModel",
            "_view_count": null,
            "_view_module": "jupyter-leaflet",
            "_view_module_version": "^0.17",
            "_view_name": "LeafletWidgetControlView",
            "max_height": null,
            "max_width": null,
            "min_height": null,
            "min_width": null,
            "options": [
              "position",
              "transparent_bg"
            ],
            "position": "topleft",
            "transparent_bg": false,
            "widget": "IPY_MODEL_71707a23b8f04006a141d23f3689c5fd"
          }
        },
        "51c549ab785f4d218ff85b06abf43150": {
          "model_module": "jupyter-leaflet",
          "model_name": "LeafletZoomControlModel",
          "model_module_version": "^0.17",
          "state": {
            "_model_module": "jupyter-leaflet",
            "_model_module_version": "^0.17",
            "_model_name": "LeafletZoomControlModel",
            "_view_count": null,
            "_view_module": "jupyter-leaflet",
            "_view_module_version": "^0.17",
            "_view_name": "LeafletZoomControlView",
            "options": [
              "position",
              "zoom_in_text",
              "zoom_in_title",
              "zoom_out_text",
              "zoom_out_title"
            ],
            "position": "topleft",
            "zoom_in_text": "+",
            "zoom_in_title": "Zoom in",
            "zoom_out_text": "-",
            "zoom_out_title": "Zoom out"
          }
        },
        "a81757b0b24d42d0b529c307b01f985f": {
          "model_module": "jupyter-leaflet",
          "model_name": "LeafletScaleControlModel",
          "model_module_version": "^0.17",
          "state": {
            "_model_module": "jupyter-leaflet",
            "_model_module_version": "^0.17",
            "_model_name": "LeafletScaleControlModel",
            "_view_count": null,
            "_view_module": "jupyter-leaflet",
            "_view_module_version": "^0.17",
            "_view_name": "LeafletScaleControlView",
            "imperial": true,
            "max_width": 100,
            "metric": true,
            "options": [
              "imperial",
              "max_width",
              "metric",
              "position",
              "update_when_idle"
            ],
            "position": "bottomleft",
            "update_when_idle": false
          }
        },
        "9fbca8149af74d969d9a8c8760ee682e": {
          "model_module": "jupyter-leaflet",
          "model_name": "LeafletFullScreenControlModel",
          "model_module_version": "^0.17",
          "state": {
            "_model_module": "jupyter-leaflet",
            "_model_module_version": "^0.17",
            "_model_name": "LeafletFullScreenControlModel",
            "_view_count": null,
            "_view_module": "jupyter-leaflet",
            "_view_module_version": "^0.17",
            "_view_name": "LeafletFullScreenControlView",
            "options": [
              "position"
            ],
            "position": "topleft"
          }
        },
        "ffe19d4f685a4084a9668ec4a225daaf": {
          "model_module": "jupyter-leaflet",
          "model_name": "LeafletMeasureControlModel",
          "model_module_version": "^0.17",
          "state": {
            "_custom_units": {},
            "_model_module": "jupyter-leaflet",
            "_model_module_version": "^0.17",
            "_model_name": "LeafletMeasureControlModel",
            "_view_count": null,
            "_view_module": "jupyter-leaflet",
            "_view_module_version": "^0.17",
            "_view_name": "LeafletMeasureControlView",
            "active_color": "orange",
            "capture_z_index": 10000,
            "completed_color": "#C8F2BE",
            "options": [
              "active_color",
              "capture_z_index",
              "completed_color",
              "popup_options",
              "position",
              "primary_area_unit",
              "primary_length_unit",
              "secondary_area_unit",
              "secondary_length_unit"
            ],
            "popup_options": {
              "className": "leaflet-measure-resultpopup",
              "autoPanPadding": [
                10,
                10
              ]
            },
            "position": "bottomleft",
            "primary_area_unit": "acres",
            "primary_length_unit": "kilometers",
            "secondary_area_unit": null,
            "secondary_length_unit": null
          }
        },
        "ae850933a62545469df9ae1b3dcbbc25": {
          "model_module": "jupyter-leaflet",
          "model_name": "LeafletAttributionControlModel",
          "model_module_version": "^0.17",
          "state": {
            "_model_module": "jupyter-leaflet",
            "_model_module_version": "^0.17",
            "_model_name": "LeafletAttributionControlModel",
            "_view_count": null,
            "_view_module": "jupyter-leaflet",
            "_view_module_version": "^0.17",
            "_view_name": "LeafletAttributionControlView",
            "options": [
              "position",
              "prefix"
            ],
            "position": "bottomright",
            "prefix": "ipyleaflet"
          }
        },
        "480c352b95c548349aa5551170dab65a": {
          "model_module": "jupyter-leaflet",
          "model_name": "LeafletDrawControlModel",
          "model_module_version": "^0.17",
          "state": {
            "_model_module": "jupyter-leaflet",
            "_model_module_version": "^0.17",
            "_model_name": "LeafletDrawControlModel",
            "_view_count": null,
            "_view_module": "jupyter-leaflet",
            "_view_module_version": "^0.17",
            "_view_name": "LeafletDrawControlView",
            "circle": {
              "shapeOptions": {
                "color": "#3388ff"
              }
            },
            "circlemarker": {},
            "data": [],
            "edit": true,
            "marker": {
              "shapeOptions": {
                "color": "#3388ff"
              }
            },
            "options": [
              "position"
            ],
            "polygon": {
              "shapeOptions": {}
            },
            "polyline": {
              "shapeOptions": {}
            },
            "position": "topleft",
            "rectangle": {
              "shapeOptions": {
                "color": "#3388ff"
              }
            },
            "remove": true
          }
        },
        "4e732d978b984bea9f2605de53fb55d5": {
          "model_module": "jupyter-leaflet",
          "model_name": "LeafletWidgetControlModel",
          "model_module_version": "^0.17",
          "state": {
            "_model_module": "jupyter-leaflet",
            "_model_module_version": "^0.17",
            "_model_name": "LeafletWidgetControlModel",
            "_view_count": null,
            "_view_module": "jupyter-leaflet",
            "_view_module_version": "^0.17",
            "_view_name": "LeafletWidgetControlView",
            "max_height": null,
            "max_width": null,
            "min_height": null,
            "min_width": null,
            "options": [
              "position",
              "transparent_bg"
            ],
            "position": "topright",
            "transparent_bg": false,
            "widget": "IPY_MODEL_79a38422ff074331a90e339d0611f530"
          }
        },
        "9e7a110d54874b9c864160c27f1ad3ac": {
          "model_module": "jupyter-leaflet",
          "model_name": "LeafletMapStyleModel",
          "model_module_version": "^0.17",
          "state": {
            "_model_module": "jupyter-leaflet",
            "_model_module_version": "^0.17",
            "_model_name": "LeafletMapStyleModel",
            "_view_count": null,
            "_view_module": "@jupyter-widgets/base",
            "_view_module_version": "1.2.0",
            "_view_name": "StyleView",
            "cursor": "grab"
          }
        },
        "06f5fba8549844d4a0e6b3767f64908f": {
          "model_module": "jupyter-leaflet",
          "model_name": "LeafletMapStyleModel",
          "model_module_version": "^0.17",
          "state": {
            "_model_module": "jupyter-leaflet",
            "_model_module_version": "^0.17",
            "_model_name": "LeafletMapStyleModel",
            "_view_count": null,
            "_view_module": "@jupyter-widgets/base",
            "_view_module_version": "1.2.0",
            "_view_name": "StyleView",
            "cursor": "move"
          }
        },
        "6672f132ffe044a59a4ba91643038a44": {
          "model_module": "jupyter-leaflet",
          "model_name": "LeafletTileLayerModel",
          "model_module_version": "^0.17",
          "state": {
            "_model_module": "jupyter-leaflet",
            "_model_module_version": "^0.17",
            "_model_name": "LeafletTileLayerModel",
            "_view_count": null,
            "_view_module": "jupyter-leaflet",
            "_view_module_version": "^0.17",
            "_view_name": "LeafletTileLayerView",
            "attribution": "&copy; <a href=\"https://www.openstreetmap.org/copyright\">OpenStreetMap</a> contributors",
            "base": true,
            "bottom": true,
            "bounds": null,
            "detect_retina": false,
            "loading": false,
            "max_native_zoom": null,
            "max_zoom": 19,
            "min_native_zoom": null,
            "min_zoom": 1,
            "name": "OpenStreetMap.Mapnik",
            "no_wrap": false,
            "opacity": 1,
            "options": [
              "attribution",
              "bounds",
              "detect_retina",
              "max_native_zoom",
              "max_zoom",
              "min_native_zoom",
              "min_zoom",
              "no_wrap",
              "tile_size",
              "tms",
              "zoom_offset"
            ],
            "pane": "",
            "popup": null,
            "popup_max_height": null,
            "popup_max_width": 300,
            "popup_min_width": 50,
            "show_loading": false,
            "subitems": [],
            "tile_size": 256,
            "tms": false,
            "url": "https://tile.openstreetmap.org/{z}/{x}/{y}.png",
            "visible": true,
            "zoom_offset": 0
          }
        },
        "84c51ff7152b4d37a7d1d9368c9017c9": {
          "model_module": "jupyter-leaflet",
          "model_name": "LeafletTileLayerModel",
          "model_module_version": "^0.17",
          "state": {
            "_model_module": "jupyter-leaflet",
            "_model_module_version": "^0.17",
            "_model_name": "LeafletTileLayerModel",
            "_view_count": null,
            "_view_module": "jupyter-leaflet",
            "_view_module_version": "^0.17",
            "_view_name": "LeafletTileLayerView",
            "attribution": "Google Earth Engine",
            "base": false,
            "bottom": true,
            "bounds": null,
            "detect_retina": false,
            "loading": false,
            "max_native_zoom": null,
            "max_zoom": 24,
            "min_native_zoom": null,
            "min_zoom": 0,
            "name": "Cities: Image",
            "no_wrap": false,
            "opacity": 1,
            "options": [
              "attribution",
              "bounds",
              "detect_retina",
              "max_native_zoom",
              "max_zoom",
              "min_native_zoom",
              "min_zoom",
              "no_wrap",
              "tile_size",
              "tms",
              "zoom_offset"
            ],
            "pane": "",
            "popup": null,
            "popup_max_height": null,
            "popup_max_width": 300,
            "popup_min_width": 50,
            "show_loading": false,
            "subitems": [],
            "tile_size": 256,
            "tms": false,
            "url": "https://earthengine.googleapis.com/v1alpha/projects/earthengine-legacy/maps/2c43c68fd57b89a7ab3096233f3bef1e-766bc175a0072040bf09cdadcf5afe3b/tiles/{z}/{x}/{y}",
            "visible": true,
            "zoom_offset": 0
          }
        },
        "782132700461409cb8a91b480b57d999": {
          "model_module": "@jupyter-widgets/base",
          "model_name": "LayoutModel",
          "model_module_version": "1.2.0",
          "state": {
            "_model_module": "@jupyter-widgets/base",
            "_model_module_version": "1.2.0",
            "_model_name": "LayoutModel",
            "_view_count": null,
            "_view_module": "@jupyter-widgets/base",
            "_view_module_version": "1.2.0",
            "_view_name": "LayoutView",
            "align_content": null,
            "align_items": null,
            "align_self": null,
            "border": null,
            "bottom": null,
            "display": null,
            "flex": null,
            "flex_flow": null,
            "grid_area": null,
            "grid_auto_columns": null,
            "grid_auto_flow": null,
            "grid_auto_rows": null,
            "grid_column": null,
            "grid_gap": null,
            "grid_row": null,
            "grid_template_areas": null,
            "grid_template_columns": null,
            "grid_template_rows": null,
            "height": "600px",
            "justify_content": null,
            "justify_items": null,
            "left": null,
            "margin": null,
            "max_height": null,
            "max_width": null,
            "min_height": null,
            "min_width": null,
            "object_fit": null,
            "object_position": null,
            "order": null,
            "overflow": null,
            "overflow_x": null,
            "overflow_y": null,
            "padding": null,
            "right": null,
            "top": null,
            "visibility": null,
            "width": null
          }
        },
        "79b03358ccee4d58bf3771b23b5ecd7d": {
          "model_module": "jupyter-leaflet",
          "model_name": "LeafletMapStyleModel",
          "model_module_version": "^0.17",
          "state": {
            "_model_module": "jupyter-leaflet",
            "_model_module_version": "^0.17",
            "_model_name": "LeafletMapStyleModel",
            "_view_count": null,
            "_view_module": "@jupyter-widgets/base",
            "_view_module_version": "1.2.0",
            "_view_name": "StyleView",
            "cursor": "grab"
          }
        },
        "71707a23b8f04006a141d23f3689c5fd": {
          "model_module": "@jupyter-widgets/controls",
          "model_name": "HBoxModel",
          "model_module_version": "1.5.0",
          "state": {
            "_dom_classes": [],
            "_model_module": "@jupyter-widgets/controls",
            "_model_module_version": "1.5.0",
            "_model_name": "HBoxModel",
            "_view_count": null,
            "_view_module": "@jupyter-widgets/controls",
            "_view_module_version": "1.5.0",
            "_view_name": "HBoxView",
            "box_style": "",
            "children": [
              "IPY_MODEL_1f08e05921c444518ef98dee4056b55a"
            ],
            "layout": "IPY_MODEL_88cc5598307b44d3a4808a1fec5c83d8"
          }
        },
        "79a38422ff074331a90e339d0611f530": {
          "model_module": "@jupyter-widgets/controls",
          "model_name": "VBoxModel",
          "model_module_version": "1.5.0",
          "state": {
            "_dom_classes": [],
            "_model_module": "@jupyter-widgets/controls",
            "_model_module_version": "1.5.0",
            "_model_name": "VBoxModel",
            "_view_count": null,
            "_view_module": "@jupyter-widgets/controls",
            "_view_module_version": "1.5.0",
            "_view_name": "VBoxView",
            "box_style": "",
            "children": [
              "IPY_MODEL_71ba771571ce42229fda20f2f71074b2"
            ],
            "layout": "IPY_MODEL_e064ec4c169748ef9797128162c02487"
          }
        },
        "1f08e05921c444518ef98dee4056b55a": {
          "model_module": "@jupyter-widgets/controls",
          "model_name": "ToggleButtonModel",
          "model_module_version": "1.5.0",
          "state": {
            "_dom_classes": [],
            "_model_module": "@jupyter-widgets/controls",
            "_model_module_version": "1.5.0",
            "_model_name": "ToggleButtonModel",
            "_view_count": null,
            "_view_module": "@jupyter-widgets/controls",
            "_view_module_version": "1.5.0",
            "_view_name": "ToggleButtonView",
            "button_style": "",
            "description": "",
            "description_tooltip": null,
            "disabled": false,
            "icon": "globe",
            "layout": "IPY_MODEL_45c36b72fc6c4d1189684b4a3cfb2b1d",
            "style": "IPY_MODEL_8ca95006d9bf4e2aae59be677246469e",
            "tooltip": "Search location/data",
            "value": false
          }
        },
        "88cc5598307b44d3a4808a1fec5c83d8": {
          "model_module": "@jupyter-widgets/base",
          "model_name": "LayoutModel",
          "model_module_version": "1.2.0",
          "state": {
            "_model_module": "@jupyter-widgets/base",
            "_model_module_version": "1.2.0",
            "_model_name": "LayoutModel",
            "_view_count": null,
            "_view_module": "@jupyter-widgets/base",
            "_view_module_version": "1.2.0",
            "_view_name": "LayoutView",
            "align_content": null,
            "align_items": null,
            "align_self": null,
            "border": null,
            "bottom": null,
            "display": null,
            "flex": null,
            "flex_flow": null,
            "grid_area": null,
            "grid_auto_columns": null,
            "grid_auto_flow": null,
            "grid_auto_rows": null,
            "grid_column": null,
            "grid_gap": null,
            "grid_row": null,
            "grid_template_areas": null,
            "grid_template_columns": null,
            "grid_template_rows": null,
            "height": null,
            "justify_content": null,
            "justify_items": null,
            "left": null,
            "margin": null,
            "max_height": null,
            "max_width": null,
            "min_height": null,
            "min_width": null,
            "object_fit": null,
            "object_position": null,
            "order": null,
            "overflow": null,
            "overflow_x": null,
            "overflow_y": null,
            "padding": null,
            "right": null,
            "top": null,
            "visibility": null,
            "width": null
          }
        },
        "71ba771571ce42229fda20f2f71074b2": {
          "model_module": "@jupyter-widgets/controls",
          "model_name": "ToggleButtonModel",
          "model_module_version": "1.5.0",
          "state": {
            "_dom_classes": [],
            "_model_module": "@jupyter-widgets/controls",
            "_model_module_version": "1.5.0",
            "_model_name": "ToggleButtonModel",
            "_view_count": null,
            "_view_module": "@jupyter-widgets/controls",
            "_view_module_version": "1.5.0",
            "_view_name": "ToggleButtonView",
            "button_style": "",
            "description": "",
            "description_tooltip": null,
            "disabled": false,
            "icon": "wrench",
            "layout": "IPY_MODEL_4513eed0a4634cc7a1cdba2f57fafa93",
            "style": "IPY_MODEL_2fb4acacac654e12859b8d958611ca26",
            "tooltip": "Toolbar",
            "value": false
          }
        },
        "e064ec4c169748ef9797128162c02487": {
          "model_module": "@jupyter-widgets/base",
          "model_name": "LayoutModel",
          "model_module_version": "1.2.0",
          "state": {
            "_model_module": "@jupyter-widgets/base",
            "_model_module_version": "1.2.0",
            "_model_name": "LayoutModel",
            "_view_count": null,
            "_view_module": "@jupyter-widgets/base",
            "_view_module_version": "1.2.0",
            "_view_name": "LayoutView",
            "align_content": null,
            "align_items": null,
            "align_self": null,
            "border": null,
            "bottom": null,
            "display": null,
            "flex": null,
            "flex_flow": null,
            "grid_area": null,
            "grid_auto_columns": null,
            "grid_auto_flow": null,
            "grid_auto_rows": null,
            "grid_column": null,
            "grid_gap": null,
            "grid_row": null,
            "grid_template_areas": null,
            "grid_template_columns": null,
            "grid_template_rows": null,
            "height": null,
            "justify_content": null,
            "justify_items": null,
            "left": null,
            "margin": null,
            "max_height": null,
            "max_width": null,
            "min_height": null,
            "min_width": null,
            "object_fit": null,
            "object_position": null,
            "order": null,
            "overflow": null,
            "overflow_x": null,
            "overflow_y": null,
            "padding": null,
            "right": null,
            "top": null,
            "visibility": null,
            "width": null
          }
        },
        "45c36b72fc6c4d1189684b4a3cfb2b1d": {
          "model_module": "@jupyter-widgets/base",
          "model_name": "LayoutModel",
          "model_module_version": "1.2.0",
          "state": {
            "_model_module": "@jupyter-widgets/base",
            "_model_module_version": "1.2.0",
            "_model_name": "LayoutModel",
            "_view_count": null,
            "_view_module": "@jupyter-widgets/base",
            "_view_module_version": "1.2.0",
            "_view_name": "LayoutView",
            "align_content": null,
            "align_items": null,
            "align_self": null,
            "border": null,
            "bottom": null,
            "display": null,
            "flex": null,
            "flex_flow": null,
            "grid_area": null,
            "grid_auto_columns": null,
            "grid_auto_flow": null,
            "grid_auto_rows": null,
            "grid_column": null,
            "grid_gap": null,
            "grid_row": null,
            "grid_template_areas": null,
            "grid_template_columns": null,
            "grid_template_rows": null,
            "height": "28px",
            "justify_content": null,
            "justify_items": null,
            "left": null,
            "margin": null,
            "max_height": null,
            "max_width": null,
            "min_height": null,
            "min_width": null,
            "object_fit": null,
            "object_position": null,
            "order": null,
            "overflow": null,
            "overflow_x": null,
            "overflow_y": null,
            "padding": "0px 0px 0px 4px",
            "right": null,
            "top": null,
            "visibility": null,
            "width": "28px"
          }
        },
        "8ca95006d9bf4e2aae59be677246469e": {
          "model_module": "@jupyter-widgets/controls",
          "model_name": "DescriptionStyleModel",
          "model_module_version": "1.5.0",
          "state": {
            "_model_module": "@jupyter-widgets/controls",
            "_model_module_version": "1.5.0",
            "_model_name": "DescriptionStyleModel",
            "_view_count": null,
            "_view_module": "@jupyter-widgets/base",
            "_view_module_version": "1.2.0",
            "_view_name": "StyleView",
            "description_width": ""
          }
        },
        "4513eed0a4634cc7a1cdba2f57fafa93": {
          "model_module": "@jupyter-widgets/base",
          "model_name": "LayoutModel",
          "model_module_version": "1.2.0",
          "state": {
            "_model_module": "@jupyter-widgets/base",
            "_model_module_version": "1.2.0",
            "_model_name": "LayoutModel",
            "_view_count": null,
            "_view_module": "@jupyter-widgets/base",
            "_view_module_version": "1.2.0",
            "_view_name": "LayoutView",
            "align_content": null,
            "align_items": null,
            "align_self": null,
            "border": null,
            "bottom": null,
            "display": null,
            "flex": null,
            "flex_flow": null,
            "grid_area": null,
            "grid_auto_columns": null,
            "grid_auto_flow": null,
            "grid_auto_rows": null,
            "grid_column": null,
            "grid_gap": null,
            "grid_row": null,
            "grid_template_areas": null,
            "grid_template_columns": null,
            "grid_template_rows": null,
            "height": "28px",
            "justify_content": null,
            "justify_items": null,
            "left": null,
            "margin": null,
            "max_height": null,
            "max_width": null,
            "min_height": null,
            "min_width": null,
            "object_fit": null,
            "object_position": null,
            "order": null,
            "overflow": null,
            "overflow_x": null,
            "overflow_y": null,
            "padding": "0px 0px 0px 4px",
            "right": null,
            "top": null,
            "visibility": null,
            "width": "28px"
          }
        },
        "2fb4acacac654e12859b8d958611ca26": {
          "model_module": "@jupyter-widgets/controls",
          "model_name": "DescriptionStyleModel",
          "model_module_version": "1.5.0",
          "state": {
            "_model_module": "@jupyter-widgets/controls",
            "_model_module_version": "1.5.0",
            "_model_name": "DescriptionStyleModel",
            "_view_count": null,
            "_view_module": "@jupyter-widgets/base",
            "_view_module_version": "1.2.0",
            "_view_name": "StyleView",
            "description_width": ""
          }
        }
      }
    }
  },
  "nbformat": 4,
  "nbformat_minor": 5
}