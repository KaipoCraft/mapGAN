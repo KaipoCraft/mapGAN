{
  "cells": [
    {
      "cell_type": "markdown",
      "source": [
        "# **Project: MapGAN**\n",
        "## Authors: Neill Shikada and Melanie Sharif\n",
        "## Professor: Robin Burke\n",
        "## Course: INFO5604"
      ],
      "metadata": {
        "id": "w542x3MZwRdf"
      },
      "id": "w542x3MZwRdf"
    },
    {
      "cell_type": "markdown",
      "source": [
        "If you want to run this code locally using Anaconda, follow the instructions [here](https://research.google.com/colaboratory/local-runtimes.html):\n",
        "1. Open Anaconda command prompt\n",
        "\n",
        "2. Ensure that Jupyter has the proper extensions enabled\n",
        "  `jupyter-serverextension enable jupyter_http_over_ws`\n",
        "\n",
        "3. Run Jupyter Notebook and allow access to Google Colab with this code\n",
        "  `jupyter notebook --NotebookApp.allow_origin='https://colab.research.google.com'`\n",
        "  \n",
        "4. Click the dropdown in the top left of Google Colab Notebook, select `Connect to a local runtime`\n",
        "\n",
        "5. Copy the `http://localhost:8888/?token=###`  link from the Anaconda command prompt\n",
        "\n",
        "6. Paste into the Google Colab url space\n",
        "\n",
        "7. It should connect! Then keep the Jupyter Notebook open the whole time you code as this is where your code is running locally"
      ],
      "metadata": {
        "id": "7S5rrTJkD0w5"
      },
      "id": "7S5rrTJkD0w5"
    },
    {
      "cell_type": "markdown",
      "source": [
        "# Import Dependencies"
      ],
      "metadata": {
        "id": "__3WS_MJuiAJ"
      },
      "id": "__3WS_MJuiAJ"
    },
    {
      "cell_type": "markdown",
      "source": [
        "1. Install any package that needs to be installed"
      ],
      "metadata": {
        "id": "bkeTuynkGKjm"
      },
      "id": "bkeTuynkGKjm"
    },
    {
      "cell_type": "code",
      "source": [
        "!pip install earthengine-api --upgrade"
      ],
      "metadata": {
        "colab": {
          "base_uri": "https://localhost:8080/"
        },
        "collapsed": true,
        "id": "IgZf3ITlukcv",
        "outputId": "5de99b31-eb28-4101-c2d7-a05356dcd5cd"
      },
      "id": "IgZf3ITlukcv",
      "execution_count": null,
      "outputs": [
        {
          "output_type": "stream",
          "name": "stdout",
          "text": [
            "Collecting earthengine-api\n",
            "  Using cached earthengine-api-0.1.334.tar.gz (244 kB)\n",
            "  Preparing metadata (setup.py): started\n",
            "  Preparing metadata (setup.py): finished with status 'done'\n",
            "Collecting future\n",
            "  Downloading future-0.18.2.tar.gz (829 kB)\n",
            "     -------------------------------------- 829.2/829.2 kB 8.7 MB/s eta 0:00:00\n",
            "  Preparing metadata (setup.py): started\n",
            "  Preparing metadata (setup.py): finished with status 'done'\n",
            "Collecting google-cloud-storage\n",
            "  Using cached google_cloud_storage-2.6.0-py2.py3-none-any.whl (105 kB)\n",
            "Collecting google-api-python-client>=1.12.1\n",
            "  Using cached google_api_python_client-2.68.0-py2.py3-none-any.whl (10.6 MB)\n",
            "Requirement already satisfied: google-auth>=1.4.1 in c:\\users\\shika\\miniconda3\\envs\\tensorflow\\lib\\site-packages (from earthengine-api) (2.15.0)\n",
            "Collecting google-auth-httplib2>=0.0.3\n",
            "  Using cached google_auth_httplib2-0.1.0-py2.py3-none-any.whl (9.3 kB)\n",
            "Collecting httplib2<1dev,>=0.9.2\n",
            "  Using cached httplib2-0.21.0-py3-none-any.whl (96 kB)\n",
            "Requirement already satisfied: requests in c:\\users\\shika\\miniconda3\\envs\\tensorflow\\lib\\site-packages (from earthengine-api) (2.28.1)\n",
            "Requirement already satisfied: six in c:\\users\\shika\\miniconda3\\envs\\tensorflow\\lib\\site-packages (from earthengine-api) (1.16.0)\n",
            "Collecting google-api-core!=2.0.*,!=2.1.*,!=2.2.*,!=2.3.0,<3.0.0dev,>=1.31.5\n",
            "  Using cached google_api_core-2.11.0-py3-none-any.whl (120 kB)\n",
            "Collecting uritemplate<5,>=3.0.1\n",
            "  Using cached uritemplate-4.1.1-py2.py3-none-any.whl (10 kB)\n",
            "Requirement already satisfied: pyasn1-modules>=0.2.1 in c:\\users\\shika\\miniconda3\\envs\\tensorflow\\lib\\site-packages (from google-auth>=1.4.1->earthengine-api) (0.2.8)\n",
            "Requirement already satisfied: rsa<5,>=3.1.4 in c:\\users\\shika\\miniconda3\\envs\\tensorflow\\lib\\site-packages (from google-auth>=1.4.1->earthengine-api) (4.9)\n",
            "Requirement already satisfied: cachetools<6.0,>=2.0.0 in c:\\users\\shika\\miniconda3\\envs\\tensorflow\\lib\\site-packages (from google-auth>=1.4.1->earthengine-api) (5.2.0)\n",
            "Requirement already satisfied: pyparsing!=3.0.0,!=3.0.1,!=3.0.2,!=3.0.3,<4,>=2.4.2 in c:\\users\\shika\\miniconda3\\envs\\tensorflow\\lib\\site-packages (from httplib2<1dev,>=0.9.2->earthengine-api) (3.0.9)\n",
            "Collecting google-resumable-media>=2.3.2\n",
            "  Using cached google_resumable_media-2.4.0-py2.py3-none-any.whl (77 kB)\n",
            "Collecting google-cloud-core<3.0dev,>=2.3.0\n",
            "  Using cached google_cloud_core-2.3.2-py2.py3-none-any.whl (29 kB)\n",
            "Requirement already satisfied: urllib3<1.27,>=1.21.1 in c:\\users\\shika\\miniconda3\\envs\\tensorflow\\lib\\site-packages (from requests->earthengine-api) (1.26.13)\n",
            "Requirement already satisfied: idna<4,>=2.5 in c:\\users\\shika\\miniconda3\\envs\\tensorflow\\lib\\site-packages (from requests->earthengine-api) (3.4)\n",
            "Requirement already satisfied: certifi>=2017.4.17 in c:\\users\\shika\\miniconda3\\envs\\tensorflow\\lib\\site-packages (from requests->earthengine-api) (2022.9.24)\n",
            "Requirement already satisfied: charset-normalizer<3,>=2 in c:\\users\\shika\\miniconda3\\envs\\tensorflow\\lib\\site-packages (from requests->earthengine-api) (2.1.1)\n",
            "Collecting googleapis-common-protos<2.0dev,>=1.56.2\n",
            "  Using cached googleapis_common_protos-1.57.0-py2.py3-none-any.whl (217 kB)\n",
            "Requirement already satisfied: protobuf!=3.20.0,!=3.20.1,!=4.21.0,!=4.21.1,!=4.21.2,!=4.21.3,!=4.21.4,!=4.21.5,<5.0.0dev,>=3.19.5 in c:\\users\\shika\\miniconda3\\envs\\tensorflow\\lib\\site-packages (from google-api-core!=2.0.*,!=2.1.*,!=2.2.*,!=2.3.0,<3.0.0dev,>=1.31.5->google-api-python-client>=1.12.1->earthengine-api) (3.19.6)\n",
            "Collecting google-crc32c<2.0dev,>=1.0\n",
            "  Using cached google_crc32c-1.5.0-cp39-cp39-win_amd64.whl (27 kB)\n",
            "Requirement already satisfied: pyasn1<0.5.0,>=0.4.6 in c:\\users\\shika\\miniconda3\\envs\\tensorflow\\lib\\site-packages (from pyasn1-modules>=0.2.1->google-auth>=1.4.1->earthengine-api) (0.4.8)\n",
            "Building wheels for collected packages: earthengine-api, future\n",
            "  Building wheel for earthengine-api (setup.py): started\n",
            "  Building wheel for earthengine-api (setup.py): finished with status 'done'\n",
            "  Created wheel for earthengine-api: filename=earthengine_api-0.1.334-py3-none-any.whl size=274117 sha256=a543e4bfe830c5ff05d5e38e447a9e4b3d32e059f0a9192ee86d3f0be5c111e9\n",
            "  Stored in directory: c:\\users\\shika\\appdata\\local\\pip\\cache\\wheels\\f8\\cf\\af\\1f110c81c87ba4ea4aed9acc302a9d609492352574a726a53f\n",
            "  Building wheel for future (setup.py): started\n",
            "  Building wheel for future (setup.py): finished with status 'done'\n",
            "  Created wheel for future: filename=future-0.18.2-py3-none-any.whl size=491058 sha256=fc402af27bf904d601f6832eacae143139a23550422ee6795e1b484c31d3e919\n",
            "  Stored in directory: c:\\users\\shika\\appdata\\local\\pip\\cache\\wheels\\96\\66\\19\\2de75120f5d0bc185e9d16cf0fd223d8471ed025de08e45867\n",
            "Successfully built earthengine-api future\n",
            "Installing collected packages: uritemplate, httplib2, googleapis-common-protos, google-crc32c, future, google-resumable-media, google-auth-httplib2, google-api-core, google-cloud-core, google-api-python-client, google-cloud-storage, earthengine-api\n",
            "Successfully installed earthengine-api-0.1.334 future-0.18.2 google-api-core-2.11.0 google-api-python-client-2.68.0 google-auth-httplib2-0.1.0 google-cloud-core-2.3.2 google-cloud-storage-2.6.0 google-crc32c-1.5.0 google-resumable-media-2.4.0 googleapis-common-protos-1.57.0 httplib2-0.21.0 uritemplate-4.1.1\n"
          ]
        }
      ]
    },
    {
      "cell_type": "code",
      "source": [
        "!pip install folium"
      ],
      "metadata": {
        "colab": {
          "base_uri": "https://localhost:8080/"
        },
        "collapsed": true,
        "id": "oJogWP-nwV7P",
        "outputId": "401fd1bd-4bd5-4b9b-d5e5-6a2b7d571f00"
      },
      "id": "oJogWP-nwV7P",
      "execution_count": null,
      "outputs": [
        {
          "output_type": "stream",
          "name": "stdout",
          "text": [
            "Collecting folium\n",
            "  Using cached folium-0.13.0-py2.py3-none-any.whl (96 kB)\n",
            "Requirement already satisfied: numpy in c:\\users\\shika\\miniconda3\\envs\\tensorflow\\lib\\site-packages (from folium) (1.23.5)\n",
            "Collecting branca>=0.3.0\n",
            "  Using cached branca-0.6.0-py3-none-any.whl (24 kB)\n",
            "Requirement already satisfied: requests in c:\\users\\shika\\miniconda3\\envs\\tensorflow\\lib\\site-packages (from folium) (2.28.1)\n",
            "Requirement already satisfied: jinja2>=2.9 in c:\\users\\shika\\miniconda3\\envs\\tensorflow\\lib\\site-packages (from folium) (3.1.2)\n",
            "Requirement already satisfied: MarkupSafe>=2.0 in c:\\users\\shika\\miniconda3\\envs\\tensorflow\\lib\\site-packages (from jinja2>=2.9->folium) (2.1.1)\n",
            "Requirement already satisfied: urllib3<1.27,>=1.21.1 in c:\\users\\shika\\miniconda3\\envs\\tensorflow\\lib\\site-packages (from requests->folium) (1.26.13)\n",
            "Requirement already satisfied: certifi>=2017.4.17 in c:\\users\\shika\\miniconda3\\envs\\tensorflow\\lib\\site-packages (from requests->folium) (2022.9.24)\n",
            "Requirement already satisfied: charset-normalizer<3,>=2 in c:\\users\\shika\\miniconda3\\envs\\tensorflow\\lib\\site-packages (from requests->folium) (2.1.1)\n",
            "Requirement already satisfied: idna<4,>=2.5 in c:\\users\\shika\\miniconda3\\envs\\tensorflow\\lib\\site-packages (from requests->folium) (3.4)\n",
            "Installing collected packages: branca, folium\n",
            "Successfully installed branca-0.6.0 folium-0.13.0\n"
          ]
        }
      ]
    },
    {
      "cell_type": "markdown",
      "source": [
        "2. Import all the necessary packages"
      ],
      "metadata": {
        "id": "ox-AFIjgGPOx"
      },
      "id": "ox-AFIjgGPOx"
    },
    {
      "cell_type": "code",
      "source": [
        "import tensorflow as tf\n",
        "print(tf.__version__)"
      ],
      "metadata": {
        "id": "CpErIfpvwpmo",
        "outputId": "facd3f3a-2d46-4fb5-9590-d46ed76347a7",
        "colab": {
          "base_uri": "https://localhost:8080/"
        }
      },
      "id": "CpErIfpvwpmo",
      "execution_count": 22,
      "outputs": [
        {
          "output_type": "stream",
          "name": "stdout",
          "text": [
            "2.9.2\n"
          ]
        }
      ]
    },
    {
      "cell_type": "code",
      "source": [
        "from tensorflow.keras.models import Sequential\n",
        "from tensorflow.keras.layers import Conv2D, Dense, Flatten, Reshape, LeakyReLU, Dropout, UpSampling2D\n",
        "from tensorflow.keras.optimizers import Adam\n",
        "from tensorflow.keras.losses import BinaryCrossentropy\n",
        "from tensorflow.keras.models import Model\n",
        "from tensorflow.keras.preprocessing.image import array_to_img\n",
        "from tensorflow.keras.callbacks import Callback"
      ],
      "metadata": {
        "id": "28SU3drvw9hB"
      },
      "id": "28SU3drvw9hB",
      "execution_count": 23,
      "outputs": []
    },
    {
      "cell_type": "code",
      "source": [
        "import os"
      ],
      "metadata": {
        "id": "-1UJ7sKAxCwl"
      },
      "id": "-1UJ7sKAxCwl",
      "execution_count": 24,
      "outputs": []
    },
    {
      "cell_type": "code",
      "source": [
        "import numpy as np"
      ],
      "metadata": {
        "id": "hAeqeCCSxHn4"
      },
      "id": "hAeqeCCSxHn4",
      "execution_count": 25,
      "outputs": []
    },
    {
      "cell_type": "code",
      "source": [
        "# Folium will be used for visualization purposes. It is a package that enables Google-Maps-like interactive maps\n",
        "import folium\n",
        "print(folium.__version__)"
      ],
      "metadata": {
        "id": "nhsuH-dQxRPm",
        "outputId": "6965415d-b151-4e24-cd9d-91e20d230af8",
        "colab": {
          "base_uri": "https://localhost:8080/"
        }
      },
      "id": "nhsuH-dQxRPm",
      "execution_count": 26,
      "outputs": [
        {
          "output_type": "stream",
          "name": "stdout",
          "text": [
            "0.12.1.post1\n"
          ]
        }
      ]
    },
    {
      "cell_type": "code",
      "source": [
        "# Enable access to Google Earth Engine. If you are running this locally, you have to right click and open the link in a new tab (otherwise it'll come up with an error)\n",
        "import ee\n",
        "ee.Authenticate()\n",
        "ee.Initialize()"
      ],
      "metadata": {
        "id": "d-0ZpX5FxLLB",
        "outputId": "63e63605-7354-4445-82fa-2811142d4690",
        "colab": {
          "base_uri": "https://localhost:8080/"
        }
      },
      "id": "d-0ZpX5FxLLB",
      "execution_count": 27,
      "outputs": [
        {
          "output_type": "stream",
          "name": "stdout",
          "text": [
            "To authorize access needed by Earth Engine, open the following URL in a web browser and follow the instructions. If the web browser does not start automatically, please manually browse the URL below.\n",
            "\n",
            "    https://code.earthengine.google.com/client-auth?scopes=https%3A//www.googleapis.com/auth/earthengine%20https%3A//www.googleapis.com/auth/devstorage.full_control&request_id=b1TiwtgzzgZ0WDXIvmU3OqLGWZj-4B7TT5qT5KcaK8E&tc=8Dzyhtmadbca2nYfm5CHSeABaL1jkp5NKhAJLt4zDcI&cc=fUnvJxiWz0c1u-q8qQyMbN7JQZhz1wzAzC-uUjSTOS4\n",
            "\n",
            "The authorization workflow will generate a code, which you should paste in the box below.\n",
            "Enter verification code: 4/1AfgeXvtRCrL4YmG1XByJ8lXCvTSimRvRUpqS8riTp-LExZOmc_-dnO5Uu1U\n",
            "\n",
            "Successfully saved authorization token.\n"
          ]
        }
      ]
    },
    {
      "cell_type": "code",
      "source": [
        "gpus = tf.config.experimental.list_physical_devices('GPU')\n",
        "for gpu in gpus: \n",
        "    tf.config.experimental.set_memory_growth(gpu, True)\n",
        "gpus"
      ],
      "metadata": {
        "id": "VhE0V-dNbLLp",
        "outputId": "e24f8798-8592-4ca2-b585-9eac3c8c0e4e",
        "colab": {
          "base_uri": "https://localhost:8080/"
        }
      },
      "id": "VhE0V-dNbLLp",
      "execution_count": null,
      "outputs": [
        {
          "output_type": "execute_result",
          "data": {
            "text/plain": [
              "[PhysicalDevice(name='/physical_device:GPU:0', device_type='GPU')]"
            ]
          },
          "metadata": {},
          "execution_count": 10
        }
      ]
    },
    {
      "cell_type": "markdown",
      "source": [
        "# Define Variables"
      ],
      "metadata": {
        "id": "Li2LZslrTYk5"
      },
      "id": "Li2LZslrTYk5"
    },
    {
      "cell_type": "markdown",
      "source": [
        "## Specify Cloud Storage Bucket\n",
        "Google Colab uses Google Storage Buckets to run any code, so you have to have one and specify it!"
      ],
      "metadata": {
        "id": "9zidoREnTfxV"
      },
      "id": "9zidoREnTfxV"
    },
    {
      "cell_type": "code",
      "source": [
        "OUTPUT_BUCKET = 'mapgan'"
      ],
      "metadata": {
        "id": "F6PLnlFgTy7e"
      },
      "id": "F6PLnlFgTy7e",
      "execution_count": null,
      "outputs": []
    },
    {
      "cell_type": "markdown",
      "source": [
        "Define database variables. Here, we're using a database of [global settlement patterns](https://developers.google.com/earth-engine/datasets/catalog/DLR_WSF_WSF2015_v1) and [Landsat 9 imagery](https://developers.google.com/earth-engine/datasets/catalog/LANDSAT_LC09_C02_T1?hl=en)"
      ],
      "metadata": {
        "id": "T35-bcEYT2Pw"
      },
      "id": "T35-bcEYT2Pw"
    },
    {
      "cell_type": "code",
      "source": [
        "STL = ee.Image(\"DLR/WSF/WSF2015/v1\")\n",
        "L9SR = ee.ImageCollection(\"LANDSAT/LC09/C02/T1_L2\")\n",
        "STL_BANDS = ['settlements']\n",
        "RGB_BANDS = ['B4', 'B3', 'B2']"
      ],
      "metadata": {
        "id": "z-Q0BIrCT6iK"
      },
      "id": "z-Q0BIrCT6iK",
      "execution_count": null,
      "outputs": []
    },
    {
      "cell_type": "code",
      "source": [
        "TOKYO = [35.6762, 139.6503]\n",
        "BOULDER = [40.0150, -105.2705]"
      ],
      "metadata": {
        "id": "kNrNC8HJhaY5"
      },
      "id": "kNrNC8HJhaY5",
      "execution_count": null,
      "outputs": []
    },
    {
      "cell_type": "markdown",
      "source": [
        "Define the file paths for data"
      ],
      "metadata": {
        "id": "pwk8N_TbVdgw"
      },
      "id": "pwk8N_TbVdgw"
    },
    {
      "cell_type": "code",
      "source": [
        "TRAIN_FILE_PREFIX = 'Training_demo'\n",
        "TEST_FILE_PREFIX = 'Testing_demo'\n",
        "file_extension = '.tfrecord.gz'\n",
        "TRAIN_FILE_PATH = 'gs://' + OUTPUT_BUCKET + '/' + TRAIN_FILE_PREFIX + file_extension\n",
        "TEST_FILE_PATH = 'gs://' + OUTPUT_BUCKET + '/' + TEST_FILE_PREFIX + file_extension\n"
      ],
      "metadata": {
        "id": "Z1aMAAPjVTih"
      },
      "id": "Z1aMAAPjVTih",
      "execution_count": null,
      "outputs": []
    },
    {
      "cell_type": "code",
      "source": [
        "# Your Earth Engine username.  This is used to import a classified image\n",
        "# into your Earth Engine assets folder.\n",
        "USER_NAME = 'nesh5910@colorado.edu'\n",
        "\n",
        "# Cloud Storage bucket into which training, testing and prediction \n",
        "# datasets will be written.  You must be able to write into this bucket.\n",
        "OUTPUT_BUCKET = 'mapgan'\n",
        "\n",
        "# Use Landsat 8 surface reflectance data for predictors.\n",
        "L9SR = ee.ImageCollection(\"LANDSAT/LC09/C02/T1_L2\")\n",
        "SWISS = ee.ImageCollection(\"ORTHO/Switzerland/SWISSIMAGE/10cm\")\n",
        "# Use these bands for prediction.\n",
        "# The bands are different for each dataset in Earth Engine, but we are looking for the raw RGB values of the images\n",
        "SWISS_BANDS = ['R', 'G', 'B']\n",
        "BANDS = ['B4', 'B3', 'B2']\n",
        "\n",
        "BOULDER = [40.0150, -105.2705]\n",
        "BERN = [46.9480, 7.4474]\n",
        "\n",
        "# This is a trianing/testing dataset of points with known land cover labels.\n",
        "LABEL_DATA = ee.FeatureCollection('projects/google/demo_landcover_labels')\n",
        "# The labels, consecutive integer indices starting from zero, are stored in\n",
        "# this property, set on each point.\n",
        "LABEL = 'landcover'\n",
        "# Number of label values, i.e. number of classes in the classification.\n",
        "N_CLASSES = 3\n",
        "\n",
        "# These names are used to specify properties in the export of\n",
        "# training/testing data and to define the mapping between names and data\n",
        "# when reading into TensorFlow datasets.\n",
        "FEATURE_NAMES = list(BANDS)\n",
        "FEATURE_NAMES.append(LABEL)\n",
        "\n",
        "# File names for the training and testing datasets.  These TFRecord files\n",
        "# will be exported from Earth Engine into the Cloud Storage bucket.\n",
        "TRAIN_FILE_PREFIX = 'Training_demo'\n",
        "TEST_FILE_PREFIX = 'Testing_demo'\n",
        "file_extension = '.tfrecord.gz'\n",
        "TRAIN_FILE_PATH = 'gs://' + OUTPUT_BUCKET + '/' + TRAIN_FILE_PREFIX + file_extension\n",
        "TEST_FILE_PATH = 'gs://' + OUTPUT_BUCKET + '/' + TEST_FILE_PREFIX + file_extension\n",
        "\n",
        "# File name for the prediction (image) dataset.  The trained model will read\n",
        "# this dataset and make predictions in each pixel.\n",
        "IMAGE_FILE_PREFIX = 'Image_pixel_demo_'\n",
        "\n",
        "# The output path for the classified image (i.e. predictions) TFRecord file.\n",
        "OUTPUT_IMAGE_FILE = 'gs://' + OUTPUT_BUCKET + '/Classified_pixel_demo.TFRecord'\n",
        "# Export imagery in this region.\n",
        "EXPORT_REGION = ee.Geometry.Rectangle([-122.7, 37.3, -121.8, 38.00])\n",
        "# The name of the Earth Engine asset to be created by importing\n",
        "# the classified image from the TFRecord file in Cloud Storage.\n",
        "OUTPUT_ASSET_ID = 'users/' + USER_NAME + '/Classified_pixel_demo'"
      ],
      "metadata": {
        "id": "uZRT7skbxbWO"
      },
      "id": "uZRT7skbxbWO",
      "execution_count": null,
      "outputs": []
    },
    {
      "cell_type": "code",
      "source": [
        "# This function is from the sample Google Colab CNN code to import earth engine data into folium\n",
        "# https://colab.research.google.com/github/giswqs/qgis-earthengine-examples/blob/master/Folium/ee-api-folium-setup.ipynb#scrollTo=7uSjLbh1LBeX\n",
        "\n",
        "# Define a method for displaying Earth Engine image tiles on a folium map.\n",
        "def add_ee_layer(self, ee_object, vis_params, name):\n",
        "    \n",
        "    try:    \n",
        "        # display ee.Image()\n",
        "        if isinstance(ee_object, ee.image.Image):    \n",
        "            map_id_dict = ee.Image(ee_object).getMapId(vis_params)\n",
        "            folium.raster_layers.TileLayer(\n",
        "            tiles = map_id_dict['tile_fetcher'].url_format,\n",
        "            attr = 'Google Earth Engine',\n",
        "            name = name,\n",
        "            overlay = True,\n",
        "            control = True\n",
        "            ).add_to(self)\n",
        "        # display ee.ImageCollection()\n",
        "        elif isinstance(ee_object, ee.imagecollection.ImageCollection):    \n",
        "            ee_object_new = ee_object.mosaic()\n",
        "            map_id_dict = ee.Image(ee_object_new).getMapId(vis_params)\n",
        "            folium.raster_layers.TileLayer(\n",
        "            tiles = map_id_dict['tile_fetcher'].url_format,\n",
        "            attr = 'Google Earth Engine',\n",
        "            name = name,\n",
        "            overlay = True,\n",
        "            control = True\n",
        "            ).add_to(self)\n",
        "        # display ee.Geometry()\n",
        "        elif isinstance(ee_object, ee.geometry.Geometry):    \n",
        "            folium.GeoJson(\n",
        "            data = ee_object.getInfo(),\n",
        "            name = name,\n",
        "            overlay = True,\n",
        "            control = True\n",
        "        ).add_to(self)\n",
        "        # display ee.FeatureCollection()\n",
        "        elif isinstance(ee_object, ee.featurecollection.FeatureCollection):  \n",
        "            ee_object_new = ee.Image().paint(ee_object, 0, 2)\n",
        "            map_id_dict = ee.Image(ee_object_new).getMapId(vis_params)\n",
        "            folium.raster_layers.TileLayer(\n",
        "            tiles = map_id_dict['tile_fetcher'].url_format,\n",
        "            attr = 'Google Earth Engine',\n",
        "            name = name,\n",
        "            overlay = True,\n",
        "            control = True\n",
        "        ).add_to(self)\n",
        "    \n",
        "    except:\n",
        "        print(\"Could not display {}\".format(name))\n",
        "    \n",
        "# Add EE drawing method to folium.\n",
        "folium.Map.add_ee_layer = add_ee_layer"
      ],
      "metadata": {
        "id": "QuIUKKR9ozwh"
      },
      "id": "QuIUKKR9ozwh",
      "execution_count": null,
      "outputs": []
    },
    {
      "cell_type": "code",
      "source": [
        "# https://mbonnema.github.io/GoogleEarthEngine/05-time-series/\n",
        "# https://developers.google.com/earth-engine/apidocs/ee-featurecollection\n",
        "# https://developers.google.com/earth-engine/apidocs/ee-geometry-point-coordinates\n",
        "# Define the coordinates of the cities we'll be using\n",
        "listOfFeatures = [\n",
        "  ee.Feature(ee.Geometry.Point(35.6762, 139.6503), {'city': 'Tokyo'}),\n",
        "  ee.Feature(ee.Geometry.Point(40.0150, -105.2705), {'city': 'Boulder'}),\n",
        "  # ee.Feature(ee.Geometry.Point(-69.18, -10.64), {'city': 'NewYorkCity'}),\n",
        "  # ee.Feature(ee.Geometry.Point(-69.18, -10.64), {'city': 'London'}),\n",
        "  # ee.Feature(ee.Geometry.Point(-69.18, -10.64), {'city': 'Paris'}),\n",
        "  # ee.Feature(ee.Geometry.Point(-69.18, -10.64), {'city': 'Berlin'}),\n",
        "  # ee.Feature(ee.Geometry.Point(-45.98, -18.09), {'city': 'Denver'})\n",
        "]\n",
        "\n",
        "TOKYO = [35.6762, 139.6503]\n",
        "BOULDER = [40.0150, -105.2705]\n",
        "\n",
        "listOfFeaturesFc = ee.FeatureCollection(listOfFeatures)"
      ],
      "metadata": {
        "id": "AUQptcbm4Frs"
      },
      "id": "AUQptcbm4Frs",
      "execution_count": 85,
      "outputs": []
    },
    {
      "cell_type": "code",
      "source": [
        "opticalBands = ['B1', 'B2', 'B3', 'B4', 'B5', 'B6', 'B7']\n",
        "\n",
        "# Use Landsat 8 surface reflectance data.\n",
        "l8sr = ee.ImageCollection('LANDSAT/LC08/C01/T1_SR')\n",
        "\n",
        "# Cloud masking function.\n",
        "def maskL8sr(image):\n",
        "  cloudShadowBitMask = ee.Number(2).pow(3).int()\n",
        "  cloudsBitMask = ee.Number(2).pow(5).int()\n",
        "  qa = image.select('pixel_qa')\n",
        "  mask1 = qa.bitwiseAnd(cloudShadowBitMask).eq(0).And(\n",
        "    qa.bitwiseAnd(cloudsBitMask).eq(0))\n",
        "  mask2 = image.mask().reduce('min')\n",
        "  mask3 = image.select(opticalBands).gt(0).And(\n",
        "          image.select(opticalBands).lt(10000)).reduce('min')\n",
        "  mask = mask1.And(mask2).And(mask3)\n",
        "  return image.select(opticalBands).divide(10000)\n",
        "\n",
        "# The image input data is a cloud-masked median composite.\n",
        "image = l8sr.filterDate('2015-01-01', '2017-12-31').map(maskL8sr).median()\n",
        "\n",
        "# Use folium to visualize the imagery.\n",
        "mapid = image.getMapId({'bands': ['B4', 'B3', 'B2'], 'min': 0, 'max': 0.3})\n",
        "map = folium.Map(location=TOKYO, zoom_start=5)\n",
        "folium.TileLayer(\n",
        "    tiles=mapid['tile_fetcher'].url_format,\n",
        "    attr='Map Data &copy; <a href=\"https://earthengine.google.com/\">Google Earth Engine</a>',\n",
        "    overlay=True,\n",
        "    name='median composite',\n",
        "  ).add_to(map)\n",
        "\n",
        "map.add_child(folium.LayerControl())\n",
        "map"
      ],
      "metadata": {
        "id": "v10qAYMO1vK4",
        "outputId": "2d0b41f1-9d99-4c56-8a73-4c39956cd18c",
        "colab": {
          "base_uri": "https://localhost:8080/",
          "height": 866
        }
      },
      "id": "v10qAYMO1vK4",
      "execution_count": 110,
      "outputs": [
        {
          "output_type": "execute_result",
          "data": {
            "text/plain": [
              "<folium.folium.Map at 0x7fb374555b20>"
            ],
            "text/html": [
              "<div style=\"width:100%;\"><div style=\"position:relative;width:100%;height:0;padding-bottom:60%;\"><span style=\"color:#565656\">Make this Notebook Trusted to load map: File -> Trust Notebook</span><iframe srcdoc=\"&lt;!DOCTYPE html&gt;\n",
              "&lt;html&gt;\n",
              "&lt;head&gt;\n",
              "    \n",
              "    &lt;meta http-equiv=&quot;content-type&quot; content=&quot;text/html; charset=UTF-8&quot; /&gt;\n",
              "    \n",
              "        &lt;script&gt;\n",
              "            L_NO_TOUCH = false;\n",
              "            L_DISABLE_3D = false;\n",
              "        &lt;/script&gt;\n",
              "    \n",
              "    &lt;style&gt;html, body {width: 100%;height: 100%;margin: 0;padding: 0;}&lt;/style&gt;\n",
              "    &lt;style&gt;#map {position:absolute;top:0;bottom:0;right:0;left:0;}&lt;/style&gt;\n",
              "    &lt;script src=&quot;https://cdn.jsdelivr.net/npm/leaflet@1.6.0/dist/leaflet.js&quot;&gt;&lt;/script&gt;\n",
              "    &lt;script src=&quot;https://code.jquery.com/jquery-1.12.4.min.js&quot;&gt;&lt;/script&gt;\n",
              "    &lt;script src=&quot;https://maxcdn.bootstrapcdn.com/bootstrap/3.2.0/js/bootstrap.min.js&quot;&gt;&lt;/script&gt;\n",
              "    &lt;script src=&quot;https://cdnjs.cloudflare.com/ajax/libs/Leaflet.awesome-markers/2.0.2/leaflet.awesome-markers.js&quot;&gt;&lt;/script&gt;\n",
              "    &lt;link rel=&quot;stylesheet&quot; href=&quot;https://cdn.jsdelivr.net/npm/leaflet@1.6.0/dist/leaflet.css&quot;/&gt;\n",
              "    &lt;link rel=&quot;stylesheet&quot; href=&quot;https://maxcdn.bootstrapcdn.com/bootstrap/3.2.0/css/bootstrap.min.css&quot;/&gt;\n",
              "    &lt;link rel=&quot;stylesheet&quot; href=&quot;https://maxcdn.bootstrapcdn.com/bootstrap/3.2.0/css/bootstrap-theme.min.css&quot;/&gt;\n",
              "    &lt;link rel=&quot;stylesheet&quot; href=&quot;https://maxcdn.bootstrapcdn.com/font-awesome/4.6.3/css/font-awesome.min.css&quot;/&gt;\n",
              "    &lt;link rel=&quot;stylesheet&quot; href=&quot;https://cdnjs.cloudflare.com/ajax/libs/Leaflet.awesome-markers/2.0.2/leaflet.awesome-markers.css&quot;/&gt;\n",
              "    &lt;link rel=&quot;stylesheet&quot; href=&quot;https://cdn.jsdelivr.net/gh/python-visualization/folium/folium/templates/leaflet.awesome.rotate.min.css&quot;/&gt;\n",
              "    \n",
              "            &lt;meta name=&quot;viewport&quot; content=&quot;width=device-width,\n",
              "                initial-scale=1.0, maximum-scale=1.0, user-scalable=no&quot; /&gt;\n",
              "            &lt;style&gt;\n",
              "                #map_3a04a8eff61efcac865af4badf2afdac {\n",
              "                    position: relative;\n",
              "                    width: 100.0%;\n",
              "                    height: 100.0%;\n",
              "                    left: 0.0%;\n",
              "                    top: 0.0%;\n",
              "                }\n",
              "            &lt;/style&gt;\n",
              "        \n",
              "&lt;/head&gt;\n",
              "&lt;body&gt;\n",
              "    \n",
              "    \n",
              "            &lt;div class=&quot;folium-map&quot; id=&quot;map_3a04a8eff61efcac865af4badf2afdac&quot; &gt;&lt;/div&gt;\n",
              "        \n",
              "&lt;/body&gt;\n",
              "&lt;script&gt;\n",
              "    \n",
              "    \n",
              "            var map_3a04a8eff61efcac865af4badf2afdac = L.map(\n",
              "                &quot;map_3a04a8eff61efcac865af4badf2afdac&quot;,\n",
              "                {\n",
              "                    center: [35.6762, 139.6503],\n",
              "                    crs: L.CRS.EPSG3857,\n",
              "                    zoom: 5,\n",
              "                    zoomControl: true,\n",
              "                    preferCanvas: false,\n",
              "                }\n",
              "            );\n",
              "\n",
              "            \n",
              "\n",
              "        \n",
              "    \n",
              "            var tile_layer_b10a4931852c89e76d4c617beb40a36b = L.tileLayer(\n",
              "                &quot;https://{s}.tile.openstreetmap.org/{z}/{x}/{y}.png&quot;,\n",
              "                {&quot;attribution&quot;: &quot;Data by \\u0026copy; \\u003ca href=\\&quot;http://openstreetmap.org\\&quot;\\u003eOpenStreetMap\\u003c/a\\u003e, under \\u003ca href=\\&quot;http://www.openstreetmap.org/copyright\\&quot;\\u003eODbL\\u003c/a\\u003e.&quot;, &quot;detectRetina&quot;: false, &quot;maxNativeZoom&quot;: 18, &quot;maxZoom&quot;: 18, &quot;minZoom&quot;: 0, &quot;noWrap&quot;: false, &quot;opacity&quot;: 1, &quot;subdomains&quot;: &quot;abc&quot;, &quot;tms&quot;: false}\n",
              "            ).addTo(map_3a04a8eff61efcac865af4badf2afdac);\n",
              "        \n",
              "    \n",
              "            var tile_layer_fe4c7918062b04126888cc512aa185a2 = L.tileLayer(\n",
              "                &quot;https://earthengine.googleapis.com/v1alpha/projects/earthengine-legacy/maps/debc51cfec1665189cd454351d018811-eb96e4d0acacffe651504cbcc90bc514/tiles/{z}/{x}/{y}&quot;,\n",
              "                {&quot;attribution&quot;: &quot;Map Data \\u0026copy; \\u003ca href=\\&quot;https://earthengine.google.com/\\&quot;\\u003eGoogle Earth Engine\\u003c/a\\u003e&quot;, &quot;detectRetina&quot;: false, &quot;maxNativeZoom&quot;: 18, &quot;maxZoom&quot;: 18, &quot;minZoom&quot;: 0, &quot;noWrap&quot;: false, &quot;opacity&quot;: 1, &quot;subdomains&quot;: &quot;abc&quot;, &quot;tms&quot;: false}\n",
              "            ).addTo(map_3a04a8eff61efcac865af4badf2afdac);\n",
              "        \n",
              "    \n",
              "            var layer_control_782800913d90102b22d55bf66109d174 = {\n",
              "                base_layers : {\n",
              "                    &quot;openstreetmap&quot; : tile_layer_b10a4931852c89e76d4c617beb40a36b,\n",
              "                },\n",
              "                overlays :  {\n",
              "                    &quot;median composite&quot; : tile_layer_fe4c7918062b04126888cc512aa185a2,\n",
              "                },\n",
              "            };\n",
              "            L.control.layers(\n",
              "                layer_control_782800913d90102b22d55bf66109d174.base_layers,\n",
              "                layer_control_782800913d90102b22d55bf66109d174.overlays,\n",
              "                {&quot;autoZIndex&quot;: true, &quot;collapsed&quot;: true, &quot;position&quot;: &quot;topright&quot;}\n",
              "            ).addTo(map_3a04a8eff61efcac865af4badf2afdac);\n",
              "        \n",
              "&lt;/script&gt;\n",
              "&lt;/html&gt;\" style=\"position:absolute;width:100%;height:100%;left:0;top:0;border:none !important;\" allowfullscreen webkitallowfullscreen mozallowfullscreen></iframe></div></div>"
            ]
          },
          "metadata": {},
          "execution_count": 110
        }
      ]
    },
    {
      "cell_type": "code",
      "source": [
        "l8sr_f = l8sr.filter(ee.Filter.bounds(listOfFeaturesFc))\n",
        "l8sr_f"
      ],
      "metadata": {
        "id": "--rrU1cUVoKq",
        "outputId": "301b3ebc-c982-416a-d45b-defab71c5e65",
        "colab": {
          "base_uri": "https://localhost:8080/"
        }
      },
      "id": "--rrU1cUVoKq",
      "execution_count": 88,
      "outputs": [
        {
          "output_type": "execute_result",
          "data": {
            "text/plain": [
              "<ee.imagecollection.ImageCollection at 0x7fb37456ed00>"
            ]
          },
          "metadata": {},
          "execution_count": 88
        }
      ]
    },
    {
      "cell_type": "code",
      "source": [
        "# Load an image.\n",
        "image = l8sr.filter(ee.Filter.bounds(listOfFeaturesFc))\n",
        "\n",
        "# Define the visualization parameters.\n",
        "image_viz_params = {\n",
        "    'bands': ['B4', 'B3', 'B2'],\n",
        "    'min': 0,\n",
        "    'max': 0.3,\n",
        "}\n",
        "\n",
        "# Define a map centered on San Francisco Bay.\n",
        "map_l8 = folium.Map(location=TOKYO, zoom_start=10)\n",
        "\n",
        "# Add the image layer to the map and display it.\n",
        "map_l8.add_ee_layer(image, image_viz_params, 'false color composite')\n",
        "display(map_l8)"
      ],
      "metadata": {
        "id": "m31B3wiuWGMn",
        "outputId": "8159af82-fa1e-4f7c-a0a7-a6f8ee5de2cf",
        "colab": {
          "base_uri": "https://localhost:8080/",
          "height": 866
        }
      },
      "id": "m31B3wiuWGMn",
      "execution_count": 92,
      "outputs": [
        {
          "output_type": "display_data",
          "data": {
            "text/plain": [
              "<folium.folium.Map at 0x7fb374576f40>"
            ],
            "text/html": [
              "<div style=\"width:100%;\"><div style=\"position:relative;width:100%;height:0;padding-bottom:60%;\"><span style=\"color:#565656\">Make this Notebook Trusted to load map: File -> Trust Notebook</span><iframe srcdoc=\"&lt;!DOCTYPE html&gt;\n",
              "&lt;html&gt;\n",
              "&lt;head&gt;\n",
              "    \n",
              "    &lt;meta http-equiv=&quot;content-type&quot; content=&quot;text/html; charset=UTF-8&quot; /&gt;\n",
              "    \n",
              "        &lt;script&gt;\n",
              "            L_NO_TOUCH = false;\n",
              "            L_DISABLE_3D = false;\n",
              "        &lt;/script&gt;\n",
              "    \n",
              "    &lt;style&gt;html, body {width: 100%;height: 100%;margin: 0;padding: 0;}&lt;/style&gt;\n",
              "    &lt;style&gt;#map {position:absolute;top:0;bottom:0;right:0;left:0;}&lt;/style&gt;\n",
              "    &lt;script src=&quot;https://cdn.jsdelivr.net/npm/leaflet@1.6.0/dist/leaflet.js&quot;&gt;&lt;/script&gt;\n",
              "    &lt;script src=&quot;https://code.jquery.com/jquery-1.12.4.min.js&quot;&gt;&lt;/script&gt;\n",
              "    &lt;script src=&quot;https://maxcdn.bootstrapcdn.com/bootstrap/3.2.0/js/bootstrap.min.js&quot;&gt;&lt;/script&gt;\n",
              "    &lt;script src=&quot;https://cdnjs.cloudflare.com/ajax/libs/Leaflet.awesome-markers/2.0.2/leaflet.awesome-markers.js&quot;&gt;&lt;/script&gt;\n",
              "    &lt;link rel=&quot;stylesheet&quot; href=&quot;https://cdn.jsdelivr.net/npm/leaflet@1.6.0/dist/leaflet.css&quot;/&gt;\n",
              "    &lt;link rel=&quot;stylesheet&quot; href=&quot;https://maxcdn.bootstrapcdn.com/bootstrap/3.2.0/css/bootstrap.min.css&quot;/&gt;\n",
              "    &lt;link rel=&quot;stylesheet&quot; href=&quot;https://maxcdn.bootstrapcdn.com/bootstrap/3.2.0/css/bootstrap-theme.min.css&quot;/&gt;\n",
              "    &lt;link rel=&quot;stylesheet&quot; href=&quot;https://maxcdn.bootstrapcdn.com/font-awesome/4.6.3/css/font-awesome.min.css&quot;/&gt;\n",
              "    &lt;link rel=&quot;stylesheet&quot; href=&quot;https://cdnjs.cloudflare.com/ajax/libs/Leaflet.awesome-markers/2.0.2/leaflet.awesome-markers.css&quot;/&gt;\n",
              "    &lt;link rel=&quot;stylesheet&quot; href=&quot;https://cdn.jsdelivr.net/gh/python-visualization/folium/folium/templates/leaflet.awesome.rotate.min.css&quot;/&gt;\n",
              "    \n",
              "            &lt;meta name=&quot;viewport&quot; content=&quot;width=device-width,\n",
              "                initial-scale=1.0, maximum-scale=1.0, user-scalable=no&quot; /&gt;\n",
              "            &lt;style&gt;\n",
              "                #map_1616fdea95853d79ba2de43e08726dea {\n",
              "                    position: relative;\n",
              "                    width: 100.0%;\n",
              "                    height: 100.0%;\n",
              "                    left: 0.0%;\n",
              "                    top: 0.0%;\n",
              "                }\n",
              "            &lt;/style&gt;\n",
              "        \n",
              "&lt;/head&gt;\n",
              "&lt;body&gt;\n",
              "    \n",
              "    \n",
              "            &lt;div class=&quot;folium-map&quot; id=&quot;map_1616fdea95853d79ba2de43e08726dea&quot; &gt;&lt;/div&gt;\n",
              "        \n",
              "&lt;/body&gt;\n",
              "&lt;script&gt;\n",
              "    \n",
              "    \n",
              "            var map_1616fdea95853d79ba2de43e08726dea = L.map(\n",
              "                &quot;map_1616fdea95853d79ba2de43e08726dea&quot;,\n",
              "                {\n",
              "                    center: [35.6762, 139.6503],\n",
              "                    crs: L.CRS.EPSG3857,\n",
              "                    zoom: 10,\n",
              "                    zoomControl: true,\n",
              "                    preferCanvas: false,\n",
              "                }\n",
              "            );\n",
              "\n",
              "            \n",
              "\n",
              "        \n",
              "    \n",
              "            var tile_layer_592c7cf07045f0394aff3b12b5e8afec = L.tileLayer(\n",
              "                &quot;https://{s}.tile.openstreetmap.org/{z}/{x}/{y}.png&quot;,\n",
              "                {&quot;attribution&quot;: &quot;Data by \\u0026copy; \\u003ca href=\\&quot;http://openstreetmap.org\\&quot;\\u003eOpenStreetMap\\u003c/a\\u003e, under \\u003ca href=\\&quot;http://www.openstreetmap.org/copyright\\&quot;\\u003eODbL\\u003c/a\\u003e.&quot;, &quot;detectRetina&quot;: false, &quot;maxNativeZoom&quot;: 18, &quot;maxZoom&quot;: 18, &quot;minZoom&quot;: 0, &quot;noWrap&quot;: false, &quot;opacity&quot;: 1, &quot;subdomains&quot;: &quot;abc&quot;, &quot;tms&quot;: false}\n",
              "            ).addTo(map_1616fdea95853d79ba2de43e08726dea);\n",
              "        \n",
              "    \n",
              "            var tile_layer_4ae7ad9f3c1e9cef391102fffdf4d759 = L.tileLayer(\n",
              "                &quot;https://earthengine.googleapis.com/v1alpha/projects/earthengine-legacy/maps/bf1a4c91ff525baa101e928bc8b4e0a5-e5ab8b820e4faab4b29123c53c38d001/tiles/{z}/{x}/{y}&quot;,\n",
              "                {&quot;attribution&quot;: &quot;Google Earth Engine&quot;, &quot;detectRetina&quot;: false, &quot;maxNativeZoom&quot;: 18, &quot;maxZoom&quot;: 18, &quot;minZoom&quot;: 0, &quot;noWrap&quot;: false, &quot;opacity&quot;: 1, &quot;subdomains&quot;: &quot;abc&quot;, &quot;tms&quot;: false}\n",
              "            ).addTo(map_1616fdea95853d79ba2de43e08726dea);\n",
              "        \n",
              "&lt;/script&gt;\n",
              "&lt;/html&gt;\" style=\"position:absolute;width:100%;height:100%;left:0;top:0;border:none !important;\" allowfullscreen webkitallowfullscreen mozallowfullscreen></iframe></div></div>"
            ]
          },
          "metadata": {}
        }
      ]
    },
    {
      "cell_type": "code",
      "source": [
        "geojson = {\n",
        "  \"type\": \"FeatureCollection\",\n",
        "  \"columns\": {\n",
        "    \"key\": \"String\",\n",
        "    \"system:index\": \"String\"\n",
        "  },\n",
        "  \"features\": [\n",
        "    {\n",
        "      \"type\": \"Feature\",\n",
        "      \"geometry\": {\n",
        "        \"type\": \"Point\",\n",
        "        \"coordinates\": [\n",
        "          -62.54,\n",
        "          -27.32\n",
        "        ]\n",
        "      },\n",
        "      \"id\": \"0\",\n",
        "      \"properties\": {\n",
        "        \"key\": \"val1\"\n",
        "      }\n",
        "    }\n",
        "  ]\n",
        "};"
      ],
      "metadata": {
        "id": "0CGwWiJX9dBc"
      },
      "id": "0CGwWiJX9dBc",
      "execution_count": null,
      "outputs": []
    },
    {
      "cell_type": "code",
      "source": [
        "# ie = ee.ImageCollection.fromImages(image.filter(ee.Filter.bounds(listOfFeaturesFc)))\n",
        "ie = image.filter(ee.Filter.bounds(listOfFeaturesFc))"
      ],
      "metadata": {
        "id": "I3tw3HzjTckS"
      },
      "id": "I3tw3HzjTckS",
      "execution_count": 76,
      "outputs": []
    },
    {
      "cell_type": "code",
      "source": [
        "# The image input data is a cloud-masked median composite.\n",
        "image = ie\n",
        "map = folium.Map(location=TOKYO, zoom_start=5)\n",
        "\n",
        "mapid = image.getMapId({'bands': ['B4', 'B3', 'B2'], 'min': 0, 'max': 0.3})\n",
        "\n",
        "folium.TileLayer(\n",
        "    tiles=mapid['tile_fetcher'].url_format,\n",
        "    attr='Map Data © Google Earth Engine',\n",
        "    overlay=True,\n",
        "    name='l8sr impervious',\n",
        "  ).add_to(map)\n",
        "\n",
        "map.add_child(folium.LayerControl())\n",
        "map"
      ],
      "metadata": {
        "id": "2XGg48Bt7Kg3",
        "outputId": "bd630194-a216-46cf-dfb1-158e429f8ed7",
        "colab": {
          "base_uri": "https://localhost:8080/",
          "height": 236
        }
      },
      "id": "2XGg48Bt7Kg3",
      "execution_count": 80,
      "outputs": [
        {
          "output_type": "error",
          "ename": "TypeError",
          "evalue": "ignored",
          "traceback": [
            "\u001b[0;31m---------------------------------------------------------------------------\u001b[0m",
            "\u001b[0;31mTypeError\u001b[0m                                 Traceback (most recent call last)",
            "\u001b[0;32m<ipython-input-80-77011097c6ca>\u001b[0m in \u001b[0;36m<module>\u001b[0;34m\u001b[0m\n\u001b[1;32m      6\u001b[0m \u001b[0;34m\u001b[0m\u001b[0m\n\u001b[1;32m      7\u001b[0m folium.TileLayer(\n\u001b[0;32m----> 8\u001b[0;31m     \u001b[0mtiles\u001b[0m\u001b[0;34m=\u001b[0m\u001b[0mimage\u001b[0m\u001b[0;34m[\u001b[0m\u001b[0;34m'tile_fetcher'\u001b[0m\u001b[0;34m]\u001b[0m\u001b[0;34m.\u001b[0m\u001b[0murl_format\u001b[0m\u001b[0;34m,\u001b[0m\u001b[0;34m\u001b[0m\u001b[0;34m\u001b[0m\u001b[0m\n\u001b[0m\u001b[1;32m      9\u001b[0m     \u001b[0mattr\u001b[0m\u001b[0;34m=\u001b[0m\u001b[0;34m'Map Data © Google Earth Engine'\u001b[0m\u001b[0;34m,\u001b[0m\u001b[0;34m\u001b[0m\u001b[0;34m\u001b[0m\u001b[0m\n\u001b[1;32m     10\u001b[0m     \u001b[0moverlay\u001b[0m\u001b[0;34m=\u001b[0m\u001b[0;32mTrue\u001b[0m\u001b[0;34m,\u001b[0m\u001b[0;34m\u001b[0m\u001b[0;34m\u001b[0m\u001b[0m\n",
            "\u001b[0;31mTypeError\u001b[0m: 'ImageCollection' object is not subscriptable"
          ]
        }
      ]
    },
    {
      "cell_type": "code",
      "source": [
        "SETTLEMENTS = ee.Image(\"DLR/WSF/WSF2015/v1\")"
      ],
      "metadata": {
        "id": "RdzVrabCga40"
      },
      "id": "RdzVrabCga40",
      "execution_count": null,
      "outputs": []
    },
    {
      "cell_type": "code",
      "source": [
        "nlcd = ee.Image('USGS/NLCD/NLCD2016').select('impervious')\n",
        "nlcd = nlcd.divide(100).float()\n",
        "\n",
        "mapid = SETTLEMENTS.getMapId({'min': 255, 'max': 255})\n",
        "map = folium.Map(location=TOKYO, zoom_start=5)\n",
        "folium.TileLayer(\n",
        "    tiles=mapid['tile_fetcher'].url_format,\n",
        "    attr='Map Data © Google Earth Engine',\n",
        "    overlay=True,\n",
        "    name='nlcd impervious',\n",
        "  ).add_to(map)\n",
        "map.add_child(folium.LayerControl())\n",
        "map"
      ],
      "metadata": {
        "id": "ElDUZRiBfUOl",
        "outputId": "eb8affb0-9a43-400e-bd88-306f6fb0359f",
        "colab": {
          "base_uri": "https://localhost:8080/",
          "height": 404
        }
      },
      "id": "ElDUZRiBfUOl",
      "execution_count": null,
      "outputs": [
        {
          "output_type": "execute_result",
          "data": {
            "text/plain": [
              "<folium.folium.Map at 0x7feaf9115b20>"
            ],
            "text/html": [
              "<div style=\"width:100%;\"><div style=\"position:relative;width:100%;height:0;padding-bottom:60%;\"><span style=\"color:#565656\">Make this Notebook Trusted to load map: File -> Trust Notebook</span><iframe srcdoc=\"&lt;!DOCTYPE html&gt;\n",
              "&lt;html&gt;\n",
              "&lt;head&gt;\n",
              "    \n",
              "    &lt;meta http-equiv=&quot;content-type&quot; content=&quot;text/html; charset=UTF-8&quot; /&gt;\n",
              "    \n",
              "        &lt;script&gt;\n",
              "            L_NO_TOUCH = false;\n",
              "            L_DISABLE_3D = false;\n",
              "        &lt;/script&gt;\n",
              "    \n",
              "    &lt;style&gt;html, body {width: 100%;height: 100%;margin: 0;padding: 0;}&lt;/style&gt;\n",
              "    &lt;style&gt;#map {position:absolute;top:0;bottom:0;right:0;left:0;}&lt;/style&gt;\n",
              "    &lt;script src=&quot;https://cdn.jsdelivr.net/npm/leaflet@1.6.0/dist/leaflet.js&quot;&gt;&lt;/script&gt;\n",
              "    &lt;script src=&quot;https://code.jquery.com/jquery-1.12.4.min.js&quot;&gt;&lt;/script&gt;\n",
              "    &lt;script src=&quot;https://maxcdn.bootstrapcdn.com/bootstrap/3.2.0/js/bootstrap.min.js&quot;&gt;&lt;/script&gt;\n",
              "    &lt;script src=&quot;https://cdnjs.cloudflare.com/ajax/libs/Leaflet.awesome-markers/2.0.2/leaflet.awesome-markers.js&quot;&gt;&lt;/script&gt;\n",
              "    &lt;link rel=&quot;stylesheet&quot; href=&quot;https://cdn.jsdelivr.net/npm/leaflet@1.6.0/dist/leaflet.css&quot;/&gt;\n",
              "    &lt;link rel=&quot;stylesheet&quot; href=&quot;https://maxcdn.bootstrapcdn.com/bootstrap/3.2.0/css/bootstrap.min.css&quot;/&gt;\n",
              "    &lt;link rel=&quot;stylesheet&quot; href=&quot;https://maxcdn.bootstrapcdn.com/bootstrap/3.2.0/css/bootstrap-theme.min.css&quot;/&gt;\n",
              "    &lt;link rel=&quot;stylesheet&quot; href=&quot;https://maxcdn.bootstrapcdn.com/font-awesome/4.6.3/css/font-awesome.min.css&quot;/&gt;\n",
              "    &lt;link rel=&quot;stylesheet&quot; href=&quot;https://cdnjs.cloudflare.com/ajax/libs/Leaflet.awesome-markers/2.0.2/leaflet.awesome-markers.css&quot;/&gt;\n",
              "    &lt;link rel=&quot;stylesheet&quot; href=&quot;https://cdn.jsdelivr.net/gh/python-visualization/folium/folium/templates/leaflet.awesome.rotate.min.css&quot;/&gt;\n",
              "    \n",
              "            &lt;meta name=&quot;viewport&quot; content=&quot;width=device-width,\n",
              "                initial-scale=1.0, maximum-scale=1.0, user-scalable=no&quot; /&gt;\n",
              "            &lt;style&gt;\n",
              "                #map_d8367a0b16dd305d0c52fc4de2798e41 {\n",
              "                    position: relative;\n",
              "                    width: 100.0%;\n",
              "                    height: 100.0%;\n",
              "                    left: 0.0%;\n",
              "                    top: 0.0%;\n",
              "                }\n",
              "            &lt;/style&gt;\n",
              "        \n",
              "&lt;/head&gt;\n",
              "&lt;body&gt;\n",
              "    \n",
              "    \n",
              "            &lt;div class=&quot;folium-map&quot; id=&quot;map_d8367a0b16dd305d0c52fc4de2798e41&quot; &gt;&lt;/div&gt;\n",
              "        \n",
              "&lt;/body&gt;\n",
              "&lt;script&gt;\n",
              "    \n",
              "    \n",
              "            var map_d8367a0b16dd305d0c52fc4de2798e41 = L.map(\n",
              "                &quot;map_d8367a0b16dd305d0c52fc4de2798e41&quot;,\n",
              "                {\n",
              "                    center: [35.6762, 139.6503],\n",
              "                    crs: L.CRS.EPSG3857,\n",
              "                    zoom: 5,\n",
              "                    zoomControl: true,\n",
              "                    preferCanvas: false,\n",
              "                }\n",
              "            );\n",
              "\n",
              "            \n",
              "\n",
              "        \n",
              "    \n",
              "            var tile_layer_9c5d44a531e959a627dcb91f2c100ad9 = L.tileLayer(\n",
              "                &quot;https://{s}.tile.openstreetmap.org/{z}/{x}/{y}.png&quot;,\n",
              "                {&quot;attribution&quot;: &quot;Data by \\u0026copy; \\u003ca href=\\&quot;http://openstreetmap.org\\&quot;\\u003eOpenStreetMap\\u003c/a\\u003e, under \\u003ca href=\\&quot;http://www.openstreetmap.org/copyright\\&quot;\\u003eODbL\\u003c/a\\u003e.&quot;, &quot;detectRetina&quot;: false, &quot;maxNativeZoom&quot;: 18, &quot;maxZoom&quot;: 18, &quot;minZoom&quot;: 0, &quot;noWrap&quot;: false, &quot;opacity&quot;: 1, &quot;subdomains&quot;: &quot;abc&quot;, &quot;tms&quot;: false}\n",
              "            ).addTo(map_d8367a0b16dd305d0c52fc4de2798e41);\n",
              "        \n",
              "    \n",
              "            var tile_layer_4b8978edeb553cacdad47818fbef9f88 = L.tileLayer(\n",
              "                &quot;https://earthengine.googleapis.com/v1alpha/projects/earthengine-legacy/maps/42b0172fc1ac2788c63f06449816aa7d-202dbc5ea9e85e43dc6b2c6305dc43ad/tiles/{z}/{x}/{y}&quot;,\n",
              "                {&quot;attribution&quot;: &quot;Map Data \\u00a9 Google Earth Engine&quot;, &quot;detectRetina&quot;: false, &quot;maxNativeZoom&quot;: 18, &quot;maxZoom&quot;: 18, &quot;minZoom&quot;: 0, &quot;noWrap&quot;: false, &quot;opacity&quot;: 1, &quot;subdomains&quot;: &quot;abc&quot;, &quot;tms&quot;: false}\n",
              "            ).addTo(map_d8367a0b16dd305d0c52fc4de2798e41);\n",
              "        \n",
              "    \n",
              "            var layer_control_2dbfefc489eccd16e78827df8a8e59c6 = {\n",
              "                base_layers : {\n",
              "                    &quot;openstreetmap&quot; : tile_layer_9c5d44a531e959a627dcb91f2c100ad9,\n",
              "                },\n",
              "                overlays :  {\n",
              "                    &quot;nlcd impervious&quot; : tile_layer_4b8978edeb553cacdad47818fbef9f88,\n",
              "                },\n",
              "            };\n",
              "            L.control.layers(\n",
              "                layer_control_2dbfefc489eccd16e78827df8a8e59c6.base_layers,\n",
              "                layer_control_2dbfefc489eccd16e78827df8a8e59c6.overlays,\n",
              "                {&quot;autoZIndex&quot;: true, &quot;collapsed&quot;: true, &quot;position&quot;: &quot;topright&quot;}\n",
              "            ).addTo(map_d8367a0b16dd305d0c52fc4de2798e41);\n",
              "        \n",
              "&lt;/script&gt;\n",
              "&lt;/html&gt;\" style=\"position:absolute;width:100%;height:100%;left:0;top:0;border:none !important;\" allowfullscreen webkitallowfullscreen mozallowfullscreen></iframe></div></div>"
            ]
          },
          "metadata": {},
          "execution_count": 59
        }
      ]
    },
    {
      "cell_type": "markdown",
      "source": [
        "# Setup the Smaller Dataset to Test"
      ],
      "metadata": {
        "id": "2z9GEI0-bWhL"
      },
      "id": "2z9GEI0-bWhL"
    },
    {
      "cell_type": "code",
      "source": [
        "#Generation resolution factor \n",
        "GENERATE_RES = 4 \n",
        "# (1=32, 2=64, 3=96, 4=128, etc.)\n",
        "GENERATE_SQUARE = 32 * GENERATE_RES # rows/cols (should be square)\n",
        "IMAGE_CHANNELS = 3\n",
        "\n",
        "# Preview image \n",
        "PREVIEW_ROWS = 4\n",
        "PREVIEW_COLS = 7\n",
        "PREVIEW_MARGIN = 16\n",
        "\n",
        "# Size vector to generate images from\n",
        "SEED_SIZE = 256\n",
        "\n",
        "# Configuration\n",
        "DATA_PATH = 'C:/Users/shika/OneDrive/Documents/GitHub/mapGAN/data'\n",
        "EPOCHS = 50\n",
        "BATCH_SIZE = 16\n",
        "BUFFER_SIZE = 60000\n",
        "\n",
        "print(f\"Will generate {GENERATE_SQUARE}px square images.\")"
      ],
      "metadata": {
        "id": "xpUmYj5UbZ0E",
        "outputId": "e5552daa-d4f1-448b-b356-9580ae1cfa93",
        "colab": {
          "base_uri": "https://localhost:8080/"
        }
      },
      "id": "xpUmYj5UbZ0E",
      "execution_count": null,
      "outputs": [
        {
          "output_type": "stream",
          "name": "stdout",
          "text": [
            "Will generate 128px square images.\n"
          ]
        }
      ]
    },
    {
      "cell_type": "code",
      "source": [
        "training_binary_path = os.path.join(DATA_PATH,\n",
        "        f'training_data_{GENERATE_SQUARE}_{GENERATE_SQUARE}.npy')\n",
        "\n",
        "print(f\"Looking for file: {training_binary_path}\")\n",
        "\n",
        "if not os.path.isfile(training_binary_path):\n",
        "  start = time.time()\n",
        "  print(\"Loading training images...\")\n",
        "\n",
        "  training_data = []\n",
        "  GIS_path = os.path.join(DATA_PATH)\n",
        "  for filename in tqdm(os.listdir(GIS_path)):\n",
        "      path = os.path.join(GIS_path,filename)\n",
        "      image = Image.open(path).resize((GENERATE_SQUARE,\n",
        "            GENERATE_SQUARE),Image.ANTIALIAS)\n",
        "      training_data.append(np.asarray(image))\n",
        "  training_data = np.reshape(training_data,(-1,GENERATE_SQUARE,\n",
        "            GENERATE_SQUARE,IMAGE_CHANNELS))\n",
        "  training_data = training_data.astype(np.float32)\n",
        "  training_data = training_data / 127.5 - 1.\n",
        "\n",
        "  print(\"Saving training image binary...\")\n",
        "  np.save(training_binary_path,training_data)\n",
        "  elapsed = time.time()-start\n",
        "  print (f'Image preprocess time: {hms_string(elapsed)}')\n",
        "else:\n",
        "  print(\"Loading previous training pickle...\")\n",
        "  training_data = np.load(training_binary_path)"
      ],
      "metadata": {
        "id": "he0rUm-nbvIP",
        "outputId": "3f4c2907-e7bb-415b-fbda-464a26f3e20d",
        "colab": {
          "base_uri": "https://localhost:8080/"
        }
      },
      "id": "he0rUm-nbvIP",
      "execution_count": null,
      "outputs": [
        {
          "output_type": "stream",
          "name": "stdout",
          "text": [
            "Looking for file: C:/Users/shika/OneDrive/Documents/GitHub/mapGAN/data\\training_data_128_128.npy\n",
            "Loading previous training pickle...\n"
          ]
        }
      ]
    },
    {
      "cell_type": "code",
      "source": [
        "train_dataset = tf.data.Dataset.from_tensor_slices(training_data).shuffle(BUFFER_SIZE).batch(BATCH_SIZE)"
      ],
      "metadata": {
        "id": "FkWfd--wbwK7"
      },
      "id": "FkWfd--wbwK7",
      "execution_count": null,
      "outputs": []
    },
    {
      "cell_type": "code",
      "source": [
        "def build_generator(seed_size, channels):\n",
        "    model = Sequential()\n",
        "\n",
        "    model.add(Dense(4*4*256,input_dim=seed_size))\n",
        "    model.add(LeakyReLU(0.2))\n",
        "    model.add(Reshape((4,4,256)))\n",
        "\n",
        "    model.add(UpSampling2D())\n",
        "    model.add(Conv2D(256,kernel_size=3,padding=\"same\"))\n",
        "    model.add(BatchNormalization(momentum=0.8))\n",
        "    model.add(Activation(\"relu\"))\n",
        "\n",
        "    model.add(UpSampling2D())\n",
        "    model.add(Conv2D(256,kernel_size=3,padding=\"same\"))\n",
        "    model.add(BatchNormalization(momentum=0.8))\n",
        "    model.add(Activation(\"relu\"))\n",
        "   \n",
        "    # Output resolution, additional upsampling\n",
        "    model.add(UpSampling2D())\n",
        "    model.add(Conv2D(128,kernel_size=3,padding=\"same\"))\n",
        "    model.add(BatchNormalization(momentum=0.8))\n",
        "    model.add(Activation(\"relu\"))\n",
        "\n",
        "    if GENERATE_RES>1:\n",
        "      model.add(UpSampling2D(size=(GENERATE_RES,GENERATE_RES)))\n",
        "      model.add(Conv2D(128,kernel_size=3,padding=\"same\"))\n",
        "      model.add(BatchNormalization(momentum=0.8))\n",
        "      model.add(Activation(\"relu\"))\n",
        "\n",
        "    # Final CNN layer\n",
        "    model.add(Conv2D(channels,kernel_size=3,padding=\"same\"))\n",
        "    model.add(Activation(\"tanh\"))\n",
        "\n",
        "    return model"
      ],
      "metadata": {
        "id": "qslA0K92bzVs"
      },
      "id": "qslA0K92bzVs",
      "execution_count": null,
      "outputs": []
    },
    {
      "cell_type": "code",
      "source": [
        "def build_generator(): \n",
        "    model = Sequential()\n",
        "    \n",
        "    # Takes in random values and reshapes it to 7x7x128\n",
        "    # Beginnings of a generated image\n",
        "    model.add(Dense(7*7*128, input_dim=128))\n",
        "    model.add(LeakyReLU(0.2))\n",
        "    model.add(Reshape((7,7,128)))\n",
        "    \n",
        "    # Upsampling block 1 \n",
        "    model.add(UpSampling2D())\n",
        "    model.add(Conv2D(128, 5, padding='same'))\n",
        "    model.add(LeakyReLU(0.2))\n",
        "    \n",
        "    # Upsampling block 2 \n",
        "    model.add(UpSampling2D())\n",
        "    model.add(Conv2D(128, 5, padding='same'))\n",
        "    model.add(LeakyReLU(0.2))\n",
        "    \n",
        "    # Convolutional block 1\n",
        "    model.add(Conv2D(128, 4, padding='same'))\n",
        "    model.add(LeakyReLU(0.2))\n",
        "    \n",
        "    # Convolutional block 2\n",
        "    model.add(Conv2D(128, 4, padding='same'))\n",
        "    model.add(LeakyReLU(0.2))\n",
        "    \n",
        "    # Conv layer to get to one channel\n",
        "    model.add(Conv2D(1, 4, padding='same', activation='sigmoid'))\n",
        "    \n",
        "    return model"
      ],
      "metadata": {
        "id": "BIf_5DaBb4he"
      },
      "id": "BIf_5DaBb4he",
      "execution_count": null,
      "outputs": []
    },
    {
      "cell_type": "markdown",
      "source": [
        "# Build the Neural Network\n",
        "\n",
        "[Google EE DNN example](https://github.com/google/earthengine-api/blob/master/python/examples/ipynb/TF_demo1_keras.ipynb)\n",
        "\n",
        "[Google EE CNN example](https://github.com/google/earthengine-api/blob/master/python/examples/ipynb/UNET_regression_demo.ipynb)"
      ],
      "metadata": {
        "id": "k4x8J9feQ-Kr"
      },
      "id": "k4x8J9feQ-Kr"
    },
    {
      "cell_type": "markdown",
      "source": [],
      "metadata": {
        "id": "vchzerzOgY3x"
      },
      "id": "vchzerzOgY3x"
    },
    {
      "cell_type": "code",
      "source": [
        "def build_gen_model():\n",
        "  model = Sequential()\n",
        "\n",
        "  model.add(Dense(7*7*128, input_dim=128))"
      ],
      "metadata": {
        "id": "WrDWR2nvhX8B"
      },
      "id": "WrDWR2nvhX8B",
      "execution_count": null,
      "outputs": []
    }
  ],
  "metadata": {
    "kernelspec": {
      "display_name": "Python 3",
      "language": "python",
      "name": "python3"
    },
    "colab": {
      "provenance": []
    }
  },
  "nbformat": 4,
  "nbformat_minor": 5
}