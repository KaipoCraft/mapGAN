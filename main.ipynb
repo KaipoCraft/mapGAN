{
 "cells": [
  {
   "cell_type": "markdown",
   "id": "53080d3c-ffc9-46bd-9e9a-04876155d1b2",
   "metadata": {},
   "source": [
    "Resources\n",
    "Style GAN opensource repo\n",
    "https://github.com/NVlabs/stylegan2-ada-pytorch\n",
    "How to build a GAN\n",
    "https://www.youtube.com/watch?v=AALBGpLbj6Q&t=813s&ab_channel=NicholasRenotte\n",
    "Intro to geemap and Google Earth Engine\n",
    "https://www.youtube.com/watch?v=wGjpjh9IQ5I&list=PLAxJ4-o7ZoPccOFv1dCwvGI6TYnirRTg3&ab_channel=QiushengWu\n",
    "\n",
    "Google Earth Engine Python Documentation\n",
    "https://developers.google.com/earth-engine/guides/python_install\n",
    "Google Earth Engine sample workflow\n",
    "https://github.com/google/earthengine-api/blob/master/python/examples/ipynb/Earth_Engine_TensorFlow_AI_Platform.ipynb"
   ]
  },
  {
   "cell_type": "markdown",
   "id": "482554cd-1e15-4430-9017-b0905f328aae",
   "metadata": {},
   "source": [
    "# 1. Import Dependencies"
   ]
  },
  {
   "cell_type": "markdown",
   "id": "13fb10ce-a0e2-4581-a4ee-7e2be8b4b5e0",
   "metadata": {
    "tags": []
   },
   "source": [
    "We'll be using Matplotlib, Tensorflow, and Numpy to create our models"
   ]
  },
  {
   "cell_type": "markdown",
   "id": "fb0c9405-cc4e-4b0b-8a0b-e306c4395210",
   "metadata": {},
   "source": [
    "1. Install these necessary libraries"
   ]
  },
  {
   "cell_type": "code",
   "execution_count": 12,
   "id": "2b011609-ee6a-4cf3-a17d-1b3ff109f459",
   "metadata": {
    "scrolled": true,
    "tags": []
   },
   "outputs": [
    {
     "name": "stdout",
     "output_type": "stream",
     "text": [
      "Collecting earthengine-api\n",
      "  Using cached earthengine_api-0.1.334-py3-none-any.whl\n",
      "Collecting google-auth-httplib2>=0.0.3\n",
      "  Using cached google_auth_httplib2-0.1.0-py2.py3-none-any.whl (9.3 kB)\n",
      "Requirement already satisfied: httplib2<1dev,>=0.9.2 in /opt/conda/lib/python3.10/site-packages (from earthengine-api) (0.21.0)\n",
      "Collecting google-api-python-client>=1.12.1\n",
      "  Using cached google_api_python_client-2.68.0-py2.py3-none-any.whl (10.6 MB)\n",
      "Requirement already satisfied: six in /opt/conda/lib/python3.10/site-packages (from earthengine-api) (1.16.0)\n",
      "Collecting google-cloud-storage\n",
      "  Using cached google_cloud_storage-2.6.0-py2.py3-none-any.whl (105 kB)\n",
      "Requirement already satisfied: future in /opt/conda/lib/python3.10/site-packages (from earthengine-api) (0.18.2)\n",
      "Requirement already satisfied: google-auth>=1.4.1 in /opt/conda/lib/python3.10/site-packages (from earthengine-api) (2.13.0)\n",
      "Requirement already satisfied: requests in /opt/conda/lib/python3.10/site-packages (from earthengine-api) (2.28.1)\n",
      "Collecting google-api-core!=2.0.*,!=2.1.*,!=2.2.*,!=2.3.0,<3.0.0dev,>=1.31.5\n",
      "  Using cached google_api_core-2.11.0-py3-none-any.whl (120 kB)\n",
      "Requirement already satisfied: uritemplate<5,>=3.0.1 in /opt/conda/lib/python3.10/site-packages (from google-api-python-client>=1.12.1->earthengine-api) (4.1.1)\n",
      "Requirement already satisfied: pyasn1-modules>=0.2.1 in /opt/conda/lib/python3.10/site-packages (from google-auth>=1.4.1->earthengine-api) (0.2.8)\n",
      "Requirement already satisfied: cachetools<6.0,>=2.0.0 in /opt/conda/lib/python3.10/site-packages (from google-auth>=1.4.1->earthengine-api) (5.2.0)\n",
      "Requirement already satisfied: rsa<5,>=3.1.4 in /opt/conda/lib/python3.10/site-packages (from google-auth>=1.4.1->earthengine-api) (4.9)\n",
      "Requirement already satisfied: pyparsing!=3.0.0,!=3.0.1,!=3.0.2,!=3.0.3,<4,>=2.4.2 in /opt/conda/lib/python3.10/site-packages (from httplib2<1dev,>=0.9.2->earthengine-api) (3.0.9)\n",
      "Requirement already satisfied: google-resumable-media>=2.3.2 in /opt/conda/lib/python3.10/site-packages (from google-cloud-storage->earthengine-api) (2.4.0)\n",
      "Collecting google-cloud-core<3.0dev,>=2.3.0\n",
      "  Using cached google_cloud_core-2.3.2-py2.py3-none-any.whl (29 kB)\n",
      "Requirement already satisfied: urllib3<1.27,>=1.21.1 in /opt/conda/lib/python3.10/site-packages (from requests->earthengine-api) (1.26.11)\n",
      "Requirement already satisfied: certifi>=2017.4.17 in /opt/conda/lib/python3.10/site-packages (from requests->earthengine-api) (2022.6.15)\n",
      "Requirement already satisfied: charset-normalizer<3,>=2 in /opt/conda/lib/python3.10/site-packages (from requests->earthengine-api) (2.1.0)\n",
      "Requirement already satisfied: idna<4,>=2.5 in /opt/conda/lib/python3.10/site-packages (from requests->earthengine-api) (3.3)\n",
      "Requirement already satisfied: protobuf!=3.20.0,!=3.20.1,!=4.21.0,!=4.21.1,!=4.21.2,!=4.21.3,!=4.21.4,!=4.21.5,<5.0.0dev,>=3.19.5 in /opt/conda/lib/python3.10/site-packages (from google-api-core!=2.0.*,!=2.1.*,!=2.2.*,!=2.3.0,<3.0.0dev,>=1.31.5->google-api-python-client>=1.12.1->earthengine-api) (3.19.6)\n",
      "Collecting google-auth>=1.4.1\n",
      "  Using cached google_auth-2.14.1-py2.py3-none-any.whl (175 kB)\n",
      "Requirement already satisfied: googleapis-common-protos<2.0dev,>=1.56.2 in /opt/conda/lib/python3.10/site-packages (from google-api-core!=2.0.*,!=2.1.*,!=2.2.*,!=2.3.0,<3.0.0dev,>=1.31.5->google-api-python-client>=1.12.1->earthengine-api) (1.57.0)\n",
      "Requirement already satisfied: google-crc32c<2.0dev,>=1.0 in /opt/conda/lib/python3.10/site-packages (from google-resumable-media>=2.3.2->google-cloud-storage->earthengine-api) (1.5.0)\n",
      "Requirement already satisfied: pyasn1<0.5.0,>=0.4.6 in /opt/conda/lib/python3.10/site-packages (from pyasn1-modules>=0.2.1->google-auth>=1.4.1->earthengine-api) (0.4.8)\n",
      "Installing collected packages: google-auth, google-auth-httplib2, google-api-core, google-cloud-core, google-api-python-client, google-cloud-storage, earthengine-api\n",
      "  Attempting uninstall: google-auth\n",
      "    Found existing installation: google-auth 2.13.0\n",
      "    Uninstalling google-auth-2.13.0:\n",
      "\u001b[31mERROR: Could not install packages due to an OSError: [Errno 13] Permission denied: '__init__.py'\n",
      "Consider using the `--user` option or check the permissions.\n",
      "\u001b[0m\u001b[31m\n",
      "\u001b[0m"
     ]
    }
   ],
   "source": [
    "!pip install earthengine-api --upgrade"
   ]
  },
  {
   "cell_type": "code",
   "execution_count": 2,
   "id": "42057827-e71f-4942-97c8-afacf93c95bb",
   "metadata": {},
   "outputs": [
    {
     "name": "stdout",
     "output_type": "stream",
     "text": [
      "Collecting folium\n",
      "  Using cached folium-0.13.0-py2.py3-none-any.whl (96 kB)\n",
      "Requirement already satisfied: jinja2>=2.9 in /opt/conda/lib/python3.10/site-packages (from folium) (3.1.2)\n",
      "Requirement already satisfied: numpy in /opt/conda/lib/python3.10/site-packages (from folium) (1.22.4)\n",
      "Requirement already satisfied: requests in /opt/conda/lib/python3.10/site-packages (from folium) (2.28.1)\n",
      "Collecting branca>=0.3.0\n",
      "  Using cached branca-0.6.0-py3-none-any.whl (24 kB)\n",
      "Requirement already satisfied: MarkupSafe>=2.0 in /opt/conda/lib/python3.10/site-packages (from jinja2>=2.9->folium) (2.1.1)\n",
      "Requirement already satisfied: urllib3<1.27,>=1.21.1 in /opt/conda/lib/python3.10/site-packages (from requests->folium) (1.26.11)\n",
      "Requirement already satisfied: charset-normalizer<3,>=2 in /opt/conda/lib/python3.10/site-packages (from requests->folium) (2.1.0)\n",
      "Requirement already satisfied: certifi>=2017.4.17 in /opt/conda/lib/python3.10/site-packages (from requests->folium) (2022.6.15)\n",
      "Requirement already satisfied: idna<4,>=2.5 in /opt/conda/lib/python3.10/site-packages (from requests->folium) (3.3)\n",
      "Installing collected packages: branca, folium\n",
      "Successfully installed branca-0.6.0 folium-0.13.0\n"
     ]
    }
   ],
   "source": [
    "!pip install folium"
   ]
  },
  {
   "cell_type": "code",
   "execution_count": 13,
   "id": "c3e78c1b-8708-468e-a026-81a627d754a7",
   "metadata": {
    "scrolled": true,
    "tags": []
   },
   "outputs": [
    {
     "name": "stdout",
     "output_type": "stream",
     "text": [
      "Collecting geehydro\n",
      "  Using cached geehydro-0.2.0-py2.py3-none-any.whl\n",
      "Requirement already satisfied: click in /opt/conda/lib/python3.10/site-packages (from geehydro) (8.1.3)\n",
      "Collecting earthengine-api\n",
      "  Using cached earthengine_api-0.1.334-py3-none-any.whl\n",
      "Requirement already satisfied: folium in /opt/conda/lib/python3.10/site-packages (from geehydro) (0.13.0)\n",
      "Collecting google-auth-httplib2>=0.0.3\n",
      "  Using cached google_auth_httplib2-0.1.0-py2.py3-none-any.whl (9.3 kB)\n",
      "Requirement already satisfied: requests in /opt/conda/lib/python3.10/site-packages (from earthengine-api->geehydro) (2.28.1)\n",
      "Requirement already satisfied: google-auth>=1.4.1 in /opt/conda/lib/python3.10/site-packages (from earthengine-api->geehydro) (2.13.0)\n",
      "Collecting google-api-python-client>=1.12.1\n",
      "  Using cached google_api_python_client-2.68.0-py2.py3-none-any.whl (10.6 MB)\n",
      "Collecting google-cloud-storage\n",
      "  Using cached google_cloud_storage-2.6.0-py2.py3-none-any.whl (105 kB)\n",
      "Requirement already satisfied: future in /opt/conda/lib/python3.10/site-packages (from earthengine-api->geehydro) (0.18.2)\n",
      "Requirement already satisfied: httplib2<1dev,>=0.9.2 in /opt/conda/lib/python3.10/site-packages (from earthengine-api->geehydro) (0.21.0)\n",
      "Requirement already satisfied: six in /opt/conda/lib/python3.10/site-packages (from earthengine-api->geehydro) (1.16.0)\n",
      "Requirement already satisfied: branca>=0.3.0 in /opt/conda/lib/python3.10/site-packages (from folium->geehydro) (0.6.0)\n",
      "Requirement already satisfied: numpy in /opt/conda/lib/python3.10/site-packages (from folium->geehydro) (1.22.4)\n",
      "Requirement already satisfied: jinja2>=2.9 in /opt/conda/lib/python3.10/site-packages (from folium->geehydro) (3.1.2)\n",
      "Requirement already satisfied: uritemplate<5,>=3.0.1 in /opt/conda/lib/python3.10/site-packages (from google-api-python-client>=1.12.1->earthengine-api->geehydro) (4.1.1)\n",
      "Collecting google-api-core!=2.0.*,!=2.1.*,!=2.2.*,!=2.3.0,<3.0.0dev,>=1.31.5\n",
      "  Using cached google_api_core-2.11.0-py3-none-any.whl (120 kB)\n",
      "Requirement already satisfied: pyasn1-modules>=0.2.1 in /opt/conda/lib/python3.10/site-packages (from google-auth>=1.4.1->earthengine-api->geehydro) (0.2.8)\n",
      "Requirement already satisfied: cachetools<6.0,>=2.0.0 in /opt/conda/lib/python3.10/site-packages (from google-auth>=1.4.1->earthengine-api->geehydro) (5.2.0)\n",
      "Requirement already satisfied: rsa<5,>=3.1.4 in /opt/conda/lib/python3.10/site-packages (from google-auth>=1.4.1->earthengine-api->geehydro) (4.9)\n",
      "Requirement already satisfied: pyparsing!=3.0.0,!=3.0.1,!=3.0.2,!=3.0.3,<4,>=2.4.2 in /opt/conda/lib/python3.10/site-packages (from httplib2<1dev,>=0.9.2->earthengine-api->geehydro) (3.0.9)\n",
      "Requirement already satisfied: MarkupSafe>=2.0 in /opt/conda/lib/python3.10/site-packages (from jinja2>=2.9->folium->geehydro) (2.1.1)\n",
      "Requirement already satisfied: google-resumable-media>=2.3.2 in /opt/conda/lib/python3.10/site-packages (from google-cloud-storage->earthengine-api->geehydro) (2.4.0)\n",
      "Collecting google-cloud-core<3.0dev,>=2.3.0\n",
      "  Using cached google_cloud_core-2.3.2-py2.py3-none-any.whl (29 kB)\n",
      "Requirement already satisfied: urllib3<1.27,>=1.21.1 in /opt/conda/lib/python3.10/site-packages (from requests->earthengine-api->geehydro) (1.26.11)\n",
      "Requirement already satisfied: charset-normalizer<3,>=2 in /opt/conda/lib/python3.10/site-packages (from requests->earthengine-api->geehydro) (2.1.0)\n",
      "Requirement already satisfied: certifi>=2017.4.17 in /opt/conda/lib/python3.10/site-packages (from requests->earthengine-api->geehydro) (2022.6.15)\n",
      "Requirement already satisfied: idna<4,>=2.5 in /opt/conda/lib/python3.10/site-packages (from requests->earthengine-api->geehydro) (3.3)\n",
      "Requirement already satisfied: protobuf!=3.20.0,!=3.20.1,!=4.21.0,!=4.21.1,!=4.21.2,!=4.21.3,!=4.21.4,!=4.21.5,<5.0.0dev,>=3.19.5 in /opt/conda/lib/python3.10/site-packages (from google-api-core!=2.0.*,!=2.1.*,!=2.2.*,!=2.3.0,<3.0.0dev,>=1.31.5->google-api-python-client>=1.12.1->earthengine-api->geehydro) (3.19.6)\n",
      "Collecting google-auth>=1.4.1\n",
      "  Using cached google_auth-2.14.1-py2.py3-none-any.whl (175 kB)\n",
      "Requirement already satisfied: googleapis-common-protos<2.0dev,>=1.56.2 in /opt/conda/lib/python3.10/site-packages (from google-api-core!=2.0.*,!=2.1.*,!=2.2.*,!=2.3.0,<3.0.0dev,>=1.31.5->google-api-python-client>=1.12.1->earthengine-api->geehydro) (1.57.0)\n",
      "Requirement already satisfied: google-crc32c<2.0dev,>=1.0 in /opt/conda/lib/python3.10/site-packages (from google-resumable-media>=2.3.2->google-cloud-storage->earthengine-api->geehydro) (1.5.0)\n",
      "Requirement already satisfied: pyasn1<0.5.0,>=0.4.6 in /opt/conda/lib/python3.10/site-packages (from pyasn1-modules>=0.2.1->google-auth>=1.4.1->earthengine-api->geehydro) (0.4.8)\n",
      "Installing collected packages: google-auth, google-auth-httplib2, google-api-core, google-cloud-core, google-api-python-client, google-cloud-storage, earthengine-api, geehydro\n",
      "  Attempting uninstall: google-auth\n",
      "    Found existing installation: google-auth 2.13.0\n",
      "    Uninstalling google-auth-2.13.0:\n",
      "\u001b[31mERROR: Could not install packages due to an OSError: [Errno 13] Permission denied: '__init__.py'\n",
      "Consider using the `--user` option or check the permissions.\n",
      "\u001b[0m\u001b[31m\n",
      "\u001b[0m"
     ]
    }
   ],
   "source": [
    "!pip install geehydro"
   ]
  },
  {
   "cell_type": "markdown",
   "id": "dd3105b8-0c06-4d1d-b268-f562ddcc1d62",
   "metadata": {},
   "source": [
    "2. Import these libraries"
   ]
  },
  {
   "cell_type": "code",
   "execution_count": 10,
   "id": "cedae47c-1584-4ad6-bf45-9e976e2ab9cb",
   "metadata": {},
   "outputs": [],
   "source": [
    "import tensorflow as tf"
   ]
  },
  {
   "cell_type": "code",
   "execution_count": 5,
   "id": "cfd312de-9040-484c-8f10-b3402f1df06a",
   "metadata": {},
   "outputs": [],
   "source": [
    "from tensorflow.keras.models import Sequential\n",
    "from tensorflow.keras.layers import Conv2D, Dense, Flatten, Reshape, LeakyReLU, Dropout, UpSampling2D\n",
    "from tensorflow.keras.optimizers import Adam\n",
    "from tensorflow.keras.losses import BinaryCrossentropy\n",
    "from tensorflow.keras.models import Model\n",
    "from tensorflow.keras.preprocessing.image import array_to_img\n",
    "from tensorflow.keras.callbacks import Callback"
   ]
  },
  {
   "cell_type": "code",
   "execution_count": 6,
   "id": "8b6cf7e4-9818-4e69-b89a-c67dc3d2f618",
   "metadata": {},
   "outputs": [],
   "source": [
    "import os"
   ]
  },
  {
   "cell_type": "code",
   "execution_count": 7,
   "id": "45915e68-0d12-4653-9476-a91a9f31ca7c",
   "metadata": {},
   "outputs": [],
   "source": [
    "import numpy as np"
   ]
  },
  {
   "cell_type": "markdown",
   "id": "0a70c487-0016-4f91-810d-f3cb75b19012",
   "metadata": {},
   "source": [
    "This is the import for Google Earth Engine. It will require a login for access to the data"
   ]
  },
  {
   "cell_type": "code",
   "execution_count": 9,
   "id": "0e28454e-a1f5-4cc5-9731-de4384aafa8c",
   "metadata": {},
   "outputs": [
    {
     "ename": "ModuleNotFoundError",
     "evalue": "No module named 'ee'",
     "output_type": "error",
     "traceback": [
      "\u001b[0;31m---------------------------------------------------------------------------\u001b[0m",
      "\u001b[0;31mModuleNotFoundError\u001b[0m                       Traceback (most recent call last)",
      "Input \u001b[0;32mIn [9]\u001b[0m, in \u001b[0;36m<cell line: 1>\u001b[0;34m()\u001b[0m\n\u001b[0;32m----> 1\u001b[0m \u001b[38;5;28;01mimport\u001b[39;00m \u001b[38;5;21;01mee\u001b[39;00m\n\u001b[1;32m      2\u001b[0m ee\u001b[38;5;241m.\u001b[39mAuthenticate()\n\u001b[1;32m      3\u001b[0m ee\u001b[38;5;241m.\u001b[39mInitialize()\n",
      "\u001b[0;31mModuleNotFoundError\u001b[0m: No module named 'ee'"
     ]
    }
   ],
   "source": [
    "import ee\n",
    "ee.Authenticate()\n",
    "ee.Initialize()\n",
    "print(ee.Image(\"NASA/NASADEM_HGT/001\").get(\"title\").getInfo())"
   ]
  },
  {
   "cell_type": "code",
   "execution_count": 11,
   "id": "6443eb83-0929-4403-aa89-05dfe654d826",
   "metadata": {},
   "outputs": [
    {
     "ename": "ModuleNotFoundError",
     "evalue": "No module named 'geehydro'",
     "output_type": "error",
     "traceback": [
      "\u001b[0;31m---------------------------------------------------------------------------\u001b[0m",
      "\u001b[0;31mModuleNotFoundError\u001b[0m                       Traceback (most recent call last)",
      "Input \u001b[0;32mIn [11]\u001b[0m, in \u001b[0;36m<cell line: 3>\u001b[0;34m()\u001b[0m\n\u001b[1;32m      1\u001b[0m \u001b[38;5;28;01mimport\u001b[39;00m \u001b[38;5;21;01mfolium\u001b[39;00m\n\u001b[1;32m      2\u001b[0m \u001b[38;5;28;01mfrom\u001b[39;00m \u001b[38;5;21;01mfolium\u001b[39;00m \u001b[38;5;28;01mimport\u001b[39;00m plugins\n\u001b[0;32m----> 3\u001b[0m \u001b[38;5;28;01mimport\u001b[39;00m \u001b[38;5;21;01mgeehydro\u001b[39;00m\n",
      "\u001b[0;31mModuleNotFoundError\u001b[0m: No module named 'geehydro'"
     ]
    }
   ],
   "source": [
    "import folium\n",
    "from folium import plugins\n",
    "import geehydro"
   ]
  },
  {
   "cell_type": "markdown",
   "id": "c0fddf8a-ee19-476f-b70f-1b68033611c9",
   "metadata": {},
   "source": [
    "# 2. Define Variables"
   ]
  },
  {
   "cell_type": "code",
   "execution_count": null,
   "id": "dd11f499-1583-4503-9841-ed419d3d1336",
   "metadata": {},
   "outputs": [],
   "source": [
    "# Your Earth Engine username.  This is used to import a classified image\n",
    "# into your Earth Engine assets folder.\n",
    "USER_NAME = 'username'\n",
    "\n",
    "# Cloud Storage bucket into which training, testing and prediction \n",
    "# datasets will be written.  You must be able to write into this bucket.\n",
    "OUTPUT_BUCKET = 'your-bucket'\n",
    "\n",
    "# Use Landsat 8 surface reflectance data for predictors.\n",
    "DATASET = ee.ImageCollection('ORTHO/Switzerland/SWISSIMAGE/10cm')\n",
    "# Use these bands for prediction.\n",
    "BANDS = ['R', 'G', 'B']\n",
    "\n",
    "# This is a trianing/testing dataset of points with known land cover labels.\n",
    "LABEL_DATA = ee.FeatureCollection('projects/google/demo_landcover_labels')\n",
    "# The labels, consecutive integer indices starting from zero, are stored in\n",
    "# this property, set on each point.\n",
    "LABEL = 'landcover'\n",
    "# Number of label values, i.e. number of classes in the classification.\n",
    "N_CLASSES = 3\n",
    "\n",
    "# These names are used to specify properties in the export of\n",
    "# training/testing data and to define the mapping between names and data\n",
    "# when reading into TensorFlow datasets.\n",
    "FEATURE_NAMES = list(BANDS)\n",
    "FEATURE_NAMES.append(LABEL)\n",
    "\n",
    "# File names for the training and testing datasets.  These TFRecord files\n",
    "# will be exported from Earth Engine into the Cloud Storage bucket.\n",
    "TRAIN_FILE_PREFIX = 'Training_demo'\n",
    "TEST_FILE_PREFIX = 'Testing_demo'\n",
    "file_extension = '.tfrecord.gz'\n",
    "TRAIN_FILE_PATH = 'gs://' + OUTPUT_BUCKET + '/' + TRAIN_FILE_PREFIX + file_extension\n",
    "TEST_FILE_PATH = 'gs://' + OUTPUT_BUCKET + '/' + TEST_FILE_PREFIX + file_extension\n",
    "\n",
    "# File name for the prediction (image) dataset.  The trained model will read\n",
    "# this dataset and make predictions in each pixel.\n",
    "IMAGE_FILE_PREFIX = 'Image_pixel_demo_'\n",
    "\n",
    "# The output path for the classified image (i.e. predictions) TFRecord file.\n",
    "OUTPUT_IMAGE_FILE = 'gs://' + OUTPUT_BUCKET + '/Classified_pixel_demo.TFRecord'\n",
    "# Export imagery in this region.\n",
    "EXPORT_REGION = ee.Geometry.Rectangle([-122.7, 37.3, -121.8, 38.00])\n",
    "# The name of the Earth Engine asset to be created by importing\n",
    "# the classified image from the TFRecord file in Cloud Storage.\n",
    "OUTPUT_ASSET_ID = 'users/' + USER_NAME + '/Classified_pixel_demo'"
   ]
  },
  {
   "cell_type": "markdown",
   "id": "4fb5b51d-defe-46c6-8923-ceca3844d308",
   "metadata": {},
   "source": [
    "# 3. Examine Data"
   ]
  },
  {
   "cell_type": "markdown",
   "id": "30379cc3-c23d-4f50-96b4-67bed0d778c6",
   "metadata": {},
   "source": [
    "This dataset is of high-resolution satellite imagery of the Earth.\n",
    "\n",
    "https://developers.google.com/earth-engine/datasets/catalog/SKYSAT_GEN-A_PUBLIC_ORTHO_RGB"
   ]
  },
  {
   "cell_type": "code",
   "execution_count": null,
   "id": "e573db87-7413-4ce6-a5f6-1565049584ab",
   "metadata": {},
   "outputs": [],
   "source": [
    "Map2 = folium.Map(location=[14.09, -59.9358], zoom_start=3)\n",
    "Map2.setOptions('HYBRID')"
   ]
  },
  {
   "cell_type": "code",
   "execution_count": null,
   "id": "cd689443-f389-46c8-b50a-98535c83d999",
   "metadata": {},
   "outputs": [],
   "source": [
    "# Load an image.\n",
    "image = ee.Image('LANDSAT/LC08/C02/T1_TOA/LC08_044034_20140318')\n",
    "\n",
    "# Define the visualization parameters.\n",
    "image_viz_params = {\n",
    "    'bands': ['B5', 'B4', 'B3'],\n",
    "    'min': 0,\n",
    "    'max': 0.5,\n",
    "    'gamma': [0.95, 1.1, 1]\n",
    "}\n",
    "\n",
    "# Define a map centered on San Francisco Bay.\n",
    "map_l8 = folium.Map(location=[37.5010, -122.1899], zoom_start=10)\n",
    "\n",
    "# Add the image layer to the map and display it.\n",
    "map_l8.add_ee_layer(image, image_viz_params, 'false color composite')\n",
    "display(map_l8)"
   ]
  },
  {
   "cell_type": "code",
   "execution_count": null,
   "id": "691de4e0-7068-4888-84a9-d0cfde7fdf15",
   "metadata": {},
   "outputs": [],
   "source": [
    "dataset = ee.ImageCollection(\"LANDSAT/LE07/C02/T1\")\n",
    "colorRGB = dataset.select(['B1', 'B2', 'B3', 'B4'])\n",
    "colorRGBVis = {}\n",
    "Map2.setCenter(6.746, 46.529, 6)\n",
    "Map2.addLayer(colorRGB, colorRGBVis, 'SkySat RGB')"
   ]
  },
  {
   "cell_type": "code",
   "execution_count": null,
   "id": "1f3df304-0395-48e4-a895-6afd774b4441",
   "metadata": {},
   "outputs": [],
   "source": [
    "Map2.setControlVisibility(layerControl=True, fullscreenControl=True, latLngPopup=True)\n",
    "Map2"
   ]
  },
  {
   "cell_type": "markdown",
   "id": "fc2ad382-3626-412f-bf58-0810f811e5c8",
   "metadata": {},
   "source": [
    "1. Create an interactive map"
   ]
  },
  {
   "cell_type": "code",
   "execution_count": null,
   "id": "a0292e26-3ef6-4c77-8749-7ccd2596871d",
   "metadata": {},
   "outputs": [],
   "source": [
    "Boulder = [40.0150, -105.2705]"
   ]
  },
  {
   "cell_type": "code",
   "execution_count": null,
   "id": "1571d95e-0f2b-4c4d-a2c8-c37e3664a2e5",
   "metadata": {},
   "outputs": [],
   "source": [
    "Map = folium.Map(location=Boulder, zoom_start=12)\n",
    "Map.setOptions('HYBRID')\n",
    "Map.setControlVisibility(layerControl=True, fullscreenControl=True, latLngPopup=True)\n",
    "\n",
    "Map"
   ]
  },
  {
   "cell_type": "code",
   "execution_count": null,
   "id": "d2fdf0df-fef4-4b28-8ff5-5c308fcea310",
   "metadata": {},
   "outputs": [],
   "source": [
    "# https://colab.research.google.com/github/giswqs/qgis-earthengine-examples/blob/master/Folium/ee-api-folium-setup.ipynb#scrollTo=7uSjLbh1LBeX\n",
    "\n",
    "# Define a method for displaying Earth Engine image tiles on a folium map.\n",
    "def add_ee_layer(self, ee_object, vis_params, name):\n",
    "    \n",
    "    try:    \n",
    "        # display ee.Image()\n",
    "        if isinstance(ee_object, ee.image.Image):    \n",
    "            map_id_dict = ee.Image(ee_object).getMapId(vis_params)\n",
    "            folium.raster_layers.TileLayer(\n",
    "            tiles = map_id_dict['tile_fetcher'].url_format,\n",
    "            attr = 'Google Earth Engine',\n",
    "            name = name,\n",
    "            overlay = True,\n",
    "            control = True\n",
    "            ).add_to(self)\n",
    "            print('Rendering Image')\n",
    "        # display ee.ImageCollection()\n",
    "        elif isinstance(ee_object, ee.imagecollection.ImageCollection):    \n",
    "            ee_object_new = ee_object.mosaic()\n",
    "            map_id_dict = ee.Image(ee_object_new).getMapId(vis_params)\n",
    "            folium.raster_layers.TileLayer(\n",
    "            tiles = map_id_dict['tile_fetcher'].url_format,\n",
    "            attr = 'Google Earth Engine',\n",
    "            name = name,\n",
    "            overlay = True,\n",
    "            control = True\n",
    "            ).add_to(self)\n",
    "        # display ee.Geometry()\n",
    "        elif isinstance(ee_object, ee.geometry.Geometry):    \n",
    "            folium.GeoJson(\n",
    "            data = ee_object.getInfo(),\n",
    "            name = name,\n",
    "            overlay = True,\n",
    "            control = True\n",
    "        ).add_to(self)\n",
    "        # display ee.FeatureCollection()\n",
    "        elif isinstance(ee_object, ee.featurecollection.FeatureCollection):  \n",
    "            ee_object_new = ee.Image().paint(ee_object, 0, 2)\n",
    "            map_id_dict = ee.Image(ee_object_new).getMapId(vis_params)\n",
    "            folium.raster_layers.TileLayer(\n",
    "            tiles = map_id_dict['tile_fetcher'].url_format,\n",
    "            attr = 'Google Earth Engine',\n",
    "            name = name,\n",
    "            overlay = True,\n",
    "            control = True\n",
    "        ).add_to(self)\n",
    "    \n",
    "    except:\n",
    "        print(\"Could not display {}\".format(name))\n",
    "    \n",
    "# Add EE drawing method to folium.\n",
    "folium.Map.add_ee_layer = add_ee_layer"
   ]
  },
  {
   "cell_type": "code",
   "execution_count": null,
   "id": "3d3713d7-ad35-444a-a1f9-a53ca9ffc96a",
   "metadata": {},
   "outputs": [],
   "source": [
    "image = (ee.ImageCollection('SKYSAT/GEN-A/PUBLIC/ORTHO/RGB')\n",
    "         .filterBounds(ee.Geometry.Point(Boulder[1], Boulder[0]))\n",
    "         # .filterDate('2014-01-01', '2016-12-31')\n",
    "         .first())\n",
    "\n",
    "Map2 = folium.Map(location=[47.3653, 8.5319], zoom_start=11)\n",
    "\n",
    "# Add the image layer to the map and display it.\n",
    "Map2.add_ee_layer(\n",
    "    image, {'bands': ['R', 'G', 'B'], 'min': 1, 'max': 255}, 'image')\n",
    "display(Map2)"
   ]
  },
  {
   "cell_type": "code",
   "execution_count": null,
   "id": "5e950793-5dcb-43f2-af24-ce81c3069f4f",
   "metadata": {},
   "outputs": [],
   "source": [
    "# A function provided by Google to import data from a dataset as tensors to use in Tensorflow models\n",
    "ee.Model.fromAiPlatformPredictor()"
   ]
  },
  {
   "cell_type": "code",
   "execution_count": null,
   "id": "844fb29a-1a9e-48f5-9cff-97d06e7b6167",
   "metadata": {},
   "outputs": [],
   "source": [
    "# An image collection dataset of satellite images of Switzerland\n",
    "imageCollection = ee.ImageCollection(\"ORTHO/Switzerland/SWISSIMAGE/10cm\")\n",
    "Bern = [46.9480, 7.4474]\n",
    "\n",
    "image = (imageCollection\n",
    "         .filterBounds(ee.Geometry.Point(Bern[1], Bern[0]))\n",
    "         .filterDate('2017-01-01', '2021-12-31')\n",
    "         # .sort('CLOUDY_PIXEL_PERCENTAGE')\n",
    "         .first())\n",
    "\n",
    "Map = folium.Map(location=Bern, zoom_start=11)\n",
    "\n",
    "# Add the image layer to the map and display it.\n",
    "Map.add_ee_layer(\n",
    "    image, {'bands': ['R', 'G', 'B'], 'min': 1, 'max': 255}, 'image')\n",
    "display(Map)"
   ]
  },
  {
   "cell_type": "code",
   "execution_count": null,
   "id": "a3fae410-9a04-4b22-85c0-8e833969deca",
   "metadata": {},
   "outputs": [],
   "source": [
    "dataset = ee.ImageCollection(\"ORTHO/Switzerland/SWISSIMAGE/10cm\")\n",
    "colorRGB = dataset.select(['R', 'G', 'B'])\n",
    "colorRGBVis = {}\n",
    "Map.setCenter(Bern[0], Bern[1])\n",
    "Map.addLayer(colorRGB, colorRGBVis, 'SkySat RGB')\n",
    "Map.setControlVisibility(layerControl=True, fullscreenControl=True, latLngPopup=True)\n",
    "Map"
   ]
  },
  {
   "cell_type": "markdown",
   "id": "c0fe1cb0-8adf-4350-99ef-3f0ab6bd3223",
   "metadata": {},
   "source": [
    "# 3. Build Neural Network"
   ]
  },
  {
   "cell_type": "markdown",
   "id": "f56ba9cc-7384-4d28-8eaa-b36801fd3967",
   "metadata": {},
   "source": [
    "Should we use a DNN (https://github.com/google/earthengine-api/blob/master/python/examples/ipynb/TF_demo1_keras.ipynb) or a CNN (https://github.com/google/earthengine-api/blob/master/python/examples/ipynb/UNET_regression_demo.ipynb)?"
   ]
  },
  {
   "cell_type": "code",
   "execution_count": null,
   "id": "a9b0790b-06aa-42e8-b023-6e7e2c115754",
   "metadata": {},
   "outputs": [],
   "source": [
    "def build_gen_model():\n",
    "    model = Sequential()\n",
    "    \n",
    "    # takes in random values and builds 3D array of 7 x 7 x 128\n",
    "    model.add(Dense(7*7*128, input_dim=128))\n",
    "    model.add(LeakyReLU(0.2))\n",
    "    model.add(Reshape((7, 7, 128)))\n",
    "    \n",
    "    model.add(UpSampling2D())\n",
    "    model.add(Conv2D(128, 5, padding='same'))\n",
    "    model.add(LeakyReLU(0.2))\n",
    "    \n",
    "    model.add(UpSampling2D())\n",
    "    model.add(Conv2D(128, 5, padding='same'))\n",
    "    model.add(LeakyReLU(0.2))\n",
    "    \n",
    "    model.add(Conv2D(128, 4, padding='same'))\n",
    "    model.add(LeakyReLU(0.2))\n",
    "    \n",
    "    model.add(Conv2D(128, 4, padding='same'))\n",
    "    model.add(LeakyReLU(0.2))\n",
    "    \n",
    "    model.add(Conv2D(1, 4, padding='same', activation='sigmoid'))\n",
    "    \n",
    "    return model"
   ]
  },
  {
   "cell_type": "code",
   "execution_count": null,
   "id": "36ef2661-38de-4e1a-98a2-57e418db46ff",
   "metadata": {},
   "outputs": [],
   "source": [
    "gen_model = build_gen_model()"
   ]
  },
  {
   "cell_type": "code",
   "execution_count": null,
   "id": "a19be598-e53f-41bb-9824-59b037864134",
   "metadata": {},
   "outputs": [],
   "source": [
    "gen_model.summary()"
   ]
  },
  {
   "cell_type": "markdown",
   "id": "71989c1b-4c64-44a8-9ea5-621e35925d5f",
   "metadata": {},
   "source": [
    "## 3.1 Build Generator"
   ]
  },
  {
   "cell_type": "markdown",
   "id": "f78b61d0-fc84-40e8-938a-5c2aa415c15d",
   "metadata": {},
   "source": [
    "## 3.2 Build Discriminator"
   ]
  },
  {
   "cell_type": "markdown",
   "id": "2f6cffe1-6cb1-47fa-bc00-8d3d2cd202f0",
   "metadata": {},
   "source": [
    "# 4. Train the Network"
   ]
  },
  {
   "cell_type": "markdown",
   "id": "1bc88807-a7ba-4f70-aaa4-b4b1f4fadce2",
   "metadata": {},
   "source": [
    "# 5. Test"
   ]
  }
 ],
 "metadata": {
  "kernelspec": {
   "display_name": "Python 3 (ipykernel)",
   "language": "python",
   "name": "python3"
  },
  "language_info": {
   "codemirror_mode": {
    "name": "ipython",
    "version": 3
   },
   "file_extension": ".py",
   "mimetype": "text/x-python",
   "name": "python",
   "nbconvert_exporter": "python",
   "pygments_lexer": "ipython3",
   "version": "3.10.5"
  }
 },
 "nbformat": 4,
 "nbformat_minor": 5
}
