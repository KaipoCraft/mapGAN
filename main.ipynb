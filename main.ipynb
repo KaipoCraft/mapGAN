{
 "cells": [
  {
   "cell_type": "markdown",
   "id": "53080d3c-ffc9-46bd-9e9a-04876155d1b2",
   "metadata": {},
   "source": [
    "Resources\n",
    "Style GAN opensource repo\n",
    "https://github.com/NVlabs/stylegan2-ada-pytorch\n",
    "How to build a GAN\n",
    "https://www.youtube.com/watch?v=AALBGpLbj6Q&t=813s&ab_channel=NicholasRenotte\n",
    "Intro to geemap and Google Earth Engine\n",
    "https://www.youtube.com/watch?v=wGjpjh9IQ5I&list=PLAxJ4-o7ZoPccOFv1dCwvGI6TYnirRTg3&ab_channel=QiushengWu\n",
    "\n",
    "Google Earth Engine Python Documentation\n",
    "https://developers.google.com/earth-engine/guides/python_install\n",
    "Google Earth Engine sample workflow\n",
    "https://github.com/google/earthengine-api/blob/master/python/examples/ipynb/Earth_Engine_TensorFlow_AI_Platform.ipynb"
   ]
  },
  {
   "cell_type": "markdown",
   "id": "482554cd-1e15-4430-9017-b0905f328aae",
   "metadata": {},
   "source": [
    "# 1. Import Dependencies"
   ]
  },
  {
   "cell_type": "markdown",
   "id": "13fb10ce-a0e2-4581-a4ee-7e2be8b4b5e0",
   "metadata": {
    "tags": []
   },
   "source": [
    "We'll be using Matplotlib, Tensorflow, and Numpy to create our models"
   ]
  },
  {
   "cell_type": "markdown",
   "id": "fb0c9405-cc4e-4b0b-8a0b-e306c4395210",
   "metadata": {},
   "source": [
    "1. Install these necessary libraries"
   ]
  },
  {
   "cell_type": "code",
   "execution_count": 1,
   "id": "2b011609-ee6a-4cf3-a17d-1b3ff109f459",
   "metadata": {
    "scrolled": true,
    "tags": []
   },
   "outputs": [
    {
     "name": "stdout",
     "output_type": "stream",
     "text": [
      "Requirement already satisfied: earthengine-api in c:\\users\\neill\\anaconda3\\lib\\site-packages (0.1.332)\n",
      "Collecting earthengine-api\n",
      "  Downloading earthengine-api-0.1.334.tar.gz (244 kB)\n",
      "Requirement already satisfied: future in c:\\users\\neill\\anaconda3\\lib\\site-packages (from earthengine-api) (0.18.2)\n",
      "Requirement already satisfied: google-cloud-storage in c:\\users\\neill\\anaconda3\\lib\\site-packages (from earthengine-api) (2.6.0)\n",
      "Requirement already satisfied: google-api-python-client>=1.12.1 in c:\\users\\neill\\anaconda3\\lib\\site-packages (from earthengine-api) (2.65.0)\n",
      "Requirement already satisfied: google-auth>=1.4.1 in c:\\users\\neill\\anaconda3\\lib\\site-packages (from earthengine-api) (2.14.1)\n",
      "Requirement already satisfied: google-auth-httplib2>=0.0.3 in c:\\users\\neill\\anaconda3\\lib\\site-packages (from earthengine-api) (0.1.0)\n",
      "Requirement already satisfied: httplib2<1dev,>=0.9.2 in c:\\users\\neill\\anaconda3\\lib\\site-packages (from earthengine-api) (0.21.0)\n",
      "Requirement already satisfied: requests in c:\\users\\neill\\anaconda3\\lib\\site-packages (from earthengine-api) (2.26.0)\n",
      "Requirement already satisfied: six in c:\\users\\neill\\anaconda3\\lib\\site-packages (from earthengine-api) (1.16.0)\n",
      "Requirement already satisfied: google-api-core!=2.0.*,!=2.1.*,!=2.2.*,!=2.3.0,<3.0.0dev,>=1.31.5 in c:\\users\\neill\\anaconda3\\lib\\site-packages (from google-api-python-client>=1.12.1->earthengine-api) (2.10.2)\n",
      "Requirement already satisfied: uritemplate<5,>=3.0.1 in c:\\users\\neill\\anaconda3\\lib\\site-packages (from google-api-python-client>=1.12.1->earthengine-api) (4.1.1)\n",
      "Requirement already satisfied: protobuf!=3.20.0,!=3.20.1,!=4.21.0,!=4.21.1,!=4.21.2,!=4.21.3,!=4.21.4,!=4.21.5,<5.0.0dev,>=3.19.5 in c:\\users\\neill\\anaconda3\\lib\\site-packages (from google-api-core!=2.0.*,!=2.1.*,!=2.2.*,!=2.3.0,<3.0.0dev,>=1.31.5->google-api-python-client>=1.12.1->earthengine-api) (3.19.6)\n",
      "Requirement already satisfied: googleapis-common-protos<2.0dev,>=1.56.2 in c:\\users\\neill\\anaconda3\\lib\\site-packages (from google-api-core!=2.0.*,!=2.1.*,!=2.2.*,!=2.3.0,<3.0.0dev,>=1.31.5->google-api-python-client>=1.12.1->earthengine-api) (1.56.4)\n",
      "Requirement already satisfied: rsa<5,>=3.1.4 in c:\\users\\neill\\anaconda3\\lib\\site-packages (from google-auth>=1.4.1->earthengine-api) (4.9)\n",
      "Requirement already satisfied: pyasn1-modules>=0.2.1 in c:\\users\\neill\\anaconda3\\lib\\site-packages (from google-auth>=1.4.1->earthengine-api) (0.2.8)\n",
      "Requirement already satisfied: cachetools<6.0,>=2.0.0 in c:\\users\\neill\\anaconda3\\lib\\site-packages (from google-auth>=1.4.1->earthengine-api) (5.2.0)\n",
      "Requirement already satisfied: pyparsing!=3.0.0,!=3.0.1,!=3.0.2,!=3.0.3,<4,>=2.4.2 in c:\\users\\neill\\anaconda3\\lib\\site-packages (from httplib2<1dev,>=0.9.2->earthengine-api) (3.0.4)\n",
      "Requirement already satisfied: pyasn1<0.5.0,>=0.4.6 in c:\\users\\neill\\anaconda3\\lib\\site-packages (from pyasn1-modules>=0.2.1->google-auth>=1.4.1->earthengine-api) (0.4.8)\n",
      "Requirement already satisfied: certifi>=2017.4.17 in c:\\users\\neill\\anaconda3\\lib\\site-packages (from requests->earthengine-api) (2021.10.8)\n",
      "Requirement already satisfied: charset-normalizer~=2.0.0 in c:\\users\\neill\\anaconda3\\lib\\site-packages (from requests->earthengine-api) (2.0.4)\n",
      "Requirement already satisfied: idna<4,>=2.5 in c:\\users\\neill\\anaconda3\\lib\\site-packages (from requests->earthengine-api) (3.2)\n",
      "Requirement already satisfied: urllib3<1.27,>=1.21.1 in c:\\users\\neill\\anaconda3\\lib\\site-packages (from requests->earthengine-api) (1.26.7)\n",
      "Requirement already satisfied: google-cloud-core<3.0dev,>=2.3.0 in c:\\users\\neill\\anaconda3\\lib\\site-packages (from google-cloud-storage->earthengine-api) (2.3.2)\n",
      "Requirement already satisfied: google-resumable-media>=2.3.2 in c:\\users\\neill\\anaconda3\\lib\\site-packages (from google-cloud-storage->earthengine-api) (2.4.0)\n",
      "Requirement already satisfied: google-crc32c<2.0dev,>=1.0 in c:\\users\\neill\\anaconda3\\lib\\site-packages (from google-resumable-media>=2.3.2->google-cloud-storage->earthengine-api) (1.5.0)\n",
      "Building wheels for collected packages: earthengine-api\n",
      "  Building wheel for earthengine-api (setup.py): started\n",
      "  Building wheel for earthengine-api (setup.py): finished with status 'done'\n",
      "  Created wheel for earthengine-api: filename=earthengine_api-0.1.334-py3-none-any.whl size=274126 sha256=aa412ea51b04d11ba9fb3aeb55884a96a4b463a22d3fe7ba5ef285549440c60e\n",
      "  Stored in directory: c:\\users\\neill\\appdata\\local\\pip\\cache\\wheels\\9c\\a1\\0c\\9a85531b7849653492a65ae3ec4930a76cf748f63916862d5b\n",
      "Successfully built earthengine-api\n",
      "Installing collected packages: earthengine-api\n",
      "  Attempting uninstall: earthengine-api\n",
      "    Found existing installation: earthengine-api 0.1.332\n",
      "    Uninstalling earthengine-api-0.1.332:\n",
      "      Successfully uninstalled earthengine-api-0.1.332\n",
      "Successfully installed earthengine-api-0.1.334\n"
     ]
    }
   ],
   "source": [
    "!pip install earthengine-api --upgrade"
   ]
  },
  {
   "cell_type": "code",
   "execution_count": 2,
   "id": "42057827-e71f-4942-97c8-afacf93c95bb",
   "metadata": {},
   "outputs": [
    {
     "name": "stdout",
     "output_type": "stream",
     "text": [
      "Collecting folium\n",
      "  Downloading folium-0.13.0-py2.py3-none-any.whl (96 kB)\n",
      "Requirement already satisfied: numpy in c:\\users\\neill\\anaconda3\\lib\\site-packages (from folium) (1.20.3)\n",
      "Collecting branca>=0.3.0\n",
      "  Downloading branca-0.6.0-py3-none-any.whl (24 kB)\n",
      "Requirement already satisfied: jinja2>=2.9 in c:\\users\\neill\\anaconda3\\lib\\site-packages (from folium) (2.11.3)\n",
      "Requirement already satisfied: requests in c:\\users\\neill\\anaconda3\\lib\\site-packages (from folium) (2.26.0)\n",
      "Requirement already satisfied: MarkupSafe>=0.23 in c:\\users\\neill\\anaconda3\\lib\\site-packages (from jinja2>=2.9->folium) (1.1.1)\n",
      "Requirement already satisfied: idna<4,>=2.5 in c:\\users\\neill\\anaconda3\\lib\\site-packages (from requests->folium) (3.2)\n",
      "Requirement already satisfied: certifi>=2017.4.17 in c:\\users\\neill\\anaconda3\\lib\\site-packages (from requests->folium) (2021.10.8)\n",
      "Requirement already satisfied: urllib3<1.27,>=1.21.1 in c:\\users\\neill\\anaconda3\\lib\\site-packages (from requests->folium) (1.26.7)\n",
      "Requirement already satisfied: charset-normalizer~=2.0.0 in c:\\users\\neill\\anaconda3\\lib\\site-packages (from requests->folium) (2.0.4)\n",
      "Installing collected packages: branca, folium\n",
      "Successfully installed branca-0.6.0 folium-0.13.0\n"
     ]
    }
   ],
   "source": [
    "!pip install folium"
   ]
  },
  {
   "cell_type": "code",
   "execution_count": 3,
   "id": "c3e78c1b-8708-468e-a026-81a627d754a7",
   "metadata": {
    "scrolled": true,
    "tags": []
   },
   "outputs": [
    {
     "name": "stdout",
     "output_type": "stream",
     "text": [
      "Collecting geehydro\n",
      "  Downloading geehydro-0.2.0.tar.gz (15 kB)\n",
      "Requirement already satisfied: earthengine-api in c:\\users\\neill\\anaconda3\\lib\\site-packages (from geehydro) (0.1.334)\n",
      "Requirement already satisfied: folium in c:\\users\\neill\\anaconda3\\lib\\site-packages (from geehydro) (0.13.0)\n",
      "Requirement already satisfied: click in c:\\users\\neill\\anaconda3\\lib\\site-packages (from geehydro) (8.0.3)\n",
      "Requirement already satisfied: colorama in c:\\users\\neill\\anaconda3\\lib\\site-packages (from click->geehydro) (0.4.4)\n",
      "Requirement already satisfied: google-auth>=1.4.1 in c:\\users\\neill\\anaconda3\\lib\\site-packages (from earthengine-api->geehydro) (2.14.1)\n",
      "Requirement already satisfied: google-auth-httplib2>=0.0.3 in c:\\users\\neill\\anaconda3\\lib\\site-packages (from earthengine-api->geehydro) (0.1.0)\n",
      "Requirement already satisfied: requests in c:\\users\\neill\\anaconda3\\lib\\site-packages (from earthengine-api->geehydro) (2.26.0)\n",
      "Requirement already satisfied: google-cloud-storage in c:\\users\\neill\\anaconda3\\lib\\site-packages (from earthengine-api->geehydro) (2.6.0)\n",
      "Requirement already satisfied: future in c:\\users\\neill\\anaconda3\\lib\\site-packages (from earthengine-api->geehydro) (0.18.2)\n",
      "Requirement already satisfied: google-api-python-client>=1.12.1 in c:\\users\\neill\\anaconda3\\lib\\site-packages (from earthengine-api->geehydro) (2.65.0)\n",
      "Requirement already satisfied: httplib2<1dev,>=0.9.2 in c:\\users\\neill\\anaconda3\\lib\\site-packages (from earthengine-api->geehydro) (0.21.0)\n",
      "Requirement already satisfied: six in c:\\users\\neill\\anaconda3\\lib\\site-packages (from earthengine-api->geehydro) (1.16.0)\n",
      "Requirement already satisfied: google-api-core!=2.0.*,!=2.1.*,!=2.2.*,!=2.3.0,<3.0.0dev,>=1.31.5 in c:\\users\\neill\\anaconda3\\lib\\site-packages (from google-api-python-client>=1.12.1->earthengine-api->geehydro) (2.10.2)\n",
      "Requirement already satisfied: uritemplate<5,>=3.0.1 in c:\\users\\neill\\anaconda3\\lib\\site-packages (from google-api-python-client>=1.12.1->earthengine-api->geehydro) (4.1.1)\n",
      "Requirement already satisfied: googleapis-common-protos<2.0dev,>=1.56.2 in c:\\users\\neill\\anaconda3\\lib\\site-packages (from google-api-core!=2.0.*,!=2.1.*,!=2.2.*,!=2.3.0,<3.0.0dev,>=1.31.5->google-api-python-client>=1.12.1->earthengine-api->geehydro) (1.56.4)\n",
      "Requirement already satisfied: protobuf!=3.20.0,!=3.20.1,!=4.21.0,!=4.21.1,!=4.21.2,!=4.21.3,!=4.21.4,!=4.21.5,<5.0.0dev,>=3.19.5 in c:\\users\\neill\\anaconda3\\lib\\site-packages (from google-api-core!=2.0.*,!=2.1.*,!=2.2.*,!=2.3.0,<3.0.0dev,>=1.31.5->google-api-python-client>=1.12.1->earthengine-api->geehydro) (3.19.6)\n",
      "Requirement already satisfied: cachetools<6.0,>=2.0.0 in c:\\users\\neill\\anaconda3\\lib\\site-packages (from google-auth>=1.4.1->earthengine-api->geehydro) (5.2.0)\n",
      "Requirement already satisfied: pyasn1-modules>=0.2.1 in c:\\users\\neill\\anaconda3\\lib\\site-packages (from google-auth>=1.4.1->earthengine-api->geehydro) (0.2.8)\n",
      "Requirement already satisfied: rsa<5,>=3.1.4 in c:\\users\\neill\\anaconda3\\lib\\site-packages (from google-auth>=1.4.1->earthengine-api->geehydro) (4.9)\n",
      "Requirement already satisfied: pyparsing!=3.0.0,!=3.0.1,!=3.0.2,!=3.0.3,<4,>=2.4.2 in c:\\users\\neill\\anaconda3\\lib\\site-packages (from httplib2<1dev,>=0.9.2->earthengine-api->geehydro) (3.0.4)\n",
      "Requirement already satisfied: pyasn1<0.5.0,>=0.4.6 in c:\\users\\neill\\anaconda3\\lib\\site-packages (from pyasn1-modules>=0.2.1->google-auth>=1.4.1->earthengine-api->geehydro) (0.4.8)\n",
      "Requirement already satisfied: certifi>=2017.4.17 in c:\\users\\neill\\anaconda3\\lib\\site-packages (from requests->earthengine-api->geehydro) (2021.10.8)\n",
      "Requirement already satisfied: idna<4,>=2.5 in c:\\users\\neill\\anaconda3\\lib\\site-packages (from requests->earthengine-api->geehydro) (3.2)\n",
      "Requirement already satisfied: charset-normalizer~=2.0.0 in c:\\users\\neill\\anaconda3\\lib\\site-packages (from requests->earthengine-api->geehydro) (2.0.4)\n",
      "Requirement already satisfied: urllib3<1.27,>=1.21.1 in c:\\users\\neill\\anaconda3\\lib\\site-packages (from requests->earthengine-api->geehydro) (1.26.7)\n",
      "Requirement already satisfied: jinja2>=2.9 in c:\\users\\neill\\anaconda3\\lib\\site-packages (from folium->geehydro) (2.11.3)\n",
      "Requirement already satisfied: numpy in c:\\users\\neill\\anaconda3\\lib\\site-packages (from folium->geehydro) (1.20.3)\n",
      "Requirement already satisfied: branca>=0.3.0 in c:\\users\\neill\\anaconda3\\lib\\site-packages (from folium->geehydro) (0.6.0)\n",
      "Requirement already satisfied: MarkupSafe>=0.23 in c:\\users\\neill\\anaconda3\\lib\\site-packages (from jinja2>=2.9->folium->geehydro) (1.1.1)\n",
      "Requirement already satisfied: google-cloud-core<3.0dev,>=2.3.0 in c:\\users\\neill\\anaconda3\\lib\\site-packages (from google-cloud-storage->earthengine-api->geehydro) (2.3.2)\n",
      "Requirement already satisfied: google-resumable-media>=2.3.2 in c:\\users\\neill\\anaconda3\\lib\\site-packages (from google-cloud-storage->earthengine-api->geehydro) (2.4.0)\n",
      "Requirement already satisfied: google-crc32c<2.0dev,>=1.0 in c:\\users\\neill\\anaconda3\\lib\\site-packages (from google-resumable-media>=2.3.2->google-cloud-storage->earthengine-api->geehydro) (1.5.0)\n",
      "Building wheels for collected packages: geehydro\n",
      "  Building wheel for geehydro (setup.py): started\n",
      "  Building wheel for geehydro (setup.py): finished with status 'done'\n",
      "  Created wheel for geehydro: filename=geehydro-0.2.0-py2.py3-none-any.whl size=10141 sha256=af7d5f14be2563250f86cf28ad4cefd8d8a777505fbad736c34dbb99c0ea2fde\n",
      "  Stored in directory: c:\\users\\neill\\appdata\\local\\pip\\cache\\wheels\\ff\\aa\\13\\b6c5b687208b545f735833f12891f3154c76fb63f2cdd9f192\n",
      "Successfully built geehydro\n",
      "Installing collected packages: geehydro\n",
      "Successfully installed geehydro-0.2.0\n"
     ]
    }
   ],
   "source": [
    "!pip install geehydro"
   ]
  },
  {
   "cell_type": "markdown",
   "id": "dd3105b8-0c06-4d1d-b268-f562ddcc1d62",
   "metadata": {},
   "source": [
    "2. Import these libraries"
   ]
  },
  {
   "cell_type": "code",
   "execution_count": 1,
   "id": "cedae47c-1584-4ad6-bf45-9e976e2ab9cb",
   "metadata": {},
   "outputs": [],
   "source": [
    "import tensorflow as tf"
   ]
  },
  {
   "cell_type": "code",
   "execution_count": 2,
   "id": "cfd312de-9040-484c-8f10-b3402f1df06a",
   "metadata": {},
   "outputs": [],
   "source": [
    "from tensorflow.keras.models import Sequential\n",
    "from tensorflow.keras.layers import Conv2D, Dense, Flatten, Reshape, LeakyReLU, Dropout, UpSampling2D\n",
    "from tensorflow.keras.optimizers import Adam\n",
    "from tensorflow.keras.losses import BinaryCrossentropy\n",
    "from tensorflow.keras.models import Model\n",
    "from tensorflow.keras.preprocessing.image import array_to_img\n",
    "from tensorflow.keras.callbacks import Callback"
   ]
  },
  {
   "cell_type": "code",
   "execution_count": 3,
   "id": "8b6cf7e4-9818-4e69-b89a-c67dc3d2f618",
   "metadata": {},
   "outputs": [],
   "source": [
    "import os"
   ]
  },
  {
   "cell_type": "code",
   "execution_count": 4,
   "id": "45915e68-0d12-4653-9476-a91a9f31ca7c",
   "metadata": {},
   "outputs": [],
   "source": [
    "import numpy as np"
   ]
  },
  {
   "cell_type": "markdown",
   "id": "0a70c487-0016-4f91-810d-f3cb75b19012",
   "metadata": {},
   "source": [
    "This is the import for Google Earth Engine. It will require a login for access to the data"
   ]
  },
  {
   "cell_type": "code",
   "execution_count": 5,
   "id": "0e28454e-a1f5-4cc5-9731-de4384aafa8c",
   "metadata": {},
   "outputs": [
    {
     "data": {
      "text/html": [
       "<p>To authorize access needed by Earth Engine, open the following\n",
       "        URL in a web browser and follow the instructions:</p>\n",
       "        <p><a href=https://code.earthengine.google.com/client-auth?scopes=https%3A//www.googleapis.com/auth/earthengine%20https%3A//www.googleapis.com/auth/devstorage.full_control&request_id=ZqSpU38CxwuJTG9W_eb6pQntyzOo0SgF_4vBGusOge0&tc=i4sswglfDqlTuT0XzCIRblv5V-LgaZ7ZmckChmpqjUg&cc=c1W-yeVE3B-fH-WpTv2qnLsDyRMOTqQEpTnmtL8CiLE>https://code.earthengine.google.com/client-auth?scopes=https%3A//www.googleapis.com/auth/earthengine%20https%3A//www.googleapis.com/auth/devstorage.full_control&request_id=ZqSpU38CxwuJTG9W_eb6pQntyzOo0SgF_4vBGusOge0&tc=i4sswglfDqlTuT0XzCIRblv5V-LgaZ7ZmckChmpqjUg&cc=c1W-yeVE3B-fH-WpTv2qnLsDyRMOTqQEpTnmtL8CiLE</a></p>\n",
       "        <p>The authorization workflow will generate a code, which you should paste in the box below.</p>\n",
       "        "
      ],
      "text/plain": [
       "<IPython.core.display.HTML object>"
      ]
     },
     "metadata": {},
     "output_type": "display_data"
    },
    {
     "name": "stdout",
     "output_type": "stream",
     "text": [
      "Enter verification code: 4/1AfgeXvvkvgwNazxXbjJVXOOaCYRo5Cu_mcFlDfjgQobyHCbvaG9uOvc2NZE\n",
      "\n",
      "Successfully saved authorization token.\n",
      "NASADEM: NASA NASADEM Digital Elevation 30m\n"
     ]
    }
   ],
   "source": [
    "import ee\n",
    "ee.Authenticate()\n",
    "ee.Initialize()\n",
    "print(ee.Image(\"NASA/NASADEM_HGT/001\").get(\"title\").getInfo())"
   ]
  },
  {
   "cell_type": "code",
   "execution_count": 6,
   "id": "6443eb83-0929-4403-aa89-05dfe654d826",
   "metadata": {},
   "outputs": [],
   "source": [
    "import folium\n",
    "from folium import plugins\n",
    "import geehydro"
   ]
  },
  {
   "cell_type": "markdown",
   "id": "c0fddf8a-ee19-476f-b70f-1b68033611c9",
   "metadata": {},
   "source": [
    "# 2. Define Variables"
   ]
  },
  {
   "cell_type": "code",
   "execution_count": 19,
   "id": "dd11f499-1583-4503-9841-ed419d3d1336",
   "metadata": {},
   "outputs": [],
   "source": [
    "# Your Earth Engine username.  This is used to import a classified image\n",
    "# into your Earth Engine assets folder.\n",
    "USER_NAME = 'nesh5910@colorado.edu'\n",
    "\n",
    "# Cloud Storage bucket into which training, testing and prediction \n",
    "# datasets will be written.  You must be able to write into this bucket.\n",
    "OUTPUT_BUCKET = 'mapgan'\n",
    "\n",
    "# Use Landsat 8 surface reflectance data for predictors.\n",
    "DATASET = ee.ImageCollection('ORTHO/Switzerland/SWISSIMAGE/10cm')\n",
    "# Use these bands for prediction.\n",
    "BANDS = ['R', 'G', 'B']\n",
    "\n",
    "# This is a trianing/testing dataset of points with known land cover labels.\n",
    "LABEL_DATA = ee.FeatureCollection('projects/google/demo_landcover_labels')\n",
    "# The labels, consecutive integer indices starting from zero, are stored in\n",
    "# this property, set on each point.\n",
    "LABEL = 'landcover'\n",
    "# Number of label values, i.e. number of classes in the classification.\n",
    "N_CLASSES = 3\n",
    "\n",
    "# These names are used to specify properties in the export of\n",
    "# training/testing data and to define the mapping between names and data\n",
    "# when reading into TensorFlow datasets.\n",
    "FEATURE_NAMES = list(BANDS)\n",
    "FEATURE_NAMES.append(LABEL)\n",
    "\n",
    "# File names for the training and testing datasets.  These TFRecord files\n",
    "# will be exported from Earth Engine into the Cloud Storage bucket.\n",
    "TRAIN_FILE_PREFIX = 'Training_demo'\n",
    "TEST_FILE_PREFIX = 'Testing_demo'\n",
    "file_extension = '.tfrecord.gz'\n",
    "TRAIN_FILE_PATH = 'gs://' + OUTPUT_BUCKET + '/' + TRAIN_FILE_PREFIX + file_extension\n",
    "TEST_FILE_PATH = 'gs://' + OUTPUT_BUCKET + '/' + TEST_FILE_PREFIX + file_extension\n",
    "\n",
    "# File name for the prediction (image) dataset.  The trained model will read\n",
    "# this dataset and make predictions in each pixel.\n",
    "IMAGE_FILE_PREFIX = 'Image_pixel_demo_'\n",
    "\n",
    "# The output path for the classified image (i.e. predictions) TFRecord file.\n",
    "OUTPUT_IMAGE_FILE = 'gs://' + OUTPUT_BUCKET + '/Classified_pixel_demo.TFRecord'\n",
    "# Export imagery in this region.\n",
    "EXPORT_REGION = ee.Geometry.Rectangle([-122.7, 37.3, -121.8, 38.00])\n",
    "# The name of the Earth Engine asset to be created by importing\n",
    "# the classified image from the TFRecord file in Cloud Storage.\n",
    "OUTPUT_ASSET_ID = 'users/' + USER_NAME + '/Classified_pixel_demo'"
   ]
  },
  {
   "cell_type": "code",
   "execution_count": 7,
   "id": "d2fdf0df-fef4-4b28-8ff5-5c308fcea310",
   "metadata": {},
   "outputs": [],
   "source": [
    "# https://colab.research.google.com/github/giswqs/qgis-earthengine-examples/blob/master/Folium/ee-api-folium-setup.ipynb#scrollTo=7uSjLbh1LBeX\n",
    "\n",
    "# Define a method for displaying Earth Engine image tiles on a folium map.\n",
    "def add_ee_layer(self, ee_object, vis_params, name):\n",
    "    \n",
    "    try:    \n",
    "        # display ee.Image()\n",
    "        if isinstance(ee_object, ee.image.Image):    \n",
    "            map_id_dict = ee.Image(ee_object).getMapId(vis_params)\n",
    "            folium.raster_layers.TileLayer(\n",
    "            tiles = map_id_dict['tile_fetcher'].url_format,\n",
    "            attr = 'Google Earth Engine',\n",
    "            name = name,\n",
    "            overlay = True,\n",
    "            control = True\n",
    "            ).add_to(self)\n",
    "            print('Rendering Image')\n",
    "        # display ee.ImageCollection()\n",
    "        elif isinstance(ee_object, ee.imagecollection.ImageCollection):    \n",
    "            ee_object_new = ee_object.mosaic()\n",
    "            map_id_dict = ee.Image(ee_object_new).getMapId(vis_params)\n",
    "            folium.raster_layers.TileLayer(\n",
    "            tiles = map_id_dict['tile_fetcher'].url_format,\n",
    "            attr = 'Google Earth Engine',\n",
    "            name = name,\n",
    "            overlay = True,\n",
    "            control = True\n",
    "            ).add_to(self)\n",
    "        # display ee.Geometry()\n",
    "        elif isinstance(ee_object, ee.geometry.Geometry):    \n",
    "            folium.GeoJson(\n",
    "            data = ee_object.getInfo(),\n",
    "            name = name,\n",
    "            overlay = True,\n",
    "            control = True\n",
    "        ).add_to(self)\n",
    "        # display ee.FeatureCollection()\n",
    "        elif isinstance(ee_object, ee.featurecollection.FeatureCollection):  \n",
    "            ee_object_new = ee.Image().paint(ee_object, 0, 2)\n",
    "            map_id_dict = ee.Image(ee_object_new).getMapId(vis_params)\n",
    "            folium.raster_layers.TileLayer(\n",
    "            tiles = map_id_dict['tile_fetcher'].url_format,\n",
    "            attr = 'Google Earth Engine',\n",
    "            name = name,\n",
    "            overlay = True,\n",
    "            control = True\n",
    "        ).add_to(self)\n",
    "    \n",
    "    except:\n",
    "        print(\"Could not display {}\".format(name))\n",
    "    \n",
    "# Add EE drawing method to folium.\n",
    "folium.Map.add_ee_layer = add_ee_layer"
   ]
  },
  {
   "cell_type": "markdown",
   "id": "4fb5b51d-defe-46c6-8923-ceca3844d308",
   "metadata": {},
   "source": [
    "# 3. Examine Data"
   ]
  },
  {
   "cell_type": "markdown",
   "id": "30379cc3-c23d-4f50-96b4-67bed0d778c6",
   "metadata": {},
   "source": [
    "This dataset is of high-resolution satellite imagery of the Earth.\n",
    "\n",
    "https://developers.google.com/earth-engine/datasets/catalog/SKYSAT_GEN-A_PUBLIC_ORTHO_RGB"
   ]
  },
  {
   "cell_type": "markdown",
   "id": "fc2ad382-3626-412f-bf58-0810f811e5c8",
   "metadata": {},
   "source": [
    "1. Create an interactive map"
   ]
  },
  {
   "cell_type": "code",
   "execution_count": null,
   "id": "a0292e26-3ef6-4c77-8749-7ccd2596871d",
   "metadata": {},
   "outputs": [],
   "source": [
    "Boulder = [40.0150, -105.2705]"
   ]
  },
  {
   "cell_type": "code",
   "execution_count": null,
   "id": "1571d95e-0f2b-4c4d-a2c8-c37e3664a2e5",
   "metadata": {},
   "outputs": [],
   "source": [
    "Map = folium.Map(location=Boulder, zoom_start=12)\n",
    "Map.setOptions('HYBRID')\n",
    "Map.setControlVisibility(layerControl=True, fullscreenControl=True, latLngPopup=True)\n",
    "\n",
    "Map"
   ]
  },
  {
   "cell_type": "code",
   "execution_count": null,
   "id": "3d3713d7-ad35-444a-a1f9-a53ca9ffc96a",
   "metadata": {},
   "outputs": [],
   "source": [
    "image = (ee.ImageCollection('SKYSAT/GEN-A/PUBLIC/ORTHO/RGB')\n",
    "         .filterBounds(ee.Geometry.Point(Boulder[1], Boulder[0]))\n",
    "         # .filterDate('2014-01-01', '2016-12-31')\n",
    "         .first())\n",
    "\n",
    "Map2 = folium.Map(location=[47.3653, 8.5319], zoom_start=11)\n",
    "\n",
    "# Add the image layer to the map and display it.\n",
    "Map2.add_ee_layer(\n",
    "    image, {'bands': ['R', 'G', 'B'], 'min': 1, 'max': 255}, 'image')\n",
    "display(Map2)"
   ]
  },
  {
   "cell_type": "code",
   "execution_count": null,
   "id": "5e950793-5dcb-43f2-af24-ce81c3069f4f",
   "metadata": {},
   "outputs": [],
   "source": [
    "# A function provided by Google to import data from a dataset as tensors to use in Tensorflow models\n",
    "ee.Model.fromAiPlatformPredictor()"
   ]
  },
  {
   "cell_type": "code",
   "execution_count": 17,
   "id": "844fb29a-1a9e-48f5-9cff-97d06e7b6167",
   "metadata": {},
   "outputs": [
    {
     "name": "stdout",
     "output_type": "stream",
     "text": [
      "Rendering Image\n"
     ]
    },
    {
     "data": {
      "text/html": [
       "<div style=\"width:100%;\"><div style=\"position:relative;width:100%;height:0;padding-bottom:60%;\"><span style=\"color:#565656\">Make this Notebook Trusted to load map: File -> Trust Notebook</span><iframe srcdoc=\"&lt;!DOCTYPE html&gt;\n",
       "&lt;html&gt;\n",
       "&lt;head&gt;\n",
       "    \n",
       "    &lt;meta http-equiv=&quot;content-type&quot; content=&quot;text/html; charset=UTF-8&quot; /&gt;\n",
       "    \n",
       "        &lt;script&gt;\n",
       "            L_NO_TOUCH = false;\n",
       "            L_DISABLE_3D = false;\n",
       "        &lt;/script&gt;\n",
       "    \n",
       "    &lt;style&gt;html, body {width: 100%;height: 100%;margin: 0;padding: 0;}&lt;/style&gt;\n",
       "    &lt;style&gt;#map {position:absolute;top:0;bottom:0;right:0;left:0;}&lt;/style&gt;\n",
       "    &lt;script src=&quot;https://cdn.jsdelivr.net/npm/leaflet@1.6.0/dist/leaflet.js&quot;&gt;&lt;/script&gt;\n",
       "    &lt;script src=&quot;https://code.jquery.com/jquery-1.12.4.min.js&quot;&gt;&lt;/script&gt;\n",
       "    &lt;script src=&quot;https://maxcdn.bootstrapcdn.com/bootstrap/3.2.0/js/bootstrap.min.js&quot;&gt;&lt;/script&gt;\n",
       "    &lt;script src=&quot;https://cdnjs.cloudflare.com/ajax/libs/Leaflet.awesome-markers/2.0.2/leaflet.awesome-markers.js&quot;&gt;&lt;/script&gt;\n",
       "    &lt;link rel=&quot;stylesheet&quot; href=&quot;https://cdn.jsdelivr.net/npm/leaflet@1.6.0/dist/leaflet.css&quot;/&gt;\n",
       "    &lt;link rel=&quot;stylesheet&quot; href=&quot;https://maxcdn.bootstrapcdn.com/bootstrap/3.2.0/css/bootstrap.min.css&quot;/&gt;\n",
       "    &lt;link rel=&quot;stylesheet&quot; href=&quot;https://maxcdn.bootstrapcdn.com/bootstrap/3.2.0/css/bootstrap-theme.min.css&quot;/&gt;\n",
       "    &lt;link rel=&quot;stylesheet&quot; href=&quot;https://maxcdn.bootstrapcdn.com/font-awesome/4.6.3/css/font-awesome.min.css&quot;/&gt;\n",
       "    &lt;link rel=&quot;stylesheet&quot; href=&quot;https://cdnjs.cloudflare.com/ajax/libs/Leaflet.awesome-markers/2.0.2/leaflet.awesome-markers.css&quot;/&gt;\n",
       "    &lt;link rel=&quot;stylesheet&quot; href=&quot;https://cdn.jsdelivr.net/gh/python-visualization/folium/folium/templates/leaflet.awesome.rotate.min.css&quot;/&gt;\n",
       "    \n",
       "            &lt;meta name=&quot;viewport&quot; content=&quot;width=device-width,\n",
       "                initial-scale=1.0, maximum-scale=1.0, user-scalable=no&quot; /&gt;\n",
       "            &lt;style&gt;\n",
       "                #map_bb205e9c05b1bec7327ec88fec8ca309 {\n",
       "                    position: relative;\n",
       "                    width: 100.0%;\n",
       "                    height: 100.0%;\n",
       "                    left: 0.0%;\n",
       "                    top: 0.0%;\n",
       "                }\n",
       "            &lt;/style&gt;\n",
       "        \n",
       "&lt;/head&gt;\n",
       "&lt;body&gt;\n",
       "    \n",
       "    \n",
       "            &lt;div class=&quot;folium-map&quot; id=&quot;map_bb205e9c05b1bec7327ec88fec8ca309&quot; &gt;&lt;/div&gt;\n",
       "        \n",
       "&lt;/body&gt;\n",
       "&lt;script&gt;\n",
       "    \n",
       "    \n",
       "            var map_bb205e9c05b1bec7327ec88fec8ca309 = L.map(\n",
       "                &quot;map_bb205e9c05b1bec7327ec88fec8ca309&quot;,\n",
       "                {\n",
       "                    center: [46.948, 7.4474],\n",
       "                    crs: L.CRS.EPSG3857,\n",
       "                    zoom: 11,\n",
       "                    zoomControl: true,\n",
       "                    preferCanvas: false,\n",
       "                }\n",
       "            );\n",
       "\n",
       "            \n",
       "\n",
       "        \n",
       "    \n",
       "            var tile_layer_dd76bfa507456ff1841edd1af89cacfc = L.tileLayer(\n",
       "                &quot;https://{s}.tile.openstreetmap.org/{z}/{x}/{y}.png&quot;,\n",
       "                {&quot;attribution&quot;: &quot;Data by \\u0026copy; \\u003ca href=\\&quot;http://openstreetmap.org\\&quot;\\u003eOpenStreetMap\\u003c/a\\u003e, under \\u003ca href=\\&quot;http://www.openstreetmap.org/copyright\\&quot;\\u003eODbL\\u003c/a\\u003e.&quot;, &quot;detectRetina&quot;: false, &quot;maxNativeZoom&quot;: 18, &quot;maxZoom&quot;: 18, &quot;minZoom&quot;: 0, &quot;noWrap&quot;: false, &quot;opacity&quot;: 1, &quot;subdomains&quot;: &quot;abc&quot;, &quot;tms&quot;: false}\n",
       "            ).addTo(map_bb205e9c05b1bec7327ec88fec8ca309);\n",
       "        \n",
       "    \n",
       "            var tile_layer_f426343d9b36a77d63cd8350b6c72f4a = L.tileLayer(\n",
       "                &quot;https://earthengine.googleapis.com/v1alpha/projects/earthengine-legacy/maps/e4760198d4216e3404beedb2565d0a1b-e8b92f4b50736471daec5269bf405c7d/tiles/{z}/{x}/{y}&quot;,\n",
       "                {&quot;attribution&quot;: &quot;Google Earth Engine&quot;, &quot;detectRetina&quot;: false, &quot;maxNativeZoom&quot;: 18, &quot;maxZoom&quot;: 18, &quot;minZoom&quot;: 0, &quot;noWrap&quot;: false, &quot;opacity&quot;: 1, &quot;subdomains&quot;: &quot;abc&quot;, &quot;tms&quot;: false}\n",
       "            ).addTo(map_bb205e9c05b1bec7327ec88fec8ca309);\n",
       "        \n",
       "&lt;/script&gt;\n",
       "&lt;/html&gt;\" style=\"position:absolute;width:100%;height:100%;left:0;top:0;border:none !important;\" allowfullscreen webkitallowfullscreen mozallowfullscreen></iframe></div></div>"
      ],
      "text/plain": [
       "<folium.folium.Map at 0x1b11e2fe550>"
      ]
     },
     "metadata": {},
     "output_type": "display_data"
    }
   ],
   "source": [
    "# An image collection dataset of satellite images of Switzerland\n",
    "imageCollection = DATASET\n",
    "Bern = [46.9480, 7.4474]\n",
    "\n",
    "image = (imageCollection\n",
    "         .filterBounds(ee.Geometry.Point(Bern[1], Bern[0]))\n",
    "         .filterDate('2017-01-01', '2021-12-31')\n",
    "         # .sort('CLOUDY_PIXEL_PERCENTAGE')\n",
    "         .first())\n",
    "\n",
    "# Define the visualization parameters.\n",
    "image_viz_params = {\n",
    "    'bands': BANDS,\n",
    "    'min': 0,\n",
    "    'max': 255,\n",
    "}\n",
    "\n",
    "Map = folium.Map(location=Bern, zoom_start=11)\n",
    "\n",
    "# Add the image layer to the map and display it.\n",
    "Map.add_ee_layer(\n",
    "    image, image_viz_params, 'image')\n",
    "display(Map)"
   ]
  },
  {
   "cell_type": "code",
   "execution_count": 11,
   "id": "a3fae410-9a04-4b22-85c0-8e833969deca",
   "metadata": {},
   "outputs": [
    {
     "data": {
      "text/html": [
       "<div style=\"width:100%;\"><div style=\"position:relative;width:100%;height:0;padding-bottom:60%;\"><span style=\"color:#565656\">Make this Notebook Trusted to load map: File -> Trust Notebook</span><iframe srcdoc=\"&lt;!DOCTYPE html&gt;\n",
       "&lt;html&gt;\n",
       "&lt;head&gt;\n",
       "    \n",
       "    &lt;meta http-equiv=&quot;content-type&quot; content=&quot;text/html; charset=UTF-8&quot; /&gt;\n",
       "    \n",
       "        &lt;script&gt;\n",
       "            L_NO_TOUCH = false;\n",
       "            L_DISABLE_3D = false;\n",
       "        &lt;/script&gt;\n",
       "    \n",
       "    &lt;style&gt;html, body {width: 100%;height: 100%;margin: 0;padding: 0;}&lt;/style&gt;\n",
       "    &lt;style&gt;#map {position:absolute;top:0;bottom:0;right:0;left:0;}&lt;/style&gt;\n",
       "    &lt;script src=&quot;https://cdn.jsdelivr.net/npm/leaflet@1.6.0/dist/leaflet.js&quot;&gt;&lt;/script&gt;\n",
       "    &lt;script src=&quot;https://code.jquery.com/jquery-1.12.4.min.js&quot;&gt;&lt;/script&gt;\n",
       "    &lt;script src=&quot;https://maxcdn.bootstrapcdn.com/bootstrap/3.2.0/js/bootstrap.min.js&quot;&gt;&lt;/script&gt;\n",
       "    &lt;script src=&quot;https://cdnjs.cloudflare.com/ajax/libs/Leaflet.awesome-markers/2.0.2/leaflet.awesome-markers.js&quot;&gt;&lt;/script&gt;\n",
       "    &lt;link rel=&quot;stylesheet&quot; href=&quot;https://cdn.jsdelivr.net/npm/leaflet@1.6.0/dist/leaflet.css&quot;/&gt;\n",
       "    &lt;link rel=&quot;stylesheet&quot; href=&quot;https://maxcdn.bootstrapcdn.com/bootstrap/3.2.0/css/bootstrap.min.css&quot;/&gt;\n",
       "    &lt;link rel=&quot;stylesheet&quot; href=&quot;https://maxcdn.bootstrapcdn.com/bootstrap/3.2.0/css/bootstrap-theme.min.css&quot;/&gt;\n",
       "    &lt;link rel=&quot;stylesheet&quot; href=&quot;https://maxcdn.bootstrapcdn.com/font-awesome/4.6.3/css/font-awesome.min.css&quot;/&gt;\n",
       "    &lt;link rel=&quot;stylesheet&quot; href=&quot;https://cdnjs.cloudflare.com/ajax/libs/Leaflet.awesome-markers/2.0.2/leaflet.awesome-markers.css&quot;/&gt;\n",
       "    &lt;link rel=&quot;stylesheet&quot; href=&quot;https://cdn.jsdelivr.net/gh/python-visualization/folium/folium/templates/leaflet.awesome.rotate.min.css&quot;/&gt;\n",
       "    \n",
       "            &lt;meta name=&quot;viewport&quot; content=&quot;width=device-width,\n",
       "                initial-scale=1.0, maximum-scale=1.0, user-scalable=no&quot; /&gt;\n",
       "            &lt;style&gt;\n",
       "                #map_40cea69b25cc44ad474b317447362686 {\n",
       "                    position: relative;\n",
       "                    width: 100.0%;\n",
       "                    height: 100.0%;\n",
       "                    left: 0.0%;\n",
       "                    top: 0.0%;\n",
       "                }\n",
       "            &lt;/style&gt;\n",
       "        \n",
       "    &lt;script src=&quot;https://cdnjs.cloudflare.com/ajax/libs/leaflet.fullscreen/1.4.2/Control.FullScreen.min.js&quot;&gt;&lt;/script&gt;\n",
       "    &lt;link rel=&quot;stylesheet&quot; href=&quot;https://cdnjs.cloudflare.com/ajax/libs/leaflet.fullscreen/1.4.2/Control.FullScreen.min.css&quot;/&gt;\n",
       "&lt;/head&gt;\n",
       "&lt;body&gt;\n",
       "    \n",
       "    \n",
       "            &lt;div class=&quot;folium-map&quot; id=&quot;map_40cea69b25cc44ad474b317447362686&quot; &gt;&lt;/div&gt;\n",
       "        \n",
       "&lt;/body&gt;\n",
       "&lt;script&gt;\n",
       "    \n",
       "    \n",
       "            var map_40cea69b25cc44ad474b317447362686 = L.map(\n",
       "                &quot;map_40cea69b25cc44ad474b317447362686&quot;,\n",
       "                {\n",
       "                    center: [46.948, 7.4474],\n",
       "                    crs: L.CRS.EPSG3857,\n",
       "                    zoom: 11,\n",
       "                    zoomControl: true,\n",
       "                    preferCanvas: false,\n",
       "                }\n",
       "            );\n",
       "\n",
       "            \n",
       "\n",
       "        \n",
       "    \n",
       "            var tile_layer_a2f5f90c139a9ebc032ece601d1d0bf8 = L.tileLayer(\n",
       "                &quot;https://{s}.tile.openstreetmap.org/{z}/{x}/{y}.png&quot;,\n",
       "                {&quot;attribution&quot;: &quot;Data by \\u0026copy; \\u003ca href=\\&quot;http://openstreetmap.org\\&quot;\\u003eOpenStreetMap\\u003c/a\\u003e, under \\u003ca href=\\&quot;http://www.openstreetmap.org/copyright\\&quot;\\u003eODbL\\u003c/a\\u003e.&quot;, &quot;detectRetina&quot;: false, &quot;maxNativeZoom&quot;: 18, &quot;maxZoom&quot;: 18, &quot;minZoom&quot;: 0, &quot;noWrap&quot;: false, &quot;opacity&quot;: 1, &quot;subdomains&quot;: &quot;abc&quot;, &quot;tms&quot;: false}\n",
       "            ).addTo(map_40cea69b25cc44ad474b317447362686);\n",
       "        \n",
       "    \n",
       "            var tile_layer_7c2d66981ba219cf27ad9f68e5b45871 = L.tileLayer(\n",
       "                &quot;https://earthengine.googleapis.com/v1alpha/projects/earthengine-legacy/maps/8a8a9ca6c0f717d5cd65fbcfe8894f0d-1249d573dd08bd2f6fd26d273225618b/tiles/{z}/{x}/{y}&quot;,\n",
       "                {&quot;attribution&quot;: &quot;Google Earth Engine&quot;, &quot;detectRetina&quot;: false, &quot;maxNativeZoom&quot;: 18, &quot;maxZoom&quot;: 18, &quot;minZoom&quot;: 0, &quot;noWrap&quot;: false, &quot;opacity&quot;: 1, &quot;subdomains&quot;: &quot;abc&quot;, &quot;tms&quot;: false}\n",
       "            ).addTo(map_40cea69b25cc44ad474b317447362686);\n",
       "        \n",
       "    \n",
       "            var layer_control_18033678b55133bf54c3a944b7c0348f = {\n",
       "                base_layers : {\n",
       "                    &quot;openstreetmap&quot; : tile_layer_a2f5f90c139a9ebc032ece601d1d0bf8,\n",
       "                },\n",
       "                overlays :  {\n",
       "                    &quot;SkySat RGB&quot; : tile_layer_7c2d66981ba219cf27ad9f68e5b45871,\n",
       "                },\n",
       "            };\n",
       "            L.control.layers(\n",
       "                layer_control_18033678b55133bf54c3a944b7c0348f.base_layers,\n",
       "                layer_control_18033678b55133bf54c3a944b7c0348f.overlays,\n",
       "                {&quot;autoZIndex&quot;: true, &quot;collapsed&quot;: true, &quot;position&quot;: &quot;topright&quot;}\n",
       "            ).addTo(map_40cea69b25cc44ad474b317447362686);\n",
       "        \n",
       "    \n",
       "            L.control.fullscreen(\n",
       "                {&quot;forceSeparateButton&quot;: false, &quot;position&quot;: &quot;topleft&quot;, &quot;title&quot;: &quot;Full Screen&quot;, &quot;titleCancel&quot;: &quot;Exit Full Screen&quot;}\n",
       "            ).addTo(map_40cea69b25cc44ad474b317447362686);\n",
       "        \n",
       "    \n",
       "                var lat_lng_popup_d3aa92f15fb24bc11197397660231c4f = L.popup();\n",
       "                function latLngPop(e) {\n",
       "                    lat_lng_popup_d3aa92f15fb24bc11197397660231c4f\n",
       "                        .setLatLng(e.latlng)\n",
       "                        .setContent(&quot;Latitude: &quot; + e.latlng.lat.toFixed(4) +\n",
       "                                    &quot;&lt;br&gt;Longitude: &quot; + e.latlng.lng.toFixed(4))\n",
       "                        .openOn(map_40cea69b25cc44ad474b317447362686);\n",
       "                    }\n",
       "                map_40cea69b25cc44ad474b317447362686.on(&#x27;click&#x27;, latLngPop);\n",
       "            \n",
       "&lt;/script&gt;\n",
       "&lt;/html&gt;\" style=\"position:absolute;width:100%;height:100%;left:0;top:0;border:none !important;\" allowfullscreen webkitallowfullscreen mozallowfullscreen></iframe></div></div>"
      ],
      "text/plain": [
       "<folium.folium.Map at 0x1b11e2fe8e0>"
      ]
     },
     "execution_count": 11,
     "metadata": {},
     "output_type": "execute_result"
    }
   ],
   "source": [
    "dataset = ee.ImageCollection(\"ORTHO/Switzerland/SWISSIMAGE/10cm\")\n",
    "colorRGB = dataset.select(['R', 'G', 'B'])\n",
    "colorRGBVis = {}\n",
    "Map = folium.Map(location=Bern, zoom_start=11)\n",
    "# Map.setCenter(Bern[1], Bern[0])\n",
    "Map.addLayer(colorRGB, colorRGBVis, 'SkySat RGB')\n",
    "Map.setControlVisibility(layerControl=True, fullscreenControl=True, latLngPopup=True)\n",
    "Map"
   ]
  },
  {
   "cell_type": "code",
   "execution_count": null,
   "id": "057d8170",
   "metadata": {},
   "outputs": [],
   "source": [
    "# I think this is specific to Landsat data since it includes images with lots of cloud coverage\n",
    "# Cloud masking function.\n",
    "def maskL8sr(image):\n",
    "  cloudShadowBitMask = ee.Number(2).pow(3).int()\n",
    "  cloudsBitMask = ee.Number(2).pow(5).int()\n",
    "  qa = image.select('pixel_qa')\n",
    "  mask = qa.bitwiseAnd(cloudShadowBitMask).eq(0).And(\n",
    "    qa.bitwiseAnd(cloudsBitMask).eq(0))\n",
    "  return image.updateMask(mask).select(BANDS).divide(10000)\n",
    "\n",
    "# The image input data is a 2018 cloud-masked median composite.\n",
    "image = .filterDate('2018-01-01', '2018-12-31').map(maskL8sr).median()\n",
    "\n",
    "# Use folium to visualize the imagery.\n",
    "mapid = image.getMapId({'bands': ['B4', 'B3', 'B2'], 'min': 0, 'max': 0.3})\n",
    "map = folium.Map(location=[38., -122.5])\n",
    "\n",
    "folium.TileLayer(\n",
    "    tiles=mapid['tile_fetcher'].url_format,\n",
    "    attr='Map Data © Google Earth Engine',\n",
    "    overlay=True,\n",
    "    name='median composite',\n",
    "  ).add_to(map)\n",
    "map.add_child(folium.LayerControl())\n",
    "map"
   ]
  },
  {
   "cell_type": "code",
   "execution_count": 18,
   "id": "a92b6e97",
   "metadata": {},
   "outputs": [
    {
     "ename": "UnimplementedError",
     "evalue": "File system scheme 'gs' not implemented (file: 'gs://your-bucket')",
     "output_type": "error",
     "traceback": [
      "\u001b[1;31m---------------------------------------------------------------------------\u001b[0m",
      "\u001b[1;31mUnimplementedError\u001b[0m                        Traceback (most recent call last)",
      "\u001b[1;32m~\\AppData\\Local\\Temp/ipykernel_12716/2024293320.py\u001b[0m in \u001b[0;36m<module>\u001b[1;34m\u001b[0m\n\u001b[0;32m      1\u001b[0m \u001b[1;31m# Make sure you can see the output bucket.  You must have write access.\u001b[0m\u001b[1;33m\u001b[0m\u001b[1;33m\u001b[0m\u001b[0m\n\u001b[1;32m----> 2\u001b[1;33m print('Found Cloud Storage bucket.' if tf.io.gfile.exists('gs://' + OUTPUT_BUCKET) \n\u001b[0m\u001b[0;32m      3\u001b[0m     else 'Can not find output Cloud Storage bucket.')\n",
      "\u001b[1;32m~\\anaconda3\\lib\\site-packages\\tensorflow\\python\\lib\\io\\file_io.py\u001b[0m in \u001b[0;36mfile_exists_v2\u001b[1;34m(path)\u001b[0m\n\u001b[0;32m    286\u001b[0m   \"\"\"\n\u001b[0;32m    287\u001b[0m   \u001b[1;32mtry\u001b[0m\u001b[1;33m:\u001b[0m\u001b[1;33m\u001b[0m\u001b[1;33m\u001b[0m\u001b[0m\n\u001b[1;32m--> 288\u001b[1;33m     \u001b[0m_pywrap_file_io\u001b[0m\u001b[1;33m.\u001b[0m\u001b[0mFileExists\u001b[0m\u001b[1;33m(\u001b[0m\u001b[0mcompat\u001b[0m\u001b[1;33m.\u001b[0m\u001b[0mpath_to_bytes\u001b[0m\u001b[1;33m(\u001b[0m\u001b[0mpath\u001b[0m\u001b[1;33m)\u001b[0m\u001b[1;33m)\u001b[0m\u001b[1;33m\u001b[0m\u001b[1;33m\u001b[0m\u001b[0m\n\u001b[0m\u001b[0;32m    289\u001b[0m   \u001b[1;32mexcept\u001b[0m \u001b[0merrors\u001b[0m\u001b[1;33m.\u001b[0m\u001b[0mNotFoundError\u001b[0m\u001b[1;33m:\u001b[0m\u001b[1;33m\u001b[0m\u001b[1;33m\u001b[0m\u001b[0m\n\u001b[0;32m    290\u001b[0m     \u001b[1;32mreturn\u001b[0m \u001b[1;32mFalse\u001b[0m\u001b[1;33m\u001b[0m\u001b[1;33m\u001b[0m\u001b[0m\n",
      "\u001b[1;31mUnimplementedError\u001b[0m: File system scheme 'gs' not implemented (file: 'gs://your-bucket')"
     ]
    }
   ],
   "source": [
    "# Make sure you can see the output bucket.  You must have write access.\n",
    "print('Found Cloud Storage bucket.' if tf.io.gfile.exists('gs://' + OUTPUT_BUCKET) \n",
    "    else 'Can not find output Cloud Storage bucket.')"
   ]
  },
  {
   "cell_type": "markdown",
   "id": "c0fe1cb0-8adf-4350-99ef-3f0ab6bd3223",
   "metadata": {},
   "source": [
    "# 3. Build Neural Network"
   ]
  },
  {
   "cell_type": "markdown",
   "id": "f56ba9cc-7384-4d28-8eaa-b36801fd3967",
   "metadata": {},
   "source": [
    "Should we use a DNN (https://github.com/google/earthengine-api/blob/master/python/examples/ipynb/TF_demo1_keras.ipynb) or a CNN (https://github.com/google/earthengine-api/blob/master/python/examples/ipynb/UNET_regression_demo.ipynb)?"
   ]
  },
  {
   "cell_type": "code",
   "execution_count": null,
   "id": "a9b0790b-06aa-42e8-b023-6e7e2c115754",
   "metadata": {},
   "outputs": [],
   "source": [
    "def build_gen_model():\n",
    "    model = Sequential()\n",
    "    \n",
    "    # takes in random values and builds 3D array of 7 x 7 x 128\n",
    "    model.add(Dense(7*7*128, input_dim=128))\n",
    "    model.add(LeakyReLU(0.2))\n",
    "    model.add(Reshape((7, 7, 128)))\n",
    "    \n",
    "    model.add(UpSampling2D())\n",
    "    model.add(Conv2D(128, 5, padding='same'))\n",
    "    model.add(LeakyReLU(0.2))\n",
    "    \n",
    "    model.add(UpSampling2D())\n",
    "    model.add(Conv2D(128, 5, padding='same'))\n",
    "    model.add(LeakyReLU(0.2))\n",
    "    \n",
    "    model.add(Conv2D(128, 4, padding='same'))\n",
    "    model.add(LeakyReLU(0.2))\n",
    "    \n",
    "    model.add(Conv2D(128, 4, padding='same'))\n",
    "    model.add(LeakyReLU(0.2))\n",
    "    \n",
    "    model.add(Conv2D(1, 4, padding='same', activation='sigmoid'))\n",
    "    \n",
    "    return model"
   ]
  },
  {
   "cell_type": "code",
   "execution_count": null,
   "id": "36ef2661-38de-4e1a-98a2-57e418db46ff",
   "metadata": {},
   "outputs": [],
   "source": [
    "gen_model = build_gen_model()"
   ]
  },
  {
   "cell_type": "code",
   "execution_count": null,
   "id": "a19be598-e53f-41bb-9824-59b037864134",
   "metadata": {},
   "outputs": [],
   "source": [
    "gen_model.summary()"
   ]
  },
  {
   "cell_type": "markdown",
   "id": "71989c1b-4c64-44a8-9ea5-621e35925d5f",
   "metadata": {},
   "source": [
    "## 3.1 Build Generator"
   ]
  },
  {
   "cell_type": "markdown",
   "id": "f78b61d0-fc84-40e8-938a-5c2aa415c15d",
   "metadata": {},
   "source": [
    "## 3.2 Build Discriminator"
   ]
  },
  {
   "cell_type": "markdown",
   "id": "2f6cffe1-6cb1-47fa-bc00-8d3d2cd202f0",
   "metadata": {},
   "source": [
    "# 4. Train the Network"
   ]
  },
  {
   "cell_type": "markdown",
   "id": "1bc88807-a7ba-4f70-aaa4-b4b1f4fadce2",
   "metadata": {},
   "source": [
    "# 5. Test"
   ]
  }
 ],
 "metadata": {
  "kernelspec": {
   "display_name": "Python 3 (ipykernel)",
   "language": "python",
   "name": "python3"
  },
  "language_info": {
   "codemirror_mode": {
    "name": "ipython",
    "version": 3
   },
   "file_extension": ".py",
   "mimetype": "text/x-python",
   "name": "python",
   "nbconvert_exporter": "python",
   "pygments_lexer": "ipython3",
   "version": "3.9.7"
  }
 },
 "nbformat": 4,
 "nbformat_minor": 5
}
