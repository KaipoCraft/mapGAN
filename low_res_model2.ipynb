{
  "cells": [
    {
      "cell_type": "markdown",
      "metadata": {
        "id": "view-in-github",
        "colab_type": "text"
      },
      "source": [
        "<a href=\"https://colab.research.google.com/github/KaipoCraft/mapGAN/blob/main/low_res_model2.ipynb\" target=\"_parent\"><img src=\"https://colab.research.google.com/assets/colab-badge.svg\" alt=\"Open In Colab\"/></a>"
      ]
    },
    {
      "cell_type": "markdown",
      "source": [
        "#Project: mapGAN\n",
        "\n",
        "##Melanie Sharif & Neill Shikada\n",
        "###INFO 5604 / Applied Machine Learning\n",
        "###Dr. Robin Burke"
      ],
      "metadata": {
        "id": "ma1k6A1_1vTe"
      },
      "id": "ma1k6A1_1vTe"
    },
    {
      "cell_type": "markdown",
      "id": "482554cd-1e15-4430-9017-b0905f328aae",
      "metadata": {
        "id": "482554cd-1e15-4430-9017-b0905f328aae"
      },
      "source": [
        "# 1. Import Dependencies"
      ]
    },
    {
      "cell_type": "markdown",
      "id": "0785cda4-edd9-43b2-b0db-fb392343958b",
      "metadata": {
        "id": "0785cda4-edd9-43b2-b0db-fb392343958b"
      },
      "source": [
        "Basic ML packages"
      ]
    },
    {
      "cell_type": "code",
      "execution_count": 70,
      "id": "d8c9ae12-df7b-4e77-a689-5766eddc5785",
      "metadata": {
        "id": "d8c9ae12-df7b-4e77-a689-5766eddc5785"
      },
      "outputs": [],
      "source": [
        "import scipy as sp\n",
        "import pandas as pd\n",
        "import numpy as np"
      ]
    },
    {
      "cell_type": "markdown",
      "id": "cfc98629-7dfe-4442-9a65-a75c47c45253",
      "metadata": {
        "id": "cfc98629-7dfe-4442-9a65-a75c47c45253"
      },
      "source": [
        "Visualization packages"
      ]
    },
    {
      "cell_type": "code",
      "execution_count": 71,
      "id": "de2bedca-e884-4e5f-90be-756d8cc1b548",
      "metadata": {
        "id": "de2bedca-e884-4e5f-90be-756d8cc1b548"
      },
      "outputs": [],
      "source": [
        "import matplotlib.pyplot as plt\n",
        "import seaborn as sb\n"
      ]
    },
    {
      "cell_type": "markdown",
      "id": "6763d27e-1831-4d14-8f6b-ff763c55fb53",
      "metadata": {
        "id": "6763d27e-1831-4d14-8f6b-ff763c55fb53"
      },
      "source": [
        "Tensorflow"
      ]
    },
    {
      "cell_type": "code",
      "execution_count": 72,
      "id": "cedae47c-1584-4ad6-bf45-9e976e2ab9cb",
      "metadata": {
        "id": "cedae47c-1584-4ad6-bf45-9e976e2ab9cb"
      },
      "outputs": [],
      "source": [
        "import tensorflow as tf"
      ]
    },
    {
      "cell_type": "code",
      "execution_count": 73,
      "id": "cfd312de-9040-484c-8f10-b3402f1df06a",
      "metadata": {
        "id": "cfd312de-9040-484c-8f10-b3402f1df06a"
      },
      "outputs": [],
      "source": [
        "from tensorflow.keras.layers import Input, Reshape, Dropout, Dense \n",
        "from tensorflow.keras.layers import Flatten, BatchNormalization\n",
        "from tensorflow.keras.layers import Activation, ZeroPadding2D\n",
        "from tensorflow.keras.layers import LeakyReLU\n",
        "from tensorflow.keras.layers import UpSampling2D, Conv2D\n",
        "from tensorflow.keras.models import Sequential, Model, load_model\n",
        "from tensorflow.keras.optimizers import Adam, SGD"
      ]
    },
    {
      "cell_type": "markdown",
      "id": "d3737292-08a5-423b-b3c3-d1fe66130d41",
      "metadata": {
        "id": "d3737292-08a5-423b-b3c3-d1fe66130d41"
      },
      "source": [
        "Other packages for loading bars, time estimations, file paths, and image downloading & tweaking"
      ]
    },
    {
      "cell_type": "code",
      "execution_count": 74,
      "id": "45915e68-0d12-4653-9476-a91a9f31ca7c",
      "metadata": {
        "id": "45915e68-0d12-4653-9476-a91a9f31ca7c"
      },
      "outputs": [],
      "source": [
        "from PIL import Image\n",
        "from tqdm import tqdm\n",
        "import os \n",
        "import time\n",
        "from google.colab import drive"
      ]
    },
    {
      "cell_type": "markdown",
      "id": "92380be3-159e-468b-8373-8ed91baf9da3",
      "metadata": {
        "id": "92380be3-159e-468b-8373-8ed91baf9da3"
      },
      "source": [
        "We'll be using primarily TensorFlow to create our DCGAN"
      ]
    },
    {
      "cell_type": "markdown",
      "id": "4fb5b51d-defe-46c6-8923-ceca3844d308",
      "metadata": {
        "id": "4fb5b51d-defe-46c6-8923-ceca3844d308"
      },
      "source": [
        "# 2. Data"
      ]
    },
    {
      "cell_type": "code",
      "source": [
        "#mount Google Drive and create a data path\n",
        "drive.mount('/content/drive')\n",
        "DATA_PATH = '/content/drive/MyDrive/mapGAN8/Industrial'"
      ],
      "metadata": {
        "colab": {
          "base_uri": "https://localhost:8080/"
        },
        "id": "oQQEkAJv0rFt",
        "outputId": "4d2d211b-c9f7-41a8-e6eb-95a970d120f4"
      },
      "id": "oQQEkAJv0rFt",
      "execution_count": 75,
      "outputs": [
        {
          "output_type": "stream",
          "name": "stdout",
          "text": [
            "Drive already mounted at /content/drive; to attempt to forcibly remount, call drive.mount(\"/content/drive\", force_remount=True).\n"
          ]
        }
      ]
    },
    {
      "cell_type": "markdown",
      "source": [
        "## 2.1 Input Data Setup"
      ],
      "metadata": {
        "id": "hruiLaMm2Wfg"
      },
      "id": "hruiLaMm2Wfg"
    },
    {
      "cell_type": "code",
      "source": [
        "#image resolution factor\n",
        "# (1=32, 2=64, 3=96, 4=128, etc.)\n",
        "GENERATE_RES = 4\n",
        "\n",
        "#image size (in pixels)\n",
        "#rows/cols (should be square)\n",
        "GENERATE_SQUARE = 32 * GENERATE_RES \n",
        "\n",
        "#color channels\n",
        "#a val of 4 would include alpha\n",
        "IMAGE_CHANNELS = 3\n",
        "\n",
        "print(f\"The model will generate {GENERATE_SQUARE}px square images.\")"
      ],
      "metadata": {
        "colab": {
          "base_uri": "https://localhost:8080/"
        },
        "id": "0hYDC41ymmag",
        "outputId": "c6eec3f0-d2fe-4fef-c586-1c373c6a6565"
      },
      "id": "0hYDC41ymmag",
      "execution_count": 76,
      "outputs": [
        {
          "output_type": "stream",
          "name": "stdout",
          "text": [
            "The model will generate 128px square images.\n"
          ]
        }
      ]
    },
    {
      "cell_type": "markdown",
      "source": [
        "##2.2 Input Data Preprocessing"
      ],
      "metadata": {
        "id": "yt5bWyFqJxuP"
      },
      "id": "yt5bWyFqJxuP"
    },
    {
      "cell_type": "code",
      "source": [
        "#preprocessing timer\n",
        "def hms_string(sec_elapsed):\n",
        "    h = int(sec_elapsed / (60 * 60))\n",
        "    m = int((sec_elapsed % (60 * 60)) / 60)\n",
        "    s = sec_elapsed % 60\n",
        "    return \"{}:{:>02}:{:>05.2f}\".format(h, m, s)\n"
      ],
      "metadata": {
        "id": "GVJEtoEGJxTr"
      },
      "id": "GVJEtoEGJxTr",
      "execution_count": 77,
      "outputs": []
    },
    {
      "cell_type": "code",
      "source": [
        "#location of the preprocessed data in Drive\n",
        "training_pp_path = os.path.join(DATA_PATH,\n",
        "        f'training_data_{GENERATE_SQUARE}_{GENERATE_SQUARE}.npy')\n"
      ],
      "metadata": {
        "id": "W_pm6GCBJ8O5"
      },
      "id": "W_pm6GCBJ8O5",
      "execution_count": 78,
      "outputs": []
    },
    {
      "cell_type": "markdown",
      "source": [
        "The block below checks to see if the input data has been preprocessed yet. \n",
        "\n",
        "If it has, it loads the last-used training pickle as the training data.\n",
        "\n",
        "If it hasn't, it creates an array for the training data, and loads the images from the specified path in Drive. Then it resizes each image into a square of a size we specified (currently 64px) and adds each file (as `Image` objects) from that path into an `np.array`.\n",
        "\n",
        "The data is then reshaped to include RGB channels, and finally normalized"
      ],
      "metadata": {
        "id": "89FuiXD5J-YJ"
      },
      "id": "89FuiXD5J-YJ"
    },
    {
      "cell_type": "code",
      "source": [
        "print(f\"Looking for file: {training_pp_path}\")\n",
        "\n",
        "if not os.path.isfile(training_pp_path):\n",
        "  start = time.time()\n",
        "  print(\"Loading training images...\")\n",
        "\n",
        "  training_data = []\n",
        "  GIS_path = os.path.join(DATA_PATH)\n",
        " \n",
        "  for filename in tqdm(os.listdir(GIS_path)):\n",
        "      path = os.path.join(GIS_path,filename)\n",
        "      image = Image.open(path).resize((GENERATE_SQUARE,\n",
        "            GENERATE_SQUARE)) #removed an Image.ANTIALIAS filter from here\n",
        "      training_data.append(np.asarray(image))\n",
        "  \n",
        "  training_data = np.reshape(training_data,(-1,GENERATE_SQUARE,\n",
        "            GENERATE_SQUARE,IMAGE_CHANNELS))\n",
        "  \n",
        "  training_data = training_data.astype(np.float32)\n",
        "  training_data = training_data / 255.0 \n",
        "\n",
        "  print(\"Saving preprocessed data...\")\n",
        "  \n",
        "  #this function saves the pickle, and saves the file to Drive\n",
        "  np.save(training_pp_path,training_data)\n",
        "  elapsed = time.time()-start\n",
        "  print (f'Image preprocess time: {hms_string(elapsed)}')\n",
        "\n",
        "else:\n",
        "  print(\"Loading previous training pickle...\")\n",
        "  training_data = np.load(training_pp_path)"
      ],
      "metadata": {
        "colab": {
          "base_uri": "https://localhost:8080/"
        },
        "id": "6s8zz75TCDIo",
        "outputId": "a3f7e60e-8252-4eca-ee88-f5ab4d48d974"
      },
      "id": "6s8zz75TCDIo",
      "execution_count": 79,
      "outputs": [
        {
          "output_type": "stream",
          "name": "stdout",
          "text": [
            "Looking for file: /content/drive/MyDrive/mapGAN8/Industrial/training_data_128_128.npy\n",
            "Loading training images...\n"
          ]
        },
        {
          "output_type": "stream",
          "name": "stderr",
          "text": [
            "100%|██████████| 1250/1250 [00:01<00:00, 807.85it/s]\n"
          ]
        },
        {
          "output_type": "stream",
          "name": "stdout",
          "text": [
            "Saving preprocessed data...\n",
            "Image preprocess time: 0:00:02.08\n"
          ]
        }
      ]
    },
    {
      "cell_type": "markdown",
      "source": [
        "## 2.3 Output Data Setup"
      ],
      "metadata": {
        "id": "H8NzDZDhO1DG"
      },
      "id": "H8NzDZDhO1DG"
    },
    {
      "cell_type": "code",
      "source": [
        "# output data preview\n",
        "PREVIEW_ROWS = 2\n",
        "PREVIEW_COLS = 2\n",
        "PREVIEW_MARGIN = 16\n"
      ],
      "metadata": {
        "id": "U-4_LONHOyAW"
      },
      "id": "U-4_LONHOyAW",
      "execution_count": 80,
      "outputs": []
    },
    {
      "cell_type": "code",
      "source": [
        "#batch and buffer size for shuffling\n",
        "BATCH_SIZE = 32\n",
        "BUFFER_SIZE = 60000\n",
        "\n",
        "#shuffle the data\n",
        "train_dataset = tf.data.Dataset.from_tensor_slices(training_data) \\\n",
        "    .shuffle(BUFFER_SIZE).batch(BATCH_SIZE)"
      ],
      "metadata": {
        "id": "2eqMvltCIV3x"
      },
      "id": "2eqMvltCIV3x",
      "execution_count": 81,
      "outputs": []
    },
    {
      "cell_type": "markdown",
      "source": [
        "This block below is a function to save all training output images to Drive."
      ],
      "metadata": {
        "id": "W49RqZwEPx3F"
      },
      "id": "W49RqZwEPx3F"
    },
    {
      "cell_type": "code",
      "source": [
        "def save_images(cnt,noise):\n",
        "  image_array = np.full(( \n",
        "      PREVIEW_MARGIN + (PREVIEW_ROWS * (GENERATE_SQUARE+PREVIEW_MARGIN)), \n",
        "      PREVIEW_MARGIN + (PREVIEW_COLS * (GENERATE_SQUARE+PREVIEW_MARGIN)), 3), \n",
        "      255, dtype=np.uint8)\n",
        "  \n",
        "  generated_images = generator.predict(noise)\n",
        "\n",
        "  generated_images = 0.5 * generated_images + 0.5\n",
        "\n",
        "  image_count = 0\n",
        "\n",
        "  for row in range(PREVIEW_ROWS):\n",
        "      for col in range(PREVIEW_COLS):\n",
        "        r = row * (GENERATE_SQUARE+16) + PREVIEW_MARGIN\n",
        "        c = col * (GENERATE_SQUARE+16) + PREVIEW_MARGIN\n",
        "        image_array[r:r+GENERATE_SQUARE,c:c+GENERATE_SQUARE] \\\n",
        "            = generated_images[image_count] * 255\n",
        "        image_count += 1\n",
        "          \n",
        "  output_path = os.path.join(DATA_PATH,'output')\n",
        "  if not os.path.exists(output_path):\n",
        "    os.makedirs(output_path)\n",
        "  \n",
        "  filename = os.path.join(output_path,f\"train-{cnt}.png\")\n",
        "  im = Image.fromarray(image_array)\n",
        "  im.save(filename)"
      ],
      "metadata": {
        "id": "guz-TjGHCC82"
      },
      "id": "guz-TjGHCC82",
      "execution_count": 82,
      "outputs": []
    },
    {
      "cell_type": "markdown",
      "id": "c0fe1cb0-8adf-4350-99ef-3f0ab6bd3223",
      "metadata": {
        "id": "c0fe1cb0-8adf-4350-99ef-3f0ab6bd3223"
      },
      "source": [
        "# 3. Build Neural Networks"
      ]
    },
    {
      "cell_type": "markdown",
      "id": "71989c1b-4c64-44a8-9ea5-621e35925d5f",
      "metadata": {
        "id": "71989c1b-4c64-44a8-9ea5-621e35925d5f"
      },
      "source": [
        "## 3.2 Build Generator\n",
        "\n",
        "First we define the function to build the generator, a CNN. \n",
        "\n",
        "The activation function is ReLu for all layers except for the output, which uses Tanh. The use of bounded activation was shown to be a stable architecture choice (citation: [https://arxiv.org/pdf/1511.06434.pdf])"
      ]
    },
    {
      "cell_type": "code",
      "execution_count": 83,
      "id": "9d1b4cb7-c9b8-4b3a-afb7-2953aa4e7524",
      "metadata": {
        "id": "9d1b4cb7-c9b8-4b3a-afb7-2953aa4e7524"
      },
      "outputs": [],
      "source": [
        "#building the generator\n",
        "def build_generator(seed_size, channels):\n",
        "    model = Sequential()\n",
        "\n",
        "    model.add(Dense(4*4*256,activation=\"relu\",input_dim=seed_size))\n",
        "    model.add(Reshape((4,4,256)))\n",
        "\n",
        "    model.add(UpSampling2D())\n",
        "    model.add(Conv2D(256,kernel_size=3,padding=\"same\"))\n",
        "    model.add(BatchNormalization(momentum=0.8))\n",
        "    model.add(Activation(\"relu\"))\n",
        "\n",
        "    model.add(UpSampling2D())\n",
        "    model.add(Conv2D(256,kernel_size=3,padding=\"same\"))\n",
        "    model.add(BatchNormalization(momentum=0.8))\n",
        "    model.add(Activation(\"relu\"))\n",
        "   \n",
        "    # Output resolution, additional upsampling\n",
        "    model.add(UpSampling2D())\n",
        "    model.add(Conv2D(128,kernel_size=3,padding=\"same\"))\n",
        "    model.add(BatchNormalization(momentum=0.8))\n",
        "    model.add(Activation(\"relu\"))\n",
        "\n",
        "    if GENERATE_RES>1:\n",
        "      model.add(UpSampling2D(size=(GENERATE_RES,GENERATE_RES)))\n",
        "      model.add(Conv2D(128,kernel_size=3,padding=\"same\"))\n",
        "      model.add(BatchNormalization(momentum=0.8))\n",
        "      model.add(Activation(\"relu\"))\n",
        "\n",
        "    # Final CNN layer\n",
        "    model.add(Conv2D(channels,kernel_size=3,padding=\"same\"))\n",
        "    model.add(Activation(\"tanh\"))\n",
        "\n",
        "    return model"
      ]
    },
    {
      "cell_type": "markdown",
      "id": "f78b61d0-fc84-40e8-938a-5c2aa415c15d",
      "metadata": {
        "id": "f78b61d0-fc84-40e8-938a-5c2aa415c15d"
      },
      "source": [
        "## 3.3 Build Discriminator"
      ]
    },
    {
      "cell_type": "markdown",
      "source": [
        "Next we define the function to build the discriminator, another CNN. \n",
        "\n",
        "The activation function is LeakyReLu for all layers. This was shown to be a stable & effective arch. choice for DCGANs (citation: [https://arxiv.org/pdf/1511.06434.pdf])"
      ],
      "metadata": {
        "id": "bKCYVi62eTz4"
      },
      "id": "bKCYVi62eTz4"
    },
    {
      "cell_type": "code",
      "execution_count": 84,
      "id": "78e3a40e-9662-4e62-b2eb-26a178c9f956",
      "metadata": {
        "id": "78e3a40e-9662-4e62-b2eb-26a178c9f956"
      },
      "outputs": [],
      "source": [
        "#building the discriminator\n",
        "def build_discriminator(image_shape):\n",
        "    model = Sequential()\n",
        "\n",
        "    model.add(Conv2D(32, kernel_size=3, strides=2, input_shape=image_shape, \n",
        "                     padding=\"same\"))\n",
        "    model.add(LeakyReLU(alpha=0.2))\n",
        "\n",
        "    model.add(Dropout(0.25))\n",
        "    model.add(Conv2D(64, kernel_size=3, strides=2, padding=\"same\"))\n",
        "    model.add(ZeroPadding2D(padding=((0,1),(0,1))))\n",
        "    model.add(BatchNormalization(momentum=0.8))\n",
        "    model.add(LeakyReLU(alpha=0.2))\n",
        "\n",
        "    model.add(Dropout(0.25))\n",
        "    model.add(Conv2D(128, kernel_size=3, strides=2, padding=\"same\"))\n",
        "    model.add(BatchNormalization(momentum=0.8))\n",
        "    model.add(LeakyReLU(alpha=0.2))\n",
        "\n",
        "    model.add(Dropout(0.25))\n",
        "    model.add(Conv2D(256, kernel_size=3, strides=1, padding=\"same\"))\n",
        "    model.add(BatchNormalization(momentum=0.8))\n",
        "    model.add(LeakyReLU(alpha=0.2))\n",
        "\n",
        "    model.add(Dropout(0.25))\n",
        "    model.add(Conv2D(512, kernel_size=3, strides=1, padding=\"same\"))\n",
        "    model.add(BatchNormalization(momentum=0.8))\n",
        "    model.add(LeakyReLU(alpha=0.2))\n",
        "\n",
        "    model.add(Dropout(0.25))\n",
        "    model.add(Flatten())\n",
        "    model.add(Dense(1, activation='sigmoid'))\n",
        "\n",
        "    return model"
      ]
    },
    {
      "cell_type": "markdown",
      "id": "2f6cffe1-6cb1-47fa-bc00-8d3d2cd202f0",
      "metadata": {
        "id": "2f6cffe1-6cb1-47fa-bc00-8d3d2cd202f0"
      },
      "source": [
        "# 4. Training"
      ]
    },
    {
      "cell_type": "code",
      "source": [
        "#specify the number of epochs\n",
        "EPOCHS = 200\n",
        "\n",
        "#Size of random noise vector to generate images from\n",
        "SEED_SIZE = 100"
      ],
      "metadata": {
        "id": "32hgtH7VS0u8"
      },
      "id": "32hgtH7VS0u8",
      "execution_count": 85,
      "outputs": []
    },
    {
      "cell_type": "markdown",
      "source": [
        "Instantiate the generator, create the seed noise and test the generator "
      ],
      "metadata": {
        "id": "HNDBmSdWfRcH"
      },
      "id": "HNDBmSdWfRcH"
    },
    {
      "cell_type": "code",
      "source": [
        "generator = build_generator(SEED_SIZE, IMAGE_CHANNELS)\n",
        "\n",
        "noise = tf.random.normal([1, SEED_SIZE])\n",
        "generated_image = generator(noise, training=False)\n",
        "\n",
        "plt.imshow(generated_image[0, :, :, 0])"
      ],
      "metadata": {
        "colab": {
          "base_uri": "https://localhost:8080/",
          "height": 286
        },
        "id": "t9XlTRN_S6Z9",
        "outputId": "5fb6894a-586e-4866-c8f5-1202e8989d09"
      },
      "id": "t9XlTRN_S6Z9",
      "execution_count": 86,
      "outputs": [
        {
          "output_type": "execute_result",
          "data": {
            "text/plain": [
              "<matplotlib.image.AxesImage at 0x7fa41234d3d0>"
            ]
          },
          "metadata": {},
          "execution_count": 86
        },
        {
          "output_type": "display_data",
          "data": {
            "text/plain": [
              "<Figure size 432x288 with 1 Axes>"
            ],
            "image/png": "[encoded data removed]"
          },
          "metadata": {
            "needs_background": "light"
          }
        }
      ]
    },
    {
      "cell_type": "markdown",
      "source": [
        "Instantiate the driscriminator and print a test decision"
      ],
      "metadata": {
        "id": "QZ5vgMBtfbGB"
      },
      "id": "QZ5vgMBtfbGB"
    },
    {
      "cell_type": "code",
      "source": [
        "image_shape = (GENERATE_SQUARE,GENERATE_SQUARE,IMAGE_CHANNELS)\n",
        "\n",
        "discriminator = build_discriminator(image_shape)\n",
        "decision = discriminator(generated_image)\n",
        "print(decision)"
      ],
      "metadata": {
        "colab": {
          "base_uri": "https://localhost:8080/"
        },
        "id": "zS9odF6BTA78",
        "outputId": "8b78e932-3f58-4a05-af84-554c9d1fbc58"
      },
      "id": "zS9odF6BTA78",
      "execution_count": 87,
      "outputs": [
        {
          "output_type": "stream",
          "name": "stdout",
          "text": [
            "tf.Tensor([[0.49960512]], shape=(1, 1), dtype=float32)\n"
          ]
        }
      ]
    },
    {
      "cell_type": "markdown",
      "source": [
        "We'll use `BinaryCrossentropy`"
      ],
      "metadata": {
        "id": "QYgsaKYbgODo"
      },
      "id": "QYgsaKYbgODo"
    },
    {
      "cell_type": "code",
      "source": [
        "cross_entropy = tf.keras.losses.BinaryCrossentropy()"
      ],
      "metadata": {
        "id": "wSkTGuzrgWMf"
      },
      "id": "wSkTGuzrgWMf",
      "execution_count": 88,
      "outputs": []
    },
    {
      "cell_type": "code",
      "source": [
        "#discriminator loss\n",
        "def discriminator_loss(real_output, fake_output):\n",
        "    real_loss = cross_entropy(tf.ones_like(real_output), real_output)\n",
        "    fake_loss = cross_entropy(tf.zeros_like(fake_output), fake_output)\n",
        "    total_loss = real_loss + fake_loss\n",
        "    return total_loss\n",
        "\n",
        "#generator loss\n",
        "def generator_loss(fake_output):\n",
        "    return cross_entropy(tf.ones_like(fake_output), fake_output)"
      ],
      "metadata": {
        "id": "aQJwWrrVCq95"
      },
      "id": "aQJwWrrVCq95",
      "execution_count": 89,
      "outputs": []
    },
    {
      "cell_type": "markdown",
      "source": [
        "We experimented with using `SGD` as the optimizer, but it greatly increased loss"
      ],
      "metadata": {
        "id": "qlyiq3RsguW0"
      },
      "id": "qlyiq3RsguW0"
    },
    {
      "cell_type": "code",
      "source": [
        "#generator_optimizer = tf.keras.optimizers.SGD(learning_rate=0.01)\n",
        "#discriminator_optimizer = tf.keras.optimizers.SGD(learning_rate=0.01)"
      ],
      "metadata": {
        "id": "BI-qETrsgqqA"
      },
      "id": "BI-qETrsgqqA",
      "execution_count": 90,
      "outputs": []
    },
    {
      "cell_type": "markdown",
      "source": [
        "Using `Adam` as the optimizer instead as this was also shown to increase stability in the model's training process. `Adam` uses as an adaptive learning rate, which improves performance"
      ],
      "metadata": {
        "id": "8gmWVEdXgZTb"
      },
      "id": "8gmWVEdXgZTb"
    },
    {
      "cell_type": "code",
      "source": [
        "generator_optimizer = tf.keras.optimizers.Adam(.0002,0.5)\n",
        "discriminator_optimizer = tf.keras.optimizers.Adam(.0002,0.5)"
      ],
      "metadata": {
        "id": "kOkfVhyBTE_E"
      },
      "id": "kOkfVhyBTE_E",
      "execution_count": 91,
      "outputs": []
    },
    {
      "cell_type": "code",
      "source": [
        "#from https://www.tensorflow.org/tutorials/generative/dcgan\n",
        "#using pre-compiling\n",
        "@tf.function\n",
        "def train_step(images):\n",
        "  seed = tf.random.normal([BATCH_SIZE, SEED_SIZE])\n",
        "\n",
        "  with tf.GradientTape() as gen_tape, tf.GradientTape() as disc_tape:\n",
        "    generated_images = generator(seed, training=True)\n",
        "\n",
        "    real_output = discriminator(images, training=True)\n",
        "    fake_output = discriminator(generated_images, training=True)\n",
        "\n",
        "    gen_loss = generator_loss(fake_output)\n",
        "    disc_loss = discriminator_loss(real_output, fake_output)\n",
        "\n",
        "    gradients_of_generator = gen_tape.gradient(\\\n",
        "        gen_loss, generator.trainable_variables)\n",
        "    gradients_of_discriminator = disc_tape.gradient(\\\n",
        "        disc_loss, discriminator.trainable_variables)\n",
        "\n",
        "    generator_optimizer.apply_gradients(zip(\n",
        "        gradients_of_generator, generator.trainable_variables))\n",
        "    discriminator_optimizer.apply_gradients(zip(\n",
        "        gradients_of_discriminator, \n",
        "        discriminator.trainable_variables))\n",
        "  return gen_loss,disc_loss"
      ],
      "metadata": {
        "id": "qgvg7HkuTM6u"
      },
      "id": "qgvg7HkuTM6u",
      "execution_count": 92,
      "outputs": []
    },
    {
      "cell_type": "code",
      "execution_count": 93,
      "id": "21a36f25-f9ba-44b9-975f-c0e5a046445d",
      "metadata": {
        "colab": {
          "base_uri": "https://localhost:8080/"
        },
        "id": "21a36f25-f9ba-44b9-975f-c0e5a046445d",
        "outputId": "a46de474-4f35-4287-9866-712409153f5e"
      },
      "outputs": [
        {
          "output_type": "stream",
          "name": "stdout",
          "text": [
            "Epoch 1, gen loss=3.562763214111328,disc loss=1.830130934715271, {hms_string(epoch_elapsed)}\n",
            "1/1 [==============================] - 0s 166ms/step\n",
            "Epoch 2, gen loss=8.294474601745605,disc loss=1.8415744304656982, {hms_string(epoch_elapsed)}\n",
            "1/1 [==============================] - 0s 17ms/step\n",
            "Epoch 3, gen loss=8.508914947509766,disc loss=0.7619267702102661, {hms_string(epoch_elapsed)}\n",
            "1/1 [==============================] - 0s 17ms/step\n",
            "Epoch 4, gen loss=9.019830703735352,disc loss=0.7084376215934753, {hms_string(epoch_elapsed)}\n",
            "1/1 [==============================] - 0s 17ms/step\n",
            "Epoch 5, gen loss=11.07565689086914,disc loss=1.2882561683654785, {hms_string(epoch_elapsed)}\n",
            "1/1 [==============================] - 0s 17ms/step\n",
            "Epoch 6, gen loss=5.534154415130615,disc loss=1.484967827796936, {hms_string(epoch_elapsed)}\n",
            "1/1 [==============================] - 0s 17ms/step\n",
            "Epoch 7, gen loss=2.8059675693511963,disc loss=1.83974289894104, {hms_string(epoch_elapsed)}\n",
            "1/1 [==============================] - 0s 17ms/step\n",
            "Epoch 8, gen loss=3.3713488578796387,disc loss=0.888355553150177, {hms_string(epoch_elapsed)}\n",
            "1/1 [==============================] - 0s 17ms/step\n",
            "Epoch 9, gen loss=3.4856505393981934,disc loss=0.9192258715629578, {hms_string(epoch_elapsed)}\n",
            "1/1 [==============================] - 0s 17ms/step\n",
            "Epoch 10, gen loss=4.608596324920654,disc loss=0.9655623435974121, {hms_string(epoch_elapsed)}\n",
            "1/1 [==============================] - 0s 17ms/step\n",
            "Epoch 11, gen loss=5.694664001464844,disc loss=1.637713074684143, {hms_string(epoch_elapsed)}\n",
            "1/1 [==============================] - 0s 18ms/step\n",
            "Epoch 12, gen loss=4.920805931091309,disc loss=0.7493987083435059, {hms_string(epoch_elapsed)}\n",
            "1/1 [==============================] - 0s 17ms/step\n",
            "Epoch 13, gen loss=7.1070876121521,disc loss=0.9447615742683411, {hms_string(epoch_elapsed)}\n",
            "1/1 [==============================] - 0s 17ms/step\n",
            "Epoch 14, gen loss=6.586073398590088,disc loss=1.0712066888809204, {hms_string(epoch_elapsed)}\n",
            "1/1 [==============================] - 0s 19ms/step\n",
            "Epoch 15, gen loss=5.040084362030029,disc loss=1.0737735033035278, {hms_string(epoch_elapsed)}\n",
            "1/1 [==============================] - 0s 18ms/step\n",
            "Epoch 16, gen loss=7.1107611656188965,disc loss=1.2493195533752441, {hms_string(epoch_elapsed)}\n",
            "1/1 [==============================] - 0s 17ms/step\n",
            "Epoch 17, gen loss=6.025784492492676,disc loss=1.8947893381118774, {hms_string(epoch_elapsed)}\n",
            "1/1 [==============================] - 0s 17ms/step\n",
            "Epoch 18, gen loss=4.759923934936523,disc loss=2.2243971824645996, {hms_string(epoch_elapsed)}\n",
            "1/1 [==============================] - 0s 17ms/step\n",
            "Epoch 19, gen loss=4.184101104736328,disc loss=2.2875943183898926, {hms_string(epoch_elapsed)}\n",
            "1/1 [==============================] - 0s 18ms/step\n",
            "Epoch 20, gen loss=3.4131805896759033,disc loss=1.4801607131958008, {hms_string(epoch_elapsed)}\n",
            "1/1 [==============================] - 0s 17ms/step\n",
            "Epoch 21, gen loss=3.416985273361206,disc loss=1.7176520824432373, {hms_string(epoch_elapsed)}\n",
            "1/1 [==============================] - 0s 17ms/step\n",
            "Epoch 22, gen loss=3.6779510974884033,disc loss=1.1262747049331665, {hms_string(epoch_elapsed)}\n",
            "1/1 [==============================] - 0s 21ms/step\n",
            "Epoch 23, gen loss=3.6585617065429688,disc loss=0.9279267191886902, {hms_string(epoch_elapsed)}\n",
            "1/1 [==============================] - 0s 17ms/step\n",
            "Epoch 24, gen loss=4.00803279876709,disc loss=1.0447046756744385, {hms_string(epoch_elapsed)}\n",
            "1/1 [==============================] - 0s 17ms/step\n",
            "Epoch 25, gen loss=4.299990653991699,disc loss=1.0939589738845825, {hms_string(epoch_elapsed)}\n",
            "1/1 [==============================] - 0s 18ms/step\n",
            "Epoch 26, gen loss=3.7303364276885986,disc loss=1.2847987413406372, {hms_string(epoch_elapsed)}\n",
            "1/1 [==============================] - 0s 18ms/step\n",
            "Epoch 27, gen loss=3.796307325363159,disc loss=1.327933669090271, {hms_string(epoch_elapsed)}\n",
            "1/1 [==============================] - 0s 18ms/step\n",
            "Epoch 28, gen loss=3.040543794631958,disc loss=1.6533987522125244, {hms_string(epoch_elapsed)}\n",
            "1/1 [==============================] - 0s 18ms/step\n",
            "Epoch 29, gen loss=4.210739612579346,disc loss=0.7732828855514526, {hms_string(epoch_elapsed)}\n",
            "1/1 [==============================] - 0s 18ms/step\n",
            "Epoch 30, gen loss=4.413605690002441,disc loss=1.410305380821228, {hms_string(epoch_elapsed)}\n",
            "1/1 [==============================] - 0s 17ms/step\n",
            "Epoch 31, gen loss=3.4550483226776123,disc loss=1.6253738403320312, {hms_string(epoch_elapsed)}\n",
            "1/1 [==============================] - 0s 17ms/step\n",
            "Epoch 32, gen loss=4.546828269958496,disc loss=1.5676662921905518, {hms_string(epoch_elapsed)}\n",
            "1/1 [==============================] - 0s 17ms/step\n",
            "Epoch 33, gen loss=3.9371533393859863,disc loss=1.4142794609069824, {hms_string(epoch_elapsed)}\n",
            "1/1 [==============================] - 0s 18ms/step\n",
            "Epoch 34, gen loss=3.8354461193084717,disc loss=1.1888176202774048, {hms_string(epoch_elapsed)}\n",
            "1/1 [==============================] - 0s 18ms/step\n",
            "Epoch 35, gen loss=4.092503547668457,disc loss=1.3368399143218994, {hms_string(epoch_elapsed)}\n",
            "1/1 [==============================] - 0s 18ms/step\n",
            "Epoch 36, gen loss=4.503994941711426,disc loss=1.168634057044983, {hms_string(epoch_elapsed)}\n",
            "1/1 [==============================] - 0s 18ms/step\n",
            "Epoch 37, gen loss=4.284785747528076,disc loss=1.2544944286346436, {hms_string(epoch_elapsed)}\n",
            "1/1 [==============================] - 0s 17ms/step\n",
            "Epoch 38, gen loss=5.266984939575195,disc loss=0.7963055372238159, {hms_string(epoch_elapsed)}\n",
            "1/1 [==============================] - 0s 18ms/step\n",
            "Epoch 39, gen loss=3.845550537109375,disc loss=1.4482890367507935, {hms_string(epoch_elapsed)}\n",
            "1/1 [==============================] - 0s 18ms/step\n",
            "Epoch 40, gen loss=3.0044353008270264,disc loss=1.7322477102279663, {hms_string(epoch_elapsed)}\n",
            "1/1 [==============================] - 0s 17ms/step\n",
            "Epoch 41, gen loss=3.5507144927978516,disc loss=1.2465474605560303, {hms_string(epoch_elapsed)}\n",
            "1/1 [==============================] - 0s 19ms/step\n",
            "Epoch 42, gen loss=3.0361852645874023,disc loss=1.7921960353851318, {hms_string(epoch_elapsed)}\n",
            "1/1 [==============================] - 0s 17ms/step\n",
            "Epoch 43, gen loss=2.767691135406494,disc loss=1.524161696434021, {hms_string(epoch_elapsed)}\n",
            "1/1 [==============================] - 0s 18ms/step\n",
            "Epoch 44, gen loss=2.322568893432617,disc loss=1.648328185081482, {hms_string(epoch_elapsed)}\n",
            "1/1 [==============================] - 0s 19ms/step\n",
            "Epoch 45, gen loss=2.319293260574341,disc loss=1.597628116607666, {hms_string(epoch_elapsed)}\n",
            "1/1 [==============================] - 0s 18ms/step\n",
            "Epoch 46, gen loss=2.865098714828491,disc loss=1.5722496509552002, {hms_string(epoch_elapsed)}\n",
            "1/1 [==============================] - 0s 18ms/step\n",
            "Epoch 47, gen loss=2.400883674621582,disc loss=1.6019885540008545, {hms_string(epoch_elapsed)}\n",
            "1/1 [==============================] - 0s 17ms/step\n",
            "Epoch 48, gen loss=2.557529926300049,disc loss=1.4850507974624634, {hms_string(epoch_elapsed)}\n",
            "1/1 [==============================] - 0s 17ms/step\n",
            "Epoch 49, gen loss=2.5602197647094727,disc loss=1.451764464378357, {hms_string(epoch_elapsed)}\n",
            "1/1 [==============================] - 0s 18ms/step\n",
            "Epoch 50, gen loss=2.8006904125213623,disc loss=1.1905243396759033, {hms_string(epoch_elapsed)}\n",
            "1/1 [==============================] - 0s 17ms/step\n",
            "Epoch 51, gen loss=2.4973959922790527,disc loss=1.2518869638442993, {hms_string(epoch_elapsed)}\n",
            "1/1 [==============================] - 0s 18ms/step\n",
            "Epoch 52, gen loss=2.4594764709472656,disc loss=1.344957709312439, {hms_string(epoch_elapsed)}\n",
            "1/1 [==============================] - 0s 17ms/step\n",
            "Epoch 53, gen loss=2.817810297012329,disc loss=1.4334502220153809, {hms_string(epoch_elapsed)}\n",
            "1/1 [==============================] - 0s 17ms/step\n",
            "Epoch 54, gen loss=2.6466803550720215,disc loss=1.1489083766937256, {hms_string(epoch_elapsed)}\n",
            "1/1 [==============================] - 0s 18ms/step\n",
            "Epoch 55, gen loss=2.4723668098449707,disc loss=1.1752357482910156, {hms_string(epoch_elapsed)}\n",
            "1/1 [==============================] - 0s 18ms/step\n",
            "Epoch 56, gen loss=2.7343478202819824,disc loss=1.2390602827072144, {hms_string(epoch_elapsed)}\n",
            "1/1 [==============================] - 0s 18ms/step\n",
            "Epoch 57, gen loss=2.7155866622924805,disc loss=1.0116088390350342, {hms_string(epoch_elapsed)}\n",
            "1/1 [==============================] - 0s 17ms/step\n",
            "Epoch 58, gen loss=2.285355806350708,disc loss=1.4287415742874146, {hms_string(epoch_elapsed)}\n",
            "1/1 [==============================] - 0s 17ms/step\n",
            "Epoch 59, gen loss=2.4186198711395264,disc loss=1.3772480487823486, {hms_string(epoch_elapsed)}\n",
            "1/1 [==============================] - 0s 17ms/step\n",
            "Epoch 60, gen loss=2.37540340423584,disc loss=1.2672288417816162, {hms_string(epoch_elapsed)}\n",
            "1/1 [==============================] - 0s 18ms/step\n",
            "Epoch 61, gen loss=2.389836311340332,disc loss=1.2632554769515991, {hms_string(epoch_elapsed)}\n",
            "1/1 [==============================] - 0s 18ms/step\n",
            "Epoch 62, gen loss=2.787966012954712,disc loss=1.20475172996521, {hms_string(epoch_elapsed)}\n",
            "1/1 [==============================] - 0s 17ms/step\n",
            "Epoch 63, gen loss=2.9846160411834717,disc loss=1.125855565071106, {hms_string(epoch_elapsed)}\n",
            "1/1 [==============================] - 0s 17ms/step\n",
            "Epoch 64, gen loss=2.9826292991638184,disc loss=1.6006416082382202, {hms_string(epoch_elapsed)}\n",
            "1/1 [==============================] - 0s 17ms/step\n",
            "Epoch 65, gen loss=2.786324977874756,disc loss=1.0513265132904053, {hms_string(epoch_elapsed)}\n",
            "1/1 [==============================] - 0s 17ms/step\n",
            "Epoch 66, gen loss=2.4196038246154785,disc loss=1.3650338649749756, {hms_string(epoch_elapsed)}\n",
            "1/1 [==============================] - 0s 20ms/step\n",
            "Epoch 67, gen loss=2.5875728130340576,disc loss=1.4389156103134155, {hms_string(epoch_elapsed)}\n",
            "1/1 [==============================] - 0s 19ms/step\n",
            "Epoch 68, gen loss=2.2854652404785156,disc loss=1.156917929649353, {hms_string(epoch_elapsed)}\n",
            "1/1 [==============================] - 0s 17ms/step\n",
            "Epoch 69, gen loss=2.8791182041168213,disc loss=1.0038344860076904, {hms_string(epoch_elapsed)}\n",
            "1/1 [==============================] - 0s 17ms/step\n",
            "Epoch 70, gen loss=2.5252022743225098,disc loss=1.4723936319351196, {hms_string(epoch_elapsed)}\n",
            "1/1 [==============================] - 0s 17ms/step\n",
            "Epoch 71, gen loss=2.2060790061950684,disc loss=1.4099291563034058, {hms_string(epoch_elapsed)}\n",
            "1/1 [==============================] - 0s 18ms/step\n",
            "Epoch 72, gen loss=2.4533090591430664,disc loss=1.2806397676467896, {hms_string(epoch_elapsed)}\n",
            "1/1 [==============================] - 0s 19ms/step\n",
            "Epoch 73, gen loss=2.611104726791382,disc loss=1.5024902820587158, {hms_string(epoch_elapsed)}\n",
            "1/1 [==============================] - 0s 19ms/step\n",
            "Epoch 74, gen loss=2.3778741359710693,disc loss=1.1230663061141968, {hms_string(epoch_elapsed)}\n",
            "1/1 [==============================] - 0s 18ms/step\n",
            "Epoch 75, gen loss=2.2213714122772217,disc loss=1.3709269762039185, {hms_string(epoch_elapsed)}\n",
            "1/1 [==============================] - 0s 17ms/step\n",
            "Epoch 76, gen loss=2.5005300045013428,disc loss=1.1717584133148193, {hms_string(epoch_elapsed)}\n",
            "1/1 [==============================] - 0s 17ms/step\n",
            "Epoch 77, gen loss=2.302560806274414,disc loss=1.449968695640564, {hms_string(epoch_elapsed)}\n",
            "1/1 [==============================] - 0s 17ms/step\n",
            "Epoch 78, gen loss=2.4142005443573,disc loss=1.2109500169754028, {hms_string(epoch_elapsed)}\n",
            "1/1 [==============================] - 0s 18ms/step\n",
            "Epoch 79, gen loss=2.5335540771484375,disc loss=1.271740198135376, {hms_string(epoch_elapsed)}\n",
            "1/1 [==============================] - 0s 18ms/step\n",
            "Epoch 80, gen loss=2.3409574031829834,disc loss=1.340171456336975, {hms_string(epoch_elapsed)}\n",
            "1/1 [==============================] - 0s 18ms/step\n",
            "Epoch 81, gen loss=2.3872456550598145,disc loss=1.3522852659225464, {hms_string(epoch_elapsed)}\n",
            "1/1 [==============================] - 0s 18ms/step\n",
            "Epoch 82, gen loss=2.5996310710906982,disc loss=1.0260045528411865, {hms_string(epoch_elapsed)}\n",
            "1/1 [==============================] - 0s 18ms/step\n",
            "Epoch 83, gen loss=2.2643024921417236,disc loss=1.3862402439117432, {hms_string(epoch_elapsed)}\n",
            "1/1 [==============================] - 0s 19ms/step\n",
            "Epoch 84, gen loss=2.4331881999969482,disc loss=1.0905439853668213, {hms_string(epoch_elapsed)}\n",
            "1/1 [==============================] - 0s 18ms/step\n",
            "Epoch 85, gen loss=2.771026849746704,disc loss=1.2503191232681274, {hms_string(epoch_elapsed)}\n",
            "1/1 [==============================] - 0s 17ms/step\n",
            "Epoch 86, gen loss=2.5559639930725098,disc loss=1.1988686323165894, {hms_string(epoch_elapsed)}\n",
            "1/1 [==============================] - 0s 18ms/step\n",
            "Epoch 87, gen loss=2.941514015197754,disc loss=1.2554668188095093, {hms_string(epoch_elapsed)}\n",
            "1/1 [==============================] - 0s 17ms/step\n",
            "Epoch 88, gen loss=2.4939968585968018,disc loss=1.03511381149292, {hms_string(epoch_elapsed)}\n",
            "1/1 [==============================] - 0s 18ms/step\n",
            "Epoch 89, gen loss=2.5502779483795166,disc loss=1.0369012355804443, {hms_string(epoch_elapsed)}\n",
            "1/1 [==============================] - 0s 17ms/step\n",
            "Epoch 90, gen loss=2.337292194366455,disc loss=0.9467832446098328, {hms_string(epoch_elapsed)}\n",
            "1/1 [==============================] - 0s 17ms/step\n",
            "Epoch 91, gen loss=2.7948784828186035,disc loss=1.0883469581604004, {hms_string(epoch_elapsed)}\n",
            "1/1 [==============================] - 0s 17ms/step\n",
            "Epoch 92, gen loss=2.49897837638855,disc loss=1.2802879810333252, {hms_string(epoch_elapsed)}\n",
            "1/1 [==============================] - 0s 17ms/step\n",
            "Epoch 93, gen loss=2.3879780769348145,disc loss=1.1816956996917725, {hms_string(epoch_elapsed)}\n",
            "1/1 [==============================] - 0s 17ms/step\n",
            "Epoch 94, gen loss=2.4949300289154053,disc loss=1.1842634677886963, {hms_string(epoch_elapsed)}\n",
            "1/1 [==============================] - 0s 18ms/step\n",
            "Epoch 95, gen loss=2.417865753173828,disc loss=1.059267282485962, {hms_string(epoch_elapsed)}\n",
            "1/1 [==============================] - 0s 17ms/step\n",
            "Epoch 96, gen loss=2.428809642791748,disc loss=1.19813871383667, {hms_string(epoch_elapsed)}\n",
            "1/1 [==============================] - 0s 17ms/step\n",
            "Epoch 97, gen loss=2.304701805114746,disc loss=1.094531774520874, {hms_string(epoch_elapsed)}\n",
            "1/1 [==============================] - 0s 17ms/step\n",
            "Epoch 98, gen loss=2.3894031047821045,disc loss=0.948458194732666, {hms_string(epoch_elapsed)}\n",
            "1/1 [==============================] - 0s 17ms/step\n",
            "Epoch 99, gen loss=2.522169589996338,disc loss=1.1286476850509644, {hms_string(epoch_elapsed)}\n",
            "1/1 [==============================] - 0s 19ms/step\n",
            "Epoch 100, gen loss=2.472618579864502,disc loss=0.960404098033905, {hms_string(epoch_elapsed)}\n",
            "1/1 [==============================] - 0s 17ms/step\n",
            "Epoch 101, gen loss=2.606934070587158,disc loss=1.040912389755249, {hms_string(epoch_elapsed)}\n",
            "1/1 [==============================] - 0s 17ms/step\n",
            "Epoch 102, gen loss=2.653120517730713,disc loss=1.063694953918457, {hms_string(epoch_elapsed)}\n",
            "1/1 [==============================] - 0s 17ms/step\n",
            "Epoch 103, gen loss=2.415217876434326,disc loss=1.0751725435256958, {hms_string(epoch_elapsed)}\n",
            "1/1 [==============================] - 0s 17ms/step\n",
            "Epoch 104, gen loss=2.957547187805176,disc loss=0.9992986917495728, {hms_string(epoch_elapsed)}\n",
            "1/1 [==============================] - 0s 17ms/step\n",
            "Epoch 105, gen loss=2.6132102012634277,disc loss=0.92597895860672, {hms_string(epoch_elapsed)}\n",
            "1/1 [==============================] - 0s 17ms/step\n",
            "Epoch 106, gen loss=2.7044517993927,disc loss=0.9886077642440796, {hms_string(epoch_elapsed)}\n",
            "1/1 [==============================] - 0s 18ms/step\n",
            "Epoch 107, gen loss=2.7268564701080322,disc loss=1.0760793685913086, {hms_string(epoch_elapsed)}\n",
            "1/1 [==============================] - 0s 18ms/step\n",
            "Epoch 108, gen loss=2.835245370864868,disc loss=1.0715898275375366, {hms_string(epoch_elapsed)}\n",
            "1/1 [==============================] - 0s 18ms/step\n",
            "Epoch 109, gen loss=2.5018537044525146,disc loss=1.1264808177947998, {hms_string(epoch_elapsed)}\n",
            "1/1 [==============================] - 0s 18ms/step\n",
            "Epoch 110, gen loss=2.804767370223999,disc loss=1.1314500570297241, {hms_string(epoch_elapsed)}\n",
            "1/1 [==============================] - 0s 17ms/step\n",
            "Epoch 111, gen loss=2.572111129760742,disc loss=1.3199410438537598, {hms_string(epoch_elapsed)}\n",
            "1/1 [==============================] - 0s 19ms/step\n",
            "Epoch 112, gen loss=2.9703683853149414,disc loss=0.9933114051818848, {hms_string(epoch_elapsed)}\n",
            "1/1 [==============================] - 0s 17ms/step\n",
            "Epoch 113, gen loss=2.717581272125244,disc loss=0.9739408493041992, {hms_string(epoch_elapsed)}\n",
            "1/1 [==============================] - 0s 17ms/step\n",
            "Epoch 114, gen loss=2.5835659503936768,disc loss=1.2728899717330933, {hms_string(epoch_elapsed)}\n",
            "1/1 [==============================] - 0s 17ms/step\n",
            "Epoch 115, gen loss=2.745136022567749,disc loss=0.8760104179382324, {hms_string(epoch_elapsed)}\n",
            "1/1 [==============================] - 0s 17ms/step\n",
            "Epoch 116, gen loss=2.6994307041168213,disc loss=0.9558659791946411, {hms_string(epoch_elapsed)}\n",
            "1/1 [==============================] - 0s 17ms/step\n",
            "Epoch 117, gen loss=3.04154896736145,disc loss=0.8586639165878296, {hms_string(epoch_elapsed)}\n",
            "1/1 [==============================] - 0s 17ms/step\n",
            "Epoch 118, gen loss=3.026231288909912,disc loss=0.8593426942825317, {hms_string(epoch_elapsed)}\n",
            "1/1 [==============================] - 0s 18ms/step\n",
            "Epoch 119, gen loss=2.8050427436828613,disc loss=0.8853851556777954, {hms_string(epoch_elapsed)}\n",
            "1/1 [==============================] - 0s 18ms/step\n",
            "Epoch 120, gen loss=2.858149766921997,disc loss=0.8824100494384766, {hms_string(epoch_elapsed)}\n",
            "1/1 [==============================] - 0s 17ms/step\n",
            "Epoch 121, gen loss=2.8599016666412354,disc loss=0.9794138073921204, {hms_string(epoch_elapsed)}\n",
            "1/1 [==============================] - 0s 17ms/step\n",
            "Epoch 122, gen loss=3.0439558029174805,disc loss=0.8892949819564819, {hms_string(epoch_elapsed)}\n",
            "1/1 [==============================] - 0s 17ms/step\n",
            "Epoch 123, gen loss=2.9985833168029785,disc loss=0.7902380228042603, {hms_string(epoch_elapsed)}\n",
            "1/1 [==============================] - 0s 17ms/step\n",
            "Epoch 124, gen loss=2.738248825073242,disc loss=1.0975630283355713, {hms_string(epoch_elapsed)}\n",
            "1/1 [==============================] - 0s 17ms/step\n",
            "Epoch 125, gen loss=3.116457223892212,disc loss=0.9240827560424805, {hms_string(epoch_elapsed)}\n",
            "1/1 [==============================] - 0s 18ms/step\n",
            "Epoch 126, gen loss=3.2619197368621826,disc loss=0.8326008915901184, {hms_string(epoch_elapsed)}\n",
            "1/1 [==============================] - 0s 19ms/step\n",
            "Epoch 127, gen loss=3.0722270011901855,disc loss=0.6988471746444702, {hms_string(epoch_elapsed)}\n",
            "1/1 [==============================] - 0s 17ms/step\n",
            "Epoch 128, gen loss=3.3632094860076904,disc loss=0.6609331369400024, {hms_string(epoch_elapsed)}\n",
            "1/1 [==============================] - 0s 17ms/step\n",
            "Epoch 129, gen loss=3.4403128623962402,disc loss=0.9229490160942078, {hms_string(epoch_elapsed)}\n",
            "1/1 [==============================] - 0s 17ms/step\n",
            "Epoch 130, gen loss=3.2514395713806152,disc loss=0.5937269926071167, {hms_string(epoch_elapsed)}\n",
            "1/1 [==============================] - 0s 17ms/step\n",
            "Epoch 131, gen loss=3.395502805709839,disc loss=0.7574291229248047, {hms_string(epoch_elapsed)}\n",
            "1/1 [==============================] - 0s 17ms/step\n",
            "Epoch 132, gen loss=3.621547222137451,disc loss=0.7520914673805237, {hms_string(epoch_elapsed)}\n",
            "1/1 [==============================] - 0s 17ms/step\n",
            "Epoch 133, gen loss=3.589113235473633,disc loss=0.6895596385002136, {hms_string(epoch_elapsed)}\n",
            "1/1 [==============================] - 0s 17ms/step\n",
            "Epoch 134, gen loss=3.560324192047119,disc loss=0.8357921838760376, {hms_string(epoch_elapsed)}\n",
            "1/1 [==============================] - 0s 17ms/step\n",
            "Epoch 135, gen loss=3.4414267539978027,disc loss=0.8307735323905945, {hms_string(epoch_elapsed)}\n",
            "1/1 [==============================] - 0s 18ms/step\n",
            "Epoch 136, gen loss=3.3609652519226074,disc loss=0.8674938082695007, {hms_string(epoch_elapsed)}\n",
            "1/1 [==============================] - 0s 18ms/step\n",
            "Epoch 137, gen loss=3.898127317428589,disc loss=0.6673018932342529, {hms_string(epoch_elapsed)}\n",
            "1/1 [==============================] - 0s 17ms/step\n",
            "Epoch 138, gen loss=3.689633846282959,disc loss=0.855113685131073, {hms_string(epoch_elapsed)}\n",
            "1/1 [==============================] - 0s 17ms/step\n",
            "Epoch 139, gen loss=3.6093316078186035,disc loss=0.8728044629096985, {hms_string(epoch_elapsed)}\n",
            "1/1 [==============================] - 0s 17ms/step\n",
            "Epoch 140, gen loss=3.5304322242736816,disc loss=0.6964935064315796, {hms_string(epoch_elapsed)}\n",
            "1/1 [==============================] - 0s 17ms/step\n",
            "Epoch 141, gen loss=3.6816086769104004,disc loss=0.8361954689025879, {hms_string(epoch_elapsed)}\n",
            "1/1 [==============================] - 0s 17ms/step\n",
            "Epoch 142, gen loss=3.299572467803955,disc loss=0.6504648923873901, {hms_string(epoch_elapsed)}\n",
            "1/1 [==============================] - 0s 17ms/step\n",
            "Epoch 143, gen loss=3.578094005584717,disc loss=0.6091219782829285, {hms_string(epoch_elapsed)}\n",
            "1/1 [==============================] - 0s 18ms/step\n",
            "Epoch 144, gen loss=4.032694339752197,disc loss=0.8475998044013977, {hms_string(epoch_elapsed)}\n",
            "1/1 [==============================] - 0s 17ms/step\n",
            "Epoch 145, gen loss=3.92531156539917,disc loss=0.5699536204338074, {hms_string(epoch_elapsed)}\n",
            "1/1 [==============================] - 0s 17ms/step\n",
            "Epoch 146, gen loss=4.195943355560303,disc loss=0.5725381374359131, {hms_string(epoch_elapsed)}\n",
            "1/1 [==============================] - 0s 17ms/step\n",
            "Epoch 147, gen loss=3.5729339122772217,disc loss=0.8818872570991516, {hms_string(epoch_elapsed)}\n",
            "1/1 [==============================] - 0s 17ms/step\n",
            "Epoch 148, gen loss=3.7513375282287598,disc loss=0.6145066022872925, {hms_string(epoch_elapsed)}\n",
            "1/1 [==============================] - 0s 18ms/step\n",
            "Epoch 149, gen loss=3.932635545730591,disc loss=0.5241516828536987, {hms_string(epoch_elapsed)}\n",
            "1/1 [==============================] - 0s 17ms/step\n",
            "Epoch 150, gen loss=3.8709988594055176,disc loss=0.6450051069259644, {hms_string(epoch_elapsed)}\n",
            "1/1 [==============================] - 0s 17ms/step\n",
            "Epoch 151, gen loss=3.69325590133667,disc loss=0.6340594291687012, {hms_string(epoch_elapsed)}\n",
            "1/1 [==============================] - 0s 17ms/step\n",
            "Epoch 152, gen loss=3.7193591594696045,disc loss=0.8201941251754761, {hms_string(epoch_elapsed)}\n",
            "1/1 [==============================] - 0s 17ms/step\n",
            "Epoch 153, gen loss=3.9058902263641357,disc loss=0.6697428822517395, {hms_string(epoch_elapsed)}\n",
            "1/1 [==============================] - 0s 18ms/step\n",
            "Epoch 154, gen loss=4.0429558753967285,disc loss=0.8269757032394409, {hms_string(epoch_elapsed)}\n",
            "1/1 [==============================] - 0s 17ms/step\n",
            "Epoch 155, gen loss=3.4274916648864746,disc loss=0.927916407585144, {hms_string(epoch_elapsed)}\n",
            "1/1 [==============================] - 0s 17ms/step\n",
            "Epoch 156, gen loss=4.003493309020996,disc loss=0.6464177370071411, {hms_string(epoch_elapsed)}\n",
            "1/1 [==============================] - 0s 18ms/step\n",
            "Epoch 157, gen loss=3.611492156982422,disc loss=0.8085461854934692, {hms_string(epoch_elapsed)}\n",
            "1/1 [==============================] - 0s 17ms/step\n",
            "Epoch 158, gen loss=3.900221586227417,disc loss=0.6064020991325378, {hms_string(epoch_elapsed)}\n",
            "1/1 [==============================] - 0s 18ms/step\n",
            "Epoch 159, gen loss=3.707195281982422,disc loss=0.7038931846618652, {hms_string(epoch_elapsed)}\n",
            "1/1 [==============================] - 0s 17ms/step\n",
            "Epoch 160, gen loss=3.8042843341827393,disc loss=0.569372296333313, {hms_string(epoch_elapsed)}\n",
            "1/1 [==============================] - 0s 17ms/step\n",
            "Epoch 161, gen loss=3.9320220947265625,disc loss=0.49564486742019653, {hms_string(epoch_elapsed)}\n",
            "1/1 [==============================] - 0s 17ms/step\n",
            "Epoch 162, gen loss=4.088787078857422,disc loss=0.49067363142967224, {hms_string(epoch_elapsed)}\n",
            "1/1 [==============================] - 0s 17ms/step\n",
            "Epoch 163, gen loss=3.7606492042541504,disc loss=0.5304372310638428, {hms_string(epoch_elapsed)}\n",
            "1/1 [==============================] - 0s 18ms/step\n",
            "Epoch 164, gen loss=4.134776592254639,disc loss=0.46494150161743164, {hms_string(epoch_elapsed)}\n",
            "1/1 [==============================] - 0s 17ms/step\n",
            "Epoch 165, gen loss=3.4441685676574707,disc loss=0.8916681408882141, {hms_string(epoch_elapsed)}\n",
            "1/1 [==============================] - 0s 17ms/step\n",
            "Epoch 166, gen loss=4.420091152191162,disc loss=0.4704557955265045, {hms_string(epoch_elapsed)}\n",
            "1/1 [==============================] - 0s 18ms/step\n",
            "Epoch 167, gen loss=4.395930290222168,disc loss=0.5610577464103699, {hms_string(epoch_elapsed)}\n",
            "1/1 [==============================] - 0s 17ms/step\n",
            "Epoch 168, gen loss=4.503398418426514,disc loss=0.5572816133499146, {hms_string(epoch_elapsed)}\n",
            "1/1 [==============================] - 0s 17ms/step\n",
            "Epoch 169, gen loss=3.9432129859924316,disc loss=0.8749971389770508, {hms_string(epoch_elapsed)}\n",
            "1/1 [==============================] - 0s 17ms/step\n",
            "Epoch 170, gen loss=3.6453826427459717,disc loss=0.7228469848632812, {hms_string(epoch_elapsed)}\n",
            "1/1 [==============================] - 0s 18ms/step\n",
            "Epoch 171, gen loss=4.092068195343018,disc loss=0.46270203590393066, {hms_string(epoch_elapsed)}\n",
            "1/1 [==============================] - 0s 17ms/step\n",
            "Epoch 172, gen loss=4.099360466003418,disc loss=0.47267046570777893, {hms_string(epoch_elapsed)}\n",
            "1/1 [==============================] - 0s 17ms/step\n",
            "Epoch 173, gen loss=4.058945655822754,disc loss=0.6158340573310852, {hms_string(epoch_elapsed)}\n",
            "1/1 [==============================] - 0s 18ms/step\n",
            "Epoch 174, gen loss=4.021824836730957,disc loss=0.5236835479736328, {hms_string(epoch_elapsed)}\n",
            "1/1 [==============================] - 0s 18ms/step\n",
            "Epoch 175, gen loss=4.295149803161621,disc loss=0.5262572169303894, {hms_string(epoch_elapsed)}\n",
            "1/1 [==============================] - 0s 18ms/step\n",
            "Epoch 176, gen loss=4.303402423858643,disc loss=0.5864759683609009, {hms_string(epoch_elapsed)}\n",
            "1/1 [==============================] - 0s 17ms/step\n",
            "Epoch 177, gen loss=4.247694969177246,disc loss=0.5107482075691223, {hms_string(epoch_elapsed)}\n",
            "1/1 [==============================] - 0s 17ms/step\n",
            "Epoch 178, gen loss=4.026196002960205,disc loss=0.6958386301994324, {hms_string(epoch_elapsed)}\n",
            "1/1 [==============================] - 0s 17ms/step\n",
            "Epoch 179, gen loss=4.337630271911621,disc loss=0.587240993976593, {hms_string(epoch_elapsed)}\n",
            "1/1 [==============================] - 0s 17ms/step\n",
            "Epoch 180, gen loss=4.320615291595459,disc loss=0.5970359444618225, {hms_string(epoch_elapsed)}\n",
            "1/1 [==============================] - 0s 17ms/step\n",
            "Epoch 181, gen loss=4.4809651374816895,disc loss=0.5007249116897583, {hms_string(epoch_elapsed)}\n",
            "1/1 [==============================] - 0s 17ms/step\n",
            "Epoch 182, gen loss=4.560048580169678,disc loss=0.4972957670688629, {hms_string(epoch_elapsed)}\n",
            "1/1 [==============================] - 0s 17ms/step\n",
            "Epoch 183, gen loss=4.87786340713501,disc loss=0.48557931184768677, {hms_string(epoch_elapsed)}\n",
            "1/1 [==============================] - 0s 18ms/step\n",
            "Epoch 184, gen loss=4.618089199066162,disc loss=0.5047594308853149, {hms_string(epoch_elapsed)}\n",
            "1/1 [==============================] - 0s 20ms/step\n",
            "Epoch 185, gen loss=4.538683891296387,disc loss=0.5542603135108948, {hms_string(epoch_elapsed)}\n",
            "1/1 [==============================] - 0s 18ms/step\n",
            "Epoch 186, gen loss=4.744202613830566,disc loss=0.5511888265609741, {hms_string(epoch_elapsed)}\n",
            "1/1 [==============================] - 0s 17ms/step\n",
            "Epoch 187, gen loss=4.765355587005615,disc loss=0.5585243105888367, {hms_string(epoch_elapsed)}\n",
            "1/1 [==============================] - 0s 18ms/step\n",
            "Epoch 188, gen loss=4.855097770690918,disc loss=0.5512158870697021, {hms_string(epoch_elapsed)}\n",
            "1/1 [==============================] - 0s 17ms/step\n",
            "Epoch 189, gen loss=4.229386329650879,disc loss=0.7709081768989563, {hms_string(epoch_elapsed)}\n",
            "1/1 [==============================] - 0s 18ms/step\n",
            "Epoch 190, gen loss=4.2532172203063965,disc loss=0.8613989949226379, {hms_string(epoch_elapsed)}\n",
            "1/1 [==============================] - 0s 18ms/step\n",
            "Epoch 191, gen loss=4.253675937652588,disc loss=0.7464672327041626, {hms_string(epoch_elapsed)}\n",
            "1/1 [==============================] - 0s 17ms/step\n",
            "Epoch 192, gen loss=4.193665504455566,disc loss=0.3928282558917999, {hms_string(epoch_elapsed)}\n",
            "1/1 [==============================] - 0s 17ms/step\n",
            "Epoch 193, gen loss=4.574994087219238,disc loss=0.4848268926143646, {hms_string(epoch_elapsed)}\n",
            "1/1 [==============================] - 0s 18ms/step\n",
            "Epoch 194, gen loss=4.865606307983398,disc loss=0.3954279124736786, {hms_string(epoch_elapsed)}\n",
            "1/1 [==============================] - 0s 18ms/step\n",
            "Epoch 195, gen loss=4.815094470977783,disc loss=0.4841182827949524, {hms_string(epoch_elapsed)}\n",
            "1/1 [==============================] - 0s 19ms/step\n",
            "Epoch 196, gen loss=4.786111831665039,disc loss=0.5950039625167847, {hms_string(epoch_elapsed)}\n",
            "1/1 [==============================] - 0s 17ms/step\n",
            "Epoch 197, gen loss=4.58942985534668,disc loss=0.503545343875885, {hms_string(epoch_elapsed)}\n",
            "1/1 [==============================] - 0s 17ms/step\n",
            "Epoch 198, gen loss=4.729542255401611,disc loss=0.7654529809951782, {hms_string(epoch_elapsed)}\n",
            "1/1 [==============================] - 0s 17ms/step\n",
            "Epoch 199, gen loss=4.792880058288574,disc loss=0.6087515950202942, {hms_string(epoch_elapsed)}\n",
            "1/1 [==============================] - 0s 17ms/step\n",
            "Epoch 200, gen loss=4.067023754119873,disc loss=0.87220299243927, {hms_string(epoch_elapsed)}\n",
            "1/1 [==============================] - 0s 18ms/step\n",
            "Training time: 0:04:15.14\n"
          ]
        }
      ],
      "source": [
        "#training \n",
        "def train(dataset, epochs):\n",
        "  fixed_seed = np.random.normal(0, 1, (PREVIEW_ROWS * PREVIEW_COLS, \n",
        "                                       SEED_SIZE))\n",
        "  start = time.time()\n",
        "\n",
        "  for epoch in range(epochs):\n",
        "    epoch_start = time.time()\n",
        "\n",
        "    gen_loss_list = []\n",
        "    disc_loss_list = []\n",
        "\n",
        "    for image_batch in dataset:\n",
        "      t = train_step(image_batch)\n",
        "      gen_loss_list.append(t[0])\n",
        "      disc_loss_list.append(t[1])\n",
        "\n",
        "    g_loss = sum(gen_loss_list) / len(gen_loss_list)\n",
        "    d_loss = sum(disc_loss_list) / len(disc_loss_list)\n",
        "\n",
        "    epoch_elapsed = time.time()-epoch_start\n",
        "    print (f'Epoch {epoch+1}, gen loss={g_loss},disc loss={d_loss},'\\\n",
        "           ' {hms_string(epoch_elapsed)}')\n",
        "    save_images(epoch,fixed_seed)\n",
        "\n",
        "  elapsed = time.time()-start\n",
        "  print (f'Training time: {hms_string(elapsed)}')\n",
        "\n",
        "train(train_dataset, EPOCHS)"
      ]
    },
    {
      "cell_type": "code",
      "source": [],
      "metadata": {
        "id": "zfZ5AEPfTOch"
      },
      "id": "zfZ5AEPfTOch",
      "execution_count": 93,
      "outputs": []
    }
  ],
  "metadata": {
    "kernelspec": {
      "display_name": "Python 3 (ipykernel)",
      "language": "python",
      "name": "python3"
    },
    "language_info": {
      "codemirror_mode": {
        "name": "ipython",
        "version": 3
      },
      "file_extension": ".py",
      "mimetype": "text/x-python",
      "name": "python",
      "nbconvert_exporter": "python",
      "pygments_lexer": "ipython3",
      "version": "3.10.5"
    },
    "colab": {
      "provenance": [],
      "include_colab_link": true
    },
    "gpuClass": "premium",
    "accelerator": "GPU"
  },
  "nbformat": 4,
  "nbformat_minor": 5
}