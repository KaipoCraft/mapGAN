{
  "cells": [
    {
      "cell_type": "markdown",
      "source": [
        "# **Project: MapGAN**\n",
        "## Authors: Neill Shikada and Melanie Sharif\n",
        "## Professor: Robin Burke\n",
        "## Course: INFO5604"
      ],
      "metadata": {
        "id": "w542x3MZwRdf"
      },
      "id": "w542x3MZwRdf"
    },
    {
      "cell_type": "markdown",
      "source": [
        "If you want to run this code locally using Anaconda, follow the instructions [here](https://research.google.com/colaboratory/local-runtimes.html):\n",
        "1. Open Anaconda command prompt\n",
        "\n",
        "2. Ensure that Jupyter has the proper extensions enabled\n",
        "  `jupyter-serverextension enable jupyter_http_over_ws`\n",
        "\n",
        "3. Run Jupyter Notebook and allow access to Google Colab with this code\n",
        "  `jupyter notebook --NotebookApp.allow_origin='https://colab.research.google.com'`\n",
        "  \n",
        "4. Click the dropdown in the top left of Google Colab Notebook, select `Connect to a local runtime`\n",
        "\n",
        "5. Copy the `http://localhost:8888/?token=###`  link from the Anaconda command prompt\n",
        "\n",
        "6. Paste into the Google Colab url space\n",
        "\n",
        "7. It should connect! Then keep the Jupyter Notebook open the whole time you code as this is where your code is running locally"
      ],
      "metadata": {
        "id": "7S5rrTJkD0w5"
      },
      "id": "7S5rrTJkD0w5"
    },
    {
      "cell_type": "markdown",
      "source": [
        "# Import Dependencies"
      ],
      "metadata": {
        "id": "__3WS_MJuiAJ"
      },
      "id": "__3WS_MJuiAJ"
    },
    {
      "cell_type": "markdown",
      "source": [
        "1. Install any package that needs to be installed"
      ],
      "metadata": {
        "id": "bkeTuynkGKjm"
      },
      "id": "bkeTuynkGKjm"
    },
    {
      "cell_type": "code",
      "source": [
        "!pip install earthengine-api --upgrade"
      ],
      "metadata": {
        "colab": {
          "base_uri": "https://localhost:8080/"
        },
        "collapsed": true,
        "id": "IgZf3ITlukcv",
        "outputId": "0d7d6032-726b-4c22-cb50-8272b203fa63"
      },
      "id": "IgZf3ITlukcv",
      "execution_count": null,
      "outputs": [
        {
          "output_type": "stream",
          "name": "stdout",
          "text": [
            "Looking in indexes: https://pypi.org/simple, https://us-python.pkg.dev/colab-wheels/public/simple/\n",
            "Requirement already satisfied: earthengine-api in /usr/local/lib/python3.8/dist-packages (0.1.332)\n",
            "Collecting earthengine-api\n",
            "  Downloading earthengine-api-0.1.334.tar.gz (244 kB)\n",
            "\u001b[K     |████████████████████████████████| 244 kB 6.5 MB/s \n",
            "\u001b[?25hRequirement already satisfied: future in /usr/local/lib/python3.8/dist-packages (from earthengine-api) (0.16.0)\n",
            "Requirement already satisfied: google-cloud-storage in /usr/local/lib/python3.8/dist-packages (from earthengine-api) (2.5.0)\n",
            "Requirement already satisfied: google-api-python-client>=1.12.1 in /usr/local/lib/python3.8/dist-packages (from earthengine-api) (1.12.11)\n",
            "Requirement already satisfied: google-auth>=1.4.1 in /usr/local/lib/python3.8/dist-packages (from earthengine-api) (2.14.1)\n",
            "Requirement already satisfied: google-auth-httplib2>=0.0.3 in /usr/local/lib/python3.8/dist-packages (from earthengine-api) (0.0.4)\n",
            "Requirement already satisfied: httplib2<1dev,>=0.9.2 in /usr/local/lib/python3.8/dist-packages (from earthengine-api) (0.17.4)\n",
            "Requirement already satisfied: requests in /usr/local/lib/python3.8/dist-packages (from earthengine-api) (2.23.0)\n",
            "Requirement already satisfied: six in /usr/local/lib/python3.8/dist-packages (from earthengine-api) (1.15.0)\n",
            "Requirement already satisfied: google-api-core<3dev,>=1.21.0 in /usr/local/lib/python3.8/dist-packages (from google-api-python-client>=1.12.1->earthengine-api) (2.8.2)\n",
            "Requirement already satisfied: uritemplate<4dev,>=3.0.0 in /usr/local/lib/python3.8/dist-packages (from google-api-python-client>=1.12.1->earthengine-api) (3.0.1)\n",
            "Requirement already satisfied: protobuf<5.0.0dev,>=3.15.0 in /usr/local/lib/python3.8/dist-packages (from google-api-core<3dev,>=1.21.0->google-api-python-client>=1.12.1->earthengine-api) (3.19.6)\n",
            "Requirement already satisfied: googleapis-common-protos<2.0dev,>=1.56.2 in /usr/local/lib/python3.8/dist-packages (from google-api-core<3dev,>=1.21.0->google-api-python-client>=1.12.1->earthengine-api) (1.57.0)\n",
            "Requirement already satisfied: pyasn1-modules>=0.2.1 in /usr/local/lib/python3.8/dist-packages (from google-auth>=1.4.1->earthengine-api) (0.2.8)\n",
            "Requirement already satisfied: cachetools<6.0,>=2.0.0 in /usr/local/lib/python3.8/dist-packages (from google-auth>=1.4.1->earthengine-api) (5.2.0)\n",
            "Requirement already satisfied: rsa<5,>=3.1.4 in /usr/local/lib/python3.8/dist-packages (from google-auth>=1.4.1->earthengine-api) (4.9)\n",
            "Requirement already satisfied: pyasn1<0.5.0,>=0.4.6 in /usr/local/lib/python3.8/dist-packages (from pyasn1-modules>=0.2.1->google-auth>=1.4.1->earthengine-api) (0.4.8)\n",
            "Requirement already satisfied: chardet<4,>=3.0.2 in /usr/local/lib/python3.8/dist-packages (from requests->earthengine-api) (3.0.4)\n",
            "Requirement already satisfied: urllib3!=1.25.0,!=1.25.1,<1.26,>=1.21.1 in /usr/local/lib/python3.8/dist-packages (from requests->earthengine-api) (1.24.3)\n",
            "Requirement already satisfied: certifi>=2017.4.17 in /usr/local/lib/python3.8/dist-packages (from requests->earthengine-api) (2022.9.24)\n",
            "Requirement already satisfied: idna<3,>=2.5 in /usr/local/lib/python3.8/dist-packages (from requests->earthengine-api) (2.10)\n",
            "Requirement already satisfied: google-cloud-core<3.0dev,>=2.3.0 in /usr/local/lib/python3.8/dist-packages (from google-cloud-storage->earthengine-api) (2.3.2)\n",
            "Requirement already satisfied: google-resumable-media>=2.3.2 in /usr/local/lib/python3.8/dist-packages (from google-cloud-storage->earthengine-api) (2.4.0)\n",
            "Requirement already satisfied: google-crc32c<2.0dev,>=1.0 in /usr/local/lib/python3.8/dist-packages (from google-resumable-media>=2.3.2->google-cloud-storage->earthengine-api) (1.5.0)\n",
            "Building wheels for collected packages: earthengine-api\n",
            "  Building wheel for earthengine-api (setup.py) ... \u001b[?25l\u001b[?25hdone\n",
            "  Created wheel for earthengine-api: filename=earthengine_api-0.1.334-py3-none-any.whl size=274127 sha256=d24271646671b53aab7c7e14522175dbd805afdca811778c075ae9d10a752622\n",
            "  Stored in directory: /root/.cache/pip/wheels/0a/d9/6b/1601dd4443ffced1345b91e6635c334a0c21f492a180c1ad6a\n",
            "Successfully built earthengine-api\n",
            "Installing collected packages: earthengine-api\n",
            "  Attempting uninstall: earthengine-api\n",
            "    Found existing installation: earthengine-api 0.1.332\n",
            "    Uninstalling earthengine-api-0.1.332:\n",
            "      Successfully uninstalled earthengine-api-0.1.332\n",
            "Successfully installed earthengine-api-0.1.334\n"
          ]
        }
      ]
    },
    {
      "cell_type": "code",
      "source": [
        "!pip install folium"
      ],
      "metadata": {
        "colab": {
          "base_uri": "https://localhost:8080/"
        },
        "collapsed": true,
        "id": "oJogWP-nwV7P",
        "outputId": "25f68a06-2952-4527-a212-f8021227df9d"
      },
      "id": "oJogWP-nwV7P",
      "execution_count": null,
      "outputs": [
        {
          "output_type": "stream",
          "name": "stdout",
          "text": [
            "Looking in indexes: https://pypi.org/simple, https://us-python.pkg.dev/colab-wheels/public/simple/\n",
            "Requirement already satisfied: folium in /usr/local/lib/python3.8/dist-packages (0.12.1.post1)\n",
            "Requirement already satisfied: branca>=0.3.0 in /usr/local/lib/python3.8/dist-packages (from folium) (0.6.0)\n",
            "Requirement already satisfied: requests in /usr/local/lib/python3.8/dist-packages (from folium) (2.23.0)\n",
            "Requirement already satisfied: jinja2>=2.9 in /usr/local/lib/python3.8/dist-packages (from folium) (2.11.3)\n",
            "Requirement already satisfied: numpy in /usr/local/lib/python3.8/dist-packages (from folium) (1.21.6)\n",
            "Requirement already satisfied: MarkupSafe>=0.23 in /usr/local/lib/python3.8/dist-packages (from jinja2>=2.9->folium) (2.0.1)\n",
            "Requirement already satisfied: urllib3!=1.25.0,!=1.25.1,<1.26,>=1.21.1 in /usr/local/lib/python3.8/dist-packages (from requests->folium) (1.24.3)\n",
            "Requirement already satisfied: certifi>=2017.4.17 in /usr/local/lib/python3.8/dist-packages (from requests->folium) (2022.9.24)\n",
            "Requirement already satisfied: chardet<4,>=3.0.2 in /usr/local/lib/python3.8/dist-packages (from requests->folium) (3.0.4)\n",
            "Requirement already satisfied: idna<3,>=2.5 in /usr/local/lib/python3.8/dist-packages (from requests->folium) (2.10)\n"
          ]
        }
      ]
    },
    {
      "cell_type": "code",
      "source": [
        "import tensorflow as tf\n",
        "print(tf.__version__)"
      ],
      "metadata": {
        "id": "CpErIfpvwpmo",
        "outputId": "c336e4fd-13da-4ec3-c510-e883cf26c5aa",
        "colab": {
          "base_uri": "https://localhost:8080/"
        }
      },
      "id": "CpErIfpvwpmo",
      "execution_count": 3,
      "outputs": [
        {
          "output_type": "stream",
          "name": "stdout",
          "text": [
            "2.9.2\n"
          ]
        }
      ]
    },
    {
      "cell_type": "markdown",
      "source": [
        "2. Import all the necessary packages"
      ],
      "metadata": {
        "id": "ox-AFIjgGPOx"
      },
      "id": "ox-AFIjgGPOx"
    },
    {
      "cell_type": "code",
      "source": [
        "from tensorflow.keras.models import Sequential\n",
        "from tensorflow.keras.layers import Conv2D, Dense, Flatten, Reshape, LeakyReLU, Dropout, UpSampling2D\n",
        "from tensorflow.keras.optimizers import Adam\n",
        "from tensorflow.keras.losses import BinaryCrossentropy\n",
        "from tensorflow.keras.models import Model\n",
        "from tensorflow.keras.preprocessing.image import array_to_img\n",
        "from tensorflow.keras.callbacks import Callback"
      ],
      "metadata": {
        "id": "28SU3drvw9hB"
      },
      "id": "28SU3drvw9hB",
      "execution_count": 2,
      "outputs": []
    },
    {
      "cell_type": "code",
      "source": [
        "import os"
      ],
      "metadata": {
        "id": "-1UJ7sKAxCwl"
      },
      "id": "-1UJ7sKAxCwl",
      "execution_count": 4,
      "outputs": []
    },
    {
      "cell_type": "code",
      "source": [
        "import numpy as np"
      ],
      "metadata": {
        "id": "hAeqeCCSxHn4"
      },
      "id": "hAeqeCCSxHn4",
      "execution_count": 5,
      "outputs": []
    },
    {
      "cell_type": "code",
      "source": [
        "# Folium will be used for visualization purposes. It is a package that enables Google-Maps-like interactive maps\n",
        "import folium\n",
        "print(folium.__version__)"
      ],
      "metadata": {
        "id": "nhsuH-dQxRPm",
        "outputId": "65dfd9c9-e7d9-48bc-c66f-ddadcea44926",
        "colab": {
          "base_uri": "https://localhost:8080/"
        }
      },
      "id": "nhsuH-dQxRPm",
      "execution_count": 6,
      "outputs": [
        {
          "output_type": "stream",
          "name": "stdout",
          "text": [
            "0.12.1.post1\n"
          ]
        }
      ]
    },
    {
      "cell_type": "code",
      "source": [
        "# Enable access to Google Earth Engine. If you are running this locally, you have to right click and open the link in a new tab (otherwise it'll come up with an error)\n",
        "import ee\n",
        "ee.Authenticate()\n",
        "ee.Initialize()"
      ],
      "metadata": {
        "id": "d-0ZpX5FxLLB",
        "outputId": "d1894657-7b10-42f3-ea9f-057f4bb7c36a",
        "colab": {
          "base_uri": "https://localhost:8080/"
        }
      },
      "id": "d-0ZpX5FxLLB",
      "execution_count": 7,
      "outputs": [
        {
          "output_type": "stream",
          "name": "stdout",
          "text": [
            "To authorize access needed by Earth Engine, open the following URL in a web browser and follow the instructions. If the web browser does not start automatically, please manually browse the URL below.\n",
            "\n",
            "    https://code.earthengine.google.com/client-auth?scopes=https%3A//www.googleapis.com/auth/earthengine%20https%3A//www.googleapis.com/auth/devstorage.full_control&request_id=z7dj56m9y7pNZfxwPmgjd6xs-43i4ToBFG4Za1CmzYo&tc=_2XWp9BMKMYZizJFVHJ2opdZJOzzVW-oMR_dhfE0GQ4&cc=NgrtLo6qWy3t3B0pbWEYa8Zx2QfP4oeJ1x5tylVhajU\n",
            "\n",
            "The authorization workflow will generate a code, which you should paste in the box below.\n",
            "Enter verification code: 4/1AfgeXvu6FEj2YcXFC7adynD7Tt0WwYbqmdwG8E4WCrpRZAzLprVWknnZ9iM\n",
            "\n",
            "Successfully saved authorization token.\n"
          ]
        }
      ]
    },
    {
      "cell_type": "code",
      "source": [
        "# Your Earth Engine username.  This is used to import a classified image\n",
        "# into your Earth Engine assets folder.\n",
        "USER_NAME = 'nesh5910@colorado.edu'\n",
        "\n",
        "# Cloud Storage bucket into which training, testing and prediction \n",
        "# datasets will be written.  You must be able to write into this bucket.\n",
        "OUTPUT_BUCKET = 'mapgan'\n",
        "\n",
        "# Use Landsat 8 surface reflectance data for predictors.\n",
        "L9SR = ee.ImageCollection(\"LANDSAT/LC09/C02/T1_L2\")\n",
        "SWISS = ee.ImageCollection(\"ORTHO/Switzerland/SWISSIMAGE/10cm\")\n",
        "# Use these bands for prediction.\n",
        "# The bands are different for each dataset in Earth Engine, but we are looking for the raw RGB values of the images\n",
        "SWISS_BANDS = ['R', 'G', 'B']\n",
        "L9SR_BANDS = ['B4', 'B3', 'B2']\n",
        "\n",
        "BOULDER = [40.0150, -105.2705]\n",
        "BERN = [46.9480, 7.4474]\n",
        "\n",
        "# This is a trianing/testing dataset of points with known land cover labels.\n",
        "LABEL_DATA = ee.FeatureCollection('projects/google/demo_landcover_labels')\n",
        "# The labels, consecutive integer indices starting from zero, are stored in\n",
        "# this property, set on each point.\n",
        "LABEL = 'landcover'\n",
        "# Number of label values, i.e. number of classes in the classification.\n",
        "N_CLASSES = 3\n",
        "\n",
        "# These names are used to specify properties in the export of\n",
        "# training/testing data and to define the mapping between names and data\n",
        "# when reading into TensorFlow datasets.\n",
        "FEATURE_NAMES = list(BANDS)\n",
        "FEATURE_NAMES.append(LABEL)\n",
        "\n",
        "# File names for the training and testing datasets.  These TFRecord files\n",
        "# will be exported from Earth Engine into the Cloud Storage bucket.\n",
        "TRAIN_FILE_PREFIX = 'Training_demo'\n",
        "TEST_FILE_PREFIX = 'Testing_demo'\n",
        "file_extension = '.tfrecord.gz'\n",
        "TRAIN_FILE_PATH = 'gs://' + OUTPUT_BUCKET + '/' + TRAIN_FILE_PREFIX + file_extension\n",
        "TEST_FILE_PATH = 'gs://' + OUTPUT_BUCKET + '/' + TEST_FILE_PREFIX + file_extension\n",
        "\n",
        "# File name for the prediction (image) dataset.  The trained model will read\n",
        "# this dataset and make predictions in each pixel.\n",
        "IMAGE_FILE_PREFIX = 'Image_pixel_demo_'\n",
        "\n",
        "# The output path for the classified image (i.e. predictions) TFRecord file.\n",
        "OUTPUT_IMAGE_FILE = 'gs://' + OUTPUT_BUCKET + '/Classified_pixel_demo.TFRecord'\n",
        "# Export imagery in this region.\n",
        "EXPORT_REGION = ee.Geometry.Rectangle([-122.7, 37.3, -121.8, 38.00])\n",
        "# The name of the Earth Engine asset to be created by importing\n",
        "# the classified image from the TFRecord file in Cloud Storage.\n",
        "OUTPUT_ASSET_ID = 'users/' + USER_NAME + '/Classified_pixel_demo'"
      ],
      "metadata": {
        "id": "uZRT7skbxbWO"
      },
      "id": "uZRT7skbxbWO",
      "execution_count": 13,
      "outputs": []
    },
    {
      "cell_type": "code",
      "source": [
        "# This function is from the sample Google Colab CNN code to import earth engine data into folium\n",
        "# https://colab.research.google.com/github/giswqs/qgis-earthengine-examples/blob/master/Folium/ee-api-folium-setup.ipynb#scrollTo=7uSjLbh1LBeX\n",
        "\n",
        "# Define a method for displaying Earth Engine image tiles on a folium map.\n",
        "def add_ee_layer(self, ee_object, vis_params, name):\n",
        "    \n",
        "    try:    \n",
        "        # display ee.Image()\n",
        "        if isinstance(ee_object, ee.image.Image):    \n",
        "            map_id_dict = ee.Image(ee_object).getMapId(vis_params)\n",
        "            folium.raster_layers.TileLayer(\n",
        "            tiles = map_id_dict['tile_fetcher'].url_format,\n",
        "            attr = 'Google Earth Engine',\n",
        "            name = name,\n",
        "            overlay = True,\n",
        "            control = True\n",
        "            ).add_to(self)\n",
        "            print('Rendering Image')\n",
        "        # display ee.ImageCollection()\n",
        "        elif isinstance(ee_object, ee.imagecollection.ImageCollection):    \n",
        "            ee_object_new = ee_object.mosaic()\n",
        "            map_id_dict = ee.Image(ee_object_new).getMapId(vis_params)\n",
        "            folium.raster_layers.TileLayer(\n",
        "            tiles = map_id_dict['tile_fetcher'].url_format,\n",
        "            attr = 'Google Earth Engine',\n",
        "            name = name,\n",
        "            overlay = True,\n",
        "            control = True\n",
        "            ).add_to(self)\n",
        "        # display ee.Geometry()\n",
        "        elif isinstance(ee_object, ee.geometry.Geometry):    \n",
        "            folium.GeoJson(\n",
        "            data = ee_object.getInfo(),\n",
        "            name = name,\n",
        "            overlay = True,\n",
        "            control = True\n",
        "        ).add_to(self)\n",
        "        # display ee.FeatureCollection()\n",
        "        elif isinstance(ee_object, ee.featurecollection.FeatureCollection):  \n",
        "            ee_object_new = ee.Image().paint(ee_object, 0, 2)\n",
        "            map_id_dict = ee.Image(ee_object_new).getMapId(vis_params)\n",
        "            folium.raster_layers.TileLayer(\n",
        "            tiles = map_id_dict['tile_fetcher'].url_format,\n",
        "            attr = 'Google Earth Engine',\n",
        "            name = name,\n",
        "            overlay = True,\n",
        "            control = True\n",
        "        ).add_to(self)\n",
        "    \n",
        "    except:\n",
        "        print(\"Could not display {}\".format(name))\n",
        "    \n",
        "# Add EE drawing method to folium.\n",
        "folium.Map.add_ee_layer = add_ee_layer"
      ],
      "metadata": {
        "id": "QuIUKKR9ozwh"
      },
      "id": "QuIUKKR9ozwh",
      "execution_count": 9,
      "outputs": []
    },
    {
      "cell_type": "code",
      "source": [
        "Map = folium.Map(location=BERN, zoom_start=10)\n",
        "image = (L9SR\n",
        "        #  .filterBounds(ee.Geometry.Point(BERN[1], BERN[0]))\n",
        "        #  .first())\n",
        ")\n",
        "Map.add_ee_layer(\n",
        "    image, {'bands': L9SR_BANDS, 'min': 0, 'max': 255}, 'image'\n",
        ")\n",
        "Map"
      ],
      "metadata": {
        "id": "w9NimrxIglb8",
        "outputId": "c7f6d717-0591-4d8e-d072-7dfe5099f670",
        "colab": {
          "base_uri": "https://localhost:8080/",
          "height": 421
        }
      },
      "id": "w9NimrxIglb8",
      "execution_count": 16,
      "outputs": [
        {
          "output_type": "stream",
          "name": "stdout",
          "text": [
            "Could not display image\n"
          ]
        },
        {
          "output_type": "execute_result",
          "data": {
            "text/plain": [
              "<folium.folium.Map at 0x7f77645e55b0>"
            ],
            "text/html": [
              "<div style=\"width:100%;\"><div style=\"position:relative;width:100%;height:0;padding-bottom:60%;\"><span style=\"color:#565656\">Make this Notebook Trusted to load map: File -> Trust Notebook</span><iframe srcdoc=\"&lt;!DOCTYPE html&gt;\n",
              "&lt;html&gt;\n",
              "&lt;head&gt;\n",
              "    \n",
              "    &lt;meta http-equiv=&quot;content-type&quot; content=&quot;text/html; charset=UTF-8&quot; /&gt;\n",
              "    \n",
              "        &lt;script&gt;\n",
              "            L_NO_TOUCH = false;\n",
              "            L_DISABLE_3D = false;\n",
              "        &lt;/script&gt;\n",
              "    \n",
              "    &lt;style&gt;html, body {width: 100%;height: 100%;margin: 0;padding: 0;}&lt;/style&gt;\n",
              "    &lt;style&gt;#map {position:absolute;top:0;bottom:0;right:0;left:0;}&lt;/style&gt;\n",
              "    &lt;script src=&quot;https://cdn.jsdelivr.net/npm/leaflet@1.6.0/dist/leaflet.js&quot;&gt;&lt;/script&gt;\n",
              "    &lt;script src=&quot;https://code.jquery.com/jquery-1.12.4.min.js&quot;&gt;&lt;/script&gt;\n",
              "    &lt;script src=&quot;https://maxcdn.bootstrapcdn.com/bootstrap/3.2.0/js/bootstrap.min.js&quot;&gt;&lt;/script&gt;\n",
              "    &lt;script src=&quot;https://cdnjs.cloudflare.com/ajax/libs/Leaflet.awesome-markers/2.0.2/leaflet.awesome-markers.js&quot;&gt;&lt;/script&gt;\n",
              "    &lt;link rel=&quot;stylesheet&quot; href=&quot;https://cdn.jsdelivr.net/npm/leaflet@1.6.0/dist/leaflet.css&quot;/&gt;\n",
              "    &lt;link rel=&quot;stylesheet&quot; href=&quot;https://maxcdn.bootstrapcdn.com/bootstrap/3.2.0/css/bootstrap.min.css&quot;/&gt;\n",
              "    &lt;link rel=&quot;stylesheet&quot; href=&quot;https://maxcdn.bootstrapcdn.com/bootstrap/3.2.0/css/bootstrap-theme.min.css&quot;/&gt;\n",
              "    &lt;link rel=&quot;stylesheet&quot; href=&quot;https://maxcdn.bootstrapcdn.com/font-awesome/4.6.3/css/font-awesome.min.css&quot;/&gt;\n",
              "    &lt;link rel=&quot;stylesheet&quot; href=&quot;https://cdnjs.cloudflare.com/ajax/libs/Leaflet.awesome-markers/2.0.2/leaflet.awesome-markers.css&quot;/&gt;\n",
              "    &lt;link rel=&quot;stylesheet&quot; href=&quot;https://cdn.jsdelivr.net/gh/python-visualization/folium/folium/templates/leaflet.awesome.rotate.min.css&quot;/&gt;\n",
              "    \n",
              "            &lt;meta name=&quot;viewport&quot; content=&quot;width=device-width,\n",
              "                initial-scale=1.0, maximum-scale=1.0, user-scalable=no&quot; /&gt;\n",
              "            &lt;style&gt;\n",
              "                #map_97e3b2dd24aaf218e7a74f3e2a70b5bd {\n",
              "                    position: relative;\n",
              "                    width: 100.0%;\n",
              "                    height: 100.0%;\n",
              "                    left: 0.0%;\n",
              "                    top: 0.0%;\n",
              "                }\n",
              "            &lt;/style&gt;\n",
              "        \n",
              "&lt;/head&gt;\n",
              "&lt;body&gt;\n",
              "    \n",
              "    \n",
              "            &lt;div class=&quot;folium-map&quot; id=&quot;map_97e3b2dd24aaf218e7a74f3e2a70b5bd&quot; &gt;&lt;/div&gt;\n",
              "        \n",
              "&lt;/body&gt;\n",
              "&lt;script&gt;\n",
              "    \n",
              "    \n",
              "            var map_97e3b2dd24aaf218e7a74f3e2a70b5bd = L.map(\n",
              "                &quot;map_97e3b2dd24aaf218e7a74f3e2a70b5bd&quot;,\n",
              "                {\n",
              "                    center: [46.948, 7.4474],\n",
              "                    crs: L.CRS.EPSG3857,\n",
              "                    zoom: 10,\n",
              "                    zoomControl: true,\n",
              "                    preferCanvas: false,\n",
              "                }\n",
              "            );\n",
              "\n",
              "            \n",
              "\n",
              "        \n",
              "    \n",
              "            var tile_layer_8201c2c925c2a09bad36c484367516ab = L.tileLayer(\n",
              "                &quot;https://{s}.tile.openstreetmap.org/{z}/{x}/{y}.png&quot;,\n",
              "                {&quot;attribution&quot;: &quot;Data by \\u0026copy; \\u003ca href=\\&quot;http://openstreetmap.org\\&quot;\\u003eOpenStreetMap\\u003c/a\\u003e, under \\u003ca href=\\&quot;http://www.openstreetmap.org/copyright\\&quot;\\u003eODbL\\u003c/a\\u003e.&quot;, &quot;detectRetina&quot;: false, &quot;maxNativeZoom&quot;: 18, &quot;maxZoom&quot;: 18, &quot;minZoom&quot;: 0, &quot;noWrap&quot;: false, &quot;opacity&quot;: 1, &quot;subdomains&quot;: &quot;abc&quot;, &quot;tms&quot;: false}\n",
              "            ).addTo(map_97e3b2dd24aaf218e7a74f3e2a70b5bd);\n",
              "        \n",
              "&lt;/script&gt;\n",
              "&lt;/html&gt;\" style=\"position:absolute;width:100%;height:100%;left:0;top:0;border:none !important;\" allowfullscreen webkitallowfullscreen mozallowfullscreen></iframe></div></div>"
            ]
          },
          "metadata": {},
          "execution_count": 16
        }
      ]
    },
    {
      "cell_type": "code",
      "source": [
        "dataset = ee.ImageCollection(\"ORTHO/Switzerland/SWISSIMAGE/10cm\")\n",
        "colorRGB = dataset.select(['R', 'G', 'B'])\n",
        "colorRGBVis = {}\n",
        "Map.setCenter(Bern[0], Bern[1])\n",
        "Map.addLayer(colorRGB, colorRGBVis, 'SkySat RGB')\n",
        "Map.setControlVisibility(layerControl=True, fullscreenControl=True, latLngPopup=True)\n",
        "Map"
      ],
      "metadata": {
        "id": "2bJ43qoc1XoS"
      },
      "id": "2bJ43qoc1XoS",
      "execution_count": null,
      "outputs": []
    },
    {
      "cell_type": "code",
      "source": [],
      "metadata": {
        "id": "WrDWR2nvhX8B"
      },
      "id": "WrDWR2nvhX8B",
      "execution_count": null,
      "outputs": []
    }
  ],
  "metadata": {
    "kernelspec": {
      "display_name": "Python 3",
      "language": "python",
      "name": "python3"
    },
    "colab": {
      "provenance": []
    }
  },
  "nbformat": 4,
  "nbformat_minor": 5
}